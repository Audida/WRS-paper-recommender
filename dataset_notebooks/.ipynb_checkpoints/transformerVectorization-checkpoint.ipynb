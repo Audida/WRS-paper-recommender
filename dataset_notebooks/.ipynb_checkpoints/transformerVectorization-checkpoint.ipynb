{
 "cells": [
  {
   "cell_type": "code",
   "execution_count": 1,
   "id": "0bc74d73",
   "metadata": {},
   "outputs": [],
   "source": [
    "import pandas as pd\n",
    "import json\n",
    "import os\n",
    "import numpy as np\n",
    "from sentence_transformers import SentenceTransformer, util"
   ]
  },
  {
   "cell_type": "code",
   "execution_count": 2,
   "id": "3f43af6f",
   "metadata": {},
   "outputs": [],
   "source": [
    "from transformers import *\n",
    "\n",
    "tokenizer = AutoTokenizer.from_pretrained('allenai/scibert_scivocab_uncased')\n",
    "model = AutoModel.from_pretrained('allenai/scibert_scivocab_uncased')"
   ]
  },
  {
   "cell_type": "code",
   "execution_count": 3,
   "id": "f0a984d3",
   "metadata": {},
   "outputs": [],
   "source": [
    "start=0\n",
    "end=4"
   ]
  },
  {
   "cell_type": "code",
   "execution_count": 4,
   "id": "4caa114b",
   "metadata": {},
   "outputs": [],
   "source": [
    "pre_df=pd.read_parquet(\"preprocessed.parquet\")"
   ]
  },
  {
   "cell_type": "code",
   "execution_count": 14,
   "id": "91943e57",
   "metadata": {},
   "outputs": [],
   "source": [
    "# Transform input tokens \n",
    "inputs = tokenizer(list(pre_df['preprocessed'][2]), return_tensors=\"pt\",padding=True)\n",
    "\n",
    "# Model apply\n",
    "outputs = model(**inputs, )"
   ]
  },
  {
   "cell_type": "code",
   "execution_count": 15,
   "id": "1ffd5424",
   "metadata": {},
   "outputs": [
    {
     "data": {
      "text/plain": [
       "237"
      ]
     },
     "execution_count": 15,
     "metadata": {},
     "output_type": "execute_result"
    }
   ],
   "source": [
    "len(pre_df['preprocessed'][2])"
   ]
  },
  {
   "cell_type": "code",
   "execution_count": 16,
   "id": "de858e1b",
   "metadata": {},
   "outputs": [
    {
     "data": {
      "text/plain": [
       "torch.Size([237, 3, 768])"
      ]
     },
     "execution_count": 16,
     "metadata": {},
     "output_type": "execute_result"
    }
   ],
   "source": [
    "outputs[0].shape"
   ]
  },
  {
   "cell_type": "code",
   "execution_count": 24,
   "id": "76c8be67",
   "metadata": {},
   "outputs": [],
   "source": [
    "from sklearn.metrics.pairwise import cosine_similarity\n",
    "\n",
    "def embed_text(text, model):\n",
    "    input_ids = np.expand_dims(tokenizer.encode(text), axis= 0) # Batch size 1\n",
    "    outputs = model(input_ids)\n",
    "    last_hidden_states = outputs[0]  # The last hidden-state is the first element of the output tuple\n",
    "    return last_hidden_states \n",
    "\n",
    "def get_similarity(em, em2):\n",
    "    return cosine_similarity(em.detach().numpy(), em2.detach().numpy())\n",
    "\n"
   ]
  },
  {
   "cell_type": "code",
   "execution_count": 6,
   "id": "e457c63a",
   "metadata": {},
   "outputs": [
    {
     "data": {
      "text/html": [
       "<div>\n",
       "<style scoped>\n",
       "    .dataframe tbody tr th:only-of-type {\n",
       "        vertical-align: middle;\n",
       "    }\n",
       "\n",
       "    .dataframe tbody tr th {\n",
       "        vertical-align: top;\n",
       "    }\n",
       "\n",
       "    .dataframe thead th {\n",
       "        text-align: right;\n",
       "    }\n",
       "</style>\n",
       "<table border=\"1\" class=\"dataframe\">\n",
       "  <thead>\n",
       "    <tr style=\"text-align: right;\">\n",
       "      <th></th>\n",
       "      <th>id</th>\n",
       "      <th>preprocessed</th>\n",
       "    </tr>\n",
       "  </thead>\n",
       "  <tbody>\n",
       "    <tr>\n",
       "      <th>0</th>\n",
       "      <td>53e99784b7602d9701f3e133</td>\n",
       "      <td>agronomy moisture hydrology environmental scie...</td>\n",
       "    </tr>\n",
       "    <tr>\n",
       "      <th>1</th>\n",
       "      <td>53e99784b7602d9701f3e15d</td>\n",
       "      <td>delay calculation timing failure monte carlo m...</td>\n",
       "    </tr>\n",
       "    <tr>\n",
       "      <th>2</th>\n",
       "      <td>53e99784b7602d9701f3e161</td>\n",
       "      <td>global high technology daily short distance fl...</td>\n",
       "    </tr>\n",
       "    <tr>\n",
       "      <th>3</th>\n",
       "      <td>53e99784b7602d9701f3e4f4</td>\n",
       "      <td>btextures visual source material minute sound ...</td>\n",
       "    </tr>\n",
       "    <tr>\n",
       "      <th>4</th>\n",
       "      <td>53e99784b7602d9701f3eaf2</td>\n",
       "      <td>monkeysii constructing system cope dynamically...</td>\n",
       "    </tr>\n",
       "  </tbody>\n",
       "</table>\n",
       "</div>"
      ],
      "text/plain": [
       "                         id                                       preprocessed\n",
       "0  53e99784b7602d9701f3e133  agronomy moisture hydrology environmental scie...\n",
       "1  53e99784b7602d9701f3e15d  delay calculation timing failure monte carlo m...\n",
       "2  53e99784b7602d9701f3e161  global high technology daily short distance fl...\n",
       "3  53e99784b7602d9701f3e4f4  btextures visual source material minute sound ...\n",
       "4  53e99784b7602d9701f3eaf2  monkeysii constructing system cope dynamically..."
      ]
     },
     "execution_count": 6,
     "metadata": {},
     "output_type": "execute_result"
    }
   ],
   "source": [
    "pre_df.head()"
   ]
  },
  {
   "cell_type": "code",
   "execution_count": 4,
   "id": "2dcd2930",
   "metadata": {},
   "outputs": [],
   "source": [
    "#!pip install sentence-transformers"
   ]
  },
  {
   "cell_type": "raw",
   "id": "5314cfab",
   "metadata": {},
   "source": [
    "#model = SentenceTransformer('sentence-transformers/all-MiniLM-L6-v2')"
   ]
  },
  {
   "cell_type": "markdown",
   "id": "678a2e86",
   "metadata": {},
   "source": [
    "___"
   ]
  },
  {
   "cell_type": "markdown",
   "id": "1185b49b",
   "metadata": {},
   "source": [
    "### embedding cijelog dblp dataseta"
   ]
  },
  {
   "cell_type": "raw",
   "id": "8ea230bc",
   "metadata": {},
   "source": [
    "all=len(pre_df)\n",
    "\n",
    "step=all//2"
   ]
  },
  {
   "cell_type": "raw",
   "id": "3c91aa80",
   "metadata": {},
   "source": [
    "start=1925720\n",
    "end=all\n",
    "print(start,all,end)"
   ]
  },
  {
   "cell_type": "raw",
   "id": "a39b1714",
   "metadata": {},
   "source": [
    "corpus_embeddings = model.encode(list(pre_df['preprocessed'][start:end]), convert_to_tensor=False,show_progress_bar=True, device='cpu')"
   ]
  },
  {
   "cell_type": "raw",
   "id": "3bb81f55",
   "metadata": {},
   "source": [
    "tmp_df=pre_df[start:end]\n",
    "tmp_df=tmp_df.drop(['preprocessed'],axis=1)\n",
    "tmp_df['vector']=list(corpus_embeddings)"
   ]
  },
  {
   "cell_type": "raw",
   "id": "75768a71",
   "metadata": {},
   "source": [
    "tmp_df.to_parquet(\"sci_part_1\",engine='pyarrow')"
   ]
  },
  {
   "cell_type": "markdown",
   "id": "d8a1e281",
   "metadata": {},
   "source": [
    "###  embedding skupa svih članaka twitter korisnika\n"
   ]
  },
  {
   "cell_type": "code",
   "execution_count": 5,
   "id": "5d315505",
   "metadata": {},
   "outputs": [],
   "source": [
    "#dataset svih članaka\n",
    "sia_df=pd.read_parquet('twitter/sia_clean_27_3.parquet')"
   ]
  },
  {
   "cell_type": "code",
   "execution_count": 17,
   "id": "337dbd69",
   "metadata": {},
   "outputs": [
    {
     "data": {
      "application/vnd.jupyter.widget-view+json": {
       "model_id": "8c66bf7984de4a008a7d5d6cfd3b45f5",
       "version_major": 2,
       "version_minor": 0
      },
      "text/plain": [
       "Batches:   0%|          | 0/167 [00:00<?, ?it/s]"
      ]
     },
     "metadata": {},
     "output_type": "display_data"
    }
   ],
   "source": [
    "corpus_embeddings = model.encode(list(sia_df['clean_text']), convert_to_tensor=False,show_progress_bar=True, device='cpu')"
   ]
  },
  {
   "cell_type": "code",
   "execution_count": 18,
   "id": "0143081a",
   "metadata": {},
   "outputs": [],
   "source": [
    "corpus_embeddings=np.array(corpus_embeddings)"
   ]
  },
  {
   "cell_type": "code",
   "execution_count": 19,
   "id": "0eb1a11f",
   "metadata": {},
   "outputs": [
    {
     "data": {
      "text/plain": [
       "(5341, 384)"
      ]
     },
     "execution_count": 19,
     "metadata": {},
     "output_type": "execute_result"
    }
   ],
   "source": [
    "corpus_embeddings.shape"
   ]
  },
  {
   "cell_type": "code",
   "execution_count": 21,
   "id": "ca92a5b7",
   "metadata": {},
   "outputs": [],
   "source": [
    "sia_df['vector_tr']=list(corpus_embeddings)"
   ]
  },
  {
   "cell_type": "markdown",
   "id": "5acad1bb",
   "metadata": {},
   "source": [
    "### FastText embedding skupa svih članaka twitter korisnika"
   ]
  },
  {
   "cell_type": "code",
   "execution_count": 25,
   "id": "987a628c",
   "metadata": {},
   "outputs": [
    {
     "name": "stderr",
     "output_type": "stream",
     "text": [
      "Warning : `load_model` does not return WordVectorModel or SupervisedModel any more, but a `FastText` object which is very similar.\n"
     ]
    }
   ],
   "source": [
    "%run ../helper_notebooks/text_to_vector.ipynb"
   ]
  },
  {
   "cell_type": "code",
   "execution_count": 28,
   "id": "67a8f88b",
   "metadata": {},
   "outputs": [],
   "source": [
    "ft_vct=[]\n",
    "for i,row in sia_df.iterrows():\n",
    "    ft_vct.append(get_me_some_vectors(row.clean_text))"
   ]
  },
  {
   "cell_type": "code",
   "execution_count": 29,
   "id": "d3c6a2e9",
   "metadata": {},
   "outputs": [],
   "source": [
    "sia_df['vector_ft']=ft_vct"
   ]
  },
  {
   "cell_type": "code",
   "execution_count": 31,
   "id": "c9a2ec4b",
   "metadata": {},
   "outputs": [],
   "source": [
    "sia_df.to_parquet('twitter/sia_vct.parquet')"
   ]
  },
  {
   "cell_type": "code",
   "execution_count": null,
   "id": "4e582a14",
   "metadata": {},
   "outputs": [],
   "source": []
  }
 ],
 "metadata": {
  "kernelspec": {
   "display_name": "Python3 (dorasworld)",
   "language": "python",
   "name": "dorasworld"
  },
  "language_info": {
   "codemirror_mode": {
    "name": "ipython",
    "version": 3
   },
   "file_extension": ".py",
   "mimetype": "text/x-python",
   "name": "python",
   "nbconvert_exporter": "python",
   "pygments_lexer": "ipython3",
   "version": "3.9.7"
  }
 },
 "nbformat": 4,
 "nbformat_minor": 5
}
