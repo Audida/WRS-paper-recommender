{
 "cells": [
  {
   "cell_type": "code",
   "execution_count": 2,
   "id": "c4ce21b1",
   "metadata": {},
   "outputs": [],
   "source": [
    "import os\n",
    "import tweepy \n",
    "import pandas as pd\n"
   ]
  },
  {
   "cell_type": "code",
   "execution_count": 3,
   "id": "253fb04a",
   "metadata": {},
   "outputs": [],
   "source": [
    "bearer_token = 'AAAAAAAAAAAAAAAAAAAAAAafZwEAAAAA9T7RuHKiPM8nH%2BSmt7JkyvAwG%2Bc%3DuU2nNckjJw7966aZPXo0sr4ZBSvCLVR43OjZyAPrlKCjOeDjBe'"
   ]
  },
  {
   "cell_type": "code",
   "execution_count": 4,
   "id": "59acea34",
   "metadata": {},
   "outputs": [],
   "source": [
    "auth = tweepy.OAuth2BearerHandler(bearer_token)\n",
    "api = tweepy.API(auth,wait_on_rate_limit=True)\n"
   ]
  },
  {
   "cell_type": "code",
   "execution_count": 5,
   "id": "17023d19",
   "metadata": {},
   "outputs": [],
   "source": [
    "client = tweepy.Client(bearer_token=bearer_token, wait_on_rate_limit=True )"
   ]
  },
  {
   "cell_type": "raw",
   "id": "6b2f959c",
   "metadata": {},
   "source": [
    "search_urls=[\"https://www.sciencedirect.com\",\n",
    "            \"https://ieeexplore.ieee.org/document/\",\n",
    "            \"https://arxiv.org/\"]"
   ]
  },
  {
   "cell_type": "code",
   "execution_count": 73,
   "id": "d8a5cc95",
   "metadata": {},
   "outputs": [],
   "source": [
    "search_q='url:\"https://www.sciencedirect.com\" OR url:\"https://ieeexplore.ieee.org\" OR url:\"https://arxiv.org/\" has:links -congratulations -\"more here\" -colleagues -please -our -entity:\"COVID19\"'"
   ]
  },
  {
   "cell_type": "code",
   "execution_count": 74,
   "id": "a1013716",
   "metadata": {},
   "outputs": [
    {
     "data": {
      "text/plain": [
       "'url:\"https://www.sciencedirect.com\" OR url:\"https://ieeexplore.ieee.org\" OR url:\"https://arxiv.org/\" has:links -congratulations -\"more here\" -colleagues -please -our -entity:\"COVID19\"'"
      ]
     },
     "execution_count": 74,
     "metadata": {},
     "output_type": "execute_result"
    }
   ],
   "source": [
    "search_q"
   ]
  },
  {
   "cell_type": "code",
   "execution_count": 75,
   "id": "5a602d3d",
   "metadata": {},
   "outputs": [],
   "source": [
    "user_ids=[]\n",
    "tweets=[]\n",
    "tweet_urls=[]\n",
    "tweet_ids=[]\n",
    "is_retweet=[]\n"
   ]
  },
  {
   "cell_type": "code",
   "execution_count": 76,
   "id": "a180d482",
   "metadata": {},
   "outputs": [],
   "source": [
    "for tweet in tweepy.Paginator(client.search_recent_tweets,search_q,expansions=[\"author_id\"],tweet_fields=[\"entities\",\"text\",\"referenced_tweets\"]).flatten(limit=5):\n",
    "        isRetweet=False\n",
    "        tweets.append(tweet.text)\n",
    "        ent=tweet['entities']\n",
    "        try:\n",
    "            retweets_info=tweet.data[\"referenced_tweets\"]\n",
    "            ret_ids=[]\n",
    "            isRetweet=True\n",
    "            for r in retweets_info:\n",
    "                ret_ids.append(r['id']) # dodaj retweet id\n",
    "        except:\n",
    "            pass #not retweet\n",
    "        \n",
    "        tweet_ids.append(tweet.id)\n",
    "        user_ids.append(tweet.author_id)\n",
    "        user_urls=[] #v tvitu more bit više neg jeden link\n",
    "        try:\n",
    "            all_tw_urls=ent['urls']\n",
    "            for u in all_tw_urls:\n",
    "                try:\n",
    "                    user_urls.append(u['unwound_url']) # manje šanse da je opet skraćeni link tipa \".ly\"\n",
    "                except:\n",
    "                    user_urls.append(u['expanded_url'])\n",
    "            \n",
    "        except KeyError: # samo ako je retweet, u tom slučaju je neki problem sažimanja koji sam rješila dodatnim korakom ispod\n",
    "            pass\n",
    "        if isRetweet and len(user_urls)==0:\n",
    "            tweet_urls.append(ret_ids)\n",
    "            is_retweet.append(isRetweet)\n",
    "\n",
    "        else:  \n",
    "            tweet_urls.append(user_urls)\n",
    "            is_retweet.append(False) #ako je tweet ili retweet ali koji ima linkani članak\n",
    "\n"
   ]
  },
  {
   "cell_type": "code",
   "execution_count": 81,
   "id": "e7566eac",
   "metadata": {},
   "outputs": [
    {
     "data": {
      "text/plain": [
       "([{'type': 'retweeted', 'id': '1504631666131697664'}],\n",
       " 1504937265247789059,\n",
       " 'https://t.co/vg31Xs1CGM')"
      ]
     },
     "execution_count": 81,
     "metadata": {},
     "output_type": "execute_result"
    }
   ],
   "source": [
    "retweets_info,tweet.id,tweet.text"
   ]
  },
  {
   "cell_type": "code",
   "execution_count": 77,
   "id": "ef5cef73",
   "metadata": {},
   "outputs": [
    {
     "data": {
      "text/html": [
       "<div>\n",
       "<style scoped>\n",
       "    .dataframe tbody tr th:only-of-type {\n",
       "        vertical-align: middle;\n",
       "    }\n",
       "\n",
       "    .dataframe tbody tr th {\n",
       "        vertical-align: top;\n",
       "    }\n",
       "\n",
       "    .dataframe thead th {\n",
       "        text-align: right;\n",
       "    }\n",
       "</style>\n",
       "<table border=\"1\" class=\"dataframe\">\n",
       "  <thead>\n",
       "    <tr style=\"text-align: right;\">\n",
       "      <th></th>\n",
       "      <th>userID</th>\n",
       "      <th>tweet</th>\n",
       "      <th>tweetID</th>\n",
       "      <th>source</th>\n",
       "      <th>isRetweet</th>\n",
       "    </tr>\n",
       "  </thead>\n",
       "  <tbody>\n",
       "    <tr>\n",
       "      <th>0</th>\n",
       "      <td>51389580</td>\n",
       "      <td>When I became an ophthalmologist, I was told t...</td>\n",
       "      <td>1504937331039805441</td>\n",
       "      <td>[(https://www.sciencedirect.com/science/articl...</td>\n",
       "      <td>False</td>\n",
       "    </tr>\n",
       "    <tr>\n",
       "      <th>1</th>\n",
       "      <td>2451725746</td>\n",
       "      <td>RT @ak92501: Latent Image Animator: Learning t...</td>\n",
       "      <td>1504937283073548303</td>\n",
       "      <td>[(https://arxiv.org/abs/2203.09043, un)]</td>\n",
       "      <td>False</td>\n",
       "    </tr>\n",
       "    <tr>\n",
       "      <th>2</th>\n",
       "      <td>892322070</td>\n",
       "      <td>RT @sandralopezleon: 🦠 Este artículo nombra al...</td>\n",
       "      <td>1504937268116692998</td>\n",
       "      <td>[1504820127556116480]</td>\n",
       "      <td>True</td>\n",
       "    </tr>\n",
       "    <tr>\n",
       "      <th>3</th>\n",
       "      <td>1089590856640851970</td>\n",
       "      <td>RT @pzhong2016: Anatomy of the LV summit and i...</td>\n",
       "      <td>1504937267470770177</td>\n",
       "      <td>[(https://www.sciencedirect.com/science/articl...</td>\n",
       "      <td>False</td>\n",
       "    </tr>\n",
       "    <tr>\n",
       "      <th>4</th>\n",
       "      <td>1488691684703707137</td>\n",
       "      <td>https://t.co/vg31Xs1CGM</td>\n",
       "      <td>1504937265247789059</td>\n",
       "      <td>[(https://www.sciencedirect.com/, un)]</td>\n",
       "      <td>False</td>\n",
       "    </tr>\n",
       "  </tbody>\n",
       "</table>\n",
       "</div>"
      ],
      "text/plain": [
       "                userID                                              tweet  \\\n",
       "0             51389580  When I became an ophthalmologist, I was told t...   \n",
       "1           2451725746  RT @ak92501: Latent Image Animator: Learning t...   \n",
       "2            892322070  RT @sandralopezleon: 🦠 Este artículo nombra al...   \n",
       "3  1089590856640851970  RT @pzhong2016: Anatomy of the LV summit and i...   \n",
       "4  1488691684703707137                            https://t.co/vg31Xs1CGM   \n",
       "\n",
       "               tweetID                                             source  \\\n",
       "0  1504937331039805441  [(https://www.sciencedirect.com/science/articl...   \n",
       "1  1504937283073548303           [(https://arxiv.org/abs/2203.09043, un)]   \n",
       "2  1504937268116692998                              [1504820127556116480]   \n",
       "3  1504937267470770177  [(https://www.sciencedirect.com/science/articl...   \n",
       "4  1504937265247789059             [(https://www.sciencedirect.com/, un)]   \n",
       "\n",
       "   isRetweet  \n",
       "0      False  \n",
       "1      False  \n",
       "2       True  \n",
       "3      False  \n",
       "4      False  "
      ]
     },
     "execution_count": 77,
     "metadata": {},
     "output_type": "execute_result"
    }
   ],
   "source": [
    "df1=pd.DataFrame(\n",
    "    {'userID': user_ids,\n",
    "     'tweet': tweets,\n",
    "     'tweetID': tweet_ids,\n",
    "     'source':tweet_urls,\n",
    "     'isRetweet':is_retweet\n",
    "    })\n",
    "df1.head()"
   ]
  },
  {
   "cell_type": "code",
   "execution_count": 94,
   "id": "35edb207",
   "metadata": {},
   "outputs": [
    {
     "data": {
      "text/html": [
       "<div>\n",
       "<style scoped>\n",
       "    .dataframe tbody tr th:only-of-type {\n",
       "        vertical-align: middle;\n",
       "    }\n",
       "\n",
       "    .dataframe tbody tr th {\n",
       "        vertical-align: top;\n",
       "    }\n",
       "\n",
       "    .dataframe thead th {\n",
       "        text-align: right;\n",
       "    }\n",
       "</style>\n",
       "<table border=\"1\" class=\"dataframe\">\n",
       "  <thead>\n",
       "    <tr style=\"text-align: right;\">\n",
       "      <th></th>\n",
       "      <th>userID</th>\n",
       "      <th>tweet</th>\n",
       "      <th>tweetID</th>\n",
       "      <th>source</th>\n",
       "      <th>isRetweet</th>\n",
       "    </tr>\n",
       "  </thead>\n",
       "  <tbody>\n",
       "    <tr>\n",
       "      <th>0</th>\n",
       "      <td>718327719453401088</td>\n",
       "      <td>RT @EARL_COVID19_tw: ちなみに、北里が行ったコロナに対するイベルメクチン...</td>\n",
       "      <td>1504766158892806144</td>\n",
       "      <td>['1504683684309307394']</td>\n",
       "      <td>True</td>\n",
       "    </tr>\n",
       "    <tr>\n",
       "      <th>1</th>\n",
       "      <td>797260867310092288</td>\n",
       "      <td>RT @arxiv_cs_LG: Ranking of Communities in Mul...</td>\n",
       "      <td>1504766131378208770</td>\n",
       "      <td>['1504672717999464448']</td>\n",
       "      <td>True</td>\n",
       "    </tr>\n",
       "    <tr>\n",
       "      <th>2</th>\n",
       "      <td>1151202637582348294</td>\n",
       "      <td>RT @VCCLibrary: New first-line #immunotherapy ...</td>\n",
       "      <td>1504766113904795648</td>\n",
       "      <td>['1504766092081774594']</td>\n",
       "      <td>True</td>\n",
       "    </tr>\n",
       "    <tr>\n",
       "      <th>3</th>\n",
       "      <td>1023684972681592838</td>\n",
       "      <td>RT @phd_sean: @romulo_ef @David_johnson11 @sta...</td>\n",
       "      <td>1504766092228636683</td>\n",
       "      <td>['1504532651239215104']</td>\n",
       "      <td>True</td>\n",
       "    </tr>\n",
       "    <tr>\n",
       "      <th>4</th>\n",
       "      <td>1288296943</td>\n",
       "      <td>New first-line #immunotherapy -based combinati...</td>\n",
       "      <td>1504766092081774594</td>\n",
       "      <td>[('https://www.sciencedirect.com/science/artic...</td>\n",
       "      <td>False</td>\n",
       "    </tr>\n",
       "  </tbody>\n",
       "</table>\n",
       "</div>"
      ],
      "text/plain": [
       "                userID                                              tweet  \\\n",
       "0   718327719453401088  RT @EARL_COVID19_tw: ちなみに、北里が行ったコロナに対するイベルメクチン...   \n",
       "1   797260867310092288  RT @arxiv_cs_LG: Ranking of Communities in Mul...   \n",
       "2  1151202637582348294  RT @VCCLibrary: New first-line #immunotherapy ...   \n",
       "3  1023684972681592838  RT @phd_sean: @romulo_ef @David_johnson11 @sta...   \n",
       "4           1288296943  New first-line #immunotherapy -based combinati...   \n",
       "\n",
       "               tweetID                                             source  \\\n",
       "0  1504766158892806144                            ['1504683684309307394']   \n",
       "1  1504766131378208770                            ['1504672717999464448']   \n",
       "2  1504766113904795648                            ['1504766092081774594']   \n",
       "3  1504766092228636683                            ['1504532651239215104']   \n",
       "4  1504766092081774594  [('https://www.sciencedirect.com/science/artic...   \n",
       "\n",
       "   isRetweet  \n",
       "0       True  \n",
       "1       True  \n",
       "2       True  \n",
       "3       True  \n",
       "4      False  "
      ]
     },
     "execution_count": 94,
     "metadata": {},
     "output_type": "execute_result"
    }
   ],
   "source": [
    "data.head()"
   ]
  },
  {
   "cell_type": "code",
   "execution_count": 14,
   "id": "8a41f6f2",
   "metadata": {},
   "outputs": [
    {
     "data": {
      "text/plain": [
       "True"
      ]
     },
     "execution_count": 14,
     "metadata": {},
     "output_type": "execute_result"
    }
   ],
   "source": [
    "len(tweet_urls)==len(tweet_ids)"
   ]
  },
  {
   "cell_type": "code",
   "execution_count": 15,
   "id": "1b201c9f",
   "metadata": {},
   "outputs": [],
   "source": [
    "df1.to_csv('datasets/twitter/twitter_18_3.csv',index=False)"
   ]
  },
  {
   "cell_type": "code",
   "execution_count": 16,
   "id": "7e809a56",
   "metadata": {},
   "outputs": [
    {
     "data": {
      "text/plain": [
       "54559"
      ]
     },
     "execution_count": 16,
     "metadata": {},
     "output_type": "execute_result"
    }
   ],
   "source": [
    "len(tweet_ids)"
   ]
  },
  {
   "cell_type": "markdown",
   "id": "5a8cbdab",
   "metadata": {},
   "source": [
    "userID |\ttweet          |\ttweetID |\tsource   | isRetweet\n",
    "\n",
    "-> 15161684 | \"blablabla\"  | 16846846  | [url1, url2] |  False\n",
    "\n",
    "ILI\n",
    "\n",
    "-> 15616516 | \"blablabla\" | 468468464  | 1856816816 |  True\n",
    "\n",
    "iz čega će slijediti,\n",
    "\n",
    "-> 15616516 | \"blablabla\" | 468468464   | [url1] |  True\n",
    "\n",
    "gdje je *url1* url iz originalnog tweeta\n",
    "\n",
    "\\+ 18681618 | \"blablabla url1\" | 468468464 | [url1]  | False \n",
    "\n",
    "\n",
    "##### Dakle, pokupili smo \n",
    "* tweet sa linkom\n",
    "* retweet sa linkom koji je linkan u originalnom tweetu\n",
    "* originalni tweet koji je retweetan\n",
    "kao i pripadne korisnike koji su objavili tweet ili retweet"
   ]
  },
  {
   "cell_type": "markdown",
   "id": "eb6eb2fc",
   "metadata": {},
   "source": [
    "### Neki retweetovi ne sadrže link, tako da u narednom koraku tražimo originalni tweet koji bi trebao imati neki link na arxiv ili ostale..."
   ]
  },
  {
   "cell_type": "code",
   "execution_count": 8,
   "id": "f0716a00",
   "metadata": {},
   "outputs": [],
   "source": [
    "data = pd.read_csv('datasets/twitter/twitter_18_3.csv')"
   ]
  },
  {
   "cell_type": "code",
   "execution_count": 92,
   "id": "72a88cda",
   "metadata": {},
   "outputs": [],
   "source": [
    "#tweet_row: ret_from\n",
    "#5241:456654654654\n",
    "retw_ids=[]\n",
    "\n",
    "for i,row in data.iterrows():\n",
    "    if row.isRetweet:\n",
    "            retw_ids.append(str(row.source[2:-2]))\n",
    "            break\n"
   ]
  },
  {
   "cell_type": "code",
   "execution_count": 93,
   "id": "a5575022",
   "metadata": {},
   "outputs": [
    {
     "data": {
      "text/plain": [
       "['1504683684309307394']"
      ]
     },
     "execution_count": 93,
     "metadata": {},
     "output_type": "execute_result"
    }
   ],
   "source": [
    "retw_ids"
   ]
  },
  {
   "cell_type": "code",
   "execution_count": 100,
   "id": "74ac4f09",
   "metadata": {},
   "outputs": [],
   "source": [
    "start=0\n",
    "end=100\n",
    "step=100\n",
    "tw_urls=dict()"
   ]
  },
  {
   "cell_type": "code",
   "execution_count": 101,
   "id": "7b7c5333",
   "metadata": {},
   "outputs": [],
   "source": [
    "while(end < len(retw_ids)):\n",
    "    tweets_info=client.get_tweets(retw_ids[start:end],expansions=[\"author_id\"],tweet_fields=[\"entities\",\"text\",\"referenced_tweets\"]) # *, expansions=None, media_fields=None, place_fields=None, poll_fields=None, tweet_fields=None, user_fields=None, user_auth=False)\n",
    "    for tweet in tweets_info.data:\n",
    "        try:\n",
    "            urls=tweet[\"entities\"]['urls']\n",
    "            all_urls=[]\n",
    "            for u in urls:\n",
    "                try:\n",
    "                    all_urls.append(u[\"unwound_url\"]) #manje sanse da se radi o bit.ly linku\n",
    "                except:\n",
    "                    all_urls.append(u[\"expanded_url\"])\n",
    "            tw_urls[str(tweet.id)]=all_urls\n",
    "        except:\n",
    "            print(tweet.text)\n",
    "    start+=step\n",
    "    end+=step"
   ]
  },
  {
   "cell_type": "code",
   "execution_count": null,
   "id": "900182ec",
   "metadata": {},
   "outputs": [],
   "source": [
    "n=0\n",
    "for i,row in data.iterrows():\n",
    "    if row.isRetweet:\n",
    "        try:\n",
    "            data.loc[i, 'source'] = tw_urls[row.source[2:-2]]\n",
    "        except:\n",
    "            print(row)\n"
   ]
  },
  {
   "cell_type": "code",
   "execution_count": 104,
   "id": "3f2318d5",
   "metadata": {},
   "outputs": [
    {
     "data": {
      "text/html": [
       "<div>\n",
       "<style scoped>\n",
       "    .dataframe tbody tr th:only-of-type {\n",
       "        vertical-align: middle;\n",
       "    }\n",
       "\n",
       "    .dataframe tbody tr th {\n",
       "        vertical-align: top;\n",
       "    }\n",
       "\n",
       "    .dataframe thead th {\n",
       "        text-align: right;\n",
       "    }\n",
       "</style>\n",
       "<table border=\"1\" class=\"dataframe\">\n",
       "  <thead>\n",
       "    <tr style=\"text-align: right;\">\n",
       "      <th></th>\n",
       "      <th>userID</th>\n",
       "      <th>tweet</th>\n",
       "      <th>tweetID</th>\n",
       "      <th>source</th>\n",
       "      <th>isRetweet</th>\n",
       "    </tr>\n",
       "  </thead>\n",
       "  <tbody>\n",
       "    <tr>\n",
       "      <th>0</th>\n",
       "      <td>718327719453401088</td>\n",
       "      <td>RT @EARL_COVID19_tw: ちなみに、北里が行ったコロナに対するイベルメクチン...</td>\n",
       "      <td>1504766158892806144</td>\n",
       "      <td>https://doi.org/10.1016/j.jiac.2021.08.021</td>\n",
       "      <td>True</td>\n",
       "    </tr>\n",
       "    <tr>\n",
       "      <th>1</th>\n",
       "      <td>797260867310092288</td>\n",
       "      <td>RT @arxiv_cs_LG: Ranking of Communities in Mul...</td>\n",
       "      <td>1504766131378208770</td>\n",
       "      <td>http://arxiv.org/abs/2203.09281</td>\n",
       "      <td>True</td>\n",
       "    </tr>\n",
       "    <tr>\n",
       "      <th>2</th>\n",
       "      <td>1151202637582348294</td>\n",
       "      <td>RT @VCCLibrary: New first-line #immunotherapy ...</td>\n",
       "      <td>1504766113904795648</td>\n",
       "      <td>http://ow.ly/qk2P50Imsru</td>\n",
       "      <td>True</td>\n",
       "    </tr>\n",
       "    <tr>\n",
       "      <th>3</th>\n",
       "      <td>1023684972681592838</td>\n",
       "      <td>RT @phd_sean: @romulo_ef @David_johnson11 @sta...</td>\n",
       "      <td>1504766092228636683</td>\n",
       "      <td>https://www.sciencedirect.com/science/article/...</td>\n",
       "      <td>True</td>\n",
       "    </tr>\n",
       "    <tr>\n",
       "      <th>4</th>\n",
       "      <td>1288296943</td>\n",
       "      <td>New first-line #immunotherapy -based combinati...</td>\n",
       "      <td>1504766092081774594</td>\n",
       "      <td>[('https://www.sciencedirect.com/science/artic...</td>\n",
       "      <td>False</td>\n",
       "    </tr>\n",
       "  </tbody>\n",
       "</table>\n",
       "</div>"
      ],
      "text/plain": [
       "                userID                                              tweet  \\\n",
       "0   718327719453401088  RT @EARL_COVID19_tw: ちなみに、北里が行ったコロナに対するイベルメクチン...   \n",
       "1   797260867310092288  RT @arxiv_cs_LG: Ranking of Communities in Mul...   \n",
       "2  1151202637582348294  RT @VCCLibrary: New first-line #immunotherapy ...   \n",
       "3  1023684972681592838  RT @phd_sean: @romulo_ef @David_johnson11 @sta...   \n",
       "4           1288296943  New first-line #immunotherapy -based combinati...   \n",
       "\n",
       "               tweetID                                             source  \\\n",
       "0  1504766158892806144         https://doi.org/10.1016/j.jiac.2021.08.021   \n",
       "1  1504766131378208770                    http://arxiv.org/abs/2203.09281   \n",
       "2  1504766113904795648                           http://ow.ly/qk2P50Imsru   \n",
       "3  1504766092228636683  https://www.sciencedirect.com/science/article/...   \n",
       "4  1504766092081774594  [('https://www.sciencedirect.com/science/artic...   \n",
       "\n",
       "   isRetweet  \n",
       "0       True  \n",
       "1       True  \n",
       "2       True  \n",
       "3       True  \n",
       "4      False  "
      ]
     },
     "execution_count": 104,
     "metadata": {},
     "output_type": "execute_result"
    }
   ],
   "source": [
    "data.head()"
   ]
  },
  {
   "cell_type": "code",
   "execution_count": 108,
   "id": "ecb9821e",
   "metadata": {},
   "outputs": [],
   "source": [
    "data.to_csv('datasets/twitter/twitter_18_3_all.csv',index=False)"
   ]
  },
  {
   "cell_type": "code",
   "execution_count": 109,
   "id": "1bf5f876",
   "metadata": {},
   "outputs": [
    {
     "name": "stdout",
     "output_type": "stream",
     "text": [
      "<class 'pandas.core.frame.DataFrame'>\n",
      "RangeIndex: 54559 entries, 0 to 54558\n",
      "Data columns (total 5 columns):\n",
      " #   Column     Non-Null Count  Dtype \n",
      "---  ------     --------------  ----- \n",
      " 0   userID     54559 non-null  int64 \n",
      " 1   tweet      54559 non-null  object\n",
      " 2   tweetID    54559 non-null  int64 \n",
      " 3   source     54559 non-null  object\n",
      " 4   isRetweet  54559 non-null  bool  \n",
      "dtypes: bool(1), int64(2), object(2)\n",
      "memory usage: 1.7+ MB\n"
     ]
    }
   ],
   "source": [
    "data.info()"
   ]
  },
  {
   "cell_type": "code",
   "execution_count": null,
   "id": "976cceda",
   "metadata": {},
   "outputs": [],
   "source": []
  }
 ],
 "metadata": {
  "kernelspec": {
   "display_name": "Python3 (dorasworld)",
   "language": "python",
   "name": "dorasworld"
  },
  "language_info": {
   "codemirror_mode": {
    "name": "ipython",
    "version": 3
   },
   "file_extension": ".py",
   "mimetype": "text/x-python",
   "name": "python",
   "nbconvert_exporter": "python",
   "pygments_lexer": "ipython3",
   "version": "3.9.7"
  }
 },
 "nbformat": 4,
 "nbformat_minor": 5
}
