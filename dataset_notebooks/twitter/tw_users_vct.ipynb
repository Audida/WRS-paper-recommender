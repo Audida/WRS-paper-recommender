{
 "cells": [
  {
   "cell_type": "code",
   "execution_count": 1,
   "id": "60de42ff",
   "metadata": {},
   "outputs": [],
   "source": [
    "import pandas as pd\n",
    "sia_df=pd.read_parquet('datasets/twitter/sia_vct.parquet') #FT and transformer\n",
    "users_df=pd.read_csv('datasets/twitter/user_pos_neg_ids_27_3.csv')\n",
    "dblp_df=pd.read_parquet('datasets/dblpv13_fasttext.parquet', engine='pyarrow')"
   ]
  },
  {
   "cell_type": "code",
   "execution_count": 2,
   "id": "80234506",
   "metadata": {},
   "outputs": [],
   "source": [
    "from ast import literal_eval"
   ]
  },
  {
   "cell_type": "code",
   "execution_count": 3,
   "id": "11003943",
   "metadata": {},
   "outputs": [
    {
     "data": {
      "text/plain": [
       "'S2589152922000485'"
      ]
     },
     "execution_count": 3,
     "metadata": {},
     "output_type": "execute_result"
    }
   ],
   "source": [
    "literal_eval(users_df['outIDs'][0])[0]"
   ]
  },
  {
   "cell_type": "code",
   "execution_count": 24,
   "id": "0014b248",
   "metadata": {},
   "outputs": [],
   "source": [
    "user_v_ft, user_v_tr=[],[]\n",
    "br=0\n",
    "for i, row in users_df.iterrows():\n",
    "    uv_ft=0.\n",
    "    uv_tr=0.\n",
    "    num_has=0\n",
    "    arts=literal_eval(row.outIDs)\n",
    "    for a in arts:\n",
    "        try:\n",
    "            lookup=sia_df.loc[sia_df['artID']==a].values[0]\n",
    "            uv_ft+=lookup[4] #zbrajamo pojedinačne vektore svakog članka\n",
    "            uv_tr+=lookup[3]\n",
    "            num_has+=1\n",
    "\n",
    "        except:# neki članci nisu mogli biti dohvaćeni putem APIja\n",
    "            br+=1\n",
    "\n",
    "        \n",
    "\n",
    "    if type(uv_ft)==type(0.) or num_has < 2: #nema vektoriziranih članaka \n",
    "        user_v_ft.append(None)\n",
    "        user_v_tr.append(None)\n",
    "    else:   \n",
    "        uv_ft=uv_ft/num_has #dijelimo brojem članaka\n",
    "        uv_tr=uv_tr/num_has\n",
    "        user_v_ft.append(uv_ft)\n",
    "        user_v_tr.append(uv_tr)\n"
   ]
  },
  {
   "cell_type": "code",
   "execution_count": 25,
   "id": "b45d2d44",
   "metadata": {},
   "outputs": [],
   "source": [
    "user_v=pd.DataFrame({\n",
    "    'userID': list(users_df['userID']),\n",
    "    'ftvect': user_v_ft,\n",
    "    'trvect': user_v_tr\n",
    "})"
   ]
  },
  {
   "cell_type": "code",
   "execution_count": 26,
   "id": "108e051a",
   "metadata": {},
   "outputs": [],
   "source": [
    "user_v=user_v.dropna() #makni one koji nisu imali vektorizirane članke ili su imali samo jedan"
   ]
  },
  {
   "cell_type": "code",
   "execution_count": 27,
   "id": "80a048cf",
   "metadata": {},
   "outputs": [
    {
     "name": "stdout",
     "output_type": "stream",
     "text": [
      "sveukupno imamo 395 korisnika\n"
     ]
    }
   ],
   "source": [
    "print(\"sveukupno imamo\", len(user_v), \"korisnika\")"
   ]
  },
  {
   "cell_type": "code",
   "execution_count": 28,
   "id": "2d195a25",
   "metadata": {},
   "outputs": [
    {
     "data": {
      "text/html": [
       "<div>\n",
       "<style scoped>\n",
       "    .dataframe tbody tr th:only-of-type {\n",
       "        vertical-align: middle;\n",
       "    }\n",
       "\n",
       "    .dataframe tbody tr th {\n",
       "        vertical-align: top;\n",
       "    }\n",
       "\n",
       "    .dataframe thead th {\n",
       "        text-align: right;\n",
       "    }\n",
       "</style>\n",
       "<table border=\"1\" class=\"dataframe\">\n",
       "  <thead>\n",
       "    <tr style=\"text-align: right;\">\n",
       "      <th></th>\n",
       "      <th>userID</th>\n",
       "      <th>ftvect</th>\n",
       "      <th>trvect</th>\n",
       "    </tr>\n",
       "  </thead>\n",
       "  <tbody>\n",
       "    <tr>\n",
       "      <th>0</th>\n",
       "      <td>4910170583</td>\n",
       "      <td>[-0.015486389, 0.0041903406, 0.014377301, 0.05...</td>\n",
       "      <td>[-0.015645882, -0.009310105, -0.018257707, 0.0...</td>\n",
       "    </tr>\n",
       "    <tr>\n",
       "      <th>1</th>\n",
       "      <td>973267080781942785</td>\n",
       "      <td>[-0.0023664555, 0.013145153, -0.0040409225, 0....</td>\n",
       "      <td>[-0.043928728, -0.085610054, 0.007853937, -0.0...</td>\n",
       "    </tr>\n",
       "    <tr>\n",
       "      <th>2</th>\n",
       "      <td>1188667249025925120</td>\n",
       "      <td>[-0.015840998, 0.016070688, 0.005398368, 0.053...</td>\n",
       "      <td>[-0.019852461, 0.03437543, -0.007818024, 0.010...</td>\n",
       "    </tr>\n",
       "    <tr>\n",
       "      <th>3</th>\n",
       "      <td>1143872062336983040</td>\n",
       "      <td>[-0.00792171, 0.007946789, 0.0044410536, 0.052...</td>\n",
       "      <td>[-0.04176928, 0.019971866, -0.07198615, 0.0037...</td>\n",
       "    </tr>\n",
       "    <tr>\n",
       "      <th>4</th>\n",
       "      <td>805048451880939520</td>\n",
       "      <td>[-0.010990788, -2.3457455e-05, 0.010952565, 0....</td>\n",
       "      <td>[0.009853591, -0.019459577, 0.0059503503, 0.03...</td>\n",
       "    </tr>\n",
       "    <tr>\n",
       "      <th>...</th>\n",
       "      <td>...</td>\n",
       "      <td>...</td>\n",
       "      <td>...</td>\n",
       "    </tr>\n",
       "    <tr>\n",
       "      <th>407</th>\n",
       "      <td>935335706418753537</td>\n",
       "      <td>[-0.018632151, -0.007448089, -0.01047132, 0.05...</td>\n",
       "      <td>[0.056930788, -0.062114056, 0.01893661, 0.0193...</td>\n",
       "    </tr>\n",
       "    <tr>\n",
       "      <th>408</th>\n",
       "      <td>2786148233</td>\n",
       "      <td>[0.0046785497, 0.013557263, -0.0008513846, 0.0...</td>\n",
       "      <td>[0.0050746673, 0.023642873, -0.009931956, -0.0...</td>\n",
       "    </tr>\n",
       "    <tr>\n",
       "      <th>409</th>\n",
       "      <td>1247872005912891392</td>\n",
       "      <td>[-0.017615106, 0.0008072568, 0.0082156705, 0.0...</td>\n",
       "      <td>[-0.019035894, -0.0596074, 0.018317144, 0.0089...</td>\n",
       "    </tr>\n",
       "    <tr>\n",
       "      <th>410</th>\n",
       "      <td>1467005139454095363</td>\n",
       "      <td>[0.004418953, 0.00562046, 0.0045859497, 0.0558...</td>\n",
       "      <td>[-0.0063024415, -0.048351463, -0.0063766376, 0...</td>\n",
       "    </tr>\n",
       "    <tr>\n",
       "      <th>412</th>\n",
       "      <td>582496527</td>\n",
       "      <td>[-0.024124537, 0.00319697, 0.007415224, 0.0453...</td>\n",
       "      <td>[0.087811224, -0.014710974, 0.013693409, 0.085...</td>\n",
       "    </tr>\n",
       "  </tbody>\n",
       "</table>\n",
       "<p>395 rows × 3 columns</p>\n",
       "</div>"
      ],
      "text/plain": [
       "                  userID                                             ftvect  \\\n",
       "0             4910170583  [-0.015486389, 0.0041903406, 0.014377301, 0.05...   \n",
       "1     973267080781942785  [-0.0023664555, 0.013145153, -0.0040409225, 0....   \n",
       "2    1188667249025925120  [-0.015840998, 0.016070688, 0.005398368, 0.053...   \n",
       "3    1143872062336983040  [-0.00792171, 0.007946789, 0.0044410536, 0.052...   \n",
       "4     805048451880939520  [-0.010990788, -2.3457455e-05, 0.010952565, 0....   \n",
       "..                   ...                                                ...   \n",
       "407   935335706418753537  [-0.018632151, -0.007448089, -0.01047132, 0.05...   \n",
       "408           2786148233  [0.0046785497, 0.013557263, -0.0008513846, 0.0...   \n",
       "409  1247872005912891392  [-0.017615106, 0.0008072568, 0.0082156705, 0.0...   \n",
       "410  1467005139454095363  [0.004418953, 0.00562046, 0.0045859497, 0.0558...   \n",
       "412            582496527  [-0.024124537, 0.00319697, 0.007415224, 0.0453...   \n",
       "\n",
       "                                                trvect  \n",
       "0    [-0.015645882, -0.009310105, -0.018257707, 0.0...  \n",
       "1    [-0.043928728, -0.085610054, 0.007853937, -0.0...  \n",
       "2    [-0.019852461, 0.03437543, -0.007818024, 0.010...  \n",
       "3    [-0.04176928, 0.019971866, -0.07198615, 0.0037...  \n",
       "4    [0.009853591, -0.019459577, 0.0059503503, 0.03...  \n",
       "..                                                 ...  \n",
       "407  [0.056930788, -0.062114056, 0.01893661, 0.0193...  \n",
       "408  [0.0050746673, 0.023642873, -0.009931956, -0.0...  \n",
       "409  [-0.019035894, -0.0596074, 0.018317144, 0.0089...  \n",
       "410  [-0.0063024415, -0.048351463, -0.0063766376, 0...  \n",
       "412  [0.087811224, -0.014710974, 0.013693409, 0.085...  \n",
       "\n",
       "[395 rows x 3 columns]"
      ]
     },
     "execution_count": 28,
     "metadata": {},
     "output_type": "execute_result"
    }
   ],
   "source": [
    "user_v"
   ]
  },
  {
   "cell_type": "code",
   "execution_count": 29,
   "id": "024209e7",
   "metadata": {},
   "outputs": [],
   "source": [
    "user_v.to_parquet('datasets/tw_0604_user_vectors.parquet', engine='pyarrow')"
   ]
  },
  {
   "cell_type": "code",
   "execution_count": null,
   "id": "3d574eee",
   "metadata": {},
   "outputs": [],
   "source": []
  }
 ],
 "metadata": {
  "kernelspec": {
   "display_name": "Python3 (dorasworld)",
   "language": "python",
   "name": "dorasworld"
  },
  "language_info": {
   "codemirror_mode": {
    "name": "ipython",
    "version": 3
   },
   "file_extension": ".py",
   "mimetype": "text/x-python",
   "name": "python",
   "nbconvert_exporter": "python",
   "pygments_lexer": "ipython3",
   "version": "3.9.7"
  }
 },
 "nbformat": 4,
 "nbformat_minor": 5
}
