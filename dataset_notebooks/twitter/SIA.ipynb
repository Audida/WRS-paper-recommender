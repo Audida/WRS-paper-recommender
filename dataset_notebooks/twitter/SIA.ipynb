{
 "cells": [
  {
   "cell_type": "markdown",
   "id": "4278b523",
   "metadata": {},
   "source": [
    "Za svakog korisnika U ćemo gledati gdje su njegovi članci Au među rangiranim Y članaka sveukupno, gdje Y:={Au, D*u* } gje D*u* predstavlja skup random 1k članaka iz *dblp*  - tih 1k članaka glumi šum"
   ]
  },
  {
   "cell_type": "markdown",
   "id": "0449d230",
   "metadata": {},
   "source": [
    "____"
   ]
  },
  {
   "cell_type": "markdown",
   "id": "7b65f19c",
   "metadata": {},
   "source": [
    "importanje datasetova koje moramo vektorizirati"
   ]
  },
  {
   "cell_type": "code",
   "execution_count": 1,
   "id": "3a16cc62",
   "metadata": {},
   "outputs": [],
   "source": [
    "import pandas as pd"
   ]
  },
  {
   "cell_type": "code",
   "execution_count": 3,
   "id": "4159a353",
   "metadata": {},
   "outputs": [],
   "source": [
    "sia_df = pd.read_csv('datasets/twitter/sia_27_3.csv') #Sciencedirect IEEE Arxiv "
   ]
  },
  {
   "cell_type": "code",
   "execution_count": 4,
   "id": "15df0128",
   "metadata": {},
   "outputs": [
    {
     "data": {
      "text/html": [
       "<div>\n",
       "<style scoped>\n",
       "    .dataframe tbody tr th:only-of-type {\n",
       "        vertical-align: middle;\n",
       "    }\n",
       "\n",
       "    .dataframe tbody tr th {\n",
       "        vertical-align: top;\n",
       "    }\n",
       "\n",
       "    .dataframe thead th {\n",
       "        text-align: right;\n",
       "    }\n",
       "</style>\n",
       "<table border=\"1\" class=\"dataframe\">\n",
       "  <thead>\n",
       "    <tr style=\"text-align: right;\">\n",
       "      <th></th>\n",
       "      <th>artID</th>\n",
       "      <th>text</th>\n",
       "      <th>source</th>\n",
       "    </tr>\n",
       "  </thead>\n",
       "  <tbody>\n",
       "    <tr>\n",
       "      <th>5345</th>\n",
       "      <td>9667507</td>\n",
       "      <td>Artificial intelligence metaverse cyber world ...</td>\n",
       "      <td>ieee</td>\n",
       "    </tr>\n",
       "  </tbody>\n",
       "</table>\n",
       "</div>"
      ],
      "text/plain": [
       "        artID                                               text source\n",
       "5345  9667507  Artificial intelligence metaverse cyber world ...   ieee"
      ]
     },
     "execution_count": 4,
     "metadata": {},
     "output_type": "execute_result"
    }
   ],
   "source": [
    "sia_df.tail(1)"
   ]
  },
  {
   "cell_type": "code",
   "execution_count": 17,
   "id": "ccd8da23",
   "metadata": {},
   "outputs": [],
   "source": [
    "sia_df=sia_df.dropna()"
   ]
  },
  {
   "cell_type": "markdown",
   "id": "a054670e",
   "metadata": {},
   "source": [
    "importamo bilježnicu koja ima 2 metode koje nam trebaju:\n",
    "1.  text_prepare(text) \n",
    "2. get_me_some_vectors(text)"
   ]
  },
  {
   "cell_type": "code",
   "execution_count": 9,
   "id": "8b5563dd",
   "metadata": {},
   "outputs": [
    {
     "name": "stderr",
     "output_type": "stream",
     "text": [
      "Warning : `load_model` does not return WordVectorModel or SupervisedModel any more, but a `FastText` object which is very similar.\n"
     ]
    }
   ],
   "source": [
    "%run helper_notebooks/text_to_vector.ipynb"
   ]
  },
  {
   "cell_type": "code",
   "execution_count": 18,
   "id": "cfe68286",
   "metadata": {},
   "outputs": [],
   "source": [
    "clean_texts=[]\n",
    "ft_vcts=dict()\n",
    "\n",
    "for i, row in sia_df.iterrows():\n",
    "    txt=text_prepare(row.text)\n",
    "    clean_texts.append(txt)\n",
    "    ft_vcts[row.artID]=get_me_some_vectors(txt)"
   ]
  },
  {
   "cell_type": "code",
   "execution_count": 22,
   "id": "fcc31423",
   "metadata": {},
   "outputs": [],
   "source": [
    "tmpdf=pd.DataFrame(ft_vcts.items(),columns=['artID','ftvector'])\n",
    "\n",
    "tmpdf.to_parquet('datasets/twitter/tw_ft_27_3.parquet')"
   ]
  },
  {
   "cell_type": "code",
   "execution_count": 23,
   "id": "f315b1f7",
   "metadata": {},
   "outputs": [
    {
     "name": "stderr",
     "output_type": "stream",
     "text": [
      "/tmp/ipykernel_10807/3846500323.py:1: SettingWithCopyWarning: \n",
      "A value is trying to be set on a copy of a slice from a DataFrame.\n",
      "Try using .loc[row_indexer,col_indexer] = value instead\n",
      "\n",
      "See the caveats in the documentation: https://pandas.pydata.org/pandas-docs/stable/user_guide/indexing.html#returning-a-view-versus-a-copy\n",
      "  sia_df['clean_text']=clean_texts\n"
     ]
    }
   ],
   "source": [
    "sia_df['clean_text']=clean_texts"
   ]
  },
  {
   "cell_type": "code",
   "execution_count": 25,
   "id": "68ea37c2",
   "metadata": {},
   "outputs": [
    {
     "data": {
      "text/html": [
       "<div>\n",
       "<style scoped>\n",
       "    .dataframe tbody tr th:only-of-type {\n",
       "        vertical-align: middle;\n",
       "    }\n",
       "\n",
       "    .dataframe tbody tr th {\n",
       "        vertical-align: top;\n",
       "    }\n",
       "\n",
       "    .dataframe thead th {\n",
       "        text-align: right;\n",
       "    }\n",
       "</style>\n",
       "<table border=\"1\" class=\"dataframe\">\n",
       "  <thead>\n",
       "    <tr style=\"text-align: right;\">\n",
       "      <th></th>\n",
       "      <th>artID</th>\n",
       "      <th>text</th>\n",
       "      <th>source</th>\n",
       "      <th>clean_text</th>\n",
       "    </tr>\n",
       "  </thead>\n",
       "  <tbody>\n",
       "    <tr>\n",
       "      <th>5345</th>\n",
       "      <td>9667507</td>\n",
       "      <td>Artificial intelligence metaverse cyber world ...</td>\n",
       "      <td>ieee</td>\n",
       "      <td>artificial intelligence metaverse cyber world ...</td>\n",
       "    </tr>\n",
       "  </tbody>\n",
       "</table>\n",
       "</div>"
      ],
      "text/plain": [
       "        artID                                               text source  \\\n",
       "5345  9667507  Artificial intelligence metaverse cyber world ...   ieee   \n",
       "\n",
       "                                             clean_text  \n",
       "5345  artificial intelligence metaverse cyber world ...  "
      ]
     },
     "execution_count": 25,
     "metadata": {},
     "output_type": "execute_result"
    }
   ],
   "source": [
    "sia_df.tail(1)"
   ]
  },
  {
   "cell_type": "code",
   "execution_count": 28,
   "id": "96afdd24",
   "metadata": {},
   "outputs": [],
   "source": [
    "sia_df.drop(['text'],axis=1).to_parquet('datasets/twitter/sia_clean_27_3.parquet')"
   ]
  },
  {
   "cell_type": "markdown",
   "id": "b9338572",
   "metadata": {},
   "source": [
    "dalje, od korisnika želimo dobiti članke za vanjski izgled i pozitivne"
   ]
  },
  {
   "cell_type": "code",
   "execution_count": 2,
   "id": "794637b2",
   "metadata": {},
   "outputs": [],
   "source": [
    "user_art_df=pd.read_csv('datasets/twitter/user_art_id.csv')"
   ]
  },
  {
   "cell_type": "code",
   "execution_count": 3,
   "id": "a9bf4fec",
   "metadata": {},
   "outputs": [],
   "source": [
    "user_art_df=user_art_df.dropna()"
   ]
  },
  {
   "cell_type": "code",
   "execution_count": 4,
   "id": "17ce288b",
   "metadata": {},
   "outputs": [],
   "source": [
    "user_set=set(user_art_df['userID'])"
   ]
  },
  {
   "cell_type": "code",
   "execution_count": 5,
   "id": "b746d936",
   "metadata": {},
   "outputs": [],
   "source": [
    "user_art_dict=dict()\n",
    "for i, row in user_art_df.iterrows():\n",
    "    if row.userID in user_art_dict:\n",
    "        user_art_dict[row.userID].append(row.artID)\n",
    "    else:\n",
    "        user_art_dict[row.userID]=[row.artID]"
   ]
  },
  {
   "cell_type": "code",
   "execution_count": 25,
   "id": "cd355143",
   "metadata": {},
   "outputs": [],
   "source": [
    "user_ids=[k for k,v in user_art_dict.items() if len(v)>4]"
   ]
  },
  {
   "cell_type": "code",
   "execution_count": 26,
   "id": "80c4ba27",
   "metadata": {},
   "outputs": [
    {
     "data": {
      "text/plain": [
       "413"
      ]
     },
     "execution_count": 26,
     "metadata": {},
     "output_type": "execute_result"
    }
   ],
   "source": [
    "len(user_ids)"
   ]
  },
  {
   "cell_type": "code",
   "execution_count": 27,
   "id": "aabb7a79",
   "metadata": {},
   "outputs": [],
   "source": [
    "import random\n",
    "NUM_OUT=2  \n",
    "\n",
    "au,ao,ap=[],[],[]\n",
    "\n",
    "for u in user_ids:\n",
    "    if len(user_art_dict[u]) < 8 :\n",
    "        NUM_OUT=2\n",
    "    else:\n",
    "        NUM_OUT=3\n",
    "    outer_ids=random.sample(user_art_dict[u], NUM_OUT)\n",
    "    positive_ids=set(user_art_dict[u]).difference(set(outer_ids))\n",
    "    au.append(u)\n",
    "    ap.append(positive_ids)\n",
    "    ao.append(outer_ids)"
   ]
  },
  {
   "cell_type": "code",
   "execution_count": 28,
   "id": "74dc85ac",
   "metadata": {},
   "outputs": [],
   "source": [
    "user_out_pos=pd.DataFrame({\n",
    "    'userID': au,\n",
    "    'posIDs': ap,\n",
    "    'outIDs': ao\n",
    "})"
   ]
  },
  {
   "cell_type": "code",
   "execution_count": 33,
   "id": "a1386cfe",
   "metadata": {},
   "outputs": [
    {
     "data": {
      "text/html": [
       "<div>\n",
       "<style scoped>\n",
       "    .dataframe tbody tr th:only-of-type {\n",
       "        vertical-align: middle;\n",
       "    }\n",
       "\n",
       "    .dataframe tbody tr th {\n",
       "        vertical-align: top;\n",
       "    }\n",
       "\n",
       "    .dataframe thead th {\n",
       "        text-align: right;\n",
       "    }\n",
       "</style>\n",
       "<table border=\"1\" class=\"dataframe\">\n",
       "  <thead>\n",
       "    <tr style=\"text-align: right;\">\n",
       "      <th></th>\n",
       "      <th>userID</th>\n",
       "      <th>posIDs</th>\n",
       "      <th>outIDs</th>\n",
       "    </tr>\n",
       "  </thead>\n",
       "  <tbody>\n",
       "    <tr>\n",
       "      <th>0</th>\n",
       "      <td>4910170583</td>\n",
       "      <td>{S1359645422001896, S1359645422001471, S135964...</td>\n",
       "      <td>[S2589152922000485, S2589152922000679, S258915...</td>\n",
       "    </tr>\n",
       "  </tbody>\n",
       "</table>\n",
       "</div>"
      ],
      "text/plain": [
       "       userID                                             posIDs  \\\n",
       "0  4910170583  {S1359645422001896, S1359645422001471, S135964...   \n",
       "\n",
       "                                              outIDs  \n",
       "0  [S2589152922000485, S2589152922000679, S258915...  "
      ]
     },
     "execution_count": 33,
     "metadata": {},
     "output_type": "execute_result"
    }
   ],
   "source": [
    "user_out_pos.head(1)"
   ]
  },
  {
   "cell_type": "markdown",
   "id": "63360d6c",
   "metadata": {},
   "source": [
    "## nabavak negativnih iz dblpv13 dataseta"
   ]
  },
  {
   "cell_type": "code",
   "execution_count": 18,
   "id": "1eb0e3b5",
   "metadata": {},
   "outputs": [],
   "source": [
    "NUM_OF_NEG_SAMPLE=1_000"
   ]
  },
  {
   "cell_type": "code",
   "execution_count": 16,
   "id": "930472a7",
   "metadata": {},
   "outputs": [],
   "source": [
    "dblp_df=pd.read_parquet(\"datasets/preprocessed.parquet\",columns=[\"id\"])"
   ]
  },
  {
   "cell_type": "code",
   "execution_count": 22,
   "id": "552baa98",
   "metadata": {},
   "outputs": [],
   "source": [
    "all_ids=list(set(dblp_df['id']))"
   ]
  },
  {
   "cell_type": "code",
   "execution_count": 31,
   "id": "5bbaf8c6",
   "metadata": {},
   "outputs": [],
   "source": [
    "neg=[]\n",
    "for u in user_ids:\n",
    "    neg.append(random.sample(all_ids, NUM_OF_NEG_SAMPLE))"
   ]
  },
  {
   "cell_type": "code",
   "execution_count": 32,
   "id": "730b460d",
   "metadata": {},
   "outputs": [
    {
     "data": {
      "text/plain": [
       "413"
      ]
     },
     "execution_count": 32,
     "metadata": {},
     "output_type": "execute_result"
    }
   ],
   "source": [
    "len(neg)"
   ]
  },
  {
   "cell_type": "code",
   "execution_count": 36,
   "id": "ba2bfa46",
   "metadata": {},
   "outputs": [],
   "source": [
    "user_out_pos=pd.DataFrame({\n",
    "    'userID': au,\n",
    "    'posIDs': ap,\n",
    "    'outIDs': ao,\n",
    "    'negIDs': neg\n",
    "    \n",
    "})\n",
    "user_out_pos.to_csv('datasets/twitter/user_pos_neg_ids_27_3.csv')"
   ]
  },
  {
   "cell_type": "code",
   "execution_count": 39,
   "id": "722fc181",
   "metadata": {},
   "outputs": [
    {
     "data": {
      "text/html": [
       "<div>\n",
       "<style scoped>\n",
       "    .dataframe tbody tr th:only-of-type {\n",
       "        vertical-align: middle;\n",
       "    }\n",
       "\n",
       "    .dataframe tbody tr th {\n",
       "        vertical-align: top;\n",
       "    }\n",
       "\n",
       "    .dataframe thead th {\n",
       "        text-align: right;\n",
       "    }\n",
       "</style>\n",
       "<table border=\"1\" class=\"dataframe\">\n",
       "  <thead>\n",
       "    <tr style=\"text-align: right;\">\n",
       "      <th></th>\n",
       "      <th>userID</th>\n",
       "      <th>posIDs</th>\n",
       "      <th>outIDs</th>\n",
       "      <th>negIDs</th>\n",
       "    </tr>\n",
       "  </thead>\n",
       "  <tbody>\n",
       "    <tr>\n",
       "      <th>0</th>\n",
       "      <td>4910170583</td>\n",
       "      <td>{S1359645422001896, S1359645422001471, S135964...</td>\n",
       "      <td>[S2589152922000485, S2589152922000679, S258915...</td>\n",
       "      <td>[53e99fc2b7602d9702899dc1, 5736956d6e3b12023e4...</td>\n",
       "    </tr>\n",
       "  </tbody>\n",
       "</table>\n",
       "</div>"
      ],
      "text/plain": [
       "       userID                                             posIDs  \\\n",
       "0  4910170583  {S1359645422001896, S1359645422001471, S135964...   \n",
       "\n",
       "                                              outIDs  \\\n",
       "0  [S2589152922000485, S2589152922000679, S258915...   \n",
       "\n",
       "                                              negIDs  \n",
       "0  [53e99fc2b7602d9702899dc1, 5736956d6e3b12023e4...  "
      ]
     },
     "execution_count": 39,
     "metadata": {},
     "output_type": "execute_result"
    }
   ],
   "source": [
    "user_out_pos.head(1)"
   ]
  }
 ],
 "metadata": {
  "kernelspec": {
   "display_name": "Python3 (dorasworld)",
   "language": "python",
   "name": "dorasworld"
  },
  "language_info": {
   "codemirror_mode": {
    "name": "ipython",
    "version": 3
   },
   "file_extension": ".py",
   "mimetype": "text/x-python",
   "name": "python",
   "nbconvert_exporter": "python",
   "pygments_lexer": "ipython3",
   "version": "3.9.7"
  }
 },
 "nbformat": 4,
 "nbformat_minor": 5
}
