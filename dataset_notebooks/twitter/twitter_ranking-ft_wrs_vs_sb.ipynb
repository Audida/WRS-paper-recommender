{
 "cells": [
  {
   "cell_type": "code",
   "execution_count": 1,
   "id": "d49b4f67",
   "metadata": {},
   "outputs": [],
   "source": [
    "%run imports.ipynb"
   ]
  },
  {
   "cell_type": "code",
   "execution_count": 2,
   "id": "6265dfe1",
   "metadata": {},
   "outputs": [],
   "source": [
    "FT_MODELS_PATH=\"/home/dora/Desktop/recommender/datasets/master_generated/6-10-200000-100_ID@_6/MODELS/128_0.001@0623-012052\"\n",
    "tf_user_tower=glob.glob(FT_MODELS_PATH+'/*userTower*')[0]\n",
    "ft_user_tower= tf.keras.models.load_model(tf_user_tower,compile=False)\n",
    "ft_article_tower= ft_user_tower\n",
    "\n",
    "SB_MODELS_PATH=\"/home/dora/Desktop/recommender/datasets/master_generated/6-10-200000-100_ID@_6/MODELS/128_0.001@0628-160032\"\n",
    "sb_user_tower=glob.glob(SB_MODELS_PATH+'/*sharedTower*')[0]\n",
    "sb_user_tower= tf.keras.models.load_model(sb_user_tower,compile=False)\n",
    "sb_article_tower= sb_user_tower"
   ]
  },
  {
   "cell_type": "code",
   "execution_count": 145,
   "id": "800c09a3",
   "metadata": {},
   "outputs": [],
   "source": [
    "SAVE_PATH = \"/home/dora/osci-syn/nemojbrisat_maknuticu/slike/grafovi/\" "
   ]
  },
  {
   "cell_type": "code",
   "execution_count": 3,
   "id": "4f4477c5",
   "metadata": {},
   "outputs": [],
   "source": [
    "pos_neg_df=pd.read_csv(\"/home/dora/Desktop/recommender/datasets/twitter/user_pos_neg_ids_27_3.csv\")"
   ]
  },
  {
   "cell_type": "code",
   "execution_count": 4,
   "id": "0938f42b",
   "metadata": {},
   "outputs": [
    {
     "data": {
      "text/html": [
       "<div>\n",
       "<style scoped>\n",
       "    .dataframe tbody tr th:only-of-type {\n",
       "        vertical-align: middle;\n",
       "    }\n",
       "\n",
       "    .dataframe tbody tr th {\n",
       "        vertical-align: top;\n",
       "    }\n",
       "\n",
       "    .dataframe thead th {\n",
       "        text-align: right;\n",
       "    }\n",
       "</style>\n",
       "<table border=\"1\" class=\"dataframe\">\n",
       "  <thead>\n",
       "    <tr style=\"text-align: right;\">\n",
       "      <th></th>\n",
       "      <th>Unnamed: 0</th>\n",
       "      <th>userID</th>\n",
       "      <th>posIDs</th>\n",
       "      <th>outIDs</th>\n",
       "      <th>negIDs</th>\n",
       "    </tr>\n",
       "  </thead>\n",
       "  <tbody>\n",
       "    <tr>\n",
       "      <th>0</th>\n",
       "      <td>0</td>\n",
       "      <td>4910170583</td>\n",
       "      <td>{'S1359645422001896', 'S1359645422001471', 'S1...</td>\n",
       "      <td>['S2589152922000485', 'S2589152922000679', 'S2...</td>\n",
       "      <td>['53e99fc2b7602d9702899dc1', '5736956d6e3b1202...</td>\n",
       "    </tr>\n",
       "    <tr>\n",
       "      <th>1</th>\n",
       "      <td>1</td>\n",
       "      <td>973267080781942785</td>\n",
       "      <td>{'S003238611730664X', 'S0167779913002072', 'S0...</td>\n",
       "      <td>['S0032386117306390', 'S0001868608001401', 'S0...</td>\n",
       "      <td>['53e9a3c0b7602d9702cd0244', '5de0e5b2df1a9c0c...</td>\n",
       "    </tr>\n",
       "  </tbody>\n",
       "</table>\n",
       "</div>"
      ],
      "text/plain": [
       "   Unnamed: 0              userID  \\\n",
       "0           0          4910170583   \n",
       "1           1  973267080781942785   \n",
       "\n",
       "                                              posIDs  \\\n",
       "0  {'S1359645422001896', 'S1359645422001471', 'S1...   \n",
       "1  {'S003238611730664X', 'S0167779913002072', 'S0...   \n",
       "\n",
       "                                              outIDs  \\\n",
       "0  ['S2589152922000485', 'S2589152922000679', 'S2...   \n",
       "1  ['S0032386117306390', 'S0001868608001401', 'S0...   \n",
       "\n",
       "                                              negIDs  \n",
       "0  ['53e99fc2b7602d9702899dc1', '5736956d6e3b1202...  \n",
       "1  ['53e9a3c0b7602d9702cd0244', '5de0e5b2df1a9c0c...  "
      ]
     },
     "execution_count": 4,
     "metadata": {},
     "output_type": "execute_result"
    }
   ],
   "source": [
    "pos_neg_df.head(2)"
   ]
  },
  {
   "cell_type": "markdown",
   "id": "332ba04d",
   "metadata": {},
   "source": [
    "### ids_lab_df dataset"
   ]
  },
  {
   "cell_type": "raw",
   "id": "6aa40e41",
   "metadata": {},
   "source": [
    "userids, artids, labels, cosim=[], [], [], [] \n",
    "\n",
    "for i,row in pos_neg_df.iterrows():\n",
    "    posIDs=ast.literal_eval(row.posIDs)\n",
    "    negIDs=ast.literal_eval(row.negIDs)\n",
    "    all_art=list(posIDs)\n",
    "\n",
    "    labels.extend(np.ones(len(all_art)))\n",
    "\n",
    "    all_art.extend(negIDs)\n",
    "    labels.extend(np.zeros(len(negIDs)))\n",
    "    artids.extend(all_art)\n",
    "    userids.extend([row.userID]*len(all_art))\n"
   ]
  },
  {
   "cell_type": "raw",
   "id": "c6f233cc",
   "metadata": {},
   "source": [
    "ids_lab_df=pd.DataFrame({\n",
    "    'userID': userids,\n",
    "    'artID': artids,\n",
    "    'label': labels   \n",
    "})"
   ]
  },
  {
   "cell_type": "raw",
   "id": "463a8bb1",
   "metadata": {},
   "source": [
    "ids_lab_df"
   ]
  },
  {
   "cell_type": "raw",
   "id": "76852b0b",
   "metadata": {},
   "source": [
    "ids_lab_df.to_parquet(\"/home/dora/Desktop/recommender/datasets/tw_0604_ids.parquet\")"
   ]
  },
  {
   "cell_type": "markdown",
   "id": "bfff065a",
   "metadata": {},
   "source": [
    "### Twitter:\n",
    "### users vectors"
   ]
  },
  {
   "cell_type": "code",
   "execution_count": 5,
   "id": "3b7ca2d3",
   "metadata": {},
   "outputs": [],
   "source": [
    "try:\n",
    "    ids_lab_df\n",
    "except:\n",
    "    ids_lab_df=pd.read_parquet(\"/home/dora/Desktop/recommender/datasets/tw_0604_ids.parquet\")"
   ]
  },
  {
   "cell_type": "code",
   "execution_count": 6,
   "id": "cb0a7bb5",
   "metadata": {},
   "outputs": [],
   "source": [
    "try :\n",
    "    users_vect_df\n",
    "except:\n",
    "    users_vect_df=pd.read_parquet(\"/home/dora/Desktop/recommender/datasets/tw_0604_user_vectors.parquet\")"
   ]
  },
  {
   "cell_type": "code",
   "execution_count": 7,
   "id": "3c2f6752",
   "metadata": {},
   "outputs": [],
   "source": [
    "#users_vect_df.head(1)"
   ]
  },
  {
   "cell_type": "code",
   "execution_count": 8,
   "id": "5b13aeb8",
   "metadata": {},
   "outputs": [],
   "source": [
    "try:\n",
    "    user_vect_dict_ft\n",
    "except:\n",
    "    user_vect_dict_ft =pd.read_parquet(\"/home/dora/Desktop/recommender/datasets/tw_0604_user_vectors.parquet\",  engine='pyarrow').set_index('userID').T.to_dict('list') \n",
    "    user_vect_dict_ft = {key: value[0].reshape((1,-1)) for key, value in user_vect_dict_ft.items()} # \"unpack\" vectors\n",
    "try:\n",
    "    user_vect_dict_tr\n",
    "except:\n",
    "    user_vect_dict_tr =pd.read_parquet(\"/home/dora/Desktop/recommender/datasets/tw_0604_user_vectors.parquet\",  engine='pyarrow').set_index('userID').T.to_dict('list') \n",
    "    user_vect_dict_tr = {key: value[1].reshape((1,-1)) for key, value in user_vect_dict_tr.items()} # \"unpack\" vectors"
   ]
  },
  {
   "cell_type": "markdown",
   "id": "831247b3",
   "metadata": {},
   "source": [
    "## articles vectors"
   ]
  },
  {
   "cell_type": "code",
   "execution_count": 9,
   "id": "07a29072",
   "metadata": {},
   "outputs": [],
   "source": [
    "try:\n",
    "    sia_vect_dict_ft\n",
    "except:     \n",
    "    sia_vect_dict_ft =pd.read_parquet(\"/home/dora/Desktop/recommender/datasets/twitter/sia_vct.parquet\",  engine='pyarrow').set_index('artID').T.to_dict('list') \n",
    "    sia_vect_dict_ft = {key: value[3].reshape((1,-1)) for key, value in sia_vect_dict_ft.items()} # \"unpack\" vectors\n",
    "try:\n",
    "    sia_vect_dict_tr\n",
    "except:\n",
    "    sia_vect_dict_tr =pd.read_parquet(\"/home/dora/Desktop/recommender/datasets/twitter/sia_vct.parquet\",  engine='pyarrow').set_index('artID').T.to_dict('list') \n",
    "    sia_vect_dict_tr = {key: value[2].reshape((1,-1)) for key, value in sia_vect_dict_tr.items()} # \"unpack\" vectors"
   ]
  },
  {
   "cell_type": "markdown",
   "id": "76e2dc74",
   "metadata": {},
   "source": [
    "### dblp - Fasttext"
   ]
  },
  {
   "cell_type": "code",
   "execution_count": 10,
   "id": "2cef76f2",
   "metadata": {},
   "outputs": [],
   "source": [
    "try:\n",
    "        article_vect_dict_ft\n",
    "except:\n",
    "        article_vect_dict_ft =pd.read_parquet('/home/dora/Desktop/recommender/datasets/dblpv13_fasttext.parquet',  engine='pyarrow').set_index('id').T.to_dict('list') \n",
    "        article_vect_dict_ft = {key: np.vstack(value) for key, value in article_vect_dict_ft.items()} # \"unpack\" vectors"
   ]
  },
  {
   "cell_type": "markdown",
   "id": "1e7bd5f2",
   "metadata": {},
   "source": [
    "### dblp -  transformer"
   ]
  },
  {
   "cell_type": "code",
   "execution_count": 11,
   "id": "68f35159",
   "metadata": {},
   "outputs": [],
   "source": [
    " #SenBert transformer\n",
    "try:\n",
    "    article_vect_dict_tr\n",
    "except:\n",
    "    article_vect_dict_tr_part1 =pd.read_parquet('/home/dora/Desktop/recommender/datasets/mLM_part_1',  engine='pyarrow').set_index('id').T.to_dict('list') \n",
    "    article_vect_dict_tr_part1 = {key: np.vstack(value) for key, value in article_vect_dict_tr_part1.items()} # \"unpack\" vectors\n",
    "    article_vect_dict_tr_part2 =pd.read_parquet('/home/dora/Desktop/recommender/datasets/mLM_part_2',  engine='pyarrow').set_index('id').T.to_dict('list') \n",
    "    article_vect_dict_tr_part2 = {key: np.vstack(value) for key, value in article_vect_dict_tr_part2.items()} # \"unpack\" vectors\n",
    "    article_vect_dict_tr = {**article_vect_dict_tr_part1, **article_vect_dict_tr_part2}"
   ]
  },
  {
   "cell_type": "code",
   "execution_count": 12,
   "id": "3562ca0a",
   "metadata": {},
   "outputs": [],
   "source": [
    "#MERGING TWO DATASETS OF ARTICLE VECTORS  \n",
    "article_vect_dict_tr={**sia_vect_dict_tr, **article_vect_dict_tr} \n",
    "article_vect_dict_ft={**sia_vect_dict_ft, **article_vect_dict_ft} \n"
   ]
  },
  {
   "cell_type": "code",
   "execution_count": 13,
   "id": "c0f01dcb",
   "metadata": {},
   "outputs": [],
   "source": [
    "not_in_set=list()\n",
    "for a in set(ids_lab_df['artID']):\n",
    "    if a not in article_vect_dict_tr.keys():\n",
    "        not_in_set.append(a)"
   ]
  },
  {
   "cell_type": "code",
   "execution_count": 14,
   "id": "ed1cff18",
   "metadata": {},
   "outputs": [
    {
     "data": {
      "text/plain": [
       "(155, 395767)"
      ]
     },
     "execution_count": 14,
     "metadata": {},
     "output_type": "execute_result"
    }
   ],
   "source": [
    "len(not_in_set), len(set(ids_lab_df['artID']))"
   ]
  },
  {
   "cell_type": "code",
   "execution_count": 15,
   "id": "c1a87350",
   "metadata": {},
   "outputs": [],
   "source": [
    "index_remove = []\n",
    "\n",
    "for i,row in ids_lab_df.iterrows():\n",
    "    if row.artID in not_in_set:\n",
    "        index_remove.append(i) "
   ]
  },
  {
   "cell_type": "code",
   "execution_count": 16,
   "id": "33cdbe2c",
   "metadata": {},
   "outputs": [],
   "source": [
    "ids_lab_df.drop(index_remove, inplace = True)\n"
   ]
  },
  {
   "cell_type": "code",
   "execution_count": 17,
   "id": "82866a54",
   "metadata": {},
   "outputs": [],
   "source": [
    "ids_lab_df=ids_lab_df.reset_index(drop=True)"
   ]
  },
  {
   "cell_type": "code",
   "execution_count": 18,
   "id": "8a752d3f",
   "metadata": {},
   "outputs": [],
   "source": [
    "not_in_set= []\n",
    "\n",
    "for u in set(ids_lab_df['userID']):\n",
    "    if u not in set(users_vect_df['userID']): #nije imao dovoljno članaka pa je u nekom trenutku maknut\n",
    "        not_in_set.append(u)\n"
   ]
  },
  {
   "cell_type": "code",
   "execution_count": 19,
   "id": "72b02ad6",
   "metadata": {},
   "outputs": [],
   "source": [
    "index_remove = []\n",
    "\n",
    "for i,row in ids_lab_df.iterrows():\n",
    "    if row.userID in not_in_set:\n",
    "        index_remove.append(i) "
   ]
  },
  {
   "cell_type": "code",
   "execution_count": 20,
   "id": "b87aa49b",
   "metadata": {},
   "outputs": [],
   "source": [
    "ids_lab_df.drop(index_remove, inplace = True)\n",
    "ids_lab_df=ids_lab_df.reset_index(drop=True)"
   ]
  },
  {
   "cell_type": "code",
   "execution_count": 21,
   "id": "a1965e3a",
   "metadata": {},
   "outputs": [],
   "source": [
    "user_vect_dict_tr=user_vect_dict_tr\n",
    "user_vect_dict_ft=user_vect_dict_ft\n"
   ]
  },
  {
   "cell_type": "code",
   "execution_count": 22,
   "id": "e9902043",
   "metadata": {},
   "outputs": [],
   "source": [
    "#embedding korisnika\n",
    "unique_users=set(ids_lab_df['userID'])\n",
    "\n",
    "embedded_user_tr=dict()\n",
    "embedded_user_ft=dict()\n",
    "for u in unique_users:\n",
    "    embedded_user_ft[u]=ft_user_tower.predict(user_vect_dict_ft[u])[0]\n",
    "    embedded_user_tr[u]=sb_user_tower.predict(user_vect_dict_tr[u])[0]\n"
   ]
  },
  {
   "cell_type": "code",
   "execution_count": 23,
   "id": "77914389",
   "metadata": {},
   "outputs": [],
   "source": [
    "#embedding članaka\n",
    "unique_articles=list(set(ids_lab_df['artID']))\n",
    "\n",
    "baseline_vectors_tr=np.array([article_vect_dict_tr[a][0] for a in unique_articles])\n",
    "baseline_vectors_ft=np.array([article_vect_dict_ft[a][0] for a in unique_articles])\n",
    "\n",
    "\n",
    "\n",
    "embedded_articles_tr=sb_article_tower.predict(baseline_vectors_tr)\n",
    "embedded_articles_ft=ft_article_tower.predict(baseline_vectors_ft)"
   ]
  },
  {
   "cell_type": "code",
   "execution_count": 24,
   "id": "3793db95",
   "metadata": {},
   "outputs": [],
   "source": [
    "embedded_art_ft=dict()\n",
    "embedded_art_tr=dict()\n",
    "\n",
    "\n",
    "i=0\n",
    "for v in embedded_articles_ft:\n",
    "    embedded_art_ft[unique_articles[i]]=v\n",
    "    i+=1\n",
    "    \n",
    "i=0\n",
    "for v in embedded_articles_tr:\n",
    "    embedded_art_tr[unique_articles[i]]=v\n",
    "    i+=1\n",
    "    "
   ]
  },
  {
   "cell_type": "code",
   "execution_count": 25,
   "id": "ce4a357e",
   "metadata": {},
   "outputs": [],
   "source": [
    "from sklearn.metrics.pairwise import cosine_similarity\n",
    "\n",
    "def cos_compare(user_vect,art_vect):\n",
    "    return cosine_similarity([user_vect],[art_vect])[0,0]"
   ]
  },
  {
   "cell_type": "code",
   "execution_count": 26,
   "id": "a2316212",
   "metadata": {},
   "outputs": [],
   "source": [
    "def cos_compare_model_baseline(embedded_user, embedded_art, user_vect_dict, article_vect_dict ):\n",
    "    cosine_model=[]\n",
    "    cosine_pure = []\n",
    "    #pbar = tq.tqdm(total=len(ids_lab_df))\n",
    "    for i,row in ids_lab_df.iterrows():\n",
    "        #prvo sličnost modela\n",
    "        cosine_model.append(cos_compare(embedded_user[row.userID],embedded_art[row.artID]))\n",
    "        #zatim, sličnost bez naše metode\n",
    "        cosine_pure.append(cos_compare(user_vect_dict[row.userID][0],article_vect_dict[row.artID][0]))\n",
    "\n",
    "        #pbar.update(1)\n",
    "    #pbar.close()\n",
    "    return cosine_model, cosine_pure"
   ]
  },
  {
   "cell_type": "code",
   "execution_count": 27,
   "id": "52460df0",
   "metadata": {},
   "outputs": [],
   "source": [
    "cosine_model_tr=[]\n",
    "cosine_pure_tr=[]\n",
    "\n",
    "cosine_model_ft=[]\n",
    "cosine_pure_ft=[]\n"
   ]
  },
  {
   "cell_type": "code",
   "execution_count": 28,
   "id": "35729c6d",
   "metadata": {},
   "outputs": [],
   "source": [
    "import tqdm as tq\n",
    "from tqdm import tqdm"
   ]
  },
  {
   "cell_type": "code",
   "execution_count": 30,
   "id": "b455dcff",
   "metadata": {},
   "outputs": [],
   "source": [
    "cosine_model_tr, cosine_pure_tr = cos_compare_model_baseline(embedded_user_tr, embedded_art_tr, user_vect_dict_tr, article_vect_dict_tr)\n"
   ]
  },
  {
   "cell_type": "code",
   "execution_count": 33,
   "id": "eb856523",
   "metadata": {},
   "outputs": [],
   "source": [
    "cosine_model_ft, cosine_pure_ft = cos_compare_model_baseline(embedded_user_ft, embedded_art_ft, user_vect_dict_ft, article_vect_dict_ft)"
   ]
  },
  {
   "cell_type": "code",
   "execution_count": 34,
   "id": "0fcf01bd",
   "metadata": {},
   "outputs": [],
   "source": [
    "ids_lab_df_tr=ids_lab_df.copy()\n",
    "ids_lab_df_ft=ids_lab_df.copy()\n",
    "\n",
    "ids_lab_df_tr['pure_cosine']=cosine_pure_tr\n",
    "ids_lab_df_tr['model_cosine']=cosine_model_tr\n",
    "\n",
    "ids_lab_df_ft['pure_cosine']=cosine_pure_ft\n",
    "ids_lab_df_ft['model_cosine']=cosine_model_ft"
   ]
  },
  {
   "cell_type": "code",
   "execution_count": 36,
   "id": "6a092a61",
   "metadata": {},
   "outputs": [
    {
     "data": {
      "text/html": [
       "<div>\n",
       "<style scoped>\n",
       "    .dataframe tbody tr th:only-of-type {\n",
       "        vertical-align: middle;\n",
       "    }\n",
       "\n",
       "    .dataframe tbody tr th {\n",
       "        vertical-align: top;\n",
       "    }\n",
       "\n",
       "    .dataframe thead th {\n",
       "        text-align: right;\n",
       "    }\n",
       "</style>\n",
       "<table border=\"1\" class=\"dataframe\">\n",
       "  <thead>\n",
       "    <tr style=\"text-align: right;\">\n",
       "      <th></th>\n",
       "      <th>userID</th>\n",
       "      <th>artID</th>\n",
       "      <th>label</th>\n",
       "      <th>pure_cosine</th>\n",
       "      <th>model_cosine</th>\n",
       "    </tr>\n",
       "  </thead>\n",
       "  <tbody>\n",
       "    <tr>\n",
       "      <th>0</th>\n",
       "      <td>4910170583</td>\n",
       "      <td>S1359646222001464</td>\n",
       "      <td>1.0</td>\n",
       "      <td>0.871229</td>\n",
       "      <td>0.909358</td>\n",
       "    </tr>\n",
       "    <tr>\n",
       "      <th>1</th>\n",
       "      <td>4910170583</td>\n",
       "      <td>S2589152922000783</td>\n",
       "      <td>1.0</td>\n",
       "      <td>0.900254</td>\n",
       "      <td>0.901414</td>\n",
       "    </tr>\n",
       "    <tr>\n",
       "      <th>2</th>\n",
       "      <td>4910170583</td>\n",
       "      <td>S1359646222001385</td>\n",
       "      <td>1.0</td>\n",
       "      <td>0.797351</td>\n",
       "      <td>0.823986</td>\n",
       "    </tr>\n",
       "  </tbody>\n",
       "</table>\n",
       "</div>"
      ],
      "text/plain": [
       "       userID              artID  label  pure_cosine  model_cosine\n",
       "0  4910170583  S1359646222001464    1.0     0.871229      0.909358\n",
       "1  4910170583  S2589152922000783    1.0     0.900254      0.901414\n",
       "2  4910170583  S1359646222001385    1.0     0.797351      0.823986"
      ]
     },
     "execution_count": 36,
     "metadata": {},
     "output_type": "execute_result"
    }
   ],
   "source": [
    "ids_lab_df_ft.head(3)"
   ]
  },
  {
   "cell_type": "markdown",
   "id": "23860a09",
   "metadata": {},
   "source": [
    "### za svakog korisnika sortiraj po kosinusnoj sličnosti, prvo po pure_cosine a zatim po model_cosine"
   ]
  },
  {
   "cell_type": "code",
   "execution_count": 37,
   "id": "87c434cd",
   "metadata": {},
   "outputs": [],
   "source": [
    "#nepotrebno \n",
    "grouped_ft=ids_lab_df_ft.groupby(['userID','label']).agg(model_cos_mean=('model_cosine', 'mean'),\n",
    "                                                         model_cod_median=('model_cosine', 'median'),\n",
    "                                                         pure_cos_sim_mean=('pure_cosine', 'mean'),\n",
    "                                                         pure_cos_sim_median=('pure_cosine', 'median')\n",
    "                                                        )"
   ]
  },
  {
   "cell_type": "code",
   "execution_count": 38,
   "id": "4dfc276f",
   "metadata": {},
   "outputs": [],
   "source": [
    "#grouped.head()"
   ]
  },
  {
   "cell_type": "code",
   "execution_count": 40,
   "id": "dd088b98",
   "metadata": {},
   "outputs": [],
   "source": [
    "neg_model_ft=[]\n",
    "pos_model_ft=[]\n",
    "\n",
    "neg_pure_ft=[]\n",
    "pos_pure_ft=[]\n",
    "\n",
    "for i,row in grouped_ft.iterrows():\n",
    "    if i[1]==1:\n",
    "        pos_model_ft.append(row.model_cos_mean)\n",
    "        pos_pure_ft.append(row.pure_cos_sim_mean)\n",
    "    elif i[1]==0:\n",
    "        neg_model_ft.append(row.model_cos_mean)\n",
    "        neg_pure_ft.append(row.pure_cos_sim_mean)\n"
   ]
  },
  {
   "cell_type": "code",
   "execution_count": 41,
   "id": "c3322412",
   "metadata": {},
   "outputs": [
    {
     "name": "stdout",
     "output_type": "stream",
     "text": [
      "avg user cossim median for positive example [MODEL]:  0.8050608\n",
      "avg user cossim median for positive example:  0.8464518\n",
      "avg user cossim median for negative example [MODEL]:  0.46507102\n",
      "avg user cossim median for negative example:  0.72791606\n"
     ]
    }
   ],
   "source": [
    "print(\"avg user cossim median for positive example [MODEL]: \",np.mean(pos_model_ft))\n",
    "print(\"avg user cossim median for positive example: \",np.mean(pos_pure_ft))\n",
    "print(\"avg user cossim median for negative example [MODEL]: \",np.mean(neg_model_ft))\n",
    "print(\"avg user cossim median for negative example: \",np.mean(neg_pure_ft))"
   ]
  },
  {
   "cell_type": "markdown",
   "id": "4a576adb",
   "metadata": {},
   "source": [
    "## kako je rangirano..."
   ]
  },
  {
   "cell_type": "code",
   "execution_count": 170,
   "id": "3ee2fbf9",
   "metadata": {},
   "outputs": [],
   "source": [
    "def ranked(ids_lab_df):\n",
    "    user_ranks_m=[]\n",
    "    user_ranks_p=[]\n",
    "    for u in unique_users:\n",
    "        sub_df=ids_lab_df.loc[ids_lab_df['userID']==u]\n",
    "        sub_df_m=sub_df.sort_values(by=['model_cosine'],ascending=False).reset_index(drop=True)\n",
    "        #nabavi indekse pozitivnih\n",
    "        #prvo od modela\n",
    "        ranks=list(sub_df_m.loc[sub_df_m['label']==1.0].index)\n",
    "        user_ranks_m.append(ranks)\n",
    "        #zatim od cistog fasttexta\n",
    "        sub_df_p=sub_df.sort_values(by=['pure_cosine'],ascending=False).reset_index(drop=True)\n",
    "        ranks=list(sub_df_p.loc[sub_df_p['label']==1.0].index)\n",
    "        user_ranks_p.append(ranks)\n",
    "    return user_ranks_m,user_ranks_p"
   ]
  },
  {
   "cell_type": "code",
   "execution_count": 171,
   "id": "06eab150",
   "metadata": {},
   "outputs": [],
   "source": [
    "user_ranks_m_ft, user_ranks_p_ft= ranked(ids_lab_df_ft)\n"
   ]
  },
  {
   "cell_type": "code",
   "execution_count": 172,
   "id": "a9eb6642",
   "metadata": {},
   "outputs": [],
   "source": [
    "user_ranks_m_tr, user_ranks_p_tr=ranked(ids_lab_df_tr)"
   ]
  },
  {
   "cell_type": "raw",
   "id": "0121e51a",
   "metadata": {},
   "source": [
    "import matplotlib.pyplot as plt\n",
    "import numpy as np \n",
    "%matplotlib inline\n",
    "\n",
    "ranks = [r for sublist in user_ranks_p_ft for r in sublist]\n",
    "\n",
    "plt.figure(figsize=(20,10)) \n",
    "plt.style.use('seaborn-whitegrid') \n",
    "plt.hist(ranks, bins=90, facecolor = '#2ab0ff', edgecolor='#169acf', linewidth=0.5)\n",
    "plt.title('Rangovi pozitivnih članaka - bez naše metode', fontsize=20) \n",
    "plt.xlabel('rang',fontsize=16) \n",
    "plt.ylabel('#rangiranih',fontsize=16) \n",
    "plt.savefig(SAVE_PATH + 'svi_rangovi_beznas.png')\n",
    "plt.show()\n"
   ]
  },
  {
   "cell_type": "raw",
   "id": "c60f2021",
   "metadata": {},
   "source": [
    "y_pred=[1 if y > 0.5 else 0 for y in list(ids_lab_df['model_cosine'])]\n",
    "labels=list(ids_lab_df['label'])"
   ]
  },
  {
   "cell_type": "raw",
   "id": "03e0eb65",
   "metadata": {},
   "source": [
    "import seaborn as sns\n",
    "\n",
    "cf_matrix=confusion_matrix(labels, y_pred)\n",
    "\n",
    "\n",
    "\n",
    "\n",
    "group_names = ['True Neg','False Pos','False Neg','True Pos']\n",
    "group_counts = [\"{0:0.0f}\".format(value) for value in cf_matrix.flatten()]\n",
    "group_percentages = [\"{0:.2%}\".format(value) for value in cf_matrix.flatten()/np.sum(cf_matrix)]\n",
    "labels_ = [f\"{v1}\\n{v2}\\n{v3}\" for v1, v2, v3 in zip(group_names,group_counts,group_percentages)]\n",
    "labels_ = np.asarray(labels_).reshape(2,2)\n",
    "sns.heatmap(cf_matrix, annot=labels_, fmt='', cmap='Blues')"
   ]
  },
  {
   "cell_type": "raw",
   "id": "b9b6f8de",
   "metadata": {},
   "source": [
    "total_pos=len([x for x in list(ids_lab_df['label']) if x == 1])\n",
    "\n",
    "print(\"sveukupno imamo\",total_pos,\"pozitivnih članaka i\",len(pos_neg_df),\"korisnika\")\n",
    "print(\"prepoznato \"+str(cf_matrix[1][1]/total_pos*100)+\"% pozitivnih članaka\")"
   ]
  },
  {
   "cell_type": "markdown",
   "id": "7f89683b",
   "metadata": {},
   "source": [
    "## ACC"
   ]
  },
  {
   "cell_type": "raw",
   "id": "decf4fd9",
   "metadata": {},
   "source": [
    "from sklearn.metrics import accuracy_score\n",
    "print(\"ACC:\",accuracy_score(labels, y_pred))\n",
    "print(\"roc-auc:\",roc_auc_score(labels, y_pred))\n",
    "print(\"F1 - macro:\",f1_score(labels, y_pred, average='macro'))\n",
    "print(\"F1 - micro:\",f1_score(labels, y_pred, average='micro'))"
   ]
  },
  {
   "cell_type": "markdown",
   "id": "ee62b394",
   "metadata": {},
   "source": [
    "## modificirani P@k"
   ]
  },
  {
   "cell_type": "markdown",
   "id": "6078c108",
   "metadata": {},
   "source": [
    "### Fasttext"
   ]
  },
  {
   "cell_type": "code",
   "execution_count": 283,
   "id": "52082b63",
   "metadata": {},
   "outputs": [],
   "source": [
    "MAX_K = 11"
   ]
  },
  {
   "cell_type": "code",
   "execution_count": 284,
   "id": "5070b8fc",
   "metadata": {},
   "outputs": [],
   "source": [
    "lengs= [len(x) for x in user_ranks_p_ft]"
   ]
  },
  {
   "cell_type": "code",
   "execution_count": 285,
   "id": "09d32686",
   "metadata": {},
   "outputs": [
    {
     "data": {
      "text/plain": [
       "(5.0, 11.90379746835443)"
      ]
     },
     "execution_count": 285,
     "metadata": {},
     "output_type": "execute_result"
    }
   ],
   "source": [
    "np.median(lengs), np.mean(lengs)"
   ]
  },
  {
   "cell_type": "code",
   "execution_count": 286,
   "id": "aee688ba",
   "metadata": {},
   "outputs": [],
   "source": [
    "all_pk_m_ft,all_pk_p_ft=[],[]\n",
    "for k in range(1,MAX_K):\n",
    "    users_res=[]\n",
    "    for ur in user_ranks_m_ft:\n",
    "        num_relevant=len([r for r in ur if r < k])\n",
    "        users_res.append(num_relevant/np.min([k,len(ur)])) \n",
    "\n",
    "\n",
    "    #print(\"P@k; k=\",k)\n",
    "    #print(\"model-mean for all users:\", np.mean(users_res) )\n",
    "    all_pk_m_ft.append(np.mean(users_res))\n",
    "\n",
    "    users_res=[]\n",
    "    for ur in user_ranks_p_ft:\n",
    "        num_relevant=len([r for r in ur if r < k])\n",
    "        users_res.append(num_relevant/np.min([k,len(ur)]))\n",
    "    #print(\"non-model-mean for all users:\", np.mean(users_res) )\n",
    "    all_pk_p_ft.append(np.mean(users_res))"
   ]
  },
  {
   "cell_type": "code",
   "execution_count": 287,
   "id": "3b8ac383",
   "metadata": {},
   "outputs": [],
   "source": [
    "VERSION = \"_ft1_\""
   ]
  },
  {
   "cell_type": "code",
   "execution_count": 288,
   "id": "4065e41f",
   "metadata": {},
   "outputs": [
    {
     "data": {
      "image/png": "[encoded data removed]",
      "text/plain": [
       "<Figure size 720x576 with 1 Axes>"
      ]
     },
     "metadata": {},
     "output_type": "display_data"
    }
   ],
   "source": [
    "import numpy as np\n",
    "import matplotlib.pyplot as plt\n",
    "from matplotlib.ticker import MaxNLocator\n",
    "\n",
    "from matplotlib.pyplot import figure\n",
    "\n",
    "fig = plt.figure(figsize=(10,8))\n",
    "#model val\n",
    "y_m = all_pk_m_ft\n",
    "#non-model val\n",
    "y_p = all_pk_p_ft\n",
    "\n",
    "x=list(range(1,MAX_K))\n",
    "\n",
    "yerr = np.linspace(0.0, 0.0, len(x)) #any value will do\n",
    "\n",
    "plt.errorbar(x, y_m , yerr=yerr, uplims=False, lolims=False,\n",
    "             label='Fasttext + WRS', c='m', marker=\"*\",ms=11, ls = \"--\")\n",
    "\n",
    "plt.errorbar(x, y_p , yerr=yerr, uplims=False, marker= \"d\",ls = \"--\",lolims=False,\n",
    "             label=\"Fasttext\",c='b')\n",
    "ax = plt.gca()\n",
    "#ax.set_xlim([xmin, xmax])\n",
    "ax.set_ylim([min(y_p)-0.009, max(y_m)+0.011])\n",
    "\n",
    "plt.xlabel('k', fontsize=16)\n",
    "plt.ylabel('P@k', fontsize=16)\n",
    "plt.legend(loc='best')\n",
    "plt.setp(plt.gca().get_legend().get_texts(), fontsize='15') #legend 'list' fontsize\n",
    "\n",
    "ax =fig.gca()\n",
    "ax.xaxis.set_major_locator(MaxNLocator(integer=True))\n",
    "plt.savefig(SAVE_PATH + 'Pk'+VERSION+'.png',dpi=300)\n",
    "plt.show()\n"
   ]
  },
  {
   "cell_type": "markdown",
   "id": "96e0e243",
   "metadata": {},
   "source": [
    "## P@k SBERT"
   ]
  },
  {
   "cell_type": "code",
   "execution_count": 289,
   "id": "1ae432bb",
   "metadata": {},
   "outputs": [],
   "source": [
    "MAX_K = 11"
   ]
  },
  {
   "cell_type": "code",
   "execution_count": 290,
   "id": "7da37447",
   "metadata": {},
   "outputs": [],
   "source": [
    "all_pk_m_tr,all_pk_p_tr=[],[]\n",
    "for k in range(1,MAX_K):\n",
    "    users_res=[]\n",
    "    for ur in user_ranks_m_tr:\n",
    "        num_relevant=len([r for r in ur if r < k])\n",
    "        users_res.append(num_relevant/np.min([k,len(ur)])) \n",
    "\n",
    "\n",
    "    #print(\"P@k; k=\",k)\n",
    "    #print(\"model-mean for all users:\", np.mean(users_res) )\n",
    "    all_pk_m_tr.append(np.mean(users_res))\n",
    "\n",
    "    users_res=[]\n",
    "    for ur in user_ranks_p_tr:\n",
    "        num_relevant=len([r for r in ur if r < k])\n",
    "        users_res.append(num_relevant/np.min([k,len(ur)]))\n",
    "    #print(\"non-model-mean for all users:\", np.mean(users_res) )\n",
    "    all_pk_p_tr.append(np.mean(users_res))"
   ]
  },
  {
   "cell_type": "code",
   "execution_count": 224,
   "id": "2f505eb3",
   "metadata": {},
   "outputs": [],
   "source": [
    "VERSION = \"_sb1_\""
   ]
  },
  {
   "cell_type": "code",
   "execution_count": 225,
   "id": "55f93a47",
   "metadata": {},
   "outputs": [
    {
     "data": {
      "image/png": "[encoded data removed]",
      "text/plain": [
       "<Figure size 720x576 with 1 Axes>"
      ]
     },
     "metadata": {},
     "output_type": "display_data"
    }
   ],
   "source": [
    "import numpy as np\n",
    "import matplotlib.pyplot as plt\n",
    "from matplotlib.ticker import MaxNLocator\n",
    "\n",
    "from matplotlib.pyplot import figure\n",
    "\n",
    "fig = plt.figure(figsize=(10,8))\n",
    "#model val\n",
    "y_m = all_pk_m_tr\n",
    "#non-model val\n",
    "y_p = all_pk_p_tr\n",
    "\n",
    "x=list(range(1,MAX_K))\n",
    "\n",
    "yerr = np.linspace(0.0, 0.0, len(x)) #any value will do\n",
    "\n",
    "plt.errorbar(x, y_m , yerr=yerr, uplims=False, lolims=False,\n",
    "             label='SBERT + WRS', c='c', marker=\"*\",ms=11, ls = \"--\")\n",
    "\n",
    "plt.errorbar(x, y_p , yerr=yerr, uplims=False, marker= \"d\",ls = \"--\",c=\"g\",lolims=False,\n",
    "             label=\"SBERT\")\n",
    "ax = plt.gca()\n",
    "#ax.set_xlim([xmin, xmax])\n",
    "ax.set_ylim([min(y_p)-0.009, max(y_m)+0.011])\n",
    "\n",
    "plt.xlabel('k', fontsize=16)\n",
    "plt.ylabel('P@k', fontsize=16)\n",
    "plt.legend(loc='best')\n",
    "plt.setp(plt.gca().get_legend().get_texts(), fontsize='15') #legend 'list' fontsize\n",
    "\n",
    "ax =fig.gca()\n",
    "ax.xaxis.set_major_locator(MaxNLocator(integer=True))\n",
    "plt.savefig(SAVE_PATH + 'Pk'+VERSION+'.png',dpi=300)\n",
    "plt.show()\n"
   ]
  },
  {
   "cell_type": "code",
   "execution_count": 226,
   "id": "0129bbfb",
   "metadata": {},
   "outputs": [],
   "source": [
    "VERSION=\"_fw_b1_\""
   ]
  },
  {
   "cell_type": "code",
   "execution_count": 227,
   "id": "fead137b",
   "metadata": {},
   "outputs": [
    {
     "data": {
      "image/png": "[encoded data removed]",
      "text/plain": [
       "<Figure size 720x576 with 1 Axes>"
      ]
     },
     "metadata": {},
     "output_type": "display_data"
    }
   ],
   "source": [
    "import numpy as np\n",
    "import matplotlib.pyplot as plt\n",
    "from matplotlib.ticker import MaxNLocator\n",
    "\n",
    "from matplotlib.pyplot import figure\n",
    "\n",
    "fig = plt.figure(figsize=(10,8))\n",
    "#model val\n",
    "y_m = all_pk_m_ft\n",
    "#non-model val\n",
    "y_p = all_pk_p_tr\n",
    "\n",
    "x=list(range(1,MAX_K))\n",
    "\n",
    "yerr = np.linspace(0.0, 0.0, len(x)) #any value will do\n",
    "\n",
    "plt.errorbar(x, y_m , yerr=yerr, uplims=False, lolims=False,\n",
    "             label='Fasttext + WRS', c='m', marker=\"*\",ms=11, ls = \"--\")\n",
    "\n",
    "plt.errorbar(x, y_p , yerr=yerr, uplims=False, marker= \"d\",c=\"g\",ls = \"--\",lolims=False,\n",
    "             label=\"SBERT\")\n",
    "ax = plt.gca()\n",
    "#ax.set_xlim([xmin, xmax])\n",
    "ax.set_ylim([min(y_p)-0.009, max(y_m)+0.021])\n",
    "\n",
    "plt.xlabel('k', fontsize=16)\n",
    "plt.ylabel('P@k', fontsize=16)\n",
    "plt.legend(loc='best')\n",
    "plt.setp(plt.gca().get_legend().get_texts(), fontsize='15') #legend 'list' fontsize\n",
    "\n",
    "ax =fig.gca()\n",
    "ax.xaxis.set_major_locator(MaxNLocator(integer=True))\n",
    "plt.savefig(SAVE_PATH + 'Pk'+VERSION+'.png',dpi=300)\n",
    "plt.show()\n"
   ]
  },
  {
   "cell_type": "code",
   "execution_count": 343,
   "id": "5d3fad5f",
   "metadata": {},
   "outputs": [],
   "source": [
    "VERSION=\"_fs_\""
   ]
  },
  {
   "cell_type": "code",
   "execution_count": 344,
   "id": "b767ca14",
   "metadata": {},
   "outputs": [
    {
     "data": {
      "image/png": "[encoded data removed]",
      "text/plain": [
       "<Figure size 720x576 with 1 Axes>"
      ]
     },
     "metadata": {},
     "output_type": "display_data"
    }
   ],
   "source": [
    "import numpy as np\n",
    "import matplotlib.pyplot as plt\n",
    "from matplotlib.ticker import MaxNLocator\n",
    "\n",
    "from matplotlib.pyplot import figure\n",
    "\n",
    "fig = plt.figure(figsize=(10,8))\n",
    "#model val\n",
    "y_m = all_pk_p_ft\n",
    "#non-model val\n",
    "y_p = all_pk_p_tr\n",
    "\n",
    "x=list(range(1,MAX_K))\n",
    "\n",
    "yerr = np.linspace(0.0, 0.0, len(x)) #any value will do\n",
    "\n",
    "plt.errorbar(x, y_m , yerr=yerr, uplims=False, lolims=False,\n",
    "             label='Fasttext', c='b', marker=\"d\", ls = \"--\")\n",
    "\n",
    "plt.errorbar(x, y_p , yerr=yerr, uplims=False, marker= \"d\",c=\"g\",ls = \"--\",lolims=False,\n",
    "             label=\"SBERT\")\n",
    "ax = plt.gca()\n",
    "#ax.set_xlim([xmin, xmax])\n",
    "\n",
    "plt.xlabel('k', fontsize=16)\n",
    "plt.ylabel('P@k', fontsize=16)\n",
    "plt.legend(loc='best')\n",
    "plt.setp(plt.gca().get_legend().get_texts(), fontsize='15') #legend 'list' fontsize\n",
    "\n",
    "ax =fig.gca()\n",
    "ax.xaxis.set_major_locator(MaxNLocator(integer=True))\n",
    "plt.savefig(SAVE_PATH + 'Pk'+VERSION+'.png',dpi=300)\n",
    "plt.show()"
   ]
  },
  {
   "cell_type": "code",
   "execution_count": 341,
   "id": "f8668d59",
   "metadata": {},
   "outputs": [],
   "source": [
    "VERSION=\"all\""
   ]
  },
  {
   "cell_type": "code",
   "execution_count": 342,
   "id": "14a0575b",
   "metadata": {},
   "outputs": [
    {
     "data": {
      "image/png": "[encoded data removed]",
      "text/plain": [
       "<Figure size 720x576 with 1 Axes>"
      ]
     },
     "metadata": {},
     "output_type": "display_data"
    }
   ],
   "source": [
    "import numpy as np\n",
    "import matplotlib.pyplot as plt\n",
    "from matplotlib.ticker import MaxNLocator\n",
    "\n",
    "from matplotlib.pyplot import figure\n",
    "\n",
    "fig = plt.figure(figsize=(10,8))\n",
    "#model val\n",
    "a = all_pk_p_ft\n",
    "#non-model val\n",
    "b = all_pk_p_tr\n",
    "\n",
    "c = all_pk_m_ft\n",
    "\n",
    "d = all_pk_m_tr\n",
    "\n",
    "plt.errorbar(x, d , yerr=yerr, uplims=False, lolims=False,\n",
    "             label='SBERT + WRS', c='c', marker=\"*\",ms=11, ls = \"--\")\n",
    "\n",
    "\n",
    "plt.errorbar(x, c , yerr=yerr, uplims=False, lolims=False,\n",
    "             label='Fasttext + WRS', c='m', marker=\"*\",ms=11, ls = \"--\")\n",
    "\n",
    "x=list(range(1,MAX_K))\n",
    "\n",
    "yerr = np.linspace(0.0, 0.0, len(x)) #any value will do\n",
    "\n",
    "plt.errorbar(x, a , yerr=yerr, uplims=False, lolims=False,\n",
    "             label='Fasttext', c='b', marker=\"d\", ls = \"--\")\n",
    "\n",
    "plt.errorbar(x, b , yerr=yerr, uplims=False, marker= \"d\",c=\"g\",ls = \"--\",lolims=False,\n",
    "             label=\"SBERT\")\n",
    "ax = plt.gca()\n",
    "#ax.set_xlim([xmin, xmax])\n",
    "\n",
    "plt.xlabel('k', fontsize=16)\n",
    "plt.ylabel('P@k', fontsize=16)\n",
    "plt.legend(loc='best')\n",
    "plt.setp(plt.gca().get_legend().get_texts(), fontsize='15') #legend 'list' fontsize\n",
    "\n",
    "ax =fig.gca()\n",
    "ax.xaxis.set_major_locator(MaxNLocator(integer=True))\n",
    "plt.savefig(SAVE_PATH + 'Pk'+VERSION+'.png',dpi=300)\n",
    "plt.show()"
   ]
  },
  {
   "cell_type": "markdown",
   "id": "07cffdce",
   "metadata": {},
   "source": [
    "## tablice"
   ]
  },
  {
   "cell_type": "code",
   "execution_count": 263,
   "id": "170fd02a",
   "metadata": {},
   "outputs": [],
   "source": [
    "ks=[1,2,3,4,5,6,7,8,9,10,50,100]"
   ]
  },
  {
   "cell_type": "code",
   "execution_count": 264,
   "id": "f93a6a16",
   "metadata": {},
   "outputs": [],
   "source": [
    "all_pk_m_ft,all_pk_m_ft=[],[]\n",
    "\n",
    "for k in ks:\n",
    "    users_res=[]\n",
    "    for ur in user_ranks_m_ft:\n",
    "        num_relevant=len([r for r in ur if r < k])\n",
    "        users_res.append(num_relevant/np.min([k,len(ur)])) \n",
    "\n",
    "\n",
    "    #print(\"P@k; k=\",k)\n",
    "    #print(\"model-mean for all users:\", np.mean(users_res) )\n",
    "    all_pk_m_ft.append(np.mean(users_res))\n",
    "\n",
    "    users_res=[]\n",
    "    for ur in user_ranks_p_ft:\n",
    "        num_relevant=len([r for r in ur if r < k])\n",
    "        users_res.append(num_relevant/np.min([k,len(ur)]))\n",
    "    #print(\"non-model-mean for all users:\", np.mean(users_res) )\n",
    "    all_pk_p_ft.append(np.mean(users_res)) \n",
    "    \n",
    "    "
   ]
  },
  {
   "cell_type": "code",
   "execution_count": 265,
   "id": "fd089f3a",
   "metadata": {},
   "outputs": [],
   "source": [
    "all_pk_m_diff = [i - j for i, j in zip(all_pk_m_ft, all_pk_p_ft)]"
   ]
  },
  {
   "cell_type": "code",
   "execution_count": 266,
   "id": "d7b26de2",
   "metadata": {},
   "outputs": [],
   "source": [
    "a=pd.DataFrame(data=zip(ks,all_pk_p_ft,all_pk_m_ft, all_pk_m_diff),columns=['k','Fasttext P@k *','Fasttext + WRS P@k *', \"delta *\"])"
   ]
  },
  {
   "cell_type": "code",
   "execution_count": 267,
   "id": "259a6fbf",
   "metadata": {},
   "outputs": [],
   "source": [
    "all_pk_m_tr,all_pk_m_tr=[],[]\n",
    "\n",
    "for k in ks:\n",
    "    users_res=[]\n",
    "    for ur in user_ranks_m_tr:\n",
    "        num_relevant=len([r for r in ur if r < k])\n",
    "        users_res.append(num_relevant/np.min([k,len(ur)])) \n",
    "\n",
    "\n",
    "    #print(\"P@k; k=\",k)\n",
    "    #print(\"model-mean for all users:\", np.mean(users_res) )\n",
    "    all_pk_m_tr.append(np.mean(users_res))\n",
    "\n",
    "    users_res=[]\n",
    "    for ur in user_ranks_p_tr:\n",
    "        num_relevant=len([r for r in ur if r < k])\n",
    "        users_res.append(num_relevant/np.min([k,len(ur)]))\n",
    "    #print(\"non-model-mean for all users:\", np.mean(users_res) )\n",
    "    all_pk_p_tr.append(np.mean(users_res)) \n",
    "    \n",
    "    "
   ]
  },
  {
   "cell_type": "code",
   "execution_count": 268,
   "id": "c81f2a01",
   "metadata": {},
   "outputs": [],
   "source": [
    "all_pk_m_diff = [i - j for i, j in zip(all_pk_m_tr, all_pk_p_tr)]"
   ]
  },
  {
   "cell_type": "code",
   "execution_count": 269,
   "id": "443ef691",
   "metadata": {},
   "outputs": [],
   "source": [
    "b=pd.DataFrame(data=zip(ks,all_pk_p_tr,all_pk_m_tr, all_pk_m_diff),columns=['k','SBERT P@k **','SBERT + WRS P@k **', \"delta **\"])"
   ]
  },
  {
   "cell_type": "code",
   "execution_count": 270,
   "id": "568ba805",
   "metadata": {},
   "outputs": [],
   "source": [
    "all_pk_m_diff = [i - j for i, j in zip(all_pk_m_ft, all_pk_p_tr)]"
   ]
  },
  {
   "cell_type": "code",
   "execution_count": 272,
   "id": "b5cc999d",
   "metadata": {},
   "outputs": [],
   "source": [
    "c=pd.DataFrame(data=zip(ks,all_pk_p_tr,all_pk_m_ft, all_pk_m_diff),columns=['k','SBERT P@k ***','Fasttext + WRS P@k ***', \"delta ***\"])"
   ]
  },
  {
   "cell_type": "code",
   "execution_count": 274,
   "id": "3f5d679f",
   "metadata": {},
   "outputs": [],
   "source": [
    "d=pd.merge(a, b, left_on='k', right_on='k')"
   ]
  },
  {
   "cell_type": "code",
   "execution_count": 276,
   "id": "421d8376",
   "metadata": {},
   "outputs": [],
   "source": [
    "e=pd.merge(d, c, left_on='k', right_on='k')"
   ]
  },
  {
   "cell_type": "code",
   "execution_count": 279,
   "id": "ab3ac165",
   "metadata": {},
   "outputs": [],
   "source": [
    "e=e.T"
   ]
  },
  {
   "cell_type": "code",
   "execution_count": 314,
   "id": "3d03dcd0",
   "metadata": {},
   "outputs": [
    {
     "data": {
      "text/html": [
       "<div>\n",
       "<style scoped>\n",
       "    .dataframe tbody tr th:only-of-type {\n",
       "        vertical-align: middle;\n",
       "    }\n",
       "\n",
       "    .dataframe tbody tr th {\n",
       "        vertical-align: top;\n",
       "    }\n",
       "\n",
       "    .dataframe thead th {\n",
       "        text-align: right;\n",
       "    }\n",
       "</style>\n",
       "<table border=\"1\" class=\"dataframe\">\n",
       "  <thead>\n",
       "    <tr style=\"text-align: right;\">\n",
       "      <th></th>\n",
       "      <th>0</th>\n",
       "      <th>1</th>\n",
       "      <th>2</th>\n",
       "      <th>3</th>\n",
       "      <th>4</th>\n",
       "      <th>5</th>\n",
       "      <th>6</th>\n",
       "      <th>7</th>\n",
       "      <th>8</th>\n",
       "      <th>9</th>\n",
       "      <th>10</th>\n",
       "      <th>11</th>\n",
       "    </tr>\n",
       "  </thead>\n",
       "  <tbody>\n",
       "    <tr>\n",
       "      <th>k</th>\n",
       "      <td>1.000000</td>\n",
       "      <td>2.000000</td>\n",
       "      <td>3.000000</td>\n",
       "      <td>4.000000</td>\n",
       "      <td>5.000000</td>\n",
       "      <td>6.000000</td>\n",
       "      <td>7.000000</td>\n",
       "      <td>8.000000</td>\n",
       "      <td>9.000000</td>\n",
       "      <td>10.000000</td>\n",
       "      <td>50.000000</td>\n",
       "      <td>100.000000</td>\n",
       "    </tr>\n",
       "    <tr>\n",
       "      <th>Fasttext P@k *</th>\n",
       "      <td>0.637975</td>\n",
       "      <td>0.578481</td>\n",
       "      <td>0.545148</td>\n",
       "      <td>0.530591</td>\n",
       "      <td>0.526287</td>\n",
       "      <td>0.535907</td>\n",
       "      <td>0.542218</td>\n",
       "      <td>0.543541</td>\n",
       "      <td>0.552794</td>\n",
       "      <td>0.556176</td>\n",
       "      <td>0.686761</td>\n",
       "      <td>0.774583</td>\n",
       "    </tr>\n",
       "    <tr>\n",
       "      <th>Fasttext + WRS P@k *</th>\n",
       "      <td>0.724051</td>\n",
       "      <td>0.672152</td>\n",
       "      <td>0.631646</td>\n",
       "      <td>0.626582</td>\n",
       "      <td>0.636034</td>\n",
       "      <td>0.650169</td>\n",
       "      <td>0.665799</td>\n",
       "      <td>0.674210</td>\n",
       "      <td>0.689761</td>\n",
       "      <td>0.702709</td>\n",
       "      <td>0.859541</td>\n",
       "      <td>0.919117</td>\n",
       "    </tr>\n",
       "    <tr>\n",
       "      <th>delta *</th>\n",
       "      <td>0.086076</td>\n",
       "      <td>0.093671</td>\n",
       "      <td>0.086498</td>\n",
       "      <td>0.095992</td>\n",
       "      <td>0.109747</td>\n",
       "      <td>0.114262</td>\n",
       "      <td>0.123580</td>\n",
       "      <td>0.130669</td>\n",
       "      <td>0.136967</td>\n",
       "      <td>0.146533</td>\n",
       "      <td>0.172780</td>\n",
       "      <td>0.144533</td>\n",
       "    </tr>\n",
       "    <tr>\n",
       "      <th>SBERT P@k **</th>\n",
       "      <td>0.706329</td>\n",
       "      <td>0.670886</td>\n",
       "      <td>0.642616</td>\n",
       "      <td>0.631857</td>\n",
       "      <td>0.628650</td>\n",
       "      <td>0.634008</td>\n",
       "      <td>0.639566</td>\n",
       "      <td>0.647592</td>\n",
       "      <td>0.654931</td>\n",
       "      <td>0.660471</td>\n",
       "      <td>0.706329</td>\n",
       "      <td>0.670886</td>\n",
       "    </tr>\n",
       "    <tr>\n",
       "      <th>SBERT + WRS P@k **</th>\n",
       "      <td>0.729114</td>\n",
       "      <td>0.701266</td>\n",
       "      <td>0.663713</td>\n",
       "      <td>0.658650</td>\n",
       "      <td>0.659325</td>\n",
       "      <td>0.674979</td>\n",
       "      <td>0.690410</td>\n",
       "      <td>0.701193</td>\n",
       "      <td>0.715065</td>\n",
       "      <td>0.725727</td>\n",
       "      <td>0.888212</td>\n",
       "      <td>0.934501</td>\n",
       "    </tr>\n",
       "    <tr>\n",
       "      <th>delta **</th>\n",
       "      <td>0.022785</td>\n",
       "      <td>0.030380</td>\n",
       "      <td>0.021097</td>\n",
       "      <td>0.026793</td>\n",
       "      <td>0.030675</td>\n",
       "      <td>0.040970</td>\n",
       "      <td>0.050844</td>\n",
       "      <td>0.053602</td>\n",
       "      <td>0.060135</td>\n",
       "      <td>0.065256</td>\n",
       "      <td>0.181883</td>\n",
       "      <td>0.263615</td>\n",
       "    </tr>\n",
       "    <tr>\n",
       "      <th>SBERT P@k ***</th>\n",
       "      <td>0.706329</td>\n",
       "      <td>0.670886</td>\n",
       "      <td>0.642616</td>\n",
       "      <td>0.631857</td>\n",
       "      <td>0.628650</td>\n",
       "      <td>0.634008</td>\n",
       "      <td>0.639566</td>\n",
       "      <td>0.647592</td>\n",
       "      <td>0.654931</td>\n",
       "      <td>0.660471</td>\n",
       "      <td>0.706329</td>\n",
       "      <td>0.670886</td>\n",
       "    </tr>\n",
       "    <tr>\n",
       "      <th>Fasttext + WRS P@k ***</th>\n",
       "      <td>0.724051</td>\n",
       "      <td>0.672152</td>\n",
       "      <td>0.631646</td>\n",
       "      <td>0.626582</td>\n",
       "      <td>0.636034</td>\n",
       "      <td>0.650169</td>\n",
       "      <td>0.665799</td>\n",
       "      <td>0.674210</td>\n",
       "      <td>0.689761</td>\n",
       "      <td>0.702709</td>\n",
       "      <td>0.859541</td>\n",
       "      <td>0.919117</td>\n",
       "    </tr>\n",
       "    <tr>\n",
       "      <th>delta ***</th>\n",
       "      <td>0.017722</td>\n",
       "      <td>0.001266</td>\n",
       "      <td>-0.010970</td>\n",
       "      <td>-0.005274</td>\n",
       "      <td>0.007384</td>\n",
       "      <td>0.016160</td>\n",
       "      <td>0.026233</td>\n",
       "      <td>0.026618</td>\n",
       "      <td>0.034830</td>\n",
       "      <td>0.042238</td>\n",
       "      <td>0.153212</td>\n",
       "      <td>0.248231</td>\n",
       "    </tr>\n",
       "  </tbody>\n",
       "</table>\n",
       "</div>"
      ],
      "text/plain": [
       "                              0         1         2         3         4   \\\n",
       "k                       1.000000  2.000000  3.000000  4.000000  5.000000   \n",
       "Fasttext P@k *          0.637975  0.578481  0.545148  0.530591  0.526287   \n",
       "Fasttext + WRS P@k *    0.724051  0.672152  0.631646  0.626582  0.636034   \n",
       "delta *                 0.086076  0.093671  0.086498  0.095992  0.109747   \n",
       "SBERT P@k **            0.706329  0.670886  0.642616  0.631857  0.628650   \n",
       "SBERT + WRS P@k **      0.729114  0.701266  0.663713  0.658650  0.659325   \n",
       "delta **                0.022785  0.030380  0.021097  0.026793  0.030675   \n",
       "SBERT P@k ***           0.706329  0.670886  0.642616  0.631857  0.628650   \n",
       "Fasttext + WRS P@k ***  0.724051  0.672152  0.631646  0.626582  0.636034   \n",
       "delta ***               0.017722  0.001266 -0.010970 -0.005274  0.007384   \n",
       "\n",
       "                              5         6         7         8          9   \\\n",
       "k                       6.000000  7.000000  8.000000  9.000000  10.000000   \n",
       "Fasttext P@k *          0.535907  0.542218  0.543541  0.552794   0.556176   \n",
       "Fasttext + WRS P@k *    0.650169  0.665799  0.674210  0.689761   0.702709   \n",
       "delta *                 0.114262  0.123580  0.130669  0.136967   0.146533   \n",
       "SBERT P@k **            0.634008  0.639566  0.647592  0.654931   0.660471   \n",
       "SBERT + WRS P@k **      0.674979  0.690410  0.701193  0.715065   0.725727   \n",
       "delta **                0.040970  0.050844  0.053602  0.060135   0.065256   \n",
       "SBERT P@k ***           0.634008  0.639566  0.647592  0.654931   0.660471   \n",
       "Fasttext + WRS P@k ***  0.650169  0.665799  0.674210  0.689761   0.702709   \n",
       "delta ***               0.016160  0.026233  0.026618  0.034830   0.042238   \n",
       "\n",
       "                               10          11  \n",
       "k                       50.000000  100.000000  \n",
       "Fasttext P@k *           0.686761    0.774583  \n",
       "Fasttext + WRS P@k *     0.859541    0.919117  \n",
       "delta *                  0.172780    0.144533  \n",
       "SBERT P@k **             0.706329    0.670886  \n",
       "SBERT + WRS P@k **       0.888212    0.934501  \n",
       "delta **                 0.181883    0.263615  \n",
       "SBERT P@k ***            0.706329    0.670886  \n",
       "Fasttext + WRS P@k ***   0.859541    0.919117  \n",
       "delta ***                0.153212    0.248231  "
      ]
     },
     "execution_count": 314,
     "metadata": {},
     "output_type": "execute_result"
    }
   ],
   "source": [
    "e"
   ]
  },
  {
   "cell_type": "code",
   "execution_count": 280,
   "id": "c458542b",
   "metadata": {},
   "outputs": [],
   "source": [
    "e.to_excel(SAVE_PATH+\"patk1.xlsx\") "
   ]
  },
  {
   "cell_type": "markdown",
   "id": "69b401b5",
   "metadata": {},
   "source": [
    "## modificirani nDCG Fasttext"
   ]
  },
  {
   "cell_type": "code",
   "execution_count": 332,
   "id": "0d430d46",
   "metadata": {},
   "outputs": [],
   "source": [
    "all_ndcg_m_ft=[]\n",
    "for ur in user_ranks_m_ft:\n",
    "    dcg=np.sum([1/np.log2(r+2) for r in ur]) #1 relevant 0 otherwise\n",
    "    idcg= np.sum([1/np.log2(r+2) for r in range(len(ur))])  #ideal dcg, ranks start at 0 -> +1\n",
    "    ndcg=dcg/idcg\n",
    "    users_res.append(ndcg)\n",
    "\n",
    "#print(\"\\nnDCG:\")\n",
    "#print(\"model-mean for all users:\", np.mean(users_res) )\n",
    "\n",
    "all_ndcg_p_ft=[]\n",
    "for ur in user_ranks_p_ft:\n",
    "    dcg=np.sum([1/np.log2(r+2) for r in ur]) #1 relevant 0 otherwise\n",
    "    idcg= np.sum([1/np.log2(r+2) for r in range(0,len(ur))])  #ideal dcg\n",
    "    ndcg=dcg/idcg\n",
    "    users_res.append(ndcg)\n",
    "\n",
    "#print(\"non-model-mean for all users:\", np.mean(users_res) )"
   ]
  },
  {
   "cell_type": "code",
   "execution_count": 333,
   "id": "ed4def7a",
   "metadata": {},
   "outputs": [
    {
     "name": "stdout",
     "output_type": "stream",
     "text": [
      "395\n"
     ]
    }
   ],
   "source": [
    "print(len(set(ids_lab_df['userID'])))"
   ]
  },
  {
   "cell_type": "code",
   "execution_count": 334,
   "id": "7ce31fd5",
   "metadata": {},
   "outputs": [],
   "source": [
    "K_MAX=11\n",
    "\n",
    "users_res_m_ft=dict()\n",
    "for k in range(1, K_MAX):\n",
    "    users_res_m_ft[k]=list() \n",
    "\n",
    "for k in range(1,K_MAX):\n",
    "    for ur in user_ranks_m_ft:\n",
    "        M=np.min([k,len(ur)])\n",
    "        dcg=np.sum([1/np.log2(r+2) for r in ur if r < k]) #1 relevant 0 otherwise \n",
    "        idcg= np.sum([1/np.log2(r+2) for r in range(M)])  #ideal dcg, ranks start at 0 -> +1\n",
    "        ndcg=dcg/idcg\n",
    "        users_res_m_ft[k].append(ndcg)\n",
    "                         \n",
    "#mean for each k\n",
    "for k,v in users_res_m_ft.items():\n",
    "    users_res_m_ft[k]=np.mean(v)"
   ]
  },
  {
   "cell_type": "code",
   "execution_count": 335,
   "id": "9a8b3296",
   "metadata": {},
   "outputs": [],
   "source": [
    "users_res_p_ft=dict()\n",
    "\n",
    "for k in range(1, K_MAX):\n",
    "    users_res_p_ft[k]=list() \n",
    "\n",
    "for k in range(1,K_MAX):#1..10\n",
    "    for ur in user_ranks_p_ft:\n",
    "        M=np.min([k,len(ur)]) \n",
    "        dcg=np.sum([1/np.log2(r+2) for r in ur if r < k]) #1 relevant 0 otherwise \n",
    "        idcg= np.sum([1/np.log2(r+2) for r in range(M)])  #ideal dcg, ranks start at 0 -> +1\n",
    "        ndcg=dcg/idcg\n",
    "        users_res_p_ft[k].append(ndcg)\n",
    "\n",
    "#mean for each k\n",
    "for k,v in users_res_p_ft.items():\n",
    "    users_res_p_ft[k]=np.mean(v)"
   ]
  },
  {
   "cell_type": "code",
   "execution_count": 231,
   "id": "c7c4cabe",
   "metadata": {},
   "outputs": [
    {
     "name": "stdout",
     "output_type": "stream",
     "text": [
      ">>>>>>>>>>>> delta rank 1=  0.08607594936708862\n"
     ]
    }
   ],
   "source": [
    "print(\">>>>>>>>>>>> delta rank 1= \",users_res_m_ft[1]-users_res_p_ft[1])"
   ]
  },
  {
   "cell_type": "code",
   "execution_count": 232,
   "id": "a1064f6b",
   "metadata": {},
   "outputs": [],
   "source": [
    "VERSION = \"_fw1_\""
   ]
  },
  {
   "cell_type": "code",
   "execution_count": 233,
   "id": "4c396a44",
   "metadata": {},
   "outputs": [
    {
     "data": {
      "image/png": "[encoded data removed]",
      "text/plain": [
       "<Figure size 720x576 with 1 Axes>"
      ]
     },
     "metadata": {},
     "output_type": "display_data"
    }
   ],
   "source": [
    "import numpy as np\n",
    "import matplotlib.pyplot as plt\n",
    "from matplotlib.ticker import MaxNLocator\n",
    "\n",
    "from matplotlib.pyplot import figure\n",
    "\n",
    "\n",
    "\n",
    "fig = plt.figure(figsize=(10,8))\n",
    "#model val\n",
    "y_m = [v for k,v in users_res_m_ft.items()]\n",
    "#non-model val\n",
    "y_p = [v for k,v in users_res_p_ft.items()]\n",
    "\n",
    "x=list(range(1,K_MAX))\n",
    "\n",
    "yerr = np.linspace(0.0, 0.0, len(x)) #any value will do\n",
    "\n",
    "plt.errorbar(x, y_m , yerr=yerr, uplims=False, lolims=False,\n",
    "             label='Fasttext + WRS', c='m', marker=\"*\",ms=11)\n",
    "\n",
    "plt.errorbar(x, y_p , yerr=yerr, uplims=False, marker= \"d\",lolims=False,\n",
    "             label=\"Fasttext\",c='b')\n",
    "\n",
    "plt.xlabel('k', fontsize=16)\n",
    "plt.ylabel('nDCG@k', fontsize=16)\n",
    "plt.legend(loc='best')\n",
    "plt.setp(plt.gca().get_legend().get_texts(), fontsize='15') #legend 'list' fontsize\n",
    "\n",
    "ax =fig.gca()\n",
    "ax.xaxis.set_major_locator(MaxNLocator(integer=True))\n",
    "plt.savefig(SAVE_PATH + 'ndcg'+VERSION+'.png')\n",
    "plt.show()\n"
   ]
  },
  {
   "cell_type": "markdown",
   "id": "fb7bf4d8",
   "metadata": {},
   "source": [
    "## SBERT "
   ]
  },
  {
   "cell_type": "code",
   "execution_count": 234,
   "id": "cc281cd4",
   "metadata": {},
   "outputs": [],
   "source": [
    "VERSION = \"_sw1_\""
   ]
  },
  {
   "cell_type": "code",
   "execution_count": 325,
   "id": "0d430d46",
   "metadata": {},
   "outputs": [],
   "source": [
    "all_ndcg_m_tr=[]\n",
    "for ur in user_ranks_m_tr:\n",
    "    dcg=np.sum([1/np.log2(r+2) for r in ur]) #1 relevant 0 otherwise\n",
    "    idcg= np.sum([1/np.log2(r+2) for r in range(len(ur))])  #ideal dcg, ranks start at 0 -> +1\n",
    "    ndcg=dcg/idcg\n",
    "    users_res.append(ndcg)\n",
    "\n",
    "#print(\"\\nnDCG:\")\n",
    "#print(\"model-mean for all users:\", np.mean(users_res) )\n",
    "\n",
    "all_ndcg_p_tr=[]\n",
    "for ur in user_ranks_p_tr:\n",
    "    dcg=np.sum([1/np.log2(r+2) for r in ur]) #1 relevant 0 otherwise\n",
    "    idcg= np.sum([1/np.log2(r+2) for r in range(0,len(ur))])  #ideal dcg\n",
    "    ndcg=dcg/idcg\n",
    "    users_res.append(ndcg)\n",
    "\n",
    "#print(\"non-model-mean for all users:\", np.mean(users_res) )"
   ]
  },
  {
   "cell_type": "code",
   "execution_count": 236,
   "id": "ed4def7a",
   "metadata": {},
   "outputs": [
    {
     "name": "stdout",
     "output_type": "stream",
     "text": [
      "395\n"
     ]
    }
   ],
   "source": [
    "print(len(set(ids_lab_df['userID'])))"
   ]
  },
  {
   "cell_type": "code",
   "execution_count": 326,
   "id": "7ce31fd5",
   "metadata": {},
   "outputs": [],
   "source": [
    "K_MAX=11\n",
    "\n",
    "users_res_m_tr=dict()\n",
    "for k in range(1, K_MAX):\n",
    "    users_res_m_tr[k]=list() \n",
    "\n",
    "for k in range(1,K_MAX): #za svaki k\n",
    "    for ur in user_ranks_m_tr:  #za svakog korisnika\n",
    "        M=np.min([k,len(ur)])\n",
    "        dcg=np.sum([1/np.log2(r+2) for r in ur if r < k]) #1 relevant 0 otherwise \n",
    "        idcg= np.sum([1/np.log2(r+2) for r in range(M)])  #ideal dcg, ranks start at 0 -> +1\n",
    "        ndcg=dcg/idcg\n",
    "        users_res_m_tr[k].append(ndcg) #dodaj ndcg\n",
    "                         \n",
    "#mean for each k\n",
    "for k,v in users_res_m_tr.items():\n",
    "    users_res_m_tr[k]=np.mean(v)"
   ]
  },
  {
   "cell_type": "code",
   "execution_count": 327,
   "id": "9a8b3296",
   "metadata": {},
   "outputs": [],
   "source": [
    "users_res_p_tr=dict()\n",
    "\n",
    "for k in range(1, K_MAX):\n",
    "    users_res_p_tr[k]=list() \n",
    "\n",
    "for k in range(1,K_MAX):#1..10\n",
    "    for ur in user_ranks_p_tr:\n",
    "        M=np.min([k,len(ur)]) \n",
    "        dcg=np.sum([1/np.log2(r+2) for r in ur if r < k]) #1 relevant 0 otherwise \n",
    "        idcg= np.sum([1/np.log2(r+2) for r in range(M)])  #ideal dcg, ranks start at 0 -> +1\n",
    "        ndcg=dcg/idcg\n",
    "        users_res_p_tr[k].append(ndcg)\n",
    "\n",
    "#mean for each k\n",
    "for k,v in users_res_p_tr.items():\n",
    "    users_res_p_tr[k]=np.mean(v)"
   ]
  },
  {
   "cell_type": "code",
   "execution_count": 239,
   "id": "c7c4cabe",
   "metadata": {},
   "outputs": [
    {
     "name": "stdout",
     "output_type": "stream",
     "text": [
      ">>>>>>>>>>>> delta rank 1=  0.02278481012658229\n"
     ]
    }
   ],
   "source": [
    "print(\">>>>>>>>>>>> delta rank 1= \",users_res_m_tr[1]-users_res_p_tr[1])"
   ]
  },
  {
   "cell_type": "code",
   "execution_count": 241,
   "id": "4c396a44",
   "metadata": {},
   "outputs": [
    {
     "data": {
      "image/png": "[encoded data removed]",
      "text/plain": [
       "<Figure size 720x576 with 1 Axes>"
      ]
     },
     "metadata": {},
     "output_type": "display_data"
    }
   ],
   "source": [
    "import numpy as np\n",
    "import matplotlib.pyplot as plt\n",
    "from matplotlib.ticker import MaxNLocator\n",
    "\n",
    "from matplotlib.pyplot import figure\n",
    "\n",
    "\n",
    "\n",
    "fig = plt.figure(figsize=(10,8))\n",
    "#model val\n",
    "y_m = [v for k,v in users_res_m_tr.items()]\n",
    "#non-model val\n",
    "y_p = [v for k,v in users_res_p_tr.items()]\n",
    "\n",
    "x=list(range(1,K_MAX))\n",
    "\n",
    "yerr = np.linspace(0.0, 0.0, len(x)) #any value will do\n",
    "\n",
    "plt.errorbar(x, y_m , yerr=yerr, uplims=False, lolims=False,\n",
    "             label='SBERT + WRS', c='c', marker=\"*\",ms=11)\n",
    "\n",
    "plt.errorbar(x, y_p , yerr=yerr, uplims=False, marker= \"d\",lolims=False,\n",
    "             label=\"SBERT\",c='g')\n",
    "\n",
    "plt.xlabel('k', fontsize=16)\n",
    "plt.ylabel('nDCG@k', fontsize=16)\n",
    "plt.legend(loc='best')\n",
    "plt.setp(plt.gca().get_legend().get_texts(), fontsize='15') #legend 'list' fontsize\n",
    "\n",
    "ax =fig.gca()\n",
    "ax.xaxis.set_major_locator(MaxNLocator(integer=True))\n",
    "plt.savefig(SAVE_PATH + 'ndcg'+VERSION+'.png')\n",
    "plt.show()\n"
   ]
  },
  {
   "cell_type": "code",
   "execution_count": 242,
   "id": "74e8b3f6",
   "metadata": {},
   "outputs": [],
   "source": [
    "VERSION = \"_fw_s1_\""
   ]
  },
  {
   "cell_type": "code",
   "execution_count": 243,
   "id": "98cf48d8",
   "metadata": {},
   "outputs": [
    {
     "data": {
      "image/png": "[encoded data removed]",
      "text/plain": [
       "<Figure size 720x576 with 1 Axes>"
      ]
     },
     "metadata": {},
     "output_type": "display_data"
    }
   ],
   "source": [
    "import numpy as np\n",
    "import matplotlib.pyplot as plt\n",
    "from matplotlib.ticker import MaxNLocator\n",
    "\n",
    "from matplotlib.pyplot import figure\n",
    "\n",
    "\n",
    "\n",
    "fig = plt.figure(figsize=(10,8))\n",
    "#model val\n",
    "y_m = [v for k,v in users_res_m_ft.items()]\n",
    "#non-model val\n",
    "y_p = [v for k,v in users_res_p_tr.items()]\n",
    "\n",
    "x=list(range(1,K_MAX))\n",
    "\n",
    "yerr = np.linspace(0.0, 0.0, len(x)) #any value will do\n",
    "\n",
    "plt.errorbar(x, y_m , yerr=yerr, uplims=False, lolims=False,\n",
    "             label='SBERT + WRS', c='m', marker=\"*\",ms=11)\n",
    "\n",
    "plt.errorbar(x, y_p , yerr=yerr, uplims=False, marker= \"d\",lolims=False,\n",
    "             label=\"SBERT\",c='g')\n",
    "\n",
    "plt.xlabel('k', fontsize=16)\n",
    "plt.ylabel('nDCG@k', fontsize=16)\n",
    "plt.legend(loc='best')\n",
    "plt.setp(plt.gca().get_legend().get_texts(), fontsize='15') #legend 'list' fontsize\n",
    "\n",
    "ax =fig.gca()\n",
    "ax.xaxis.set_major_locator(MaxNLocator(integer=True))\n",
    "plt.savefig(SAVE_PATH + 'ndcg'+VERSION+'.png')\n",
    "plt.show()\n"
   ]
  },
  {
   "cell_type": "markdown",
   "id": "afc7ba4b",
   "metadata": {},
   "source": [
    "## "
   ]
  },
  {
   "cell_type": "code",
   "execution_count": 244,
   "id": "6d949539",
   "metadata": {},
   "outputs": [],
   "source": [
    "VERSION = \"_fs1_\""
   ]
  },
  {
   "cell_type": "code",
   "execution_count": 245,
   "id": "044ba181",
   "metadata": {},
   "outputs": [
    {
     "data": {
      "image/png": "[encoded data removed]",
      "text/plain": [
       "<Figure size 720x576 with 1 Axes>"
      ]
     },
     "metadata": {},
     "output_type": "display_data"
    }
   ],
   "source": [
    "import numpy as np\n",
    "import matplotlib.pyplot as plt\n",
    "from matplotlib.ticker import MaxNLocator\n",
    "\n",
    "from matplotlib.pyplot import figure\n",
    "\n",
    "\n",
    "\n",
    "fig = plt.figure(figsize=(10,8))\n",
    "#model val\n",
    "y_m = [v for k,v in users_res_p_ft.items()]\n",
    "#non-model val\n",
    "y_p = [v for k,v in users_res_p_tr.items()]\n",
    "\n",
    "x=list(range(1,K_MAX))\n",
    "\n",
    "yerr = np.linspace(0.0, 0.0, len(x)) #any value will do\n",
    "\n",
    "plt.errorbar(x, y_m , yerr=yerr, uplims=False, lolims=False,\n",
    "             label='Fasttext', c='b', marker=\"d\",ms=11)\n",
    "\n",
    "plt.errorbar(x, y_p , yerr=yerr, uplims=False, marker= \"d\",lolims=False,\n",
    "             label=\"SBERT\",c='g')\n",
    "\n",
    "plt.xlabel('k', fontsize=16)\n",
    "plt.ylabel('nDCG@k', fontsize=16)\n",
    "plt.legend(loc='best')\n",
    "plt.setp(plt.gca().get_legend().get_texts(), fontsize='15') #legend 'list' fontsize\n",
    "\n",
    "ax =fig.gca()\n",
    "ax.xaxis.set_major_locator(MaxNLocator(integer=True))\n",
    "plt.savefig(SAVE_PATH + 'ndcg'+VERSION+'.png')\n",
    "plt.show()\n"
   ]
  },
  {
   "cell_type": "code",
   "execution_count": 336,
   "id": "91400265",
   "metadata": {},
   "outputs": [],
   "source": [
    "VERSION=\"_all_\""
   ]
  },
  {
   "cell_type": "code",
   "execution_count": 337,
   "id": "8d9469b9",
   "metadata": {},
   "outputs": [
    {
     "data": {
      "image/png": "[encoded data removed]",
      "text/plain": [
       "<Figure size 720x576 with 1 Axes>"
      ]
     },
     "metadata": {},
     "output_type": "display_data"
    }
   ],
   "source": [
    "import numpy as np\n",
    "import matplotlib.pyplot as plt\n",
    "from matplotlib.ticker import MaxNLocator\n",
    "\n",
    "from matplotlib.pyplot import figure\n",
    "\n",
    "x=list(range(1,K_MAX))\n",
    "yerr = np.linspace(0.0, 0.0, len(x)) #any value will do\n",
    "\n",
    "\n",
    "fig = plt.figure(figsize=(10,8))\n",
    "#model val\n",
    "a = [v for k,v in users_res_p_ft.items()]\n",
    "#non-model val\n",
    "b = [v for k,v in users_res_p_tr.items()]\n",
    "\n",
    "c = [v for k,v in users_res_m_tr.items()]\n",
    "\n",
    "\n",
    "d = [v for k,v in users_res_m_ft.items()]\n",
    "\n",
    "plt.errorbar(x, d , yerr=yerr, uplims=False, lolims=False,\n",
    "             label='Fasttext + WRS', c='m', marker=\"*\",ms=11)\n",
    "\n",
    "plt.errorbar(x, c , yerr=yerr, uplims=False, lolims=False,\n",
    "           label='SBERT + WRS', c='c', marker=\"*\",ms=11)\n",
    "\n",
    "\n",
    "plt.errorbar(x, a , yerr=yerr, uplims=False, lolims=False,\n",
    "             label='Fasttext', c='b', marker=\"d\",ms=11)\n",
    "\n",
    "plt.errorbar(x, b , yerr=yerr, uplims=False, marker= \"d\",lolims=False,\n",
    "             label=\"SBERT\",c='g')\n",
    "\n",
    "plt.xlabel('k', fontsize=16)\n",
    "plt.ylabel('nDCG@k', fontsize=16)\n",
    "plt.legend(loc='best')\n",
    "plt.setp(plt.gca().get_legend().get_texts(), fontsize='15') #legend 'list' fontsize\n",
    "\n",
    "ax =fig.gca()\n",
    "ax.xaxis.set_major_locator(MaxNLocator(integer=True))\n",
    "plt.savefig(SAVE_PATH + 'ndcg'+VERSION+'.png')\n",
    "plt.show()\n"
   ]
  },
  {
   "cell_type": "markdown",
   "id": "a3ec5794",
   "metadata": {},
   "source": [
    "## tablice"
   ]
  },
  {
   "cell_type": "code",
   "execution_count": 294,
   "id": "3ba1eee2",
   "metadata": {},
   "outputs": [],
   "source": [
    "\n",
    "users_res_m_tr=dict()\n",
    "for k in ks:\n",
    "    users_res_m_tr[k]=list() \n",
    "    \n",
    "users_res_p_tr=dict()\n",
    "\n",
    "for k in ks:\n",
    "    users_res_p_tr[k]=list() \n",
    "\n",
    "\n",
    "for k in ks:\n",
    "    for ur in user_ranks_m_tr:  #za svakog korisnika\n",
    "        M=np.min([k,len(ur)])\n",
    "        dcg=np.sum([1/np.log2(r+2) for r in ur if r < k]) #1 relevant 0 otherwise \n",
    "        idcg= np.sum([1/np.log2(r+2) for r in range(M)])  #ideal dcg, ranks start at 0 -> +1\n",
    "        ndcg=dcg/idcg\n",
    "        users_res_m_tr[k].append(ndcg) #dodaj ndcg\n",
    "    for ur in user_ranks_p_tr:\n",
    "        M=np.min([k,len(ur)]) \n",
    "        dcg=np.sum([1/np.log2(r+2) for r in ur if r < k]) #1 relevant 0 otherwise \n",
    "        idcg= np.sum([1/np.log2(r+2) for r in range(M)])  #ideal dcg, ranks start at 0 -> +1\n",
    "        ndcg=dcg/idcg\n",
    "        users_res_p_tr[k].append(ndcg)\n",
    "                         \n",
    "#mean for each k\n",
    "for k,v in users_res_m_tr.items():\n",
    "    users_res_m_tr[k]=np.mean(v)\n",
    "#mean for each k\n",
    "for k,v in users_res_p_tr.items():\n",
    "    users_res_p_tr[k]=np.mean(v)"
   ]
  },
  {
   "cell_type": "code",
   "execution_count": 301,
   "id": "3cf672c0",
   "metadata": {},
   "outputs": [],
   "source": [
    "\n",
    "users_res_m_ft=dict()\n",
    "for k in ks:\n",
    "    users_res_m_ft[k]=list() \n",
    "    \n",
    "users_res_p_ft=dict()\n",
    "\n",
    "for k in ks:\n",
    "    users_res_p_ft[k]=list() \n",
    "\n",
    "\n",
    "for k in ks:\n",
    "    for ur in user_ranks_m_ft:  #za svakog korisnika\n",
    "        M=np.min([k,len(ur)])\n",
    "        dcg=np.sum([1/np.log2(r+2) for r in ur if r < k]) #1 relevant 0 otherwise \n",
    "        idcg= np.sum([1/np.log2(r+2) for r in range(M)])  #ideal dcg, ranks start at 0 -> +1\n",
    "        ndcg=dcg/idcg\n",
    "        users_res_m_ft[k].append(ndcg) #dodaj ndcg\n",
    "    for ur in user_ranks_p_ft:\n",
    "        M=np.min([k,len(ur)]) \n",
    "        dcg=np.sum([1/np.log2(r+2) for r in ur if r < k]) #1 relevant 0 otherwise \n",
    "        idcg= np.sum([1/np.log2(r+2) for r in range(M)])  #ideal dcg, ranks start at 0 -> +1\n",
    "        ndcg=dcg/idcg\n",
    "        users_res_p_ft[k].append(ndcg)\n",
    "                         \n",
    "#mean for each k\n",
    "for k,v in users_res_m_ft.items():\n",
    "    users_res_m_ft[k]=np.mean(v)\n",
    "#mean for each k\n",
    "for k,v in users_res_p_ft.items():\n",
    "    users_res_p_ft[k]=np.mean(v)"
   ]
  },
  {
   "cell_type": "code",
   "execution_count": 302,
   "id": "0d1fbac2",
   "metadata": {},
   "outputs": [],
   "source": [
    "ndcg_m_ft=users_res_m_ft.values()\n",
    "ndcg_p_ft=users_res_p_ft.values()\n",
    "\n",
    "ndcg_m_tr=users_res_m_tr.values()\n",
    "ndcg_p_tr=users_res_p_tr.values()"
   ]
  },
  {
   "cell_type": "code",
   "execution_count": 300,
   "id": "30c78bbc",
   "metadata": {},
   "outputs": [
    {
     "data": {
      "text/plain": [
       "dict_values([0.7291139240506329, 0.7075676917489623, 0.6796744947695167, 0.6737029082079314, 0.6716284058669058, 0.6787255067520251, 0.6854571889857395, 0.6898647086510961, 0.6958263087761449, 0.7003280609412582, 0.7599698492787438, 0.7767738462865719])"
      ]
     },
     "execution_count": 300,
     "metadata": {},
     "output_type": "execute_result"
    }
   ],
   "source": [
    "ndcg_m_ft"
   ]
  },
  {
   "cell_type": "code",
   "execution_count": 304,
   "id": "72738143",
   "metadata": {},
   "outputs": [],
   "source": [
    "all_ndcg_m_diff = [i - j for i, j in zip(ndcg_m_ft, ndcg_p_ft)]"
   ]
  },
  {
   "cell_type": "code",
   "execution_count": 309,
   "id": "d2f5f2b7",
   "metadata": {},
   "outputs": [],
   "source": [
    "a=pd.DataFrame(data=zip(ks,ndcg_p_ft,ndcg_m_ft, all_ndcg_m_diff),columns=['k','ndcg@k Fasttext *','Fasttext + WRS ndcg *', \"delta *\"])"
   ]
  },
  {
   "cell_type": "code",
   "execution_count": 310,
   "id": "7ce7d86e",
   "metadata": {},
   "outputs": [
    {
     "data": {
      "text/html": [
       "<div>\n",
       "<style scoped>\n",
       "    .dataframe tbody tr th:only-of-type {\n",
       "        vertical-align: middle;\n",
       "    }\n",
       "\n",
       "    .dataframe tbody tr th {\n",
       "        vertical-align: top;\n",
       "    }\n",
       "\n",
       "    .dataframe thead th {\n",
       "        text-align: right;\n",
       "    }\n",
       "</style>\n",
       "<table border=\"1\" class=\"dataframe\">\n",
       "  <thead>\n",
       "    <tr style=\"text-align: right;\">\n",
       "      <th></th>\n",
       "      <th>k</th>\n",
       "      <th>ndcg@k Fasttext *</th>\n",
       "      <th>Fasttext + WRS ndcg *</th>\n",
       "      <th>delta *</th>\n",
       "    </tr>\n",
       "  </thead>\n",
       "  <tbody>\n",
       "    <tr>\n",
       "      <th>0</th>\n",
       "      <td>1</td>\n",
       "      <td>0.637975</td>\n",
       "      <td>0.724051</td>\n",
       "      <td>0.086076</td>\n",
       "    </tr>\n",
       "    <tr>\n",
       "      <th>1</th>\n",
       "      <td>2</td>\n",
       "      <td>0.591944</td>\n",
       "      <td>0.683896</td>\n",
       "      <td>0.091952</td>\n",
       "    </tr>\n",
       "    <tr>\n",
       "      <th>2</th>\n",
       "      <td>3</td>\n",
       "      <td>0.565456</td>\n",
       "      <td>0.652560</td>\n",
       "      <td>0.087105</td>\n",
       "    </tr>\n",
       "    <tr>\n",
       "      <th>3</th>\n",
       "      <td>4</td>\n",
       "      <td>0.553014</td>\n",
       "      <td>0.645755</td>\n",
       "      <td>0.092741</td>\n",
       "    </tr>\n",
       "    <tr>\n",
       "      <th>4</th>\n",
       "      <td>5</td>\n",
       "      <td>0.547842</td>\n",
       "      <td>0.648613</td>\n",
       "      <td>0.100771</td>\n",
       "    </tr>\n",
       "    <tr>\n",
       "      <th>5</th>\n",
       "      <td>6</td>\n",
       "      <td>0.551338</td>\n",
       "      <td>0.654329</td>\n",
       "      <td>0.102991</td>\n",
       "    </tr>\n",
       "    <tr>\n",
       "      <th>6</th>\n",
       "      <td>7</td>\n",
       "      <td>0.552654</td>\n",
       "      <td>0.660544</td>\n",
       "      <td>0.107890</td>\n",
       "    </tr>\n",
       "    <tr>\n",
       "      <th>7</th>\n",
       "      <td>8</td>\n",
       "      <td>0.552063</td>\n",
       "      <td>0.663423</td>\n",
       "      <td>0.111360</td>\n",
       "    </tr>\n",
       "    <tr>\n",
       "      <th>8</th>\n",
       "      <td>9</td>\n",
       "      <td>0.555634</td>\n",
       "      <td>0.669896</td>\n",
       "      <td>0.114262</td>\n",
       "    </tr>\n",
       "    <tr>\n",
       "      <th>9</th>\n",
       "      <td>10</td>\n",
       "      <td>0.556097</td>\n",
       "      <td>0.675664</td>\n",
       "      <td>0.119567</td>\n",
       "    </tr>\n",
       "    <tr>\n",
       "      <th>10</th>\n",
       "      <td>50</td>\n",
       "      <td>0.595585</td>\n",
       "      <td>0.731128</td>\n",
       "      <td>0.135543</td>\n",
       "    </tr>\n",
       "    <tr>\n",
       "      <th>11</th>\n",
       "      <td>100</td>\n",
       "      <td>0.623943</td>\n",
       "      <td>0.751984</td>\n",
       "      <td>0.128041</td>\n",
       "    </tr>\n",
       "  </tbody>\n",
       "</table>\n",
       "</div>"
      ],
      "text/plain": [
       "      k  ndcg@k Fasttext *  Fasttext + WRS ndcg *   delta *\n",
       "0     1           0.637975               0.724051  0.086076\n",
       "1     2           0.591944               0.683896  0.091952\n",
       "2     3           0.565456               0.652560  0.087105\n",
       "3     4           0.553014               0.645755  0.092741\n",
       "4     5           0.547842               0.648613  0.100771\n",
       "5     6           0.551338               0.654329  0.102991\n",
       "6     7           0.552654               0.660544  0.107890\n",
       "7     8           0.552063               0.663423  0.111360\n",
       "8     9           0.555634               0.669896  0.114262\n",
       "9    10           0.556097               0.675664  0.119567\n",
       "10   50           0.595585               0.731128  0.135543\n",
       "11  100           0.623943               0.751984  0.128041"
      ]
     },
     "execution_count": 310,
     "metadata": {},
     "output_type": "execute_result"
    }
   ],
   "source": [
    "a"
   ]
  },
  {
   "cell_type": "code",
   "execution_count": 311,
   "id": "e978ecb2",
   "metadata": {},
   "outputs": [],
   "source": [
    "all_ndcg_m_diff = [i - j for i, j in zip(ndcg_m_tr, ndcg_p_tr)]"
   ]
  },
  {
   "cell_type": "code",
   "execution_count": 312,
   "id": "a21b25cc",
   "metadata": {},
   "outputs": [],
   "source": [
    "b=pd.DataFrame(data=zip(ks,ndcg_p_tr, ndcg_m_tr, all_ndcg_m_diff),columns=['k','ndcg@k SBERT **','SBERT + WRS ndcg **', \"delta **\"])"
   ]
  },
  {
   "cell_type": "code",
   "execution_count": 313,
   "id": "19335b67",
   "metadata": {},
   "outputs": [
    {
     "data": {
      "text/html": [
       "<div>\n",
       "<style scoped>\n",
       "    .dataframe tbody tr th:only-of-type {\n",
       "        vertical-align: middle;\n",
       "    }\n",
       "\n",
       "    .dataframe tbody tr th {\n",
       "        vertical-align: top;\n",
       "    }\n",
       "\n",
       "    .dataframe thead th {\n",
       "        text-align: right;\n",
       "    }\n",
       "</style>\n",
       "<table border=\"1\" class=\"dataframe\">\n",
       "  <thead>\n",
       "    <tr style=\"text-align: right;\">\n",
       "      <th></th>\n",
       "      <th>k</th>\n",
       "      <th>ndcg@k SBERT **</th>\n",
       "      <th>SBERT + WRS ndcg **</th>\n",
       "      <th>delta **</th>\n",
       "    </tr>\n",
       "  </thead>\n",
       "  <tbody>\n",
       "    <tr>\n",
       "      <th>0</th>\n",
       "      <td>1</td>\n",
       "      <td>0.706329</td>\n",
       "      <td>0.729114</td>\n",
       "      <td>0.022785</td>\n",
       "    </tr>\n",
       "    <tr>\n",
       "      <th>1</th>\n",
       "      <td>2</td>\n",
       "      <td>0.678907</td>\n",
       "      <td>0.707568</td>\n",
       "      <td>0.028661</td>\n",
       "    </tr>\n",
       "    <tr>\n",
       "      <th>2</th>\n",
       "      <td>3</td>\n",
       "      <td>0.657279</td>\n",
       "      <td>0.679674</td>\n",
       "      <td>0.022396</td>\n",
       "    </tr>\n",
       "    <tr>\n",
       "      <th>3</th>\n",
       "      <td>4</td>\n",
       "      <td>0.647641</td>\n",
       "      <td>0.673703</td>\n",
       "      <td>0.026062</td>\n",
       "    </tr>\n",
       "    <tr>\n",
       "      <th>4</th>\n",
       "      <td>5</td>\n",
       "      <td>0.642989</td>\n",
       "      <td>0.671628</td>\n",
       "      <td>0.028639</td>\n",
       "    </tr>\n",
       "    <tr>\n",
       "      <th>5</th>\n",
       "      <td>6</td>\n",
       "      <td>0.644312</td>\n",
       "      <td>0.678726</td>\n",
       "      <td>0.034413</td>\n",
       "    </tr>\n",
       "    <tr>\n",
       "      <th>6</th>\n",
       "      <td>7</td>\n",
       "      <td>0.645290</td>\n",
       "      <td>0.685457</td>\n",
       "      <td>0.040167</td>\n",
       "    </tr>\n",
       "    <tr>\n",
       "      <th>7</th>\n",
       "      <td>8</td>\n",
       "      <td>0.648060</td>\n",
       "      <td>0.689865</td>\n",
       "      <td>0.041805</td>\n",
       "    </tr>\n",
       "    <tr>\n",
       "      <th>8</th>\n",
       "      <td>9</td>\n",
       "      <td>0.651058</td>\n",
       "      <td>0.695826</td>\n",
       "      <td>0.044768</td>\n",
       "    </tr>\n",
       "    <tr>\n",
       "      <th>9</th>\n",
       "      <td>10</td>\n",
       "      <td>0.652955</td>\n",
       "      <td>0.700328</td>\n",
       "      <td>0.047373</td>\n",
       "    </tr>\n",
       "    <tr>\n",
       "      <th>10</th>\n",
       "      <td>50</td>\n",
       "      <td>0.703304</td>\n",
       "      <td>0.759970</td>\n",
       "      <td>0.056666</td>\n",
       "    </tr>\n",
       "    <tr>\n",
       "      <th>11</th>\n",
       "      <td>100</td>\n",
       "      <td>0.721652</td>\n",
       "      <td>0.776774</td>\n",
       "      <td>0.055122</td>\n",
       "    </tr>\n",
       "  </tbody>\n",
       "</table>\n",
       "</div>"
      ],
      "text/plain": [
       "      k  ndcg@k SBERT **  SBERT + WRS ndcg **  delta **\n",
       "0     1         0.706329             0.729114  0.022785\n",
       "1     2         0.678907             0.707568  0.028661\n",
       "2     3         0.657279             0.679674  0.022396\n",
       "3     4         0.647641             0.673703  0.026062\n",
       "4     5         0.642989             0.671628  0.028639\n",
       "5     6         0.644312             0.678726  0.034413\n",
       "6     7         0.645290             0.685457  0.040167\n",
       "7     8         0.648060             0.689865  0.041805\n",
       "8     9         0.651058             0.695826  0.044768\n",
       "9    10         0.652955             0.700328  0.047373\n",
       "10   50         0.703304             0.759970  0.056666\n",
       "11  100         0.721652             0.776774  0.055122"
      ]
     },
     "execution_count": 313,
     "metadata": {},
     "output_type": "execute_result"
    }
   ],
   "source": [
    "b"
   ]
  },
  {
   "cell_type": "code",
   "execution_count": 315,
   "id": "2877c523",
   "metadata": {},
   "outputs": [],
   "source": [
    "all_ndcg_m_diff = [i - j for i, j in zip(ndcg_m_ft, ndcg_p_tr)]"
   ]
  },
  {
   "cell_type": "code",
   "execution_count": 316,
   "id": "14672dfb",
   "metadata": {},
   "outputs": [],
   "source": [
    "c=pd.DataFrame(data=zip(ks,ndcg_p_tr, ndcg_m_ft, all_ndcg_m_diff),columns=['k','ndcg@k SBERT ***','Fasttext + WRS ndcg ***', \"delta ***\"])"
   ]
  },
  {
   "cell_type": "code",
   "execution_count": 317,
   "id": "45ac5afe",
   "metadata": {},
   "outputs": [],
   "source": [
    "d=pd.merge(a, b, left_on='k', right_on='k')"
   ]
  },
  {
   "cell_type": "code",
   "execution_count": 318,
   "id": "7cbf09e4",
   "metadata": {},
   "outputs": [],
   "source": [
    "e=pd.merge(d, c, left_on='k', right_on='k')"
   ]
  },
  {
   "cell_type": "code",
   "execution_count": 319,
   "id": "b26bb06f",
   "metadata": {},
   "outputs": [],
   "source": [
    "e=e.T"
   ]
  },
  {
   "cell_type": "code",
   "execution_count": 314,
   "id": "68479f79",
   "metadata": {},
   "outputs": [
    {
     "data": {
      "text/html": [
       "<div>\n",
       "<style scoped>\n",
       "    .dataframe tbody tr th:only-of-type {\n",
       "        vertical-align: middle;\n",
       "    }\n",
       "\n",
       "    .dataframe tbody tr th {\n",
       "        vertical-align: top;\n",
       "    }\n",
       "\n",
       "    .dataframe thead th {\n",
       "        text-align: right;\n",
       "    }\n",
       "</style>\n",
       "<table border=\"1\" class=\"dataframe\">\n",
       "  <thead>\n",
       "    <tr style=\"text-align: right;\">\n",
       "      <th></th>\n",
       "      <th>0</th>\n",
       "      <th>1</th>\n",
       "      <th>2</th>\n",
       "      <th>3</th>\n",
       "      <th>4</th>\n",
       "      <th>5</th>\n",
       "      <th>6</th>\n",
       "      <th>7</th>\n",
       "      <th>8</th>\n",
       "      <th>9</th>\n",
       "      <th>10</th>\n",
       "      <th>11</th>\n",
       "    </tr>\n",
       "  </thead>\n",
       "  <tbody>\n",
       "    <tr>\n",
       "      <th>k</th>\n",
       "      <td>1.000000</td>\n",
       "      <td>2.000000</td>\n",
       "      <td>3.000000</td>\n",
       "      <td>4.000000</td>\n",
       "      <td>5.000000</td>\n",
       "      <td>6.000000</td>\n",
       "      <td>7.000000</td>\n",
       "      <td>8.000000</td>\n",
       "      <td>9.000000</td>\n",
       "      <td>10.000000</td>\n",
       "      <td>50.000000</td>\n",
       "      <td>100.000000</td>\n",
       "    </tr>\n",
       "    <tr>\n",
       "      <th>Fasttext P@k *</th>\n",
       "      <td>0.637975</td>\n",
       "      <td>0.578481</td>\n",
       "      <td>0.545148</td>\n",
       "      <td>0.530591</td>\n",
       "      <td>0.526287</td>\n",
       "      <td>0.535907</td>\n",
       "      <td>0.542218</td>\n",
       "      <td>0.543541</td>\n",
       "      <td>0.552794</td>\n",
       "      <td>0.556176</td>\n",
       "      <td>0.686761</td>\n",
       "      <td>0.774583</td>\n",
       "    </tr>\n",
       "    <tr>\n",
       "      <th>Fasttext + WRS P@k *</th>\n",
       "      <td>0.724051</td>\n",
       "      <td>0.672152</td>\n",
       "      <td>0.631646</td>\n",
       "      <td>0.626582</td>\n",
       "      <td>0.636034</td>\n",
       "      <td>0.650169</td>\n",
       "      <td>0.665799</td>\n",
       "      <td>0.674210</td>\n",
       "      <td>0.689761</td>\n",
       "      <td>0.702709</td>\n",
       "      <td>0.859541</td>\n",
       "      <td>0.919117</td>\n",
       "    </tr>\n",
       "    <tr>\n",
       "      <th>delta *</th>\n",
       "      <td>0.086076</td>\n",
       "      <td>0.093671</td>\n",
       "      <td>0.086498</td>\n",
       "      <td>0.095992</td>\n",
       "      <td>0.109747</td>\n",
       "      <td>0.114262</td>\n",
       "      <td>0.123580</td>\n",
       "      <td>0.130669</td>\n",
       "      <td>0.136967</td>\n",
       "      <td>0.146533</td>\n",
       "      <td>0.172780</td>\n",
       "      <td>0.144533</td>\n",
       "    </tr>\n",
       "    <tr>\n",
       "      <th>SBERT P@k **</th>\n",
       "      <td>0.706329</td>\n",
       "      <td>0.670886</td>\n",
       "      <td>0.642616</td>\n",
       "      <td>0.631857</td>\n",
       "      <td>0.628650</td>\n",
       "      <td>0.634008</td>\n",
       "      <td>0.639566</td>\n",
       "      <td>0.647592</td>\n",
       "      <td>0.654931</td>\n",
       "      <td>0.660471</td>\n",
       "      <td>0.706329</td>\n",
       "      <td>0.670886</td>\n",
       "    </tr>\n",
       "    <tr>\n",
       "      <th>SBERT + WRS P@k **</th>\n",
       "      <td>0.729114</td>\n",
       "      <td>0.701266</td>\n",
       "      <td>0.663713</td>\n",
       "      <td>0.658650</td>\n",
       "      <td>0.659325</td>\n",
       "      <td>0.674979</td>\n",
       "      <td>0.690410</td>\n",
       "      <td>0.701193</td>\n",
       "      <td>0.715065</td>\n",
       "      <td>0.725727</td>\n",
       "      <td>0.888212</td>\n",
       "      <td>0.934501</td>\n",
       "    </tr>\n",
       "    <tr>\n",
       "      <th>delta **</th>\n",
       "      <td>0.022785</td>\n",
       "      <td>0.030380</td>\n",
       "      <td>0.021097</td>\n",
       "      <td>0.026793</td>\n",
       "      <td>0.030675</td>\n",
       "      <td>0.040970</td>\n",
       "      <td>0.050844</td>\n",
       "      <td>0.053602</td>\n",
       "      <td>0.060135</td>\n",
       "      <td>0.065256</td>\n",
       "      <td>0.181883</td>\n",
       "      <td>0.263615</td>\n",
       "    </tr>\n",
       "    <tr>\n",
       "      <th>SBERT P@k ***</th>\n",
       "      <td>0.706329</td>\n",
       "      <td>0.670886</td>\n",
       "      <td>0.642616</td>\n",
       "      <td>0.631857</td>\n",
       "      <td>0.628650</td>\n",
       "      <td>0.634008</td>\n",
       "      <td>0.639566</td>\n",
       "      <td>0.647592</td>\n",
       "      <td>0.654931</td>\n",
       "      <td>0.660471</td>\n",
       "      <td>0.706329</td>\n",
       "      <td>0.670886</td>\n",
       "    </tr>\n",
       "    <tr>\n",
       "      <th>Fasttext + WRS P@k ***</th>\n",
       "      <td>0.724051</td>\n",
       "      <td>0.672152</td>\n",
       "      <td>0.631646</td>\n",
       "      <td>0.626582</td>\n",
       "      <td>0.636034</td>\n",
       "      <td>0.650169</td>\n",
       "      <td>0.665799</td>\n",
       "      <td>0.674210</td>\n",
       "      <td>0.689761</td>\n",
       "      <td>0.702709</td>\n",
       "      <td>0.859541</td>\n",
       "      <td>0.919117</td>\n",
       "    </tr>\n",
       "    <tr>\n",
       "      <th>delta ***</th>\n",
       "      <td>0.017722</td>\n",
       "      <td>0.001266</td>\n",
       "      <td>-0.010970</td>\n",
       "      <td>-0.005274</td>\n",
       "      <td>0.007384</td>\n",
       "      <td>0.016160</td>\n",
       "      <td>0.026233</td>\n",
       "      <td>0.026618</td>\n",
       "      <td>0.034830</td>\n",
       "      <td>0.042238</td>\n",
       "      <td>0.153212</td>\n",
       "      <td>0.248231</td>\n",
       "    </tr>\n",
       "  </tbody>\n",
       "</table>\n",
       "</div>"
      ],
      "text/plain": [
       "                              0         1         2         3         4   \\\n",
       "k                       1.000000  2.000000  3.000000  4.000000  5.000000   \n",
       "Fasttext P@k *          0.637975  0.578481  0.545148  0.530591  0.526287   \n",
       "Fasttext + WRS P@k *    0.724051  0.672152  0.631646  0.626582  0.636034   \n",
       "delta *                 0.086076  0.093671  0.086498  0.095992  0.109747   \n",
       "SBERT P@k **            0.706329  0.670886  0.642616  0.631857  0.628650   \n",
       "SBERT + WRS P@k **      0.729114  0.701266  0.663713  0.658650  0.659325   \n",
       "delta **                0.022785  0.030380  0.021097  0.026793  0.030675   \n",
       "SBERT P@k ***           0.706329  0.670886  0.642616  0.631857  0.628650   \n",
       "Fasttext + WRS P@k ***  0.724051  0.672152  0.631646  0.626582  0.636034   \n",
       "delta ***               0.017722  0.001266 -0.010970 -0.005274  0.007384   \n",
       "\n",
       "                              5         6         7         8          9   \\\n",
       "k                       6.000000  7.000000  8.000000  9.000000  10.000000   \n",
       "Fasttext P@k *          0.535907  0.542218  0.543541  0.552794   0.556176   \n",
       "Fasttext + WRS P@k *    0.650169  0.665799  0.674210  0.689761   0.702709   \n",
       "delta *                 0.114262  0.123580  0.130669  0.136967   0.146533   \n",
       "SBERT P@k **            0.634008  0.639566  0.647592  0.654931   0.660471   \n",
       "SBERT + WRS P@k **      0.674979  0.690410  0.701193  0.715065   0.725727   \n",
       "delta **                0.040970  0.050844  0.053602  0.060135   0.065256   \n",
       "SBERT P@k ***           0.634008  0.639566  0.647592  0.654931   0.660471   \n",
       "Fasttext + WRS P@k ***  0.650169  0.665799  0.674210  0.689761   0.702709   \n",
       "delta ***               0.016160  0.026233  0.026618  0.034830   0.042238   \n",
       "\n",
       "                               10          11  \n",
       "k                       50.000000  100.000000  \n",
       "Fasttext P@k *           0.686761    0.774583  \n",
       "Fasttext + WRS P@k *     0.859541    0.919117  \n",
       "delta *                  0.172780    0.144533  \n",
       "SBERT P@k **             0.706329    0.670886  \n",
       "SBERT + WRS P@k **       0.888212    0.934501  \n",
       "delta **                 0.181883    0.263615  \n",
       "SBERT P@k ***            0.706329    0.670886  \n",
       "Fasttext + WRS P@k ***   0.859541    0.919117  \n",
       "delta ***                0.153212    0.248231  "
      ]
     },
     "execution_count": 314,
     "metadata": {},
     "output_type": "execute_result"
    }
   ],
   "source": [
    "e"
   ]
  },
  {
   "cell_type": "code",
   "execution_count": 321,
   "id": "d6b6e8cd",
   "metadata": {},
   "outputs": [],
   "source": [
    "e.to_excel(SAVE_PATH+\"ndcg1.xlsx\") "
   ]
  },
  {
   "cell_type": "code",
   "execution_count": null,
   "id": "2810c301",
   "metadata": {},
   "outputs": [],
   "source": []
  },
  {
   "cell_type": "code",
   "execution_count": null,
   "id": "0f5233f8",
   "metadata": {},
   "outputs": [],
   "source": []
  }
 ],
 "metadata": {
  "kernelspec": {
   "display_name": "Python3 (dorasworld)",
   "language": "python",
   "name": "dorasworld"
  },
  "language_info": {
   "codemirror_mode": {
    "name": "ipython",
    "version": 3
   },
   "file_extension": ".py",
   "mimetype": "text/x-python",
   "name": "python",
   "nbconvert_exporter": "python",
   "pygments_lexer": "ipython3",
   "version": "3.9.7"
  }
 },
 "nbformat": 4,
 "nbformat_minor": 5
}
