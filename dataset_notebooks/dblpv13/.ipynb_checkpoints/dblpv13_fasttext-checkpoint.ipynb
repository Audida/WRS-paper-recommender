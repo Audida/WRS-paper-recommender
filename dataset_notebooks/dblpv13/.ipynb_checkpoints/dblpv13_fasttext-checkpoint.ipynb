{
 "cells": [
  {
   "cell_type": "markdown",
   "metadata": {},
   "source": [
    "#### Svrha bilježnice: kreiranje skupa {članak : vektor}"
   ]
  },
  {
   "cell_type": "code",
   "execution_count": 2,
   "metadata": {
    "scrolled": true
   },
   "outputs": [],
   "source": [
    "import pandas as pd\n",
    "import jsonlines\n",
    "import gc \n",
    "#import gensim \n",
    "#from gensim.models.wrappers import fasttext\n",
    "import fasttext.util\n",
    "import re\n",
    "import spacy\n",
    "import nltk\n",
    "from nltk.corpus import stopwords\n",
    "from collections import Counter\n",
    "import numpy as np\n",
    "from string import punctuation\n",
    "import sys\n",
    "import re \n",
    "import random\n",
    "import json\n",
    "import time\n",
    "import tqdm \n",
    "from tqdm import tqdm"
   ]
  },
  {
   "cell_type": "code",
   "execution_count": 3,
   "metadata": {},
   "outputs": [
    {
     "name": "stderr",
     "output_type": "stream",
     "text": [
      "Warning : `load_model` does not return WordVectorModel or SupervisedModel any more, but a `FastText` object which is very similar.\n"
     ]
    }
   ],
   "source": [
    "import fasttext.util\n",
    "#fasttext.util.download_model('en', if_exists='ignore')  # English\n",
    "ft = fasttext.load_model('../../datasets/cc.en.300.bin')"
   ]
  },
  {
   "cell_type": "code",
   "execution_count": 5,
   "metadata": {},
   "outputs": [],
   "source": [
    "#!python -m spacy download en_core_web_lg"
   ]
  },
  {
   "cell_type": "code",
   "execution_count": 6,
   "metadata": {},
   "outputs": [],
   "source": [
    "#fasttext.util.download_model('en', if_exists='ignore')  # ako nemamo lokalno\n",
    "#ft = fasttext.load_model('cc.en.300.bin')\n",
    "nlp = spacy.load(\"en_core_web_lg\",disable=['parser', 'tagger', 'ner'])"
   ]
  },
  {
   "cell_type": "code",
   "execution_count": 7,
   "metadata": {},
   "outputs": [],
   "source": [
    "#nltk.download('stopwords')"
   ]
  },
  {
   "cell_type": "code",
   "execution_count": 8,
   "metadata": {},
   "outputs": [],
   "source": [
    "df = pd.read_parquet('../../datasets/dblpv13.df.parquet')\n"
   ]
  },
  {
   "cell_type": "code",
   "execution_count": 9,
   "metadata": {
    "scrolled": true
   },
   "outputs": [
    {
     "data": {
      "text/html": [
       "<div>\n",
       "<style scoped>\n",
       "    .dataframe tbody tr th:only-of-type {\n",
       "        vertical-align: middle;\n",
       "    }\n",
       "\n",
       "    .dataframe tbody tr th {\n",
       "        vertical-align: top;\n",
       "    }\n",
       "\n",
       "    .dataframe thead th {\n",
       "        text-align: right;\n",
       "    }\n",
       "</style>\n",
       "<table border=\"1\" class=\"dataframe\">\n",
       "  <thead>\n",
       "    <tr style=\"text-align: right;\">\n",
       "      <th></th>\n",
       "      <th>id</th>\n",
       "      <th>categories</th>\n",
       "      <th>references</th>\n",
       "      <th>title</th>\n",
       "      <th>keywords</th>\n",
       "      <th>url</th>\n",
       "      <th>abstract</th>\n",
       "    </tr>\n",
       "  </thead>\n",
       "  <tbody>\n",
       "    <tr>\n",
       "      <th>0</th>\n",
       "      <td>53e99784b7602d9701f3e133</td>\n",
       "      <td>[Agronomy, Moisture, Hydrology, Environmental ...</td>\n",
       "      <td>None</td>\n",
       "      <td>The relationship between canopy parameters and...</td>\n",
       "      <td>[canopy parameters, canopy spectrum, different...</td>\n",
       "      <td>[http://dx.doi.org/10.1109/IGARSS.2011.6049503]</td>\n",
       "      <td>Drought is the first place in all the natural ...</td>\n",
       "    </tr>\n",
       "    <tr>\n",
       "      <th>1</th>\n",
       "      <td>53e99784b7602d9701f3e15d</td>\n",
       "      <td>[Delay calculation, Timing failure, Monte Carl...</td>\n",
       "      <td>[53e9a8a9b7602d97031f6bb9, 599c7b6b601a182cd27...</td>\n",
       "      <td>Timing yield estimation using statistical stat...</td>\n",
       "      <td>[sequential circuits, statistical distribution...</td>\n",
       "      <td>[http://dx.doi.org/10.1109/ISCAS.2005.1465124,...</td>\n",
       "      <td>As process variations become a significant pro...</td>\n",
       "    </tr>\n",
       "  </tbody>\n",
       "</table>\n",
       "</div>"
      ],
      "text/plain": [
       "                         id  \\\n",
       "0  53e99784b7602d9701f3e133   \n",
       "1  53e99784b7602d9701f3e15d   \n",
       "\n",
       "                                          categories  \\\n",
       "0  [Agronomy, Moisture, Hydrology, Environmental ...   \n",
       "1  [Delay calculation, Timing failure, Monte Carl...   \n",
       "\n",
       "                                          references  \\\n",
       "0                                               None   \n",
       "1  [53e9a8a9b7602d97031f6bb9, 599c7b6b601a182cd27...   \n",
       "\n",
       "                                               title  \\\n",
       "0  The relationship between canopy parameters and...   \n",
       "1  Timing yield estimation using statistical stat...   \n",
       "\n",
       "                                            keywords  \\\n",
       "0  [canopy parameters, canopy spectrum, different...   \n",
       "1  [sequential circuits, statistical distribution...   \n",
       "\n",
       "                                                 url  \\\n",
       "0    [http://dx.doi.org/10.1109/IGARSS.2011.6049503]   \n",
       "1  [http://dx.doi.org/10.1109/ISCAS.2005.1465124,...   \n",
       "\n",
       "                                            abstract  \n",
       "0  Drought is the first place in all the natural ...  \n",
       "1  As process variations become a significant pro...  "
      ]
     },
     "execution_count": 9,
     "metadata": {},
     "output_type": "execute_result"
    }
   ],
   "source": [
    "df.head(2)"
   ]
  },
  {
   "cell_type": "code",
   "execution_count": 4,
   "metadata": {},
   "outputs": [],
   "source": [
    "REPLACE_BY_SPACE_RE = re.compile('[/(){}\\[\\]\\@\\-|,;]|(\\\\n)')\n",
    "COPYRIGHT_RE = re.compile('©[^\\.]*.')\n",
    "BAD_SYMBOLS_RE = re.compile('[^a-z \\'\\-]')\n",
    "STOPWORDS = set(stopwords.words('english'))\n",
    "SUCC_SPACES_RE = re.compile(' +') "
   ]
  },
  {
   "cell_type": "code",
   "execution_count": 5,
   "metadata": {},
   "outputs": [],
   "source": [
    "def text_prepare(text, tokenizer):\n",
    "  \n",
    "    text = text.lower() # lowercase text\n",
    "    text= text.replace('all rights reserved.',' ')\n",
    "    text= COPYRIGHT_RE.sub(' ',text)\n",
    "    \n",
    "    text = REPLACE_BY_SPACE_RE.sub(' ',text)# replace REPLACE_BY_SPACE_RE symbols by space in text\n",
    "    text = BAD_SYMBOLS_RE.sub('',text)# delete symbols which are in BAD_SYMBOLS_RE from text\n",
    "    text = SUCC_SPACES_RE.sub(' ',text)\n",
    "    text = ' '.join([token.text for token in tokenizer(text) if token.text not in STOPWORDS and len(token.text)>2])# delete stopwords from text\n",
    "    return text #modified initial string\n",
    "    "
   ]
  },
  {
   "cell_type": "code",
   "execution_count": 10,
   "metadata": {},
   "outputs": [],
   "source": [
    "npd=df.to_numpy() "
   ]
  },
  {
   "cell_type": "code",
   "execution_count": 23,
   "metadata": {},
   "outputs": [
    {
     "name": "stderr",
     "output_type": "stream",
     "text": [
      "100%|███████████████████████████████| 3851441/3851441 [12:56<00:00, 4959.90it/s]\n"
     ]
    }
   ],
   "source": [
    "pbar = tq.tqdm(total=npd.shape[0])\n",
    "preprocessed=[]\n",
    "\n",
    "for row in npd:\n",
    "    txt=\"\"\n",
    "    if row[1] is not None:\n",
    "        txt=' '.join(row[1])#kategorije\n",
    "    if row[3] is not None:\n",
    "        txt=' '.join([txt,row[3]])#naslov\n",
    "    if row[4] is not None:\n",
    "        txt=' '.join([txt,' '.join(row[4])])#ključne riječi\n",
    "    txt+=\" \"+row[6] #sažetak\n",
    "\n",
    "    preprocessed.append(text_prepare(txt,nlp.tokenizer))\n",
    "\n",
    "    pbar.update(1)\n",
    "\n",
    "pbar.close()"
   ]
  },
  {
   "cell_type": "code",
   "execution_count": 24,
   "metadata": {},
   "outputs": [],
   "source": [
    "df = df[['id']] "
   ]
  },
  {
   "cell_type": "code",
   "execution_count": 26,
   "metadata": {},
   "outputs": [],
   "source": [
    "df['preprocessed']=preprocessed"
   ]
  },
  {
   "cell_type": "code",
   "execution_count": 14,
   "metadata": {},
   "outputs": [
    {
     "data": {
      "text/html": [
       "<div>\n",
       "<style scoped>\n",
       "    .dataframe tbody tr th:only-of-type {\n",
       "        vertical-align: middle;\n",
       "    }\n",
       "\n",
       "    .dataframe tbody tr th {\n",
       "        vertical-align: top;\n",
       "    }\n",
       "\n",
       "    .dataframe thead th {\n",
       "        text-align: right;\n",
       "    }\n",
       "</style>\n",
       "<table border=\"1\" class=\"dataframe\">\n",
       "  <thead>\n",
       "    <tr style=\"text-align: right;\">\n",
       "      <th></th>\n",
       "      <th>id</th>\n",
       "      <th>preprocessed</th>\n",
       "    </tr>\n",
       "  </thead>\n",
       "  <tbody>\n",
       "    <tr>\n",
       "      <th>0</th>\n",
       "      <td>53e99784b7602d9701f3e133</td>\n",
       "      <td>agronomy moisture hydrology environmental scie...</td>\n",
       "    </tr>\n",
       "    <tr>\n",
       "      <th>1</th>\n",
       "      <td>53e99784b7602d9701f3e15d</td>\n",
       "      <td>delay calculation timing failure monte carlo m...</td>\n",
       "    </tr>\n",
       "    <tr>\n",
       "      <th>2</th>\n",
       "      <td>53e99784b7602d9701f3e161</td>\n",
       "      <td>global high technology daily short distance fl...</td>\n",
       "    </tr>\n",
       "    <tr>\n",
       "      <th>3</th>\n",
       "      <td>53e99784b7602d9701f3e4f4</td>\n",
       "      <td>btextures visual source material minute sound ...</td>\n",
       "    </tr>\n",
       "    <tr>\n",
       "      <th>4</th>\n",
       "      <td>53e99784b7602d9701f3eaf2</td>\n",
       "      <td>monkeysii constructing system cope dynamically...</td>\n",
       "    </tr>\n",
       "  </tbody>\n",
       "</table>\n",
       "</div>"
      ],
      "text/plain": [
       "                         id                                       preprocessed\n",
       "0  53e99784b7602d9701f3e133  agronomy moisture hydrology environmental scie...\n",
       "1  53e99784b7602d9701f3e15d  delay calculation timing failure monte carlo m...\n",
       "2  53e99784b7602d9701f3e161  global high technology daily short distance fl...\n",
       "3  53e99784b7602d9701f3e4f4  btextures visual source material minute sound ...\n",
       "4  53e99784b7602d9701f3eaf2  monkeysii constructing system cope dynamically..."
      ]
     },
     "execution_count": 14,
     "metadata": {},
     "output_type": "execute_result"
    }
   ],
   "source": [
    "df.head()"
   ]
  },
  {
   "cell_type": "code",
   "execution_count": 28,
   "metadata": {},
   "outputs": [
    {
     "data": {
      "text/plain": [
       "'agronomy moisture hydrology environmental science dry weight water content stomatal conductance transpiration irrigation soil water canopy relationship canopy parameters spectrum winter wheat different irrigations hebei province canopy parameters canopy spectrum different soil water content control winter wheat irrigation hydrology radiometry moisture indexes vegetation indexation dry weight soil moisture water content indexing terms spectrum natural disaster drought first place natural disasters world especially serious north china plain paper different soil water content control levels winter wheat growth stages performed gucheng ecological meteorological integrated observation experiment station cams china canopy parameters including growth conditions dry weight physiological parameters hyperspectral reflectance measured erecting stage milk stage winter wheat relationship canopy parameters soil relative moisture canopy water content water indices winter wheat established results show parameters spad dry weight leaves decrease increasing soil relative moisture parameters including dry weight caudexes ground dry weight height photosynthesis rate intercellular concentration stomatal conductance transpiration rate increase corresponding soil relative moisture obvious linear relationship stomatal conductance transpiration rate established samples reaches finally fitting equations canopy water content water indices regressed modis bands equations best worst fitting equations used inverse canopy water content winter wheat using modis remote sensing images similar bands range modis hebei province'"
      ]
     },
     "execution_count": 28,
     "metadata": {},
     "output_type": "execute_result"
    }
   ],
   "source": [
    "preprocessed[0]"
   ]
  },
  {
   "cell_type": "code",
   "execution_count": 43,
   "metadata": {},
   "outputs": [
    {
     "name": "stdout",
     "output_type": "stream",
     "text": [
      "/home/dora/Desktop/recommender/helper_notebooks/zero_step_notebooks\r\n"
     ]
    }
   ],
   "source": [
    "!pwd"
   ]
  },
  {
   "cell_type": "code",
   "execution_count": 30,
   "metadata": {},
   "outputs": [],
   "source": [
    "#df.to_parquet('preprocessed.parquet', engine='pyarrow', compression='gzip')\n",
    "#pd.DataFrame(zip(ids,preprocessed),columns=['id', 'preprocessed']).to_json('../../datasets/preprocessed.json\") #spremamo"
   ]
  },
  {
   "cell_type": "code",
   "execution_count": 6,
   "metadata": {},
   "outputs": [],
   "source": [
    "df = pd.read_parquet('../../datasets/preprocessed.parquet', engine='pyarrow')"
   ]
  },
  {
   "cell_type": "code",
   "execution_count": 25,
   "metadata": {},
   "outputs": [],
   "source": [
    "preprocessed=npd[:,1]"
   ]
  },
  {
   "cell_type": "code",
   "execution_count": 23,
   "metadata": {},
   "outputs": [],
   "source": [
    "def get_me_some_vectors(text):  \n",
    "    \n",
    "    words = text.split()   #rastavlja text na rijeci\n",
    "    vectors = 0\n",
    "    numOfExceptableWords = 0  #ukupni broj rijeci za koje cemo izgenerirati vektore\n",
    "    for w in words:\n",
    "      try:                    #ako neka rijec ne postoji u vokabularu baca se iznimka\n",
    "        vec = ft.get_word_vector(w)\n",
    "        vectors += vec\n",
    "        numOfExceptableWords +=1\n",
    "      except:\n",
    "        continue\n",
    "  \n",
    "    return vectors/numOfExceptableWords, numOfExceptableWords\n",
    "    \n"
   ]
  },
  {
   "cell_type": "code",
   "execution_count": 26,
   "metadata": {},
   "outputs": [
    {
     "name": "stderr",
     "output_type": "stream",
     "text": [
      "  0%| | 0/3851441 [00:1\n",
      "100%|█| 3851441/3851441\n"
     ]
    }
   ],
   "source": [
    "#svaki predprocesirani clanak postaje fasttext vektor dimenzije 300 \n",
    "pbar = tq.tqdm(total=npd.shape[0])\n",
    "\n",
    "ftVectors=[]\n",
    "now_all=[]\n",
    "i=0\n",
    "for txt in preprocessed:\n",
    "    vct,now=get_me_some_vectors(txt)\n",
    "    ftVectors.append(vct)\n",
    "    now_all.append(now)\n",
    "    #ftVectors.append(ft.get_sentence_vector(txt))\n",
    "    pbar.update(1)\n",
    "\n",
    "pbar.close()"
   ]
  },
  {
   "cell_type": "code",
   "execution_count": 27,
   "metadata": {},
   "outputs": [],
   "source": [
    "df=df.drop(['preprocessed'],axis=1)\n",
    "df['vector']=ftVectors \n",
    "df['num_of_words']=now_all \n"
   ]
  },
  {
   "cell_type": "code",
   "execution_count": 28,
   "metadata": {},
   "outputs": [
    {
     "data": {
      "text/html": [
       "<div>\n",
       "<style scoped>\n",
       "    .dataframe tbody tr th:only-of-type {\n",
       "        vertical-align: middle;\n",
       "    }\n",
       "\n",
       "    .dataframe tbody tr th {\n",
       "        vertical-align: top;\n",
       "    }\n",
       "\n",
       "    .dataframe thead th {\n",
       "        text-align: right;\n",
       "    }\n",
       "</style>\n",
       "<table border=\"1\" class=\"dataframe\">\n",
       "  <thead>\n",
       "    <tr style=\"text-align: right;\">\n",
       "      <th></th>\n",
       "      <th>id</th>\n",
       "      <th>vector</th>\n",
       "      <th>num_of_words</th>\n",
       "    </tr>\n",
       "  </thead>\n",
       "  <tbody>\n",
       "    <tr>\n",
       "      <th>0</th>\n",
       "      <td>53e99784b7602d9701f3e133</td>\n",
       "      <td>[-0.44870365, 3.0942643, -0.19170868, 10.43203...</td>\n",
       "      <td>197</td>\n",
       "    </tr>\n",
       "    <tr>\n",
       "      <th>1</th>\n",
       "      <td>53e99784b7602d9701f3e15d</td>\n",
       "      <td>[-1.6448469, 2.4118207, 3.2933245, 12.960641, ...</td>\n",
       "      <td>224</td>\n",
       "    </tr>\n",
       "    <tr>\n",
       "      <th>2</th>\n",
       "      <td>53e99784b7602d9701f3e161</td>\n",
       "      <td>[-0.21152683, 0.7793277, -0.52211463, 1.900005...</td>\n",
       "      <td>32</td>\n",
       "    </tr>\n",
       "    <tr>\n",
       "      <th>3</th>\n",
       "      <td>53e99784b7602d9701f3e4f4</td>\n",
       "      <td>[-0.45753658, -0.30740556, 3.26288, 4.5930157,...</td>\n",
       "      <td>76</td>\n",
       "    </tr>\n",
       "    <tr>\n",
       "      <th>4</th>\n",
       "      <td>53e99784b7602d9701f3eaf2</td>\n",
       "      <td>[-0.8303563, -0.54809356, 0.38332126, 4.590071...</td>\n",
       "      <td>76</td>\n",
       "    </tr>\n",
       "  </tbody>\n",
       "</table>\n",
       "</div>"
      ],
      "text/plain": [
       "                         id  \\\n",
       "0  53e99784b7602d9701f3e133   \n",
       "1  53e99784b7602d9701f3e15d   \n",
       "2  53e99784b7602d9701f3e161   \n",
       "3  53e99784b7602d9701f3e4f4   \n",
       "4  53e99784b7602d9701f3eaf2   \n",
       "\n",
       "                                              vector  num_of_words  \n",
       "0  [-0.44870365, 3.0942643, -0.19170868, 10.43203...           197  \n",
       "1  [-1.6448469, 2.4118207, 3.2933245, 12.960641, ...           224  \n",
       "2  [-0.21152683, 0.7793277, -0.52211463, 1.900005...            32  \n",
       "3  [-0.45753658, -0.30740556, 3.26288, 4.5930157,...            76  \n",
       "4  [-0.8303563, -0.54809356, 0.38332126, 4.590071...            76  "
      ]
     },
     "execution_count": 28,
     "metadata": {},
     "output_type": "execute_result"
    }
   ],
   "source": [
    "df.head()"
   ]
  },
  {
   "cell_type": "code",
   "execution_count": 29,
   "metadata": {},
   "outputs": [],
   "source": [
    "df.to_parquet('../../datasets/dblpv13_fasttext.parquet', engine='pyarrow', compression='gzip')"
   ]
  }
 ],
 "metadata": {
  "kernelspec": {
   "display_name": "Python3 (dorasworld)",
   "language": "python",
   "name": "dorasworld"
  },
  "language_info": {
   "codemirror_mode": {
    "name": "ipython",
    "version": 3
   },
   "file_extension": ".py",
   "mimetype": "text/x-python",
   "name": "python",
   "nbconvert_exporter": "python",
   "pygments_lexer": "ipython3",
   "version": "3.9.7"
  }
 },
 "nbformat": 4,
 "nbformat_minor": 4
}
