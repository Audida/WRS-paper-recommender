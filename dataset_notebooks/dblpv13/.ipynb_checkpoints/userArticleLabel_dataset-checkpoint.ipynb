{
 "cells": [
  {
   "cell_type": "markdown",
   "metadata": {},
   "source": [
    "#### svrha bilježnice: kreiranje skupa za trening TT modela, (vektor korsnika, vektor članka, labela)"
   ]
  },
  {
   "cell_type": "code",
   "execution_count": 1,
   "metadata": {},
   "outputs": [],
   "source": [
    "import json\n",
    "import random\n",
    "import pandas as pd\n",
    "import gc \n",
    "import re\n",
    "import numpy as np\n",
    "import sys\n",
    "import re \n",
    "import time\n",
    "import jsonlines"
   ]
  },
  {
   "cell_type": "code",
   "execution_count": null,
   "metadata": {},
   "outputs": [],
   "source": [
    "CONFIG='' #str(UDIO_NEGATIVNIH)+\"-\"+str(MIN_BROJ_CLANAKA_U_IZGLEDU)+\"-\"+str(MAX_BROJ_CLANAKA_U_IZGLEDU)\n",
    "PATH=\"datasets/master_generated/\"+VERSION+\"/\""
   ]
  },
  {
   "cell_type": "code",
   "execution_count": 3,
   "metadata": {},
   "outputs": [],
   "source": [
    "#!mkdir $PATH$CONFIG"
   ]
  },
  {
   "cell_type": "code",
   "execution_count": 30,
   "metadata": {},
   "outputs": [],
   "source": [
    "OUTER_ART_NUM=random.choice([2,3])"
   ]
  },
  {
   "cell_type": "code",
   "execution_count": null,
   "metadata": {},
   "outputs": [],
   "source": [
    "\n",
    "\n",
    "OUTPUT_NAME=str(ID)+\".parquet\"\n",
    "\n",
    "#UDIO_NEGATIVNIH\n",
    "#MIN_BROJ_CLANAKA_U_IZGLEDU\n",
    "#MAX_BROJ_CLANAKA_U_IZGLEDU\n",
    "#USERS_JSON_PATH\n",
    "try: \n",
    "    USERS_JSON_PATH\n",
    "except:\n",
    "    USERS_JSON_PATH = \"datasets/master_generated/\"+VERSION+\"/random_walk_\"+VERSION+\".json\"\n",
    "\n",
    "#OUTER_ART_NUM=random.randint(MIN_BROJ_CLANAKA_U_IZGLEDU,MAX_BROJ_CLANAKA_U_IZGLEDU)"
   ]
  },
  {
   "cell_type": "code",
   "execution_count": null,
   "metadata": {},
   "outputs": [],
   "source": [
    "tt_userArticleLabel_path=PATH+CONFIG+\"tt_userArticleLabel_\"+OUTPUT_NAME \n",
    "triplet_userArticleLabel_path=PATH+CONFIG+\"triplet_userArticleLabel_\"+OUTPUT_NAME\n",
    "posNegOutids_path=PATH+CONFIG+\"posNegOutids_\"+OUTPUT_NAME\n"
   ]
  },
  {
   "cell_type": "code",
   "execution_count": 13,
   "metadata": {},
   "outputs": [],
   "source": [
    "usersJSON  = []\n",
    "with open(USERS_JSON_PATH, 'r') as f:\n",
    "    usersJSON=json.load(f)"
   ]
  },
  {
   "cell_type": "code",
   "execution_count": 14,
   "metadata": {},
   "outputs": [],
   "source": [
    "users = pd.DataFrame(usersJSON)"
   ]
  },
  {
   "cell_type": "code",
   "execution_count": 15,
   "metadata": {},
   "outputs": [
    {
     "data": {
      "text/html": [
       "<div>\n",
       "<style scoped>\n",
       "    .dataframe tbody tr th:only-of-type {\n",
       "        vertical-align: middle;\n",
       "    }\n",
       "\n",
       "    .dataframe tbody tr th {\n",
       "        vertical-align: top;\n",
       "    }\n",
       "\n",
       "    .dataframe thead th {\n",
       "        text-align: right;\n",
       "    }\n",
       "</style>\n",
       "<table border=\"1\" class=\"dataframe\">\n",
       "  <thead>\n",
       "    <tr style=\"text-align: right;\">\n",
       "      <th></th>\n",
       "      <th>userID</th>\n",
       "      <th>posIDs</th>\n",
       "      <th>hard_negIDs</th>\n",
       "      <th>easy_negIDs</th>\n",
       "    </tr>\n",
       "  </thead>\n",
       "  <tbody>\n",
       "    <tr>\n",
       "      <th>0</th>\n",
       "      <td>0</td>\n",
       "      <td>[53e9af1fb7602d970395adf3, 53e9b895b7602d97044...</td>\n",
       "      <td>[53e99c30b7602d97024df565, 58437713ac44360f108...</td>\n",
       "      <td>[53e99ce6b7602d970259db11, 53e9bc4eb7602d97048...</td>\n",
       "    </tr>\n",
       "    <tr>\n",
       "      <th>1</th>\n",
       "      <td>1</td>\n",
       "      <td>[53e99ea0b7602d970276718f, 53e9a7ebb7602d97031...</td>\n",
       "      <td>[53e9a55cb7602d9702e84320, 555041e445ce0a409eb...</td>\n",
       "      <td>[53e9b9eeb7602d97045eacd5, 599c7876601a182cd25...</td>\n",
       "    </tr>\n",
       "    <tr>\n",
       "      <th>2</th>\n",
       "      <td>2</td>\n",
       "      <td>[5843778eac44360f10844a32, 5aed14a717c44a44381...</td>\n",
       "      <td>[53e99bcdb7602d970247973b, 573696366e3b12023e5...</td>\n",
       "      <td>[53e9b661b7602d97041c088f, 5691134f0cf2cefab3e...</td>\n",
       "    </tr>\n",
       "    <tr>\n",
       "      <th>3</th>\n",
       "      <td>3</td>\n",
       "      <td>[555041f545ce0a409eb3ef30, 5a73cbc317c44a0b303...</td>\n",
       "      <td>[58437744ac44360f10834bc6, 53e9b174b7602d9703b...</td>\n",
       "      <td>[5e5e199893d709897ce78bd8, 53e9af99b7602d97039...</td>\n",
       "    </tr>\n",
       "    <tr>\n",
       "      <th>4</th>\n",
       "      <td>4</td>\n",
       "      <td>[5df0bf08df1a9c0c4162ad27, 558aa358e4b031bae1f...</td>\n",
       "      <td>[5c4016b3df5b8c0b3cd05cdc, 5bbacb2c17c44aecc4e...</td>\n",
       "      <td>[53e9ba00b7602d97045fdfb8, 53e9ab4fb7602d97034...</td>\n",
       "    </tr>\n",
       "  </tbody>\n",
       "</table>\n",
       "</div>"
      ],
      "text/plain": [
       "   userID                                             posIDs  \\\n",
       "0       0  [53e9af1fb7602d970395adf3, 53e9b895b7602d97044...   \n",
       "1       1  [53e99ea0b7602d970276718f, 53e9a7ebb7602d97031...   \n",
       "2       2  [5843778eac44360f10844a32, 5aed14a717c44a44381...   \n",
       "3       3  [555041f545ce0a409eb3ef30, 5a73cbc317c44a0b303...   \n",
       "4       4  [5df0bf08df1a9c0c4162ad27, 558aa358e4b031bae1f...   \n",
       "\n",
       "                                         hard_negIDs  \\\n",
       "0  [53e99c30b7602d97024df565, 58437713ac44360f108...   \n",
       "1  [53e9a55cb7602d9702e84320, 555041e445ce0a409eb...   \n",
       "2  [53e99bcdb7602d970247973b, 573696366e3b12023e5...   \n",
       "3  [58437744ac44360f10834bc6, 53e9b174b7602d9703b...   \n",
       "4  [5c4016b3df5b8c0b3cd05cdc, 5bbacb2c17c44aecc4e...   \n",
       "\n",
       "                                         easy_negIDs  \n",
       "0  [53e99ce6b7602d970259db11, 53e9bc4eb7602d97048...  \n",
       "1  [53e9b9eeb7602d97045eacd5, 599c7876601a182cd25...  \n",
       "2  [53e9b661b7602d97041c088f, 5691134f0cf2cefab3e...  \n",
       "3  [5e5e199893d709897ce78bd8, 53e9af99b7602d97039...  \n",
       "4  [53e9ba00b7602d97045fdfb8, 53e9ab4fb7602d97034...  "
      ]
     },
     "execution_count": 15,
     "metadata": {},
     "output_type": "execute_result"
    }
   ],
   "source": [
    "#users.head()"
   ]
  },
  {
   "cell_type": "code",
   "execution_count": 17,
   "metadata": {},
   "outputs": [],
   "source": [
    "outerIDs=[]\n",
    "posIDs=[]\n",
    "negIDs=[] #spajamo hard i easy\n",
    "\n",
    "for i, row in users.iterrows(): \n",
    "        art=row.posIDs\n",
    "        rand_art=random.sample(art, OUTER_ART_NUM)\n",
    "        outerIDs.append(rand_art)\n",
    "        posIDs.append([ a for a in row.posIDs if a not in rand_art ])\n",
    "        joined_neg= row.hard_negIDs\n",
    "        joined_neg.extend(row.easy_negIDs)\n",
    "        negIDs.append(joined_neg)\n",
    "        \n",
    "        \n",
    "users['outerIDs']=outerIDs\n",
    "users['posIDs']=posIDs\n",
    "users['negIDs']=negIDs\n"
   ]
  },
  {
   "cell_type": "code",
   "execution_count": 18,
   "metadata": {},
   "outputs": [],
   "source": [
    "users=users.drop(['hard_negIDs','easy_negIDs'], axis=1)"
   ]
  },
  {
   "cell_type": "code",
   "execution_count": 19,
   "metadata": {},
   "outputs": [
    {
     "data": {
      "text/html": [
       "<div>\n",
       "<style scoped>\n",
       "    .dataframe tbody tr th:only-of-type {\n",
       "        vertical-align: middle;\n",
       "    }\n",
       "\n",
       "    .dataframe tbody tr th {\n",
       "        vertical-align: top;\n",
       "    }\n",
       "\n",
       "    .dataframe thead th {\n",
       "        text-align: right;\n",
       "    }\n",
       "</style>\n",
       "<table border=\"1\" class=\"dataframe\">\n",
       "  <thead>\n",
       "    <tr style=\"text-align: right;\">\n",
       "      <th></th>\n",
       "      <th>userID</th>\n",
       "      <th>posIDs</th>\n",
       "      <th>outerIDs</th>\n",
       "      <th>negIDs</th>\n",
       "    </tr>\n",
       "  </thead>\n",
       "  <tbody>\n",
       "    <tr>\n",
       "      <th>0</th>\n",
       "      <td>0</td>\n",
       "      <td>[53e9af1fb7602d970395adf3, 53e9b895b7602d97044...</td>\n",
       "      <td>[53e998bfb7602d97020f6575, 558aa8cbe4b031bae1f...</td>\n",
       "      <td>[53e99c30b7602d97024df565, 58437713ac44360f108...</td>\n",
       "    </tr>\n",
       "    <tr>\n",
       "      <th>1</th>\n",
       "      <td>1</td>\n",
       "      <td>[53e9b7c1b7602d970436e21f, 573695626e3b12023e4...</td>\n",
       "      <td>[53e99f87b7602d970285ddc9, 53e9a7ebb7602d97031...</td>\n",
       "      <td>[53e9a55cb7602d9702e84320, 555041e445ce0a409eb...</td>\n",
       "    </tr>\n",
       "  </tbody>\n",
       "</table>\n",
       "</div>"
      ],
      "text/plain": [
       "   userID                                             posIDs  \\\n",
       "0       0  [53e9af1fb7602d970395adf3, 53e9b895b7602d97044...   \n",
       "1       1  [53e9b7c1b7602d970436e21f, 573695626e3b12023e4...   \n",
       "\n",
       "                                            outerIDs  \\\n",
       "0  [53e998bfb7602d97020f6575, 558aa8cbe4b031bae1f...   \n",
       "1  [53e99f87b7602d970285ddc9, 53e9a7ebb7602d97031...   \n",
       "\n",
       "                                              negIDs  \n",
       "0  [53e99c30b7602d97024df565, 58437713ac44360f108...  \n",
       "1  [53e9a55cb7602d9702e84320, 555041e445ce0a409eb...  "
      ]
     },
     "execution_count": 19,
     "metadata": {},
     "output_type": "execute_result"
    }
   ],
   "source": [
    "users.head(2)"
   ]
  },
  {
   "cell_type": "code",
   "execution_count": 22,
   "metadata": {},
   "outputs": [],
   "source": [
    "users.to_parquet(posNegOutids_path)"
   ]
  },
  {
   "cell_type": "markdown",
   "metadata": {},
   "source": [
    "radimo dataset  || USER ID || ARTICLE ID || za TT"
   ]
  },
  {
   "cell_type": "code",
   "execution_count": null,
   "metadata": {},
   "outputs": [],
   "source": [
    "user_ids=[]\n",
    "article_ids=[]\n",
    "labels=[]"
   ]
  },
  {
   "cell_type": "code",
   "execution_count": null,
   "metadata": {},
   "outputs": [],
   "source": [
    "for i, row in users.iterrows():\n",
    "    user_ids.extend([row.userID]*(len(row.posIDs)+len(row.negIDs)))\n",
    "    labels.extend(np.ones(len(row.posIDs))) #add labels\n",
    "    article_ids.extend(row.posIDs)          #add article ids\n",
    "    labels.extend(np.zeros(len(row.negIDs))) \n",
    "    article_ids.extend(row.negIDs)                \n",
    "                    "
   ]
  },
  {
   "cell_type": "code",
   "execution_count": null,
   "metadata": {},
   "outputs": [],
   "source": [
    "df=pd.DataFrame()\n",
    "df['userID']=user_ids\n",
    "df['articleID']=article_ids\n",
    "df['label']=labels"
   ]
  },
  {
   "cell_type": "code",
   "execution_count": null,
   "metadata": {},
   "outputs": [],
   "source": [
    "df.to_parquet(tt_userArticleLabel_path)"
   ]
  },
  {
   "cell_type": "raw",
   "metadata": {},
   "source": [
    "df"
   ]
  },
  {
   "cell_type": "markdown",
   "metadata": {},
   "source": [
    "radimo dataset  || USER ID || POS ARTICLE ID || NEG ARTICLE ID || za TRIPLET"
   ]
  },
  {
   "cell_type": "code",
   "execution_count": 23,
   "metadata": {},
   "outputs": [],
   "source": [
    "user_ids=[]\n",
    "pos_ids=[]\n",
    "neg_ids=[]"
   ]
  },
  {
   "cell_type": "code",
   "execution_count": 24,
   "metadata": {},
   "outputs": [],
   "source": [
    "for i, row in users.iterrows():\n",
    "    user_ids.extend([row.userID]*(len(row.posIDs)*len(row.negIDs)))\n",
    "    for x in row.posIDs:\n",
    "        pos_ids.extend([x]*len(row.negIDs)) \n",
    "        neg_ids.extend(row.negIDs)\n",
    "              \n",
    "                    "
   ]
  },
  {
   "cell_type": "code",
   "execution_count": 26,
   "metadata": {},
   "outputs": [],
   "source": [
    "df=pd.DataFrame()\n",
    "df['userID']=user_ids\n",
    "df['posID']=pos_ids\n",
    "df['negID']=neg_ids"
   ]
  },
  {
   "cell_type": "code",
   "execution_count": 27,
   "metadata": {},
   "outputs": [],
   "source": [
    "df.to_parquet(triplet_userArticleLabel_path)"
   ]
  },
  {
   "cell_type": "code",
   "execution_count": null,
   "metadata": {},
   "outputs": [],
   "source": []
  }
 ],
 "metadata": {
  "kernelspec": {
   "display_name": "Python3 (dorasworld)",
   "language": "python",
   "name": "dorasworld"
  },
  "language_info": {
   "codemirror_mode": {
    "name": "ipython",
    "version": 3
   },
   "file_extension": ".py",
   "mimetype": "text/x-python",
   "name": "python",
   "nbconvert_exporter": "python",
   "pygments_lexer": "ipython3",
   "version": "3.9.7"
  }
 },
 "nbformat": 4,
 "nbformat_minor": 4
}
