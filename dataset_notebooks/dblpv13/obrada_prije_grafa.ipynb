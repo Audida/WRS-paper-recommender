{
 "cells": [
  {
   "cell_type": "markdown",
   "metadata": {},
   "source": [
    "IZVOR DATASETA: https://www.aminer.org/citation -> uzeta tada najnovija verzija v13\n",
    "\n",
    "*potrebno popraviti i re-modelirati json datoteku u jsonline da se moze efikasnije citat - radi se o 17GB json tj 12 jsonl"
   ]
  },
  {
   "cell_type": "markdown",
   "metadata": {},
   "source": [
    "#### svrha bilježnice: filtriranje podataka iz glavnog skupa podataka -dblpv13, odbacivanje \"nevažećih\" -> izrada podataka za graf"
   ]
  },
  {
   "cell_type": "raw",
   "metadata": {},
   "source": [
    "#glavno da dela... :D\n",
    "! sed -i '/NumberInt(/ s///g' dblpv13.json\n",
    "! sed -i '/)/ s///g' dblpv13.json\n",
    "! jq -c '.[]' dblpv13.json >> dblpv13.jsonl #52gb rama + ? cache, uz opciju --stream sve ide u cache..1h? umjesto 5 min"
   ]
  },
  {
   "cell_type": "code",
   "execution_count": 1,
   "metadata": {},
   "outputs": [],
   "source": [
    "import jsonlines\n",
    "import re\n",
    "import gc\n",
    "import pandas as pd\n",
    "import jsonlines\n",
    "import time\n",
    "import seaborn as sn\n",
    "import json\n",
    "import numpy as np\n",
    "import matplotlib.pyplot as plt\n",
    "import igraph as ig\n",
    "from igraph import *\n",
    "from fastparquet import ParquetFile"
   ]
  },
  {
   "cell_type": "code",
   "execution_count": 2,
   "metadata": {},
   "outputs": [
    {
     "name": "stdout",
     "output_type": "stream",
     "text": [
      "[Errno 2] No such file or directory: '../datasets'\n",
      "/home/dora/Desktop/recommender/helper_notebooks/zero_step_notebooks\n"
     ]
    }
   ],
   "source": [
    "cd ../datasets"
   ]
  },
  {
   "cell_type": "code",
   "execution_count": null,
   "metadata": {},
   "outputs": [],
   "source": [
    "dataTable = []\n",
    "\n",
    "with jsonlines.open(\"dblpv13.jsonl\") as reader:\n",
    "    for obj in reader: \n",
    "        columns=[]\n",
    "        if obj.get('abstract') and len(obj.get('abstract'))>50:  #ima neispravnih abstracta, graf je dovoljno velik i bez tih loših primjeraka                       \n",
    "            columns.append(obj.get('_id'))\n",
    "            columns.append(obj.get('fos'))                           # fos:= field of study\n",
    "            columns.append(obj.get('references'))\n",
    "            columns.append(obj.get('title'))\n",
    "            columns.append(obj.get('keywords'))\n",
    "            columns.append(obj.get('url'))\n",
    "            #columns.append(obj.get('n_citation'))\n",
    "            columns.append(obj.get('abstract'))\n",
    "            dataTable.append(columns)\n",
    "   "
   ]
  },
  {
   "cell_type": "code",
   "execution_count": 4,
   "metadata": {},
   "outputs": [],
   "source": [
    "#data = pd.DataFrame(dataTable)"
   ]
  },
  {
   "cell_type": "code",
   "execution_count": 5,
   "metadata": {},
   "outputs": [],
   "source": [
    "data.columns = ['id','categories','references','title','keywords','url','abstract']"
   ]
  },
  {
   "cell_type": "code",
   "execution_count": 6,
   "metadata": {},
   "outputs": [
    {
     "data": {
      "text/plain": [
       "(3851441, 7)"
      ]
     },
     "execution_count": 6,
     "metadata": {},
     "output_type": "execute_result"
    }
   ],
   "source": [
    "data.shape"
   ]
  },
  {
   "cell_type": "code",
   "execution_count": 7,
   "metadata": {},
   "outputs": [
    {
     "data": {
      "text/html": [
       "<div>\n",
       "<style scoped>\n",
       "    .dataframe tbody tr th:only-of-type {\n",
       "        vertical-align: middle;\n",
       "    }\n",
       "\n",
       "    .dataframe tbody tr th {\n",
       "        vertical-align: top;\n",
       "    }\n",
       "\n",
       "    .dataframe thead th {\n",
       "        text-align: right;\n",
       "    }\n",
       "</style>\n",
       "<table border=\"1\" class=\"dataframe\">\n",
       "  <thead>\n",
       "    <tr style=\"text-align: right;\">\n",
       "      <th></th>\n",
       "      <th>id</th>\n",
       "      <th>categories</th>\n",
       "      <th>references</th>\n",
       "      <th>title</th>\n",
       "      <th>keywords</th>\n",
       "      <th>url</th>\n",
       "      <th>abstract</th>\n",
       "    </tr>\n",
       "  </thead>\n",
       "  <tbody>\n",
       "    <tr>\n",
       "      <th>0</th>\n",
       "      <td>53e99784b7602d9701f3e133</td>\n",
       "      <td>[Agronomy, Moisture, Hydrology, Environmental ...</td>\n",
       "      <td>None</td>\n",
       "      <td>The relationship between canopy parameters and...</td>\n",
       "      <td>[canopy parameters, canopy spectrum, different...</td>\n",
       "      <td>[http://dx.doi.org/10.1109/IGARSS.2011.6049503]</td>\n",
       "      <td>Drought is the first place in all the natural ...</td>\n",
       "    </tr>\n",
       "    <tr>\n",
       "      <th>1</th>\n",
       "      <td>53e99784b7602d9701f3e15d</td>\n",
       "      <td>[Delay calculation, Timing failure, Monte Carl...</td>\n",
       "      <td>[53e9a8a9b7602d97031f6bb9, 599c7b6b601a182cd27...</td>\n",
       "      <td>Timing yield estimation using statistical stat...</td>\n",
       "      <td>[sequential circuits, statistical distribution...</td>\n",
       "      <td>[http://dx.doi.org/10.1109/ISCAS.2005.1465124,...</td>\n",
       "      <td>As process variations become a significant pro...</td>\n",
       "    </tr>\n",
       "    <tr>\n",
       "      <th>2</th>\n",
       "      <td>53e99784b7602d9701f3e161</td>\n",
       "      <td>None</td>\n",
       "      <td>None</td>\n",
       "      <td>360°</td>\n",
       "      <td>[global high technology, daily short-distance ...</td>\n",
       "      <td>None</td>\n",
       "      <td>360° represents the concerns that are addresse...</td>\n",
       "    </tr>\n",
       "    <tr>\n",
       "      <th>3</th>\n",
       "      <td>53e99784b7602d9701f3e4f4</td>\n",
       "      <td>None</td>\n",
       "      <td>None</td>\n",
       "      <td>2BTextures</td>\n",
       "      <td>[visual source material, minute sound, integra...</td>\n",
       "      <td>[http://dx.doi.org/10.1145/1596685.1596687, ht...</td>\n",
       "      <td>\"2BTextures\", a two-movement audio/visual expe...</td>\n",
       "    </tr>\n",
       "    <tr>\n",
       "      <th>4</th>\n",
       "      <td>53e99784b7602d9701f3eaf2</td>\n",
       "      <td>None</td>\n",
       "      <td>None</td>\n",
       "      <td>11MonkeysII</td>\n",
       "      <td>[]</td>\n",
       "      <td>[http://dx.doi.org/10.1007/3-540-45324-5_74]</td>\n",
       "      <td>Constructing a system that can cope with a dyn...</td>\n",
       "    </tr>\n",
       "  </tbody>\n",
       "</table>\n",
       "</div>"
      ],
      "text/plain": [
       "                         id  \\\n",
       "0  53e99784b7602d9701f3e133   \n",
       "1  53e99784b7602d9701f3e15d   \n",
       "2  53e99784b7602d9701f3e161   \n",
       "3  53e99784b7602d9701f3e4f4   \n",
       "4  53e99784b7602d9701f3eaf2   \n",
       "\n",
       "                                          categories  \\\n",
       "0  [Agronomy, Moisture, Hydrology, Environmental ...   \n",
       "1  [Delay calculation, Timing failure, Monte Carl...   \n",
       "2                                               None   \n",
       "3                                               None   \n",
       "4                                               None   \n",
       "\n",
       "                                          references  \\\n",
       "0                                               None   \n",
       "1  [53e9a8a9b7602d97031f6bb9, 599c7b6b601a182cd27...   \n",
       "2                                               None   \n",
       "3                                               None   \n",
       "4                                               None   \n",
       "\n",
       "                                               title  \\\n",
       "0  The relationship between canopy parameters and...   \n",
       "1  Timing yield estimation using statistical stat...   \n",
       "2                                               360°   \n",
       "3                                         2BTextures   \n",
       "4                                        11MonkeysII   \n",
       "\n",
       "                                            keywords  \\\n",
       "0  [canopy parameters, canopy spectrum, different...   \n",
       "1  [sequential circuits, statistical distribution...   \n",
       "2  [global high technology, daily short-distance ...   \n",
       "3  [visual source material, minute sound, integra...   \n",
       "4                                                 []   \n",
       "\n",
       "                                                 url  \\\n",
       "0    [http://dx.doi.org/10.1109/IGARSS.2011.6049503]   \n",
       "1  [http://dx.doi.org/10.1109/ISCAS.2005.1465124,...   \n",
       "2                                               None   \n",
       "3  [http://dx.doi.org/10.1145/1596685.1596687, ht...   \n",
       "4       [http://dx.doi.org/10.1007/3-540-45324-5_74]   \n",
       "\n",
       "                                            abstract  \n",
       "0  Drought is the first place in all the natural ...  \n",
       "1  As process variations become a significant pro...  \n",
       "2  360° represents the concerns that are addresse...  \n",
       "3  \"2BTextures\", a two-movement audio/visual expe...  \n",
       "4  Constructing a system that can cope with a dyn...  "
      ]
     },
     "execution_count": 7,
     "metadata": {},
     "output_type": "execute_result"
    }
   ],
   "source": [
    "data.head()"
   ]
  },
  {
   "cell_type": "markdown",
   "metadata": {},
   "source": [
    "nasovi se čine smećoviti, filtriramo one od  <3 riječi, ima i naslova koji nisu string već lista.."
   ]
  },
  {
   "cell_type": "code",
   "execution_count": 8,
   "metadata": {},
   "outputs": [],
   "source": [
    "\n",
    "bpd= []\n",
    "\n",
    "for i,row in data.iterrows():\n",
    "    if row.title:\n",
    "        if isinstance(row.title, list):\n",
    "            bpd.append(row)\n",
    "        else:\n",
    "            titleSplit= row.title.split()\n",
    "            if len(titleSplit)<3:\n",
    "                bpd.append(row)\n",
    "\n",
    "            "
   ]
  },
  {
   "cell_type": "code",
   "execution_count": 9,
   "metadata": {},
   "outputs": [
    {
     "data": {
      "text/plain": [
       "14144"
      ]
     },
     "execution_count": 9,
     "metadata": {},
     "output_type": "execute_result"
    }
   ],
   "source": [
    "len(bpd)"
   ]
  },
  {
   "cell_type": "code",
   "execution_count": 10,
   "metadata": {},
   "outputs": [],
   "source": [
    "#for b in bpd:\n",
    "#    print(b.title)"
   ]
  },
  {
   "cell_type": "markdown",
   "metadata": {},
   "source": [
    "..naslovi od 1 riječi su smeće u 99.999% slučajeva, od dvije većinski nisu. "
   ]
  },
  {
   "cell_type": "code",
   "execution_count": 11,
   "metadata": {},
   "outputs": [],
   "source": [
    "data.to_parquet(\"dblpv13.df.parquet\", engine='pyarrow', compression='gzip')"
   ]
  },
  {
   "cell_type": "code",
   "execution_count": 12,
   "metadata": {},
   "outputs": [],
   "source": [
    "#sveukupno 5_354_309 članaka - Arxiv je imao 1.9M \n",
    "#27.82% nema sazetak što čini 1_489_568 članaka  "
   ]
  },
  {
   "cell_type": "markdown",
   "metadata": {},
   "source": [
    "dalje, radimo rječnik kategorija { id_clanka :kategorije}, trebati će nam za težine grafa"
   ]
  },
  {
   "cell_type": "code",
   "execution_count": 13,
   "metadata": {},
   "outputs": [],
   "source": [
    "cat_dict=dict()\n",
    "\n",
    "for row in data.itertuples():\n",
    "    if row.categories:\n",
    "        cat_dict[row.id]=row.categories\n"
   ]
  },
  {
   "cell_type": "code",
   "execution_count": 14,
   "metadata": {},
   "outputs": [],
   "source": [
    "with open(\"cat_dict.json\", 'w') as f: \n",
    "    json.dump(cat_dict, f)\n",
    "    "
   ]
  },
  {
   "cell_type": "markdown",
   "metadata": {},
   "source": [
    "radimo bridove - oblik tuple - [(v1,v2),(v3,v2),.......]"
   ]
  },
  {
   "cell_type": "code",
   "execution_count": 15,
   "metadata": {},
   "outputs": [],
   "source": [
    "#with open(\"cat_dict.json\", 'r') as f:\n",
    "#    cat_dict = json.load(f)"
   ]
  },
  {
   "cell_type": "code",
   "execution_count": 52,
   "metadata": {},
   "outputs": [],
   "source": [
    "vertices=set(data['id'])"
   ]
  },
  {
   "cell_type": "code",
   "execution_count": 34,
   "metadata": {},
   "outputs": [],
   "source": [
    "edges=set()\n",
    "\n",
    "for row in data.itertuples():\n",
    "        iid=row.id\n",
    "        if row.references:\n",
    "            for r in row.references:\n",
    "                if r in vertices:                \n",
    "                    if iid > r : #poredak je bitan\n",
    "                        edges.add((iid,r))\n",
    "                        \n",
    "                    else:\n",
    "                        edges.add((r,iid))\n",
    "                        \n",
    "\n",
    "                \n",
    "    "
   ]
  },
  {
   "cell_type": "code",
   "execution_count": 53,
   "metadata": {},
   "outputs": [
    {
     "name": "stdout",
     "output_type": "stream",
     "text": [
      "imamo 35708851 bridova i 3851441 vrhova - članaka\n"
     ]
    }
   ],
   "source": [
    "print(\"imamo\",len(edges),\"bridova\",\"i\",len(vertices),\"vrhova - članaka\")"
   ]
  },
  {
   "cell_type": "markdown",
   "metadata": {},
   "source": [
    "težine ~ postotak podudaranja kategorija"
   ]
  },
  {
   "cell_type": "code",
   "execution_count": 36,
   "metadata": {},
   "outputs": [],
   "source": [
    "weights=[]\n",
    "\n",
    "for e in edges:\n",
    "    e1=e[0]\n",
    "    e2=e[1]\n",
    "    w=0\n",
    "    if e1 in cat_dict and e2 in cat_dict:\n",
    "        a=cat_dict[e1]\n",
    "        b=cat_dict[e2]\n",
    "        inter=set(a).intersection(b)\n",
    "        union=set(a).union(b)\n",
    "        w=round((len(inter)/len(union))*100)\n",
    "    weights.append(w)\n",
    "  "
   ]
  },
  {
   "cell_type": "code",
   "execution_count": 37,
   "metadata": {},
   "outputs": [],
   "source": [
    "#necemo dozvoliti tezine vrijednosti = 0 \n",
    "zeros=[x for x in weights if x == 0] "
   ]
  },
  {
   "cell_type": "code",
   "execution_count": 38,
   "metadata": {},
   "outputs": [
    {
     "name": "stdout",
     "output_type": "stream",
     "text": [
      "8.16 % bridova ima tezinu 0\n"
     ]
    }
   ],
   "source": [
    "print(round((len(zeros)/len(edges))*100,2),\"% bridova ima tezinu 0\")"
   ]
  },
  {
   "cell_type": "code",
   "execution_count": 39,
   "metadata": {},
   "outputs": [
    {
     "data": {
      "text/plain": [
       "(14.380820794261904, 12.0, 10.576122618921408, 100, 0)"
      ]
     },
     "execution_count": 39,
     "metadata": {},
     "output_type": "execute_result"
    }
   ],
   "source": [
    "np.average(weights),np.median(weights),np.std(weights),np.max(weights),np.min(weights)"
   ]
  },
  {
   "cell_type": "markdown",
   "metadata": {},
   "source": [
    "bridovima težine 0 stavljamo težinu na 1"
   ]
  },
  {
   "cell_type": "code",
   "execution_count": 40,
   "metadata": {},
   "outputs": [],
   "source": [
    "weights=[1 if x==0 else x for x in weights]"
   ]
  },
  {
   "cell_type": "code",
   "execution_count": 41,
   "metadata": {},
   "outputs": [
    {
     "data": {
      "text/plain": [
       "(14.462448735749016, 12.0, 10.468122127414041, 100, '--->', 1)"
      ]
     },
     "execution_count": 41,
     "metadata": {},
     "output_type": "execute_result"
    }
   ],
   "source": [
    "np.average(weights),np.median(weights),np.std(weights),np.max(weights),\"--->\",np.min(weights)"
   ]
  },
  {
   "cell_type": "markdown",
   "metadata": {},
   "source": [
    "spremanje za easy access"
   ]
  },
  {
   "cell_type": "code",
   "execution_count": 50,
   "metadata": {},
   "outputs": [],
   "source": [
    "edges=list(edges)\n",
    "vertices=list(vertices)"
   ]
  },
  {
   "cell_type": "code",
   "execution_count": 48,
   "metadata": {},
   "outputs": [],
   "source": [
    "with open('vertices.json', 'w') as f:\n",
    "    json.dump(vertices, f)"
   ]
  },
  {
   "cell_type": "code",
   "execution_count": 44,
   "metadata": {},
   "outputs": [],
   "source": [
    "with open('edges.json', 'w') as f:\n",
    "    json.dump(edges, f)"
   ]
  },
  {
   "cell_type": "code",
   "execution_count": 45,
   "metadata": {},
   "outputs": [],
   "source": [
    "with open('weights.json', 'w') as f:\n",
    "    json.dump(weights, f)"
   ]
  },
  {
   "cell_type": "code",
   "execution_count": 49,
   "metadata": {},
   "outputs": [
    {
     "data": {
      "text/plain": [
       "True"
      ]
     },
     "execution_count": 49,
     "metadata": {},
     "output_type": "execute_result"
    }
   ],
   "source": [
    "len(weights)==len(edges)"
   ]
  },
  {
   "cell_type": "markdown",
   "metadata": {},
   "source": [
    "vizualizacija težina"
   ]
  },
  {
   "cell_type": "code",
   "execution_count": 46,
   "metadata": {
    "scrolled": true
   },
   "outputs": [
    {
     "data": {
      "image/png": "[encoded data removed]",
      "text/plain": [
       "<Figure size 1080x576 with 1 Axes>"
      ]
     },
     "metadata": {
      "needs_background": "light"
     },
     "output_type": "display_data"
    }
   ],
   "source": [
    "plt.figure(figsize=(15,8))\n",
    "sn.distplot( weights,\n",
    "            bins=np.arange(-1, 100),\n",
    "            kde=False,\n",
    "            hist_kws={\"align\" : \"left\",\n",
    "                      \"rwidth\":0.85,\n",
    "                      'alpha':1.0},\n",
    "            color='indigo',\n",
    "            axlabel=\"težina brida\")\n",
    "plt.show()\n"
   ]
  },
  {
   "cell_type": "markdown",
   "metadata": {},
   "source": [
    "🍻"
   ]
  }
 ],
 "metadata": {
  "kernelspec": {
   "display_name": "Python3 (dorasworld)",
   "language": "python",
   "name": "dorasworld"
  },
  "language_info": {
   "codemirror_mode": {
    "name": "ipython",
    "version": 3
   },
   "file_extension": ".py",
   "mimetype": "text/x-python",
   "name": "python",
   "nbconvert_exporter": "python",
   "pygments_lexer": "ipython3",
   "version": "3.9.7"
  }
 },
 "nbformat": 4,
 "nbformat_minor": 4
}
