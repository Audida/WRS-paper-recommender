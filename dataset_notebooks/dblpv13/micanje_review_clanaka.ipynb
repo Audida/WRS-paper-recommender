{
 "cells": [
  {
   "cell_type": "code",
   "execution_count": 8,
   "id": "9893263e",
   "metadata": {
    "scrolled": false
   },
   "outputs": [],
   "source": [
    "import pandas as pd\n",
    "df=pd.read_parquet(\"datasets/dblpv13.df.parquet\", engine='pyarrow')"
   ]
  },
  {
   "cell_type": "code",
   "execution_count": 69,
   "id": "c8889a82",
   "metadata": {},
   "outputs": [
    {
     "data": {
      "text/html": [
       "<div>\n",
       "<style scoped>\n",
       "    .dataframe tbody tr th:only-of-type {\n",
       "        vertical-align: middle;\n",
       "    }\n",
       "\n",
       "    .dataframe tbody tr th {\n",
       "        vertical-align: top;\n",
       "    }\n",
       "\n",
       "    .dataframe thead th {\n",
       "        text-align: right;\n",
       "    }\n",
       "</style>\n",
       "<table border=\"1\" class=\"dataframe\">\n",
       "  <thead>\n",
       "    <tr style=\"text-align: right;\">\n",
       "      <th></th>\n",
       "      <th>id</th>\n",
       "      <th>categories</th>\n",
       "      <th>references</th>\n",
       "      <th>title</th>\n",
       "      <th>keywords</th>\n",
       "      <th>url</th>\n",
       "      <th>abstract</th>\n",
       "    </tr>\n",
       "  </thead>\n",
       "  <tbody>\n",
       "    <tr>\n",
       "      <th>0</th>\n",
       "      <td>53e99784b7602d9701f3e133</td>\n",
       "      <td>[Agronomy, Moisture, Hydrology, Environmental ...</td>\n",
       "      <td>None</td>\n",
       "      <td>The relationship between canopy parameters and...</td>\n",
       "      <td>[canopy parameters, canopy spectrum, different...</td>\n",
       "      <td>[http://dx.doi.org/10.1109/IGARSS.2011.6049503]</td>\n",
       "      <td>Drought is the first place in all the natural ...</td>\n",
       "    </tr>\n",
       "    <tr>\n",
       "      <th>1</th>\n",
       "      <td>53e99784b7602d9701f3e15d</td>\n",
       "      <td>[Delay calculation, Timing failure, Monte Carl...</td>\n",
       "      <td>[53e9a8a9b7602d97031f6bb9, 599c7b6b601a182cd27...</td>\n",
       "      <td>Timing yield estimation using statistical stat...</td>\n",
       "      <td>[sequential circuits, statistical distribution...</td>\n",
       "      <td>[http://dx.doi.org/10.1109/ISCAS.2005.1465124,...</td>\n",
       "      <td>As process variations become a significant pro...</td>\n",
       "    </tr>\n",
       "    <tr>\n",
       "      <th>2</th>\n",
       "      <td>53e99784b7602d9701f3e161</td>\n",
       "      <td>None</td>\n",
       "      <td>None</td>\n",
       "      <td>360°</td>\n",
       "      <td>[global high technology, daily short-distance ...</td>\n",
       "      <td>None</td>\n",
       "      <td>360° represents the concerns that are addresse...</td>\n",
       "    </tr>\n",
       "    <tr>\n",
       "      <th>3</th>\n",
       "      <td>53e99784b7602d9701f3e4f4</td>\n",
       "      <td>None</td>\n",
       "      <td>None</td>\n",
       "      <td>2BTextures</td>\n",
       "      <td>[visual source material, minute sound, integra...</td>\n",
       "      <td>[http://dx.doi.org/10.1145/1596685.1596687, ht...</td>\n",
       "      <td>\"2BTextures\", a two-movement audio/visual expe...</td>\n",
       "    </tr>\n",
       "    <tr>\n",
       "      <th>4</th>\n",
       "      <td>53e99784b7602d9701f3eaf2</td>\n",
       "      <td>None</td>\n",
       "      <td>None</td>\n",
       "      <td>11MonkeysII</td>\n",
       "      <td>[]</td>\n",
       "      <td>[http://dx.doi.org/10.1007/3-540-45324-5_74]</td>\n",
       "      <td>Constructing a system that can cope with a dyn...</td>\n",
       "    </tr>\n",
       "  </tbody>\n",
       "</table>\n",
       "</div>"
      ],
      "text/plain": [
       "                         id  \\\n",
       "0  53e99784b7602d9701f3e133   \n",
       "1  53e99784b7602d9701f3e15d   \n",
       "2  53e99784b7602d9701f3e161   \n",
       "3  53e99784b7602d9701f3e4f4   \n",
       "4  53e99784b7602d9701f3eaf2   \n",
       "\n",
       "                                          categories  \\\n",
       "0  [Agronomy, Moisture, Hydrology, Environmental ...   \n",
       "1  [Delay calculation, Timing failure, Monte Carl...   \n",
       "2                                               None   \n",
       "3                                               None   \n",
       "4                                               None   \n",
       "\n",
       "                                          references  \\\n",
       "0                                               None   \n",
       "1  [53e9a8a9b7602d97031f6bb9, 599c7b6b601a182cd27...   \n",
       "2                                               None   \n",
       "3                                               None   \n",
       "4                                               None   \n",
       "\n",
       "                                               title  \\\n",
       "0  The relationship between canopy parameters and...   \n",
       "1  Timing yield estimation using statistical stat...   \n",
       "2                                               360°   \n",
       "3                                         2BTextures   \n",
       "4                                        11MonkeysII   \n",
       "\n",
       "                                            keywords  \\\n",
       "0  [canopy parameters, canopy spectrum, different...   \n",
       "1  [sequential circuits, statistical distribution...   \n",
       "2  [global high technology, daily short-distance ...   \n",
       "3  [visual source material, minute sound, integra...   \n",
       "4                                                 []   \n",
       "\n",
       "                                                 url  \\\n",
       "0    [http://dx.doi.org/10.1109/IGARSS.2011.6049503]   \n",
       "1  [http://dx.doi.org/10.1109/ISCAS.2005.1465124,...   \n",
       "2                                               None   \n",
       "3  [http://dx.doi.org/10.1145/1596685.1596687, ht...   \n",
       "4       [http://dx.doi.org/10.1007/3-540-45324-5_74]   \n",
       "\n",
       "                                            abstract  \n",
       "0  Drought is the first place in all the natural ...  \n",
       "1  As process variations become a significant pro...  \n",
       "2  360° represents the concerns that are addresse...  \n",
       "3  \"2BTextures\", a two-movement audio/visual expe...  \n",
       "4  Constructing a system that can cope with a dyn...  "
      ]
     },
     "execution_count": 69,
     "metadata": {},
     "output_type": "execute_result"
    }
   ],
   "source": [
    "df.head()"
   ]
  },
  {
   "cell_type": "code",
   "execution_count": 14,
   "id": "2c409b0d",
   "metadata": {},
   "outputs": [],
   "source": [
    "aa=list(df['title'])"
   ]
  },
  {
   "cell_type": "code",
   "execution_count": 38,
   "id": "ceb08370",
   "metadata": {},
   "outputs": [],
   "source": [
    "aa=[str.lower(x) for x in aa if x is not None]"
   ]
  },
  {
   "cell_type": "code",
   "execution_count": 50,
   "id": "5b8ad851",
   "metadata": {},
   "outputs": [],
   "source": [
    "b=[x for x in aa if x is not None and ( 'survey' in x or 'overview' in x or 'review' in x or 'cross-ex' in x)]"
   ]
  },
  {
   "cell_type": "code",
   "execution_count": 54,
   "id": "116f96cb",
   "metadata": {},
   "outputs": [],
   "source": [
    "kk=[ for i, x in df.iterrows() if x.title is  None and ( 'survey' in x.title or 'overview' in x.title or 'review' in x.title or 'cross-ex' in x.title)]"
   ]
  },
  {
   "cell_type": "code",
   "execution_count": 70,
   "id": "d7356677",
   "metadata": {},
   "outputs": [],
   "source": [
    "kk=[ i for i, x in df.iterrows() if x.url is not None and ('2018.07.037' in x.url \n",
    "                                                           or 'S0377221718306593' in x.url)]"
   ]
  },
  {
   "cell_type": "code",
   "execution_count": 71,
   "id": "c9f6f17f",
   "metadata": {},
   "outputs": [
    {
     "data": {
      "text/plain": [
       "0"
      ]
     },
     "execution_count": 71,
     "metadata": {},
     "output_type": "execute_result"
    }
   ],
   "source": [
    "len(kk)"
   ]
  },
  {
   "cell_type": "code",
   "execution_count": 49,
   "id": "bd9769ef",
   "metadata": {},
   "outputs": [
    {
     "data": {
      "text/plain": [
       "['an algebra for cross-experiment performance analysis',\n",
       " 'gene expression browser: large-scale and cross-experiment microarray data integration, management, search & visualization',\n",
       " 'knowledge engineering as cross-examination',\n",
       " 'cross-examination for angle-closure glaucoma feature detection.',\n",
       " 'cross-examination of datacenter workload modeling techniques',\n",
       " 'perceptual quality of http adaptive streaming strategies: cross-experimental analysis of multi-laboratory and crowdsourced subjective studies.',\n",
       " 'deep transfer learning for cross-subject and cross-experiment prediction of image rapid serial visual presentation events from eeg data.',\n",
       " 'bit-level quantum color image encryption scheme with quantum cross-exchange operation and hyper-chaotic system.',\n",
       " 'self- and cross-excitation in stack exchange question & answer communities',\n",
       " 'cross-examination of similarity, difference and deficiency of gauge, radar and satellite precipitation measuring uncertainties for extreme events using conventional metrics and multiplicative triple collocation.']"
      ]
     },
     "execution_count": 49,
     "metadata": {},
     "output_type": "execute_result"
    }
   ],
   "source": [
    "reference_mb=[]"
   ]
  },
  {
   "cell_type": "code",
   "execution_count": 41,
   "id": "51fce09a",
   "metadata": {},
   "outputs": [
    {
     "data": {
      "text/plain": [
       "1.1491826548715764"
      ]
     },
     "execution_count": 41,
     "metadata": {},
     "output_type": "execute_result"
    }
   ],
   "source": [
    "len(b)/len(aa)*100"
   ]
  },
  {
   "cell_type": "code",
   "execution_count": 21,
   "id": "19fd1368",
   "metadata": {},
   "outputs": [
    {
     "data": {
      "text/plain": [
       "3851441"
      ]
     },
     "execution_count": 21,
     "metadata": {},
     "output_type": "execute_result"
    }
   ],
   "source": [
    "len(aa)"
   ]
  },
  {
   "cell_type": "code",
   "execution_count": null,
   "id": "73eb8bf7",
   "metadata": {},
   "outputs": [],
   "source": []
  }
 ],
 "metadata": {
  "kernelspec": {
   "display_name": "Python3 (dorasworld)",
   "language": "python",
   "name": "dorasworld"
  },
  "language_info": {
   "codemirror_mode": {
    "name": "ipython",
    "version": 3
   },
   "file_extension": ".py",
   "mimetype": "text/x-python",
   "name": "python",
   "nbconvert_exporter": "python",
   "pygments_lexer": "ipython3",
   "version": "3.9.7"
  }
 },
 "nbformat": 4,
 "nbformat_minor": 5
}
