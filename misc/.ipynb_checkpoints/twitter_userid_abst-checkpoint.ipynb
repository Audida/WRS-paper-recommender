{
 "cells": [
  {
   "cell_type": "markdown",
   "id": "2e80f765",
   "metadata": {},
   "source": [
    "### rezultat ove bilježnice su 2 dataseta,\n",
    "* userID | article ID | source\n",
    "* article ID | text | source\n",
    "\n",
    "izvori iz Elsaviera tj scienceDirecta (najviše), Arxiv, IEEE (najmanje) "
   ]
  },
  {
   "cell_type": "code",
   "execution_count": null,
   "id": "a2a33b10",
   "metadata": {},
   "outputs": [],
   "source": [
    "import pandas as pd\n",
    "import re\n",
    "import numpy as np"
   ]
  },
  {
   "cell_type": "code",
   "execution_count": null,
   "id": "f6b34e37",
   "metadata": {},
   "outputs": [],
   "source": [
    "#dataset 6.3.2022.\n",
    "df1=pd.read_csv(\"datasets/twitter/twitter_user_url_8_3_final.csv\") \n",
    "df1=df1.drop(\"source\",axis=1)\n",
    "\n",
    "#dataset 18.3.2022.\n",
    "df2=pd.read_csv(\"datasets/twitter/twitter_18_3_all.csv\")\n",
    "df2=df2.drop(\"isRetweet\",axis=1)\n",
    "df2.columns=['userID','tweet','tweetID','urls']\n",
    "df=df1.append(df2)"
   ]
  },
  {
   "cell_type": "code",
   "execution_count": null,
   "id": "599792cf",
   "metadata": {},
   "outputs": [],
   "source": [
    "df=df.reset_index(drop=True)"
   ]
  },
  {
   "cell_type": "code",
   "execution_count": null,
   "id": "327fad3d",
   "metadata": {},
   "outputs": [],
   "source": [
    "df"
   ]
  },
  {
   "cell_type": "code",
   "execution_count": null,
   "id": "1a4611bf",
   "metadata": {},
   "outputs": [],
   "source": [
    "df=df.drop_duplicates(subset=['tweetID'])\n",
    "df=df.reset_index(drop=True)"
   ]
  },
  {
   "cell_type": "code",
   "execution_count": null,
   "id": "6df6ea0c",
   "metadata": {},
   "outputs": [],
   "source": [
    "len(df)"
   ]
  },
  {
   "cell_type": "markdown",
   "id": "f067f24e",
   "metadata": {},
   "source": [
    "miči neispravne urlove (idevi retweetova koji nisu nađeni)"
   ]
  },
  {
   "cell_type": "code",
   "execution_count": null,
   "id": "bb44c2ab",
   "metadata": {},
   "outputs": [],
   "source": [
    "good_indexes=[i for i,row in df.iterrows() if  'http' in row.urls and ('sciencedirect' in row.urls or 'ieee' in row.urls or 'arxiv' in row.urls )]"
   ]
  },
  {
   "cell_type": "code",
   "execution_count": null,
   "id": "078e90f3",
   "metadata": {},
   "outputs": [],
   "source": [
    "df=df.iloc[good_indexes]\n",
    "df=df.reset_index(drop=True)"
   ]
  },
  {
   "cell_type": "code",
   "execution_count": null,
   "id": "41cd1731",
   "metadata": {},
   "outputs": [],
   "source": [
    "len(df)"
   ]
  },
  {
   "cell_type": "code",
   "execution_count": null,
   "id": "e7fabc96",
   "metadata": {},
   "outputs": [],
   "source": [
    "df.tail()"
   ]
  },
  {
   "cell_type": "markdown",
   "id": "f963c485",
   "metadata": {},
   "source": [
    "___"
   ]
  },
  {
   "cell_type": "code",
   "execution_count": null,
   "id": "f8724003",
   "metadata": {},
   "outputs": [],
   "source": [
    "def extract_urls(txt):\n",
    "    '''\n",
    "    returns a list of urls\n",
    "    '''\n",
    "    all_urls=[]\n",
    "    try:\n",
    "        urls=re.findall(\"'(.+?)\\'\", txt)\n",
    "        for u in urls:\n",
    "            if 'http' in u and ('sciencedirect' in u or 'ieee' in u or 'arxiv' in u ):\n",
    "                all_urls.append(u)\n",
    "    except: \n",
    "        print(text)\n",
    "    return all_urls"
   ]
  },
  {
   "cell_type": "code",
   "execution_count": null,
   "id": "8cd1a7d4",
   "metadata": {},
   "outputs": [],
   "source": [
    "for i, row in df.iterrows():\n",
    "    df.at[i,'urls']=extract_urls(row.urls)"
   ]
  },
  {
   "cell_type": "code",
   "execution_count": null,
   "id": "c1d6e059",
   "metadata": {},
   "outputs": [],
   "source": [
    "df"
   ]
  },
  {
   "cell_type": "code",
   "execution_count": null,
   "id": "7539a845",
   "metadata": {},
   "outputs": [],
   "source": [
    "lens=[len(row.urls) for i,row in df.iterrows()]"
   ]
  },
  {
   "cell_type": "code",
   "execution_count": null,
   "id": "41c77a1f",
   "metadata": {},
   "outputs": [],
   "source": [
    "np.max(lens),df['tweet'][np.argmax(lens)] #haha"
   ]
  },
  {
   "cell_type": "code",
   "execution_count": null,
   "id": "8f48c1fa",
   "metadata": {},
   "outputs": [],
   "source": [
    "len([x for x in lens if x > 2])"
   ]
  },
  {
   "cell_type": "markdown",
   "id": "464b98cf",
   "metadata": {},
   "source": [
    "#### želimo userID | blabla | url tj rascjepati liste urlova u jedinične urlove"
   ]
  },
  {
   "cell_type": "code",
   "execution_count": null,
   "id": "d5411d39",
   "metadata": {},
   "outputs": [],
   "source": [
    "userIDs, tweets, tids, urls=[],[],[],[]\n",
    " \n",
    "for i, row in df.iterrows():\n",
    "    for u in row.urls:\n",
    "        userIDs.append(row.userID)\n",
    "        tweets.append(row.tweet)\n",
    "        tids.append(row.tweetID)\n",
    "        urls.append(u)\n",
    "\n",
    "    "
   ]
  },
  {
   "cell_type": "code",
   "execution_count": null,
   "id": "773f69ae",
   "metadata": {},
   "outputs": [],
   "source": [
    "df=pd.DataFrame(list(zip(userIDs, tweets, tids, urls)),columns=df.columns)"
   ]
  },
  {
   "cell_type": "code",
   "execution_count": null,
   "id": "eaaede79",
   "metadata": {},
   "outputs": [],
   "source": [
    "df = df.rename(columns={'urls': 'url'})"
   ]
  },
  {
   "cell_type": "code",
   "execution_count": null,
   "id": "b8662de3",
   "metadata": {},
   "outputs": [],
   "source": [
    "df"
   ]
  },
  {
   "cell_type": "code",
   "execution_count": null,
   "id": "1c6a1793",
   "metadata": {},
   "outputs": [],
   "source": [
    "df.to_csv('datasets/twitter/user_url.csv',index=False) "
   ]
  },
  {
   "cell_type": "markdown",
   "id": "256657d0",
   "metadata": {},
   "source": [
    "___"
   ]
  },
  {
   "cell_type": "markdown",
   "id": "29ff993c",
   "metadata": {},
   "source": [
    "### mičemo korisnike koji nemaju dovoljno članaka  tj.  < 4"
   ]
  },
  {
   "cell_type": "code",
   "execution_count": null,
   "id": "988686a7",
   "metadata": {},
   "outputs": [],
   "source": [
    "df=pd.read_csv('datasets/twitter/user_url.csv') "
   ]
  },
  {
   "cell_type": "code",
   "execution_count": null,
   "id": "dffb2b86",
   "metadata": {},
   "outputs": [],
   "source": [
    "df=df.drop_duplicates(subset=['userID','tweet'])\n",
    "df=df.drop_duplicates(subset=['userID','url'])\n",
    "df=df.reset_index(drop=True)"
   ]
  },
  {
   "cell_type": "code",
   "execution_count": null,
   "id": "83584927",
   "metadata": {},
   "outputs": [],
   "source": [
    "udict=dict()\n",
    "\n",
    "for i, row in df.iterrows():\n",
    "    if row.userID in udict:\n",
    "        udict[row.userID]=udict[row.userID]+1\n",
    "    \n",
    "    else:\n",
    "        udict[row.userID]=1"
   ]
  },
  {
   "cell_type": "code",
   "execution_count": null,
   "id": "214ca1d6",
   "metadata": {},
   "outputs": [],
   "source": [
    "valid_users=[k for k,v in udict.items() if v > 3 and v < 100] #više od 3 članaka i manje od 100"
   ]
  },
  {
   "cell_type": "code",
   "execution_count": null,
   "id": "dded802d",
   "metadata": {},
   "outputs": [],
   "source": [
    "print(\"dobili smo\", len(valid_users), \"korisnika\")"
   ]
  },
  {
   "cell_type": "code",
   "execution_count": null,
   "id": "20cd3689",
   "metadata": {},
   "outputs": [],
   "source": [
    "df=df.loc[df['userID'].isin(valid_users)]"
   ]
  },
  {
   "cell_type": "code",
   "execution_count": null,
   "id": "dbbcfa02",
   "metadata": {},
   "outputs": [],
   "source": [
    "df=df.reset_index(drop=True)"
   ]
  },
  {
   "cell_type": "code",
   "execution_count": null,
   "id": "723a92f1",
   "metadata": {},
   "outputs": [],
   "source": [
    "df.to_csv('datasets/twitter/user_url_filtered.csv',index=False) "
   ]
  },
  {
   "cell_type": "code",
   "execution_count": null,
   "id": "da0ddee7",
   "metadata": {},
   "outputs": [],
   "source": [
    "df"
   ]
  },
  {
   "cell_type": "markdown",
   "id": "4bb25dfc",
   "metadata": {},
   "source": [
    "____\n"
   ]
  },
  {
   "cell_type": "markdown",
   "id": "58c4cb26",
   "metadata": {},
   "source": [
    "### želimo userID | source | UID/DOI "
   ]
  },
  {
   "cell_type": "markdown",
   "id": "bc17ab4f",
   "metadata": {},
   "source": [
    "arxiv ima svoj format linkova, elsavier svoj... treba nam samo ID članka da ga zvlečemo"
   ]
  },
  {
   "cell_type": "code",
   "execution_count": null,
   "id": "21999fd8",
   "metadata": {},
   "outputs": [],
   "source": [
    "df=pd.read_csv('datasets/twitter/user_url_filtered.csv') \n",
    "df"
   ]
  },
  {
   "cell_type": "code",
   "execution_count": null,
   "id": "522498ff",
   "metadata": {},
   "outputs": [],
   "source": [
    "def extract_source(src):\n",
    "    if \"sciencedirect\" in src:                  return \"sciencedirect\"\n",
    "    if \"ieee\" in src:                           return \"ieee\"\n",
    "    if \"arxiv\" in src:                          return \"arxiv\"\n"
   ]
  },
  {
   "cell_type": "code",
   "execution_count": null,
   "id": "1dbcfd33",
   "metadata": {},
   "outputs": [],
   "source": [
    "def extract_id(url, src):\n",
    "    aid=None\n",
    "    if src==\"sciencedirect\":\n",
    "        try:\n",
    "            aid=re.search('pii/([a-zA-Z0-9_]*)', url)[0]\n",
    "            aid=aid.split('pii/')[1]\n",
    "        except:\n",
    "            pass #search queries\n",
    "        \n",
    "    if src==\"ieee\":       \n",
    "        try:\n",
    "            aid=re.search('document/([a-zA-Z0-9_]*)', url)[0]\n",
    "            aid=aid.split('document/')[1]\n",
    "        except:\n",
    "            pass\n",
    "        \n",
    "    if src==\"arxiv\": \n",
    "        try:\n",
    "            try:\n",
    "                uu=re.search('([0-9]{4}\\..*)',url)[0]\n",
    "                uu=uu.split(\".pdf\")[0]\n",
    "                uu=uu.split(\"?\")[0]\n",
    "                uu=uu.split(\"#\")[0]\n",
    "            except:\n",
    "                uu=re.search('/([0-9]{7})', url)[0]\n",
    "                uu=uu.split(\".pdf\")[0]\n",
    "                uu=uu.split(\"/\")[0]\n",
    "            uu=uu.split(\"v\")[0]\n",
    "            aid=uu\n",
    "\n",
    "        except:\n",
    "            pass #search queries, garbage\n",
    "        \n",
    "    return aid\n",
    "        \n",
    "        "
   ]
  },
  {
   "cell_type": "code",
   "execution_count": null,
   "id": "e3c50f24",
   "metadata": {},
   "outputs": [],
   "source": [
    "urls=df['url']"
   ]
  },
  {
   "cell_type": "code",
   "execution_count": null,
   "id": "4c7a34b6",
   "metadata": {},
   "outputs": [],
   "source": [
    "sources=[]\n",
    "art_ids=[]\n",
    "\n",
    "for u in urls:\n",
    "    s=extract_source(u)\n",
    "    sources.append(s)\n",
    "    art_ids.append(extract_id(u,s))"
   ]
  },
  {
   "cell_type": "code",
   "execution_count": null,
   "id": "0974836d",
   "metadata": {},
   "outputs": [],
   "source": [
    "df['artID']=art_ids\n",
    "df['source']=sources"
   ]
  },
  {
   "cell_type": "code",
   "execution_count": null,
   "id": "60619bc1",
   "metadata": {},
   "outputs": [],
   "source": [
    "df=df.drop(['url','tweet','tweetID'],axis=1)\n",
    "df=df.dropna()"
   ]
  },
  {
   "cell_type": "code",
   "execution_count": null,
   "id": "b5ed9ea9",
   "metadata": {},
   "outputs": [],
   "source": [
    "df=df.drop_duplicates(subset=['userID',\"artID\"])"
   ]
  },
  {
   "cell_type": "code",
   "execution_count": null,
   "id": "cba0c8c0",
   "metadata": {},
   "outputs": [],
   "source": [
    "df"
   ]
  },
  {
   "cell_type": "code",
   "execution_count": null,
   "id": "69ede235",
   "metadata": {},
   "outputs": [],
   "source": [
    "df.to_csv('datasets/twitter/user_art_id.csv',index=False) "
   ]
  },
  {
   "cell_type": "markdown",
   "id": "6cac4f78",
   "metadata": {},
   "source": [
    "# 2. Dohvat sažetaka"
   ]
  },
  {
   "cell_type": "code",
   "execution_count": null,
   "id": "67ae4cb6",
   "metadata": {},
   "outputs": [],
   "source": [
    "df=pd.read_csv('datasets/twitter/user_art_id.csv') \n",
    "df.tail()"
   ]
  },
  {
   "cell_type": "raw",
   "id": "672d0ce5",
   "metadata": {},
   "source": [
    "API ograničenja:\n",
    "\n",
    "SCIDIR:\n",
    "9 po sekundi\n",
    "10k na tjedan\n",
    "                                 \n",
    "                                 \n",
    "\n",
    " ARXIV:                      \n",
    " 1 req svake 3 sekunde       \n",
    " 2k članaka max u jednom req          \n",
    "\n",
    "                                 \n",
    "\n",
    "\n",
    "IEEE:\n",
    "200 na dan max 10 po sekundi\n",
    "\n"
   ]
  },
  {
   "cell_type": "code",
   "execution_count": null,
   "id": "d33685e6",
   "metadata": {},
   "outputs": [],
   "source": [
    "#djele svi: \n",
    "all_art_dict=dict() #artID : txt"
   ]
  },
  {
   "cell_type": "markdown",
   "id": "5173a79c",
   "metadata": {},
   "source": [
    "### ScienceDirect API"
   ]
  },
  {
   "cell_type": "code",
   "execution_count": null,
   "id": "a7bad01b",
   "metadata": {},
   "outputs": [],
   "source": [
    "import elsapy\n",
    "import requests\n",
    "from elsapy.elsdoc import FullDoc, AbsDoc\n",
    "import json\n",
    "from elsapy.elsclient import ElsClient\n",
    "    \n",
    "## Load configuration\n",
    "con_file = open(\"config.json\")\n",
    "config = json.load(con_file)\n",
    "con_file.close()\n",
    "\n",
    "## Initialize client\n",
    "client = ElsClient(config['apikey'])\n"
   ]
  },
  {
   "cell_type": "code",
   "execution_count": null,
   "id": "eb7141c7",
   "metadata": {},
   "outputs": [],
   "source": [
    "art_ids=list(set(df.loc[df['source']=='sciencedirect'][\"artID\"]))\n",
    "len(art_ids)"
   ]
  },
  {
   "cell_type": "code",
   "execution_count": null,
   "id": "1dcaca03",
   "metadata": {},
   "outputs": [],
   "source": [
    "start=0\n",
    "all_art_dict=dict()"
   ]
  },
  {
   "cell_type": "code",
   "execution_count": null,
   "id": "758771f8",
   "metadata": {
    "scrolled": false
   },
   "outputs": [],
   "source": [
    "## ScienceDirect (full-text) document example using PII\n",
    "\n",
    "MAX_REQ_PER_SEC=9\n",
    "\n",
    "counter=0\n",
    "ind=920\n",
    "for pii in art_ids[ind:]:\n",
    "    pii_doc = FullDoc(sd_pii = pii)\n",
    "    if pii_doc.read(client):\n",
    "        try:\n",
    "            title=pii_doc.title\n",
    "        except:\n",
    "            title=''\n",
    "        \n",
    "        try:\n",
    "            abs=pii_doc.data['coredata']['dc:description']\n",
    "        except:\n",
    "            abs=''\n",
    "            title='' #bez abs nemamo ništa\n",
    "            \n",
    "        try:\n",
    "            all_art_dict[pii]=' '.join([title,abs]) \n",
    "        except:\n",
    "            pass #abstract ili title je None\n",
    "        pii_doc.write()\n",
    "    else:\n",
    "        print (\"Read document failed.\")\n",
    "    counter+=1 #one more req\n",
    "    \n",
    "    if counter >= MAX_REQ_PER_SEC:\n",
    "        time.sleep(1.3)\n",
    "        counter=0\n",
    "    print(ind,len(all_art_dict)/len(art_ids)*100)\n",
    "    ind+=1\n",
    "    \n"
   ]
  },
  {
   "cell_type": "code",
   "execution_count": null,
   "id": "b59a690e",
   "metadata": {},
   "outputs": [],
   "source": [
    "#print(pii_doc.data['coredata']['dc:description'])\n",
    "#print(pii_doc.title)"
   ]
  },
  {
   "cell_type": "code",
   "execution_count": null,
   "id": "1c2c09e5",
   "metadata": {},
   "outputs": [],
   "source": [
    "len(all_art_dict)"
   ]
  },
  {
   "cell_type": "code",
   "execution_count": null,
   "id": "75764037",
   "metadata": {},
   "outputs": [],
   "source": [
    "df_scidir=pd.DataFrame(all_art_dict.items(), columns=['artID','text'])\n",
    "df_scidir.head(1)"
   ]
  },
  {
   "cell_type": "code",
   "execution_count": 206,
   "id": "80ffc6de",
   "metadata": {},
   "outputs": [
    {
     "data": {
      "text/html": [
       "<div>\n",
       "<style scoped>\n",
       "    .dataframe tbody tr th:only-of-type {\n",
       "        vertical-align: middle;\n",
       "    }\n",
       "\n",
       "    .dataframe tbody tr th {\n",
       "        vertical-align: top;\n",
       "    }\n",
       "\n",
       "    .dataframe thead th {\n",
       "        text-align: right;\n",
       "    }\n",
       "</style>\n",
       "<table border=\"1\" class=\"dataframe\">\n",
       "  <thead>\n",
       "    <tr style=\"text-align: right;\">\n",
       "      <th></th>\n",
       "      <th>artID</th>\n",
       "      <th>text</th>\n",
       "      <th>source</th>\n",
       "    </tr>\n",
       "  </thead>\n",
       "  <tbody>\n",
       "    <tr>\n",
       "      <th>0</th>\n",
       "      <td>S1756464620300815</td>\n",
       "      <td>Lycopene prevents lipid accumulation in hepato...</td>\n",
       "      <td>sciencedirect</td>\n",
       "    </tr>\n",
       "  </tbody>\n",
       "</table>\n",
       "</div>"
      ],
      "text/plain": [
       "               artID                                               text  \\\n",
       "0  S1756464620300815  Lycopene prevents lipid accumulation in hepato...   \n",
       "\n",
       "          source  \n",
       "0  sciencedirect  "
      ]
     },
     "execution_count": 206,
     "metadata": {},
     "output_type": "execute_result"
    }
   ],
   "source": [
    "df_scidir.head(1)"
   ]
  },
  {
   "cell_type": "code",
   "execution_count": 207,
   "id": "edb6ac82",
   "metadata": {},
   "outputs": [],
   "source": [
    "df_scidir.to_csv('datasets/twitter/scidir_artid_txt_27_3.csv',index=False) "
   ]
  },
  {
   "cell_type": "markdown",
   "id": "0d113582",
   "metadata": {},
   "source": [
    "____"
   ]
  },
  {
   "cell_type": "markdown",
   "id": "b691a000",
   "metadata": {},
   "source": [
    "## Arxiv API"
   ]
  },
  {
   "cell_type": "markdown",
   "id": "57898cea",
   "metadata": {},
   "source": [
    "___"
   ]
  },
  {
   "cell_type": "code",
   "execution_count": null,
   "id": "89fc3b0e",
   "metadata": {},
   "outputs": [],
   "source": [
    "f= open(\"/home/dora/Downloads/categories.txt\",\"r\") # konkatenirati ćemo kategorije - ovo nam treba za dobavljanje punog naziva"
   ]
  },
  {
   "cell_type": "code",
   "execution_count": null,
   "id": "b952fbfc",
   "metadata": {},
   "outputs": [],
   "source": [
    "cat_dict=dict()\n",
    "lines=f.readlines()\n",
    "for l in lines:\n",
    "    l=l.split(\"\\t\")\n",
    "    cat_dict[l[0]]=l[1].split(\"\\n\")[0]\n",
    "    "
   ]
  },
  {
   "cell_type": "code",
   "execution_count": null,
   "id": "b9c80389",
   "metadata": {},
   "outputs": [],
   "source": [
    "f.close()"
   ]
  },
  {
   "cell_type": "code",
   "execution_count": null,
   "id": "44802182",
   "metadata": {},
   "outputs": [],
   "source": [
    "art_ids=list(set(df.loc[df['source']=='arxiv'][\"artID\"]))\n",
    "art_ids[0]"
   ]
  },
  {
   "cell_type": "code",
   "execution_count": null,
   "id": "0c63bb1e",
   "metadata": {},
   "outputs": [],
   "source": [
    "art_ids.remove(art_ids[0])# nan element i sve takve\n",
    "len(art_ids)"
   ]
  },
  {
   "cell_type": "code",
   "execution_count": null,
   "id": "cf618889",
   "metadata": {},
   "outputs": [],
   "source": [
    "bad=[x for x in art_ids if len(x)<8]\n",
    "for a in bad:\n",
    "    art_ids.remove(a)"
   ]
  },
  {
   "cell_type": "code",
   "execution_count": null,
   "id": "a3be9a4e",
   "metadata": {},
   "outputs": [],
   "source": [
    "[x for x in art_ids if len(x)>13]"
   ]
  },
  {
   "cell_type": "code",
   "execution_count": null,
   "id": "efc7c7d6",
   "metadata": {},
   "outputs": [],
   "source": [
    "wtf_one='2202.08201https://arxi'\n",
    "art_ids.remove(wtf_one)"
   ]
  },
  {
   "cell_type": "code",
   "execution_count": null,
   "id": "9ee08597",
   "metadata": {},
   "outputs": [],
   "source": [
    "art_ids.append('2202.08201')"
   ]
  },
  {
   "cell_type": "code",
   "execution_count": null,
   "id": "1eecbce9",
   "metadata": {},
   "outputs": [],
   "source": [
    "len(art_ids)"
   ]
  },
  {
   "cell_type": "code",
   "execution_count": null,
   "id": "9a675ea4",
   "metadata": {},
   "outputs": [],
   "source": [
    "start=0\n",
    "end=MAX_RES\n",
    "all_art_dict=dict()"
   ]
  },
  {
   "cell_type": "code",
   "execution_count": null,
   "id": "90cfa612",
   "metadata": {},
   "outputs": [],
   "source": [
    "import arxiv\n",
    "import time\n",
    "\n",
    "MAX_RES=100\n",
    "\n",
    "\n",
    "while end < len(art_ids):\n",
    "    search = arxiv.Search(\n",
    "        id_list=art_ids[start:end],\n",
    "        max_results=100)\n",
    "    \n",
    "    for result in search.results():\n",
    "        txt=result.title\n",
    "        try:\n",
    "            txt+= \" \".join([cat_dict[x] for x in result.categories]) #konkateniraj SVEEEEEEEEEEEE\n",
    "        except:\n",
    "            pass\n",
    "        txt+= \" \" + result.summary\n",
    "        all_art_dict[extract_id(result.entry_id,\"arxiv\")]=txt\n",
    "    \n",
    "    \n",
    "    start+=MAX_RES\n",
    "    end+=MAX_RES\n",
    "    time.sleep(4)\n"
   ]
  },
  {
   "cell_type": "code",
   "execution_count": null,
   "id": "783d1f35",
   "metadata": {},
   "outputs": [],
   "source": [
    "extract_id(result.entry_id,\"arxiv\")"
   ]
  },
  {
   "cell_type": "code",
   "execution_count": null,
   "id": "8a0b6dde",
   "metadata": {},
   "outputs": [],
   "source": [
    "df_arxiv=pd.DataFrame(all_art_dict.items(), columns=['artID','text'])\n",
    "df_arxiv.to_csv('datasets/twitter/arxiv_artid_txt_27_3.csv',index=False) "
   ]
  },
  {
   "cell_type": "markdown",
   "id": "df6299bb",
   "metadata": {},
   "source": [
    "s jedne strane imamo df koji ima id korisnika, id članka i s druge imamo df_arxiv koji ima id članka i konkatenirani tekst \n",
    "\n",
    "radimo merge "
   ]
  },
  {
   "cell_type": "code",
   "execution_count": null,
   "id": "05c3134e",
   "metadata": {},
   "outputs": [],
   "source": [
    "df_arxiv=df.merge(df_arxiv)"
   ]
  },
  {
   "cell_type": "code",
   "execution_count": 191,
   "id": "c8a15075",
   "metadata": {},
   "outputs": [
    {
     "name": "stdout",
     "output_type": "stream",
     "text": [
      "<class 'pandas.core.frame.DataFrame'>\n",
      "Int64Index: 3932 entries, 0 to 3931\n",
      "Data columns (total 4 columns):\n",
      " #   Column  Non-Null Count  Dtype \n",
      "---  ------  --------------  ----- \n",
      " 0   userID  3932 non-null   int64 \n",
      " 1   artID   3932 non-null   object\n",
      " 2   source  3932 non-null   object\n",
      " 3   text    3932 non-null   object\n",
      "dtypes: int64(1), object(3)\n",
      "memory usage: 153.6+ KB\n"
     ]
    }
   ],
   "source": [
    "df_arxiv.info()"
   ]
  },
  {
   "cell_type": "code",
   "execution_count": 193,
   "id": "120b65b1",
   "metadata": {},
   "outputs": [],
   "source": [
    "df_arxiv.to_csv('datasets/twitter/arxiv_user_txt_27_3.csv',index=False) "
   ]
  },
  {
   "cell_type": "markdown",
   "id": "775c71c3",
   "metadata": {},
   "source": [
    "___"
   ]
  },
  {
   "cell_type": "code",
   "execution_count": null,
   "id": "3bb6af60",
   "metadata": {},
   "outputs": [],
   "source": [
    "pwd"
   ]
  },
  {
   "cell_type": "markdown",
   "id": "79dc363f",
   "metadata": {},
   "source": [
    "## IEEE API\n"
   ]
  },
  {
   "cell_type": "code",
   "execution_count": null,
   "id": "d6e3d959",
   "metadata": {},
   "outputs": [],
   "source": [
    "art_ids=list(set(df.loc[df['source']=='ieee'][\"artID\"]))\n"
   ]
  },
  {
   "cell_type": "code",
   "execution_count": null,
   "id": "45049c7d",
   "metadata": {},
   "outputs": [],
   "source": [
    "len(art_ids) #puno bome"
   ]
  },
  {
   "cell_type": "code",
   "execution_count": null,
   "id": "9a343f78",
   "metadata": {},
   "outputs": [],
   "source": [
    "ieee_art_dict=dict()\n"
   ]
  },
  {
   "cell_type": "code",
   "execution_count": null,
   "id": "1a09662f",
   "metadata": {},
   "outputs": [],
   "source": [
    "import requests\n",
    "import time\n",
    "API_KEY=\"g5svwjuknwza8ktq5pc5nbzu\"\n",
    "\n",
    "iter=1\n",
    "for a in art_ids:\n",
    "    response = requests.get(\"https://ieeexploreapi.ieee.org/api/v1/search/articles?article_number=\"+a+\"&apikey=\"+API_KEY+\"&format=json\")\n",
    "    res=response.json()\n",
    "    try:\n",
    "        list_of_keyw=' '.join(res['articles'][0]['index_terms']['author_terms']['terms'])\n",
    "    except:\n",
    "        list_of_keyw=''\n",
    "    try:\n",
    "        abs=res['articles'][0]['abstract']\n",
    "        ieee_art_dict[a]=' '.join([list_of_keyw,abs])\n",
    "    except:\n",
    "        pass\n",
    "\n",
    "    \n",
    "    iter+=1\n",
    "    if iter>10:\n",
    "        time.sleep(1.5)\n",
    "        iter=1\n",
    "    \n",
    "    "
   ]
  },
  {
   "cell_type": "code",
   "execution_count": null,
   "id": "2de26ed6",
   "metadata": {},
   "outputs": [],
   "source": [
    "len([x for x in ieee_art_dict.values() if len(x)>1])"
   ]
  },
  {
   "cell_type": "code",
   "execution_count": null,
   "id": "745d01c3",
   "metadata": {},
   "outputs": [],
   "source": [
    "df_ieee=pd.DataFrame(ieee_art_dict.items(),columns=['artID','text'])\n",
    "df_ieee.head(1)"
   ]
  },
  {
   "cell_type": "code",
   "execution_count": null,
   "id": "b656d76a",
   "metadata": {},
   "outputs": [],
   "source": [
    "df_ieee.to_csv('datasets/twitter/ieee_artid_txt_27_3.csv',index=False) "
   ]
  },
  {
   "cell_type": "code",
   "execution_count": null,
   "id": "7c07915a",
   "metadata": {},
   "outputs": [],
   "source": [
    "df_ieee=df.merge(df_ieee)\n",
    "df_ieee.info()"
   ]
  },
  {
   "cell_type": "code",
   "execution_count": 192,
   "id": "f11c1bb4",
   "metadata": {},
   "outputs": [],
   "source": [
    "df_ieee.to_csv('datasets/twitter/ieee_user_txt_27_3.csv',index=False) "
   ]
  },
  {
   "cell_type": "code",
   "execution_count": null,
   "id": "747a3f21",
   "metadata": {},
   "outputs": [],
   "source": []
  },
  {
   "cell_type": "markdown",
   "id": "96f35fdb",
   "metadata": {},
   "source": [
    "#### article id | source | text"
   ]
  },
  {
   "cell_type": "code",
   "execution_count": 201,
   "id": "cb8cce27",
   "metadata": {},
   "outputs": [],
   "source": [
    "df_arxiv.to_csv('datasets/twitter/arxiv_artid_txt_27_3.csv',index=False) "
   ]
  },
  {
   "cell_type": "code",
   "execution_count": 204,
   "id": "f26d9f0c",
   "metadata": {},
   "outputs": [],
   "source": [
    "df_scidir['source']=[\"sciencedirect\"]*len(df_scidir)"
   ]
  },
  {
   "cell_type": "code",
   "execution_count": 220,
   "id": "91f5f15d",
   "metadata": {},
   "outputs": [],
   "source": [
    "SIA_df=df_scidir.append(df_arxiv).append(df_ieee)\n",
    "SIA_df=AES_df.reset_index(drop=True)"
   ]
  },
  {
   "cell_type": "code",
   "execution_count": 224,
   "id": "a63d06eb",
   "metadata": {},
   "outputs": [],
   "source": [
    "SIA_df.to_csv('datasets/twitter/sia_27_3.csv',index=False)"
   ]
  },
  {
   "cell_type": "markdown",
   "id": "5fbba332",
   "metadata": {},
   "source": [
    "___"
   ]
  },
  {
   "cell_type": "markdown",
   "id": "44b2a08d",
   "metadata": {},
   "source": [
    "#### userID | articleID"
   ]
  },
  {
   "cell_type": "code",
   "execution_count": 223,
   "id": "d27dd586",
   "metadata": {},
   "outputs": [],
   "source": [
    "df.to_csv('datasets/twitter/userid_artid_27_3.csv',index=False)"
   ]
  }
 ],
 "metadata": {
  "kernelspec": {
   "display_name": "Python3 (dorasworld)",
   "language": "python",
   "name": "dorasworld"
  },
  "language_info": {
   "codemirror_mode": {
    "name": "ipython",
    "version": 3
   },
   "file_extension": ".py",
   "mimetype": "text/x-python",
   "name": "python",
   "nbconvert_exporter": "python",
   "pygments_lexer": "ipython3",
   "version": "3.9.7"
  }
 },
 "nbformat": 4,
 "nbformat_minor": 5
}
