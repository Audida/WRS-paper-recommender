{
 "cells": [
  {
   "cell_type": "markdown",
   "id": "14656231",
   "metadata": {},
   "source": [
    "Brzina embeddinga,fasttext + WRS VS SBERT"
   ]
  },
  {
   "cell_type": "code",
   "execution_count": 28,
   "id": "0bc74d73",
   "metadata": {},
   "outputs": [
    {
     "name": "stderr",
     "output_type": "stream",
     "text": [
      "Warning : `load_model` does not return WordVectorModel or SupervisedModel any more, but a `FastText` object which is very similar.\n"
     ]
    }
   ],
   "source": [
    "import pandas as pd\n",
    "import json\n",
    "import os\n",
    "import numpy as np\n",
    "from sentence_transformers import SentenceTransformer, util\n",
    "from datetime import datetime\n",
    "import pandas as pd\n",
    "import jsonlines\n",
    "import gc \n",
    "#import gensim \n",
    "#from gensim.models.wrappers import fasttext\n",
    "import fasttext.util\n",
    "import re\n",
    "import spacy\n",
    "import nltk\n",
    "from nltk.corpus import stopwords\n",
    "from collections import Counter\n",
    "import numpy as np\n",
    "from string import punctuation\n",
    "import sys\n",
    "import re \n",
    "import random\n",
    "import json\n",
    "import time\n",
    "import tqdm \n",
    "from tqdm import tqdm\n",
    "\n",
    "import fasttext.util\n",
    "ft = fasttext.load_model('/home/dora/Desktop/recommender/datasets/cc.en.300.bin')"
   ]
  },
  {
   "cell_type": "code",
   "execution_count": 3,
   "id": "4caa114b",
   "metadata": {},
   "outputs": [],
   "source": [
    "pre_df=pd.read_parquet(\"datasets/preprocessed.parquet\")"
   ]
  },
  {
   "cell_type": "code",
   "execution_count": 4,
   "id": "e457c63a",
   "metadata": {},
   "outputs": [
    {
     "data": {
      "text/html": [
       "<div>\n",
       "<style scoped>\n",
       "    .dataframe tbody tr th:only-of-type {\n",
       "        vertical-align: middle;\n",
       "    }\n",
       "\n",
       "    .dataframe tbody tr th {\n",
       "        vertical-align: top;\n",
       "    }\n",
       "\n",
       "    .dataframe thead th {\n",
       "        text-align: right;\n",
       "    }\n",
       "</style>\n",
       "<table border=\"1\" class=\"dataframe\">\n",
       "  <thead>\n",
       "    <tr style=\"text-align: right;\">\n",
       "      <th></th>\n",
       "      <th>id</th>\n",
       "      <th>preprocessed</th>\n",
       "    </tr>\n",
       "  </thead>\n",
       "  <tbody>\n",
       "    <tr>\n",
       "      <th>0</th>\n",
       "      <td>53e99784b7602d9701f3e133</td>\n",
       "      <td>agronomy moisture hydrology environmental scie...</td>\n",
       "    </tr>\n",
       "    <tr>\n",
       "      <th>1</th>\n",
       "      <td>53e99784b7602d9701f3e15d</td>\n",
       "      <td>delay calculation timing failure monte carlo m...</td>\n",
       "    </tr>\n",
       "    <tr>\n",
       "      <th>2</th>\n",
       "      <td>53e99784b7602d9701f3e161</td>\n",
       "      <td>global high technology daily short distance fl...</td>\n",
       "    </tr>\n",
       "    <tr>\n",
       "      <th>3</th>\n",
       "      <td>53e99784b7602d9701f3e4f4</td>\n",
       "      <td>btextures visual source material minute sound ...</td>\n",
       "    </tr>\n",
       "    <tr>\n",
       "      <th>4</th>\n",
       "      <td>53e99784b7602d9701f3eaf2</td>\n",
       "      <td>monkeysii constructing system cope dynamically...</td>\n",
       "    </tr>\n",
       "  </tbody>\n",
       "</table>\n",
       "</div>"
      ],
      "text/plain": [
       "                         id                                       preprocessed\n",
       "0  53e99784b7602d9701f3e133  agronomy moisture hydrology environmental scie...\n",
       "1  53e99784b7602d9701f3e15d  delay calculation timing failure monte carlo m...\n",
       "2  53e99784b7602d9701f3e161  global high technology daily short distance fl...\n",
       "3  53e99784b7602d9701f3e4f4  btextures visual source material minute sound ...\n",
       "4  53e99784b7602d9701f3eaf2  monkeysii constructing system cope dynamically..."
      ]
     },
     "execution_count": 4,
     "metadata": {},
     "output_type": "execute_result"
    }
   ],
   "source": [
    "pre_df.head()"
   ]
  },
  {
   "cell_type": "code",
   "execution_count": 5,
   "id": "2dcd2930",
   "metadata": {},
   "outputs": [],
   "source": [
    "#!pip install sentence-transformers"
   ]
  },
  {
   "cell_type": "code",
   "execution_count": 6,
   "id": "7db0aa37",
   "metadata": {},
   "outputs": [],
   "source": [
    "model = SentenceTransformer('sentence-transformers/all-MiniLM-L6-v2')"
   ]
  },
  {
   "cell_type": "code",
   "execution_count": 7,
   "id": "ecbb98c4",
   "metadata": {},
   "outputs": [],
   "source": [
    "def get_me_some_vectors(text):  \n",
    "    \n",
    "    words = text.split()   #rastavlja text na rijeci\n",
    "    vectors = 0\n",
    "    numOfExceptableWords = 0  #ukupni broj rijeci za koje cemo izgenerirati vektore\n",
    "    for w in words:\n",
    "      try:                    #ako neka rijec ne postoji u vokabularu baca se iznimka\n",
    "        vec = ft.get_word_vector(w)\n",
    "        vectors += vec\n",
    "        numOfExceptableWords +=1\n",
    "      except:\n",
    "        continue\n",
    "  \n",
    "    return vectors/numOfExceptableWords\n",
    "    \n"
   ]
  },
  {
   "cell_type": "code",
   "execution_count": 8,
   "id": "00b498ab",
   "metadata": {},
   "outputs": [
    {
     "name": "stderr",
     "output_type": "stream",
     "text": [
      "2022-06-29 22:23:32.874290: I tensorflow/stream_executor/cuda/cuda_gpu_executor.cc:937] successful NUMA node read from SysFS had negative value (-1), but there must be at least one NUMA node, so returning NUMA node zero\n",
      "2022-06-29 22:23:32.896508: W tensorflow/stream_executor/platform/default/dso_loader.cc:64] Could not load dynamic library 'libcudnn.so.8'; dlerror: libcudnn.so.8: cannot open shared object file: No such file or directory\n",
      "2022-06-29 22:23:32.896520: W tensorflow/core/common_runtime/gpu/gpu_device.cc:1835] Cannot dlopen some GPU libraries. Please make sure the missing libraries mentioned above are installed properly if you would like to use GPU. Follow the guide at https://www.tensorflow.org/install/gpu for how to download and setup the required libraries for your platform.\n",
      "Skipping registering GPU devices...\n",
      "2022-06-29 22:23:32.896794: I tensorflow/core/platform/cpu_feature_guard.cc:142] This TensorFlow binary is optimized with oneAPI Deep Neural Network Library (oneDNN) to use the following CPU instructions in performance-critical operations:  AVX2 AVX512F FMA\n",
      "To enable them in other operations, rebuild TensorFlow with the appropriate compiler flags.\n"
     ]
    }
   ],
   "source": [
    "MODELS_PATH = \"/home/dora/Desktop/recommender/datasets/master_generated/6-10-200000-100_ID@_6/MODELS/128_0.001@0623-012052/\"\n",
    "import glob          \n",
    "import tensorflow as tf\n",
    "from tensorflow.keras.models import load_model\n",
    "from tensorflow.keras.models import Model\n",
    "user_tower=glob.glob(MODELS_PATH+'*userTower*')[0]\n",
    "\n",
    "user_tower= tf.keras.models.load_model(user_tower,compile=False)\n"
   ]
  },
  {
   "cell_type": "markdown",
   "id": "678a2e86",
   "metadata": {},
   "source": [
    "___"
   ]
  },
  {
   "cell_type": "markdown",
   "id": "1185b49b",
   "metadata": {},
   "source": [
    "### SBERT"
   ]
  },
  {
   "cell_type": "code",
   "execution_count": 9,
   "id": "0a52bc9e",
   "metadata": {},
   "outputs": [],
   "source": [
    "sberttimes=[]\n",
    "ftwrttimes=[]\n",
    "fttimes=[]"
   ]
  },
  {
   "cell_type": "code",
   "execution_count": 10,
   "id": "8ef1bb58",
   "metadata": {},
   "outputs": [],
   "source": [
    "maxval=len(pre_df)-100_001"
   ]
  },
  {
   "cell_type": "code",
   "execution_count": 11,
   "id": "349a9541",
   "metadata": {},
   "outputs": [],
   "source": [
    "startl = np.random.randint(1,high=maxval,size=6)"
   ]
  },
  {
   "cell_type": "code",
   "execution_count": 12,
   "id": "4795a225",
   "metadata": {},
   "outputs": [
    {
     "data": {
      "text/plain": [
       "array([2594742, 2922026, 3399383, 3088864, 2648032, 1343093])"
      ]
     },
     "execution_count": 12,
     "metadata": {},
     "output_type": "execute_result"
    }
   ],
   "source": [
    "startl"
   ]
  },
  {
   "cell_type": "code",
   "execution_count": 42,
   "id": "243b8667",
   "metadata": {},
   "outputs": [],
   "source": [
    "numu= [1,10,100,1000,10000,100000] #broj korisnika\n",
    "j=0\n",
    "for i in numu:\n",
    "    start = startl[j]\n",
    "    end= start + i\n",
    "    start_time = datetime.now()\n",
    "    corpus_embeddings = model.encode(list(pre_df['preprocessed'][start:end]), convert_to_tensor=False,show_progress_bar=False, device='cpu')\n",
    "    end_time = datetime.now()\n",
    "    sberttimes.append(end_time-start_time)\n",
    "    \n",
    "    #fasttext + WRS\n",
    "    vcts=[]\n",
    "    embedded_users=[]\n",
    "    start_time = datetime.now()\n",
    "\n",
    "    for indx in range(start,end):\n",
    "        vct= ft.get_sentence_vector(pre_df['preprocessed'][indx])\n",
    "        embedded_users.append(vct)\n",
    "\n",
    "    embedded_users_emb=user_tower.predict(np.array(embedded_users))\n",
    "    end_time = datetime.now()\n",
    "    ftwrttimes.append(end_time-start_time)\n",
    "    j+=1"
   ]
  },
  {
   "cell_type": "code",
   "execution_count": 29,
   "id": "5d34938a",
   "metadata": {},
   "outputs": [],
   "source": [
    "j=0\n",
    "fttimes=[]\n",
    "for i in numu:\n",
    "    start = startl[j]\n",
    "    end= start + i\n",
    "    #fasttext\n",
    "    vcts=[]\n",
    "    embedded_users=[]\n",
    "    start_time = datetime.now()\n",
    "\n",
    "    for indx in range(start,end):\n",
    "        vct= ft.get_sentence_vector(pre_df['preprocessed'][indx])\n",
    "        embedded_users.append(vct)\n",
    "\n",
    "    end_time = datetime.now()\n",
    "    fttimes.append(end_time-start_time)\n",
    "    j+=1"
   ]
  },
  {
   "cell_type": "code",
   "execution_count": 14,
   "id": "8deb720c",
   "metadata": {},
   "outputs": [
    {
     "data": {
      "text/plain": [
       "[datetime.timedelta(microseconds=25788),\n",
       " datetime.timedelta(microseconds=73306),\n",
       " datetime.timedelta(seconds=1, microseconds=360047),\n",
       " datetime.timedelta(seconds=13, microseconds=300289),\n",
       " datetime.timedelta(seconds=110, microseconds=988684),\n",
       " datetime.timedelta(seconds=1372, microseconds=31662)]"
      ]
     },
     "execution_count": 14,
     "metadata": {},
     "output_type": "execute_result"
    }
   ],
   "source": [
    "sberttimes"
   ]
  },
  {
   "cell_type": "code",
   "execution_count": 43,
   "id": "95809e03",
   "metadata": {},
   "outputs": [],
   "source": [
    "st = [x.total_seconds() for x in sberttimes]"
   ]
  },
  {
   "cell_type": "code",
   "execution_count": 44,
   "id": "6253b223",
   "metadata": {},
   "outputs": [],
   "source": [
    "fw=[x.total_seconds() for x in ftwrttimes]"
   ]
  },
  {
   "cell_type": "code",
   "execution_count": 45,
   "id": "c745e9ec",
   "metadata": {},
   "outputs": [],
   "source": [
    "ftt=[x.total_seconds() for x in fttimes]"
   ]
  },
  {
   "cell_type": "code",
   "execution_count": 48,
   "id": "e43de969",
   "metadata": {},
   "outputs": [],
   "source": [
    "df = pd.DataFrame(list(zip(numu,st,ftt,fw)), columns=[\"Broj korisnika\",\"SBERT (s)\",\"Fasttext\",\"Fasttext + WRS metoda (s)\"])"
   ]
  },
  {
   "cell_type": "code",
   "execution_count": 49,
   "id": "817e0c00",
   "metadata": {},
   "outputs": [
    {
     "data": {
      "text/plain": [
       "([0.020323, 0.019057, 0.044321, 0.258844, 2.161189, 24.471896],\n",
       " [0.000434, 0.001485, 0.025728, 0.235429, 2.134885, 23.424476],\n",
       " [0.025788, 0.073306, 1.360047, 13.300289, 110.988684, 1372.031662])"
      ]
     },
     "execution_count": 49,
     "metadata": {},
     "output_type": "execute_result"
    }
   ],
   "source": [
    "fw,ftt,st"
   ]
  },
  {
   "cell_type": "code",
   "execution_count": 50,
   "id": "377796a9",
   "metadata": {},
   "outputs": [
    {
     "data": {
      "text/html": [
       "<div>\n",
       "<style scoped>\n",
       "    .dataframe tbody tr th:only-of-type {\n",
       "        vertical-align: middle;\n",
       "    }\n",
       "\n",
       "    .dataframe tbody tr th {\n",
       "        vertical-align: top;\n",
       "    }\n",
       "\n",
       "    .dataframe thead th {\n",
       "        text-align: right;\n",
       "    }\n",
       "</style>\n",
       "<table border=\"1\" class=\"dataframe\">\n",
       "  <thead>\n",
       "    <tr style=\"text-align: right;\">\n",
       "      <th></th>\n",
       "      <th>Broj korisnika</th>\n",
       "      <th>SBERT (s)</th>\n",
       "      <th>Fasttext</th>\n",
       "      <th>Fasttext + WRS metoda (s)</th>\n",
       "    </tr>\n",
       "  </thead>\n",
       "  <tbody>\n",
       "    <tr>\n",
       "      <th>0</th>\n",
       "      <td>1</td>\n",
       "      <td>0.025788</td>\n",
       "      <td>0.000434</td>\n",
       "      <td>0.020323</td>\n",
       "    </tr>\n",
       "    <tr>\n",
       "      <th>1</th>\n",
       "      <td>10</td>\n",
       "      <td>0.073306</td>\n",
       "      <td>0.001485</td>\n",
       "      <td>0.019057</td>\n",
       "    </tr>\n",
       "    <tr>\n",
       "      <th>2</th>\n",
       "      <td>100</td>\n",
       "      <td>1.360047</td>\n",
       "      <td>0.025728</td>\n",
       "      <td>0.044321</td>\n",
       "    </tr>\n",
       "    <tr>\n",
       "      <th>3</th>\n",
       "      <td>1000</td>\n",
       "      <td>13.300289</td>\n",
       "      <td>0.235429</td>\n",
       "      <td>0.258844</td>\n",
       "    </tr>\n",
       "    <tr>\n",
       "      <th>4</th>\n",
       "      <td>10000</td>\n",
       "      <td>110.988684</td>\n",
       "      <td>2.134885</td>\n",
       "      <td>2.161189</td>\n",
       "    </tr>\n",
       "    <tr>\n",
       "      <th>5</th>\n",
       "      <td>100000</td>\n",
       "      <td>1372.031662</td>\n",
       "      <td>23.424476</td>\n",
       "      <td>24.471896</td>\n",
       "    </tr>\n",
       "  </tbody>\n",
       "</table>\n",
       "</div>"
      ],
      "text/plain": [
       "   Broj korisnika    SBERT (s)   Fasttext  Fasttext + WRS metoda (s)\n",
       "0               1     0.025788   0.000434                   0.020323\n",
       "1              10     0.073306   0.001485                   0.019057\n",
       "2             100     1.360047   0.025728                   0.044321\n",
       "3            1000    13.300289   0.235429                   0.258844\n",
       "4           10000   110.988684   2.134885                   2.161189\n",
       "5          100000  1372.031662  23.424476                  24.471896"
      ]
     },
     "execution_count": 50,
     "metadata": {},
     "output_type": "execute_result"
    }
   ],
   "source": [
    "df"
   ]
  },
  {
   "cell_type": "code",
   "execution_count": 51,
   "id": "210a57dd",
   "metadata": {},
   "outputs": [],
   "source": [
    "SAVE_PATH = \"/home/dora/osci-syn/nemojbrisat_maknuticu/slike/grafovi/\" "
   ]
  },
  {
   "cell_type": "code",
   "execution_count": 52,
   "id": "58feb2f4",
   "metadata": {},
   "outputs": [
    {
     "data": {
      "image/png": "[encoded data removed]",
      "text/plain": [
       "<Figure size 720x576 with 1 Axes>"
      ]
     },
     "metadata": {
      "needs_background": "light"
     },
     "output_type": "display_data"
    }
   ],
   "source": [
    "import numpy as np\n",
    "import pandas as pd\n",
    "import matplotlib.pyplot as plt\n",
    "\n",
    "fig, ax = plt.subplots(figsize=(10,8))\n",
    "\n",
    "# hide axes\n",
    "fig.patch.set_visible(False)\n",
    "ax.axis('off')\n",
    "ax.axis('tight')\n",
    "\n",
    "\n",
    "ax.table(cellText=df.values, colLabels=df.columns, loc='center')\n",
    "fig.tight_layout()\n",
    "plt.savefig(SAVE_PATH + 'tabbrz.png',dpi=300)\n",
    "\n",
    "plt.show()"
   ]
  },
  {
   "cell_type": "code",
   "execution_count": 53,
   "id": "91e27bc0",
   "metadata": {},
   "outputs": [],
   "source": [
    "df.to_excel(SAVE_PATH+\"brzine.xlsx\") "
   ]
  },
  {
   "cell_type": "code",
   "execution_count": 54,
   "id": "68e08a4d",
   "metadata": {},
   "outputs": [
    {
     "data": {
      "image/png": "[encoded data removed]",
      "text/plain": [
       "<Figure size 432x288 with 1 Axes>"
      ]
     },
     "metadata": {
      "needs_background": "light"
     },
     "output_type": "display_data"
    }
   ],
   "source": [
    "import matplotlib.pyplot as plt\n",
    "x = numu\n",
    "# create an index for each tick position\n",
    "xi = list(range(len(x)))\n",
    "y = st\n",
    "plt.ylim(0,1600)\n",
    "# plot the index for the x-values\n",
    "plt.plot(xi, y, marker='o', linestyle='--', color='r', label='SBERT') \n",
    "plt.ylabel('sekunde') \n",
    "plt.xlabel('broj korisnika') \n",
    "plt.xticks(xi, x)\n",
    "plt.title('brzina smještaja korisnika')\n",
    "plt.legend() \n",
    "plt.savefig(SAVE_PATH + 'sbert.png',dpi=300)\n",
    "\n",
    "plt.show()\n"
   ]
  },
  {
   "cell_type": "code",
   "execution_count": 57,
   "id": "4056a634",
   "metadata": {},
   "outputs": [
    {
     "data": {
      "image/png": "[encoded data removed]",
      "text/plain": [
       "<Figure size 432x288 with 1 Axes>"
      ]
     },
     "metadata": {
      "needs_background": "light"
     },
     "output_type": "display_data"
    }
   ],
   "source": [
    "import matplotlib.pyplot as plt\n",
    "x = numu\n",
    "# create an index for each tick position\n",
    "xi = list(range(len(x)))\n",
    "y = fw\n",
    "y2=ftt\n",
    "plt.ylim(0,27)\n",
    "# plot the index for the x-values\n",
    "plt.plot(xi, y, marker='*', linestyle='--', color='m', label='Fasttext + WRS metoda')\n",
    "plt.plot(xi, y2, marker='d', linestyle='--', color='b', label='Fasttext') \n",
    "\n",
    "plt.ylabel('sekunde') \n",
    "plt.xlabel('broj korisnika') \n",
    "plt.xticks(xi, x)\n",
    "plt.title('brzina smještaja korisnika')\n",
    "plt.legend() \n",
    "plt.savefig(SAVE_PATH + 'ftwrs.png',dpi=300)\n",
    "\n",
    "plt.show()\n"
   ]
  },
  {
   "cell_type": "code",
   "execution_count": 61,
   "id": "be12afb3",
   "metadata": {},
   "outputs": [
    {
     "data": {
      "image/png": "[encoded data removed]",
      "text/plain": [
       "<Figure size 432x288 with 1 Axes>"
      ]
     },
     "metadata": {
      "needs_background": "light"
     },
     "output_type": "display_data"
    }
   ],
   "source": [
    "import matplotlib.pyplot as plt\n",
    "x = numu[:-1]\n",
    "# create an index for each tick position\n",
    "xi = list(range(len(x)))\n",
    "y1 = fw [:-1]\n",
    "y2 = st[:-1]\n",
    "y3 = ftt[:-1]\n",
    "plt.ylim(0,150)\n",
    "# plot the index for the x-values\n",
    "plt.plot(xi, y1, marker='*', linestyle='--', color='m', label='Fasttext + WRS metoda') \n",
    "plt.plot(xi, y2, marker='o', linestyle='--', color='r', label='SBERT') \n",
    "plt.plot(xi, y3, marker='d', linestyle='--', color='b', label='Fasttext') \n",
    "\n",
    "plt.ylabel('sekunde') \n",
    "plt.xlabel('broj korisnika') \n",
    "plt.xticks(xi, x)\n",
    "plt.title('brzina smještaja korisnika - ograničena na 10k korisnika')\n",
    "plt.legend()\n",
    "plt.savefig(SAVE_PATH + 'obojebrzina.png',dpi=300)\n",
    "\n",
    "plt.show()\n"
   ]
  },
  {
   "cell_type": "code",
   "execution_count": null,
   "id": "aa410aae",
   "metadata": {},
   "outputs": [],
   "source": []
  }
 ],
 "metadata": {
  "kernelspec": {
   "display_name": "Python3 (dorasworld)",
   "language": "python",
   "name": "dorasworld"
  },
  "language_info": {
   "codemirror_mode": {
    "name": "ipython",
    "version": 3
   },
   "file_extension": ".py",
   "mimetype": "text/x-python",
   "name": "python",
   "nbconvert_exporter": "python",
   "pygments_lexer": "ipython3",
   "version": "3.9.7"
  }
 },
 "nbformat": 4,
 "nbformat_minor": 5
}
