{
 "cells": [
  {
   "cell_type": "markdown",
   "id": "f9c68ae8",
   "metadata": {},
   "source": [
    "## 1. generiranje korisnika slučajnom šetnjom"
   ]
  },
  {
   "cell_type": "markdown",
   "id": "1eac8d0e",
   "metadata": {},
   "source": [
    "___________________________________________________"
   ]
  },
  {
   "cell_type": "code",
   "execution_count": null,
   "id": "09febb48",
   "metadata": {},
   "outputs": [],
   "source": [
    "ID=7\n",
    "#hop_alpha = 2\n",
    "\n",
    "MAX_HOPS_DIFF = 6 #udaljenost od pozitivnih\n",
    "MIN_HOPS_DIFF = 2\n",
    "NUM_HARD_NEG = 3\n",
    "NUM_EASY_NEG = 3\n",
    "\n",
    "\n",
    "MIN_CLANAKA = 6 \n",
    "MAX_CLANAKA = 10\n",
    "BROJ_JEZGRI=16\n",
    "BROJ_KORISNIKA=300_000\n",
    "\n",
    "MAX_DEGREE=100 #uklanjamo sve vrhove koji imaju stupanj veći od MAX_DEGREE \n",
    "BROJ_KORISNIKA_PO_JEZGRI=BROJ_KORISNIKA//BROJ_JEZGRI + 1\n",
    "\n"
   ]
  },
  {
   "cell_type": "markdown",
   "id": "5d915e92",
   "metadata": {},
   "source": [
    "____"
   ]
  },
  {
   "cell_type": "code",
   "execution_count": null,
   "id": "66feeb4e",
   "metadata": {},
   "outputs": [],
   "source": [
    "%run helper_notebooks/random_walk_tuned.ipynb"
   ]
  },
  {
   "cell_type": "markdown",
   "id": "c94d7b8a",
   "metadata": {},
   "source": [
    "info o grafu citata"
   ]
  },
  {
   "cell_type": "code",
   "execution_count": null,
   "id": "bda52a78",
   "metadata": {},
   "outputs": [],
   "source": []
  },
  {
   "cell_type": "code",
   "execution_count": null,
   "id": "da7adb73",
   "metadata": {},
   "outputs": [],
   "source": [
    "print(\"broj vrhova, broj bridova\\n\",maxG.summary())\n",
    "print(\"medijan stupnja vrhova\",mean(maxG.degree()))"
   ]
  },
  {
   "cell_type": "markdown",
   "id": "7de5f99a",
   "metadata": {},
   "source": [
    "__________"
   ]
  },
  {
   "cell_type": "markdown",
   "id": "85a25d7e",
   "metadata": {},
   "source": [
    "## .. 👽   "
   ]
  },
  {
   "cell_type": "code",
   "execution_count": null,
   "id": "a98f8534",
   "metadata": {},
   "outputs": [],
   "source": [
    "%run helper_notebooks/random_walk_version_dropdown.ipynb"
   ]
  },
  {
   "cell_type": "code",
   "execution_count": null,
   "id": "a66b04cb",
   "metadata": {},
   "outputs": [],
   "source": [
    "VERSION\n"
   ]
  },
  {
   "cell_type": "markdown",
   "id": "80c0c5a0",
   "metadata": {},
   "source": [
    "____________"
   ]
  },
  {
   "cell_type": "code",
   "execution_count": null,
   "id": "ade975a2",
   "metadata": {},
   "outputs": [],
   "source": [
    "%run helper_notebooks/imports.ipynb #importa sve potrebne module"
   ]
  },
  {
   "cell_type": "code",
   "execution_count": null,
   "id": "bd2e6b1d",
   "metadata": {},
   "outputs": [],
   "source": [
    "%run helper_notebooks/userArticleLabel_dataset.ipynb\n"
   ]
  },
  {
   "cell_type": "markdown",
   "id": "f55cd66f",
   "metadata": {},
   "source": [
    "dalje, embeddamo korisnike uz fasttext & transformer"
   ]
  },
  {
   "cell_type": "code",
   "execution_count": null,
   "id": "0de1a902",
   "metadata": {},
   "outputs": [],
   "source": [
    "%run helper_notebooks/userVect_dataset.ipynb "
   ]
  },
  {
   "cell_type": "code",
   "execution_count": null,
   "id": "e0d8a785",
   "metadata": {},
   "outputs": [],
   "source": [
    "%notify"
   ]
  },
  {
   "cell_type": "markdown",
   "id": "f31234dc",
   "metadata": {},
   "source": [
    "🍓 sljedeća čelija oslobađa svu zauzetu memoriju do sada"
   ]
  },
  {
   "cell_type": "code",
   "execution_count": null,
   "id": "3f9c6cf1",
   "metadata": {},
   "outputs": [],
   "source": [
    "#izbriši me\n",
    "#%reset -f"
   ]
  },
  {
   "cell_type": "markdown",
   "id": "a348b755",
   "metadata": {},
   "source": [
    "# 2. Triplet model - cijeli notebook "
   ]
  },
  {
   "cell_type": "markdown",
   "id": "2bc448d7",
   "metadata": {},
   "source": [
    "### ! importanje potrebnih modula"
   ]
  },
  {
   "cell_type": "code",
   "execution_count": 1,
   "id": "1640a750",
   "metadata": {},
   "outputs": [],
   "source": [
    "BATCH_SIZE=64\n",
    "LR=0.001\n",
    "DROPOUT=0.2"
   ]
  },
  {
   "cell_type": "code",
   "execution_count": 2,
   "id": "37341d55",
   "metadata": {},
   "outputs": [
    {
     "data": {
      "application/javascript": [
       "if (!(\"Notification\" in window)) {\n",
       "    alert(\"This browser does not support desktop notifications, so the %%notify magic will not work.\");\n",
       "} else if (Notification.permission !== 'granted' && Notification.permission !== 'denied') {\n",
       "    Notification.requestPermission(function (permission) {\n",
       "        if(!('permission' in Notification)) {\n",
       "            Notification.permission = permission;\n",
       "        }\n",
       "    })\n",
       "}\n"
      ],
      "text/plain": [
       "<IPython.core.display.Javascript object>"
      ]
     },
     "metadata": {},
     "output_type": "display_data"
    }
   ],
   "source": [
    "%load_ext jupyternotify"
   ]
  },
  {
   "cell_type": "code",
   "execution_count": 1,
   "id": "f3068bfa",
   "metadata": {},
   "outputs": [],
   "source": [
    "%run helper_notebooks/imports.ipynb #importa sve potrebne module"
   ]
  },
  {
   "cell_type": "code",
   "execution_count": 4,
   "id": "b5c5c306",
   "metadata": {
    "id": "Q6EpKmoG5tgX"
   },
   "outputs": [],
   "source": [
    "from helper_notebooks.triplet_data_generator import DataGenerator #generator podataka za trening,validaciju"
   ]
  },
  {
   "cell_type": "markdown",
   "id": "989ee4f7",
   "metadata": {},
   "source": [
    "_____________________________________________________________________________________________________________"
   ]
  },
  {
   "cell_type": "markdown",
   "id": "4125eddd",
   "metadata": {},
   "source": [
    "# !\n",
    "###  👽 ukoliko se mijenjala arhitektua TT ali ne i korisnici, izmjeniti naziv modela ovdje"
   ]
  },
  {
   "cell_type": "code",
   "execution_count": 5,
   "id": "f7527884",
   "metadata": {},
   "outputs": [],
   "source": [
    "MODEL_VERSION_NAME=str(BATCH_SIZE)+\"_\"+str(LR) #IZMIJENI ME"
   ]
  },
  {
   "cell_type": "markdown",
   "id": "34ef146b",
   "metadata": {},
   "source": [
    "🍓 👽 pokreće se zadnja konfiguracija korisnika - može se izmijeniti i zatim -> run all below"
   ]
  },
  {
   "cell_type": "code",
   "execution_count": 6,
   "id": "ac4a9a85",
   "metadata": {},
   "outputs": [
    {
     "data": {
      "application/vnd.jupyter.widget-view+json": {
       "model_id": "cdc62bca514f473f86949826ed2a67e5",
       "version_major": 2,
       "version_minor": 0
      },
      "text/plain": [
       "interactive(children=(Dropdown(description='verzija korisnika:', options=('6-10-200000-100_ID@_4', '6-10-30000…"
      ]
     },
     "metadata": {},
     "output_type": "display_data"
    }
   ],
   "source": [
    "%run helper_notebooks/random_walk_version_dropdown.ipynb"
   ]
  },
  {
   "cell_type": "code",
   "execution_count": 7,
   "id": "bc1b8764",
   "metadata": {},
   "outputs": [
    {
     "data": {
      "text/plain": [
       "'5-8-300000-100_ID@_1'"
      ]
     },
     "execution_count": 7,
     "metadata": {},
     "output_type": "execute_result"
    }
   ],
   "source": [
    "VERSION"
   ]
  },
  {
   "cell_type": "markdown",
   "id": "611c18d9",
   "metadata": {},
   "source": [
    "# BIRAJ TT ILI Triplet\n"
   ]
  },
  {
   "cell_type": "code",
   "execution_count": 8,
   "id": "4905afa6",
   "metadata": {},
   "outputs": [],
   "source": [
    "TRIPLET = True"
   ]
  },
  {
   "cell_type": "markdown",
   "id": "31c40575",
   "metadata": {},
   "source": [
    "___________________________________________________________________________________________________________"
   ]
  },
  {
   "cell_type": "markdown",
   "id": "c2b6d099",
   "metadata": {},
   "source": [
    "# BIRAJ TT- FASTTEXT ILI TRANSFORMER  (bert)"
   ]
  },
  {
   "cell_type": "code",
   "execution_count": 9,
   "id": "1840ab86",
   "metadata": {},
   "outputs": [],
   "source": [
    "TRANSFORMER = True # PROMIJENI AKO ŽELIŠ TRANSFORMERA"
   ]
  },
  {
   "cell_type": "markdown",
   "id": "9df2c855",
   "metadata": {},
   "source": [
    "____"
   ]
  },
  {
   "cell_type": "code",
   "execution_count": 10,
   "id": "5709b4e3",
   "metadata": {},
   "outputs": [],
   "source": [
    "MODEL_VERSION_NAME=MODEL_VERSION_NAME+'@'+datetime.datetime.now().strftime(\"%m%d-%H%M%S\") #extra precaution (:"
   ]
  },
  {
   "cell_type": "code",
   "execution_count": 11,
   "id": "2a44c5bb",
   "metadata": {
    "id": "W2ZkAqOj8NZB"
   },
   "outputs": [],
   "source": [
    "PATH=\"datasets/master_generated/\"+VERSION+\"/\"\n",
    "SAVE_PATH=PATH+'MODELS/'+MODEL_VERSION_NAME+'/'\n",
    "\n",
    "additional=\"tt_\"\n",
    "if TRIPLET:\n",
    "    additional=\"triplet_\"\n",
    "IDS_PATH=glob.glob(PATH+additional+\"*Label*\")[0]\n",
    "\n",
    "USER_VECT_PATH = glob.glob(PATH+'*userVect*')[0]\n",
    "CKPT_PATH=SAVE_PATH+MODEL_VERSION_NAME+\"_CKPT\" #model checkpoint path"
   ]
  },
  {
   "cell_type": "code",
   "execution_count": 12,
   "id": "fb578e03",
   "metadata": {
    "id": "f7Yt2lfO5tgZ"
   },
   "outputs": [],
   "source": [
    "ids_labels_df =pd.read_parquet(IDS_PATH)"
   ]
  },
  {
   "cell_type": "code",
   "execution_count": 13,
   "id": "58b8143b",
   "metadata": {
    "colab": {
     "base_uri": "https://localhost:8080/",
     "height": 111
    },
    "id": "GZITB74f5tga",
    "outputId": "31888b94-f114-4b69-cbfb-8858c915f85c"
   },
   "outputs": [
    {
     "data": {
      "text/html": [
       "<div>\n",
       "<style scoped>\n",
       "    .dataframe tbody tr th:only-of-type {\n",
       "        vertical-align: middle;\n",
       "    }\n",
       "\n",
       "    .dataframe tbody tr th {\n",
       "        vertical-align: top;\n",
       "    }\n",
       "\n",
       "    .dataframe thead th {\n",
       "        text-align: right;\n",
       "    }\n",
       "</style>\n",
       "<table border=\"1\" class=\"dataframe\">\n",
       "  <thead>\n",
       "    <tr style=\"text-align: right;\">\n",
       "      <th></th>\n",
       "      <th>userID</th>\n",
       "      <th>posID</th>\n",
       "      <th>negID</th>\n",
       "    </tr>\n",
       "  </thead>\n",
       "  <tbody>\n",
       "    <tr>\n",
       "      <th>0</th>\n",
       "      <td>0</td>\n",
       "      <td>53e9b173b7602d9703bf874f</td>\n",
       "      <td>53e9be6bb7602d9704b2c654</td>\n",
       "    </tr>\n",
       "    <tr>\n",
       "      <th>1</th>\n",
       "      <td>0</td>\n",
       "      <td>53e9b173b7602d9703bf874f</td>\n",
       "      <td>53e99df7b7602d97026b820e</td>\n",
       "    </tr>\n",
       "  </tbody>\n",
       "</table>\n",
       "</div>"
      ],
      "text/plain": [
       "   userID                     posID                     negID\n",
       "0       0  53e9b173b7602d9703bf874f  53e9be6bb7602d9704b2c654\n",
       "1       0  53e9b173b7602d9703bf874f  53e99df7b7602d97026b820e"
      ]
     },
     "execution_count": 13,
     "metadata": {},
     "output_type": "execute_result"
    }
   ],
   "source": [
    "ids_labels_df.head(2)"
   ]
  },
  {
   "cell_type": "code",
   "execution_count": 14,
   "id": "e8635872",
   "metadata": {},
   "outputs": [],
   "source": [
    "try:\n",
    "    article_vect_dict\n",
    "except:\n",
    "    if not TRANSFORMER: #FastText\n",
    "        article_vect_dict =pd.read_parquet('datasets/dblpv13_fasttext.parquet',  engine='pyarrow').set_index('id').T.to_dict('list') \n",
    "        article_vect_dict = {key: np.vstack(value) for key, value in article_vect_dict.items()} # \"unpack\" vectors\n",
    "    else: #SenBert transformer\n",
    "        article_vect_dict_tr_part1 =pd.read_parquet('datasets/mLM_part_1',  engine='pyarrow').set_index('id').T.to_dict('list') \n",
    "        article_vect_dict_tr_part1 = {key: np.vstack(value) for key, value in article_vect_dict_tr_part1.items()} # \"unpack\" vectors\n",
    "        article_vect_dict_tr_part2 =pd.read_parquet('datasets/mLM_part_2',  engine='pyarrow').set_index('id').T.to_dict('list') \n",
    "        article_vect_dict_tr_part2 = {key: np.vstack(value) for key, value in article_vect_dict_tr_part2.items()} # \"unpack\" vectors\n",
    "        article_vect_dict = {**article_vect_dict_tr_part1, **article_vect_dict_tr_part2}"
   ]
  },
  {
   "cell_type": "code",
   "execution_count": 15,
   "id": "9bb4da07",
   "metadata": {},
   "outputs": [
    {
     "data": {
      "text/plain": [
       "384"
      ]
     },
     "execution_count": 15,
     "metadata": {},
     "output_type": "execute_result"
    }
   ],
   "source": [
    "input_shape=article_vect_dict['558b49f984ae84d265c28c14'].shape[1]\n",
    "input_shape"
   ]
  },
  {
   "cell_type": "code",
   "execution_count": 16,
   "id": "34fbb84d",
   "metadata": {
    "id": "knIUomfO5tgg"
   },
   "outputs": [],
   "source": [
    "user_vect_dict=pd.read_json(USER_VECT_PATH).set_index('userID').T.to_dict('list') \n",
    "user_vect_dict = {key: np.vstack(value[int(TRANSFORMER)]) for key, value in user_vect_dict.items()}\n",
    "#user_vect_dict = {key: np.vstack(value) for key, value in user_vect_dict.items()}"
   ]
  },
  {
   "cell_type": "code",
   "execution_count": 17,
   "id": "646fee1d",
   "metadata": {
    "colab": {
     "base_uri": "https://localhost:8080/"
    },
    "id": "8fa1WV2f5tgi",
    "outputId": "63742f6c-8372-434d-a809-eaa7a4874485"
   },
   "outputs": [
    {
     "name": "stdout",
     "output_type": "stream",
     "text": [
      "Number of users: 300016 \n",
      "Number of  articles: 3851441 \n",
      "Number of user-article-label pairs:  9909678\n"
     ]
    }
   ],
   "source": [
    "print(\"Number of users:\",len(user_vect_dict),\"\\nNumber of  articles:\", len(article_vect_dict),\"\\nNumber of user-article-label pairs: \",len(ids_labels_df))"
   ]
  },
  {
   "cell_type": "code",
   "execution_count": 18,
   "id": "529b8cfa",
   "metadata": {},
   "outputs": [
    {
     "name": "stdout",
     "output_type": "stream",
     "text": [
      "Number of unique articles: 1861817\n"
     ]
    }
   ],
   "source": [
    "uni = set(ids_labels_df['posID'])\n",
    "uni.update(ids_labels_df['negID'])\n",
    "print(\"Number of unique articles:\",len(uni))"
   ]
  },
  {
   "cell_type": "code",
   "execution_count": 19,
   "id": "4ee6121d",
   "metadata": {
    "id": "fi5vfTssYrGV",
    "scrolled": true
   },
   "outputs": [],
   "source": [
    "def split(X, test_size): #splitting dataset to train, test, validate set\n",
    "    gs = GroupShuffleSplit(n_splits=10, #num of re-shuffling\n",
    "                            test_size=test_size,\n",
    "                            random_state=42,\n",
    "                            )\n",
    "    train_ix, test_ix = next(gs.split( X, groups=X['userID'])) #one user in only one dataset (train or test or validate)\n",
    "    df_train = X.loc[train_ix]\n",
    "    df_test = X.loc[test_ix]\n",
    "    \n",
    "    \n",
    "    return df_train, df_test\n",
    "    \n"
   ]
  },
  {
   "cell_type": "code",
   "execution_count": 20,
   "id": "93877731",
   "metadata": {
    "id": "3x720c8w5tgm"
   },
   "outputs": [],
   "source": [
    "def shuffle(x): #shuffle dataset\n",
    "    idx = np.random.permutation(x.index)\n",
    "    x = x.reindex(idx)\n",
    "    x.reset_index(drop=True, inplace=True) #reset indexes     \n",
    "    return x   \n",
    "    "
   ]
  },
  {
   "cell_type": "code",
   "execution_count": 21,
   "id": "edbb5f60",
   "metadata": {
    "id": "yZEia8zv5tgm"
   },
   "outputs": [],
   "source": [
    "df_train, df_test = split(ids_labels_df, 0.2)\n",
    "df_test.reset_index(drop=True, inplace=True) #reset indexes     \n",
    "df_test, df_val  = split(df_test, 0.5)"
   ]
  },
  {
   "cell_type": "code",
   "execution_count": 22,
   "id": "17d0e6a4",
   "metadata": {
    "id": "IZkeVjku5tgo"
   },
   "outputs": [],
   "source": [
    "df_train=shuffle(df_train)\n",
    "df_test=shuffle(df_test)\n",
    "df_val=shuffle(df_val)"
   ]
  },
  {
   "cell_type": "code",
   "execution_count": 23,
   "id": "b9d8dee4",
   "metadata": {
    "colab": {
     "base_uri": "https://localhost:8080/"
    },
    "id": "hNwGnJE_RdEs",
    "outputId": "1f0529d6-7f3a-40a1-c346-d125f9ebbf09"
   },
   "outputs": [
    {
     "name": "stdout",
     "output_type": "stream",
     "text": [
      "size of training set: 7927992 \n",
      "size of validation set: 990132 \n",
      "size of test set: 991554\n"
     ]
    }
   ],
   "source": [
    "print(\"size of training set:\",len(df_train),\"\\nsize of validation set:\",len(df_val),\"\\nsize of test set:\",len(df_test))"
   ]
  },
  {
   "cell_type": "code",
   "execution_count": 24,
   "id": "bde5d073",
   "metadata": {
    "colab": {
     "base_uri": "https://localhost:8080/",
     "height": 204
    },
    "id": "cReEW6rET1qo",
    "outputId": "5da59ad7-2ef5-49da-b9f2-cdd50a5dc310"
   },
   "outputs": [
    {
     "data": {
      "text/html": [
       "<div>\n",
       "<style scoped>\n",
       "    .dataframe tbody tr th:only-of-type {\n",
       "        vertical-align: middle;\n",
       "    }\n",
       "\n",
       "    .dataframe tbody tr th {\n",
       "        vertical-align: top;\n",
       "    }\n",
       "\n",
       "    .dataframe thead th {\n",
       "        text-align: right;\n",
       "    }\n",
       "</style>\n",
       "<table border=\"1\" class=\"dataframe\">\n",
       "  <thead>\n",
       "    <tr style=\"text-align: right;\">\n",
       "      <th></th>\n",
       "      <th>userID</th>\n",
       "      <th>posID</th>\n",
       "      <th>negID</th>\n",
       "    </tr>\n",
       "  </thead>\n",
       "  <tbody>\n",
       "    <tr>\n",
       "      <th>0</th>\n",
       "      <td>213738</td>\n",
       "      <td>53e9bb29b7602d97047651c7</td>\n",
       "      <td>53e9b81cb7602d97043d3c5b</td>\n",
       "    </tr>\n",
       "    <tr>\n",
       "      <th>1</th>\n",
       "      <td>295981</td>\n",
       "      <td>5550450f45ce0a409eb5346c</td>\n",
       "      <td>5ecce8d991e0119170395b25</td>\n",
       "    </tr>\n",
       "    <tr>\n",
       "      <th>2</th>\n",
       "      <td>290433</td>\n",
       "      <td>53e9a1bdb7602d9702ab6473</td>\n",
       "      <td>53e9adbdb7602d97037bd2c7</td>\n",
       "    </tr>\n",
       "    <tr>\n",
       "      <th>3</th>\n",
       "      <td>32602</td>\n",
       "      <td>53e9a570b7602d9702e9a678</td>\n",
       "      <td>53e9abdab7602d970358f4bf</td>\n",
       "    </tr>\n",
       "    <tr>\n",
       "      <th>4</th>\n",
       "      <td>274920</td>\n",
       "      <td>56d8fa39dabfae2eeeae1d72</td>\n",
       "      <td>558a49a9e4b0b32fcb35eda5</td>\n",
       "    </tr>\n",
       "  </tbody>\n",
       "</table>\n",
       "</div>"
      ],
      "text/plain": [
       "   userID                     posID                     negID\n",
       "0  213738  53e9bb29b7602d97047651c7  53e9b81cb7602d97043d3c5b\n",
       "1  295981  5550450f45ce0a409eb5346c  5ecce8d991e0119170395b25\n",
       "2  290433  53e9a1bdb7602d9702ab6473  53e9adbdb7602d97037bd2c7\n",
       "3   32602  53e9a570b7602d9702e9a678  53e9abdab7602d970358f4bf\n",
       "4  274920  56d8fa39dabfae2eeeae1d72  558a49a9e4b0b32fcb35eda5"
      ]
     },
     "execution_count": 24,
     "metadata": {},
     "output_type": "execute_result"
    }
   ],
   "source": [
    "df_train.head()"
   ]
  },
  {
   "cell_type": "markdown",
   "id": "73a6adfa",
   "metadata": {},
   "source": [
    "\n",
    "________________________________________________________________________________________________\n",
    "mariniranje skupa za trening je gotovo, bacamo se na definiranje fja za treniranje\n",
    "\n",
    "prve dvije čelije su za learning rate finder"
   ]
  },
  {
   "cell_type": "raw",
   "id": "e7c9e6b3",
   "metadata": {
    "id": "OVfs6orjME3o"
   },
   "source": [
    "\n",
    "class MultiplicativeLearningRate(keras.callbacks.Callback):\n",
    "    \n",
    "    def __init__(self, factor):\n",
    "        self.factor = factor\n",
    "        self.losses = []\n",
    "        self.learning_rates = []\n",
    "        \n",
    "    def on_batch_end(self, batch, logs):\n",
    "        self.learning_rates.append(KB.get_value(self.model.optimizer.lr))\n",
    "        self.losses.append(logs[\"loss\"])\n",
    "        KB.set_value(self.model.optimizer.lr, self.model.optimizer.lr * self.factor)"
   ]
  },
  {
   "cell_type": "raw",
   "id": "c8db2452",
   "metadata": {
    "id": "19YBlSp6LV2R"
   },
   "source": [
    "\n",
    "def find_lr(model, input_gen, data_len, batch_size, min_lr = 10**-6, max_lr=10):\n",
    "    \n",
    "    # Compute learning rate multiplicative factor\n",
    "    num_iter = data_len // batch_size\n",
    "    lr_factor = np.exp(np.log(max_lr / min_lr) / num_iter)\n",
    "    \n",
    "    # Train for 1 epoch, starting with minimum learning rate and increase it\n",
    "    KB.set_value(model.optimizer.lr, min_lr)\n",
    "    lr_callback = MultiplicativeLearningRate(lr_factor)\n",
    "    model.fit(input_gen, epochs=1, batch_size=batch_size, callbacks=[lr_callback])\n",
    "    \n",
    "    # Plot loss vs log-scaled learning rate\n",
    "    sns.set(rc={'figure.figsize':(20,10)})\n",
    "    plot = sns.lineplot(lr_callback.learning_rates, lr_callback.losses)\n",
    "    plot.set(xscale=\"log\", \n",
    "             xlabel=\"Learning Rate (log-scale)\", \n",
    "             ylabel=\"Training Loss\")"
   ]
  },
  {
   "cell_type": "raw",
   "id": "ef22fcc5",
   "metadata": {
    "id": "0cMQCBjIfusD"
   },
   "source": [
    "def cosine_embedding_loss(y_true, y_pred):\n",
    "    margin=0.\n",
    "    return tf.reduce_mean( y_true * (1. - y_pred) + (1 -y_true) * tf.maximum(0., y_pred - margin))\n"
   ]
  },
  {
   "cell_type": "raw",
   "id": "0e33c3ed",
   "metadata": {
    "id": "a3M-Tr6w-k0j"
   },
   "source": [
    "def accuracy(y_true, y_pred):\n",
    "    '''compute classification accuracy with a fixed threshold on distances\n",
    "    '''\n",
    "    return KB.mean(KB.equal(y_true, KB.cast(y_pred > 0.5, y_true.dtype)))  "
   ]
  },
  {
   "cell_type": "raw",
   "id": "c04a76c0",
   "metadata": {},
   "source": [
    "# This function keeps the initial learning rate for the first n epochs\n",
    "# and decreases it exponentially after that.\n",
    "def lr_scheduler(epoch, lr):\n",
    "    if epoch < 25:\n",
    "        return lr\n",
    "    else:\n",
    "        return lr * tf.math.exp(-0.1)"
   ]
  },
  {
   "cell_type": "code",
   "execution_count": 25,
   "id": "a11020bf",
   "metadata": {},
   "outputs": [],
   "source": [
    "def lr_scheduler(epoch, lr):\n",
    "    if epoch % 10 == 0:\n",
    "        return lr * 1/5\n",
    "    else:\n",
    "        return lr "
   ]
  },
  {
   "cell_type": "code",
   "execution_count": 26,
   "id": "6c7c111f",
   "metadata": {
    "id": "ADeA5GOz5tgu"
   },
   "outputs": [],
   "source": [
    "training_generator =DataGenerator(df_train, article_vect_dict, user_vect_dict,dim=input_shape, batch_size=BATCH_SIZE)\n",
    "validation_generator = DataGenerator(df_val, article_vect_dict, user_vect_dict, dim=input_shape, batch_size=BATCH_SIZE)\n",
    "testing_generator = DataGenerator(df_test, article_vect_dict, user_vect_dict,dim=input_shape, batch_size=BATCH_SIZE,shuffle=False)"
   ]
  },
  {
   "cell_type": "markdown",
   "id": "89bda35d",
   "metadata": {},
   "source": [
    " #### 🐟 tri čelije ispod se ne koriste ukoliko se koristi tensorboard hparam tuning "
   ]
  },
  {
   "cell_type": "code",
   "execution_count": 2,
   "id": "fcf10213",
   "metadata": {},
   "outputs": [],
   "source": [
    "def one_tower():    \n",
    "    input=layers.Input(input_shape)\n",
    "    x=layers.BatchNormalization()(input)\n",
    "    x=layers.Dropout(DROPOUT)(x)\n",
    "    x=layers.Dense(250)(x)\n",
    "    x=layers.Activation('relu')(x)\n",
    "    \n",
    "    x=layers.BatchNormalization()(input)\n",
    "    x=layers.Dropout(DROPOUT)(x)\n",
    "    x=layers.Dense(200)(x)\n",
    "    x=layers.Activation('relu')(x)\n",
    "    \n",
    "    x=layers.BatchNormalization()(x)\n",
    "    x=layers.Dropout(DROPOUT)(x)\n",
    "    x=layers.Dense(150)(x)\n",
    "    x=layers.Activation('relu')(x)\n",
    "    \n",
    "    x=layers.BatchNormalization()(x)\n",
    "    x=layers.Dropout(DROPOUT)(x)\n",
    "    x=layers.Dense(100)(x)\n",
    "    x=layers.Activation('relu')(x)\n",
    "\n",
    "\n",
    "    \n",
    "\n",
    "    \n",
    "    embedding_network = keras.Model(input, x)\n",
    "    return embedding_network\n"
   ]
  },
  {
   "cell_type": "code",
   "execution_count": 3,
   "id": "8288f983",
   "metadata": {},
   "outputs": [],
   "source": [
    "def triplet_loss(y_true, y_pred, alpha = 0.1):\n",
    "    total_lenght = y_pred.shape.as_list()[-1]\n",
    "\n",
    "\n",
    "    anchor = y_pred[:,0:int(total_lenght*1/3)]\n",
    "    positive = y_pred[:,int(total_lenght*1/3):int(total_lenght*2/3)]\n",
    "    negative = y_pred[:,int(total_lenght*2/3):int(total_lenght*3/3)]\n",
    "\n",
    "    distance1 = tf.keras.losses.cosine_similarity(anchor, positive)\n",
    "    distance2 = tf.keras.losses.cosine_similarity(anchor, negative)\n",
    "    return tf.keras.backend.clip(distance1 - distance2 + alpha, 0., None)"
   ]
  },
  {
   "cell_type": "code",
   "execution_count": 8,
   "id": "5926feab",
   "metadata": {},
   "outputs": [],
   "source": [
    "#cosine TRIPLET\n",
    "user_input = Input(shape=input_shape)\n",
    "article_pos_input = Input(shape=input_shape)\n",
    "article_neg_input = Input(shape=input_shape)\n",
    "\n",
    "\n",
    "\n",
    "shared_tower=one_tower()\n",
    "\n",
    "user_output=shared_tower(user_input)\n",
    "article_pos_output=shared_tower(article_pos_input)\n",
    "article_neg_output=shared_tower(article_neg_input)\n",
    "\n",
    "merged_vector = tf.keras.layers.concatenate([user_output, article_pos_output, article_neg_output], axis=-1)"
   ]
  },
  {
   "cell_type": "code",
   "execution_count": 11,
   "id": "baa8aeeb",
   "metadata": {},
   "outputs": [],
   "source": [
    "opt = keras.optimizers.Adam(learning_rate=LR) #clipvalue?\n",
    "\n",
    "\n",
    "#model = Model([user_input, article_input], prediction)\n",
    "#loss=tf.keras.losses.BinaryCrossentropy(from_logits=False),\n",
    "\n",
    "\n",
    "model = Model(inputs=[user_input,article_pos_input, article_neg_input], outputs=merged_vector)\n",
    "\n",
    "\n",
    "model.compile(optimizer=opt,\n",
    "              loss=triplet_loss,\n",
    "              #metrics=accuracy,\n",
    "              run_eagerly=False)"
   ]
  },
  {
   "cell_type": "code",
   "execution_count": 12,
   "id": "f7929e80",
   "metadata": {},
   "outputs": [
    {
     "name": "stdout",
     "output_type": "stream",
     "text": [
      "Model: \"model_1\"\n",
      "__________________________________________________________________________________________________\n",
      "Layer (type)                    Output Shape         Param #     Connected to                     \n",
      "==================================================================================================\n",
      "input_5 (InputLayer)            [(None, 300)]        0                                            \n",
      "__________________________________________________________________________________________________\n",
      "input_6 (InputLayer)            [(None, 300)]        0                                            \n",
      "__________________________________________________________________________________________________\n",
      "input_7 (InputLayer)            [(None, 300)]        0                                            \n",
      "__________________________________________________________________________________________________\n",
      "model (Functional)              (None, 100)          108050      input_5[0][0]                    \n",
      "                                                                 input_6[0][0]                    \n",
      "                                                                 input_7[0][0]                    \n",
      "__________________________________________________________________________________________________\n",
      "concatenate (Concatenate)       (None, 300)          0           model[0][0]                      \n",
      "                                                                 model[1][0]                      \n",
      "                                                                 model[2][0]                      \n",
      "==================================================================================================\n",
      "Total params: 108,050\n",
      "Trainable params: 106,750\n",
      "Non-trainable params: 1,300\n",
      "__________________________________________________________________________________________________\n"
     ]
    }
   ],
   "source": [
    "model.summary()"
   ]
  },
  {
   "cell_type": "code",
   "execution_count": 13,
   "id": "77a2e461",
   "metadata": {},
   "outputs": [
    {
     "name": "stdout",
     "output_type": "stream",
     "text": [
      "('You must install pydot (`pip install pydot`) and install graphviz (see instructions at https://graphviz.gitlab.io/download/) ', 'for plot_model/model_to_dot to work.')\n"
     ]
    }
   ],
   "source": [
    "tf.keras.utils.plot_model(model)"
   ]
  },
  {
   "cell_type": "code",
   "execution_count": 33,
   "id": "af108a78",
   "metadata": {
    "colab": {
     "base_uri": "https://localhost:8080/",
     "height": 1000
    },
    "id": "c5TpVqu5Lb5X",
    "outputId": "5cee053f-24ab-4e9f-b4d6-8a0d567b7407"
   },
   "outputs": [],
   "source": [
    "#optimal learning rate\n",
    "# ! trening modela \n",
    "\n",
    "#find_lr(model, training_generator, len(df_train), batch_size=BATCH_SIZE) "
   ]
  },
  {
   "cell_type": "code",
   "execution_count": 34,
   "id": "c9e5c474",
   "metadata": {},
   "outputs": [],
   "source": [
    "#STOP"
   ]
  },
  {
   "cell_type": "markdown",
   "id": "da732354",
   "metadata": {},
   "source": [
    "___"
   ]
  },
  {
   "cell_type": "markdown",
   "id": "6dd00ba4",
   "metadata": {},
   "source": [
    "🍓 brisanje logova - TensorBoard"
   ]
  },
  {
   "cell_type": "raw",
   "id": "90b97f63",
   "metadata": {
    "colab": {
     "base_uri": "https://localhost:8080/"
    },
    "id": "vht-jDx-zkQV",
    "outputId": "4144151e-6198-4c2d-bfb5-8d8fffa632bc"
   },
   "source": [
    "# Load the TensorBoard notebook extension\n",
    "%load_ext tensorboard\n",
    "# Clear any logs from previous runs\n",
    "!rm -rf ./logs/\n"
   ]
  },
  {
   "cell_type": "code",
   "execution_count": 35,
   "id": "0758f501",
   "metadata": {},
   "outputs": [],
   "source": [
    "#%reload_ext tensorboard"
   ]
  },
  {
   "cell_type": "markdown",
   "id": "d3bccf4c",
   "metadata": {},
   "source": [
    "____"
   ]
  },
  {
   "cell_type": "markdown",
   "id": "da394b14",
   "metadata": {
    "id": "n7xKnhPZuJP-"
   },
   "source": [
    "### 🐟 🐟 🐟 teretana (bez hparam tuninga) "
   ]
  },
  {
   "cell_type": "code",
   "execution_count": 36,
   "id": "03f7bed7",
   "metadata": {
    "id": "5QZ7imyoYpBB"
   },
   "outputs": [],
   "source": [
    "log_dir = \"logs/fit/\" + datetime.datetime.now().strftime(\"%Y%m%d-%H%M%S\")\n",
    "\n",
    "tensorboard_callback = tf.keras.callbacks.TensorBoard(log_dir=log_dir, #train i val acc&loss\n",
    "                                                      histogram_freq=4,\n",
    "                                                      profile_batch=0) # ovo uklanja ružnjikave ispise tokom fit metode\n",
    "\n",
    "\n",
    "\n",
    "stopper_callback = tf.keras.callbacks.EarlyStopping(  \n",
    "                       monitor='loss', \n",
    "                       patience=7,\n",
    "                       min_delta=0.0001, \n",
    "                       restore_best_weights=True                   \n",
    "                       ) \n",
    "\n",
    "\n",
    "\n",
    "\n",
    "lr_callback = tf.keras.callbacks.LearningRateScheduler(lr_scheduler)\n",
    "\n",
    "\n",
    "\n",
    "\n",
    "\n",
    "\n",
    "\n",
    "#ckpt_callback = tf.keras.callbacks.ModelCheckpoint( # ¬lijepi ispisi\n",
    "#                                      CKPT_PATH,\n",
    "#                                      monitor='val_loss',\n",
    "#                                      mode='auto',\n",
    "#                                      save_weights_only=False,\n",
    "#                                      save_best_only=False,\n",
    "#                                      save_freq=30) \n"
   ]
  },
  {
   "cell_type": "code",
   "execution_count": 37,
   "id": "bacd48cc",
   "metadata": {},
   "outputs": [],
   "source": [
    "#%tensorboard --logdir logs/fit"
   ]
  },
  {
   "cell_type": "code",
   "execution_count": 38,
   "id": "bc9e10bb",
   "metadata": {
    "colab": {
     "base_uri": "https://localhost:8080/",
     "height": 1000
    },
    "id": "VUxlW8Fe5tgv",
    "outputId": "0200d183-c5f8-486d-d2ff-84452dfbfe9b",
    "scrolled": false
   },
   "outputs": [
    {
     "name": "stdout",
     "output_type": "stream",
     "text": [
      "Epoch 1/80\n",
      "123874/123874 [==============================] - 239s 2ms/step - loss: 0.0376 - val_loss: 0.0329\n",
      "Epoch 2/80\n",
      "123874/123874 [==============================] - 240s 2ms/step - loss: 0.0349 - val_loss: 0.0324\n",
      "Epoch 3/80\n",
      "123874/123874 [==============================] - 240s 2ms/step - loss: 0.0343 - val_loss: 0.0322\n",
      "Epoch 4/80\n",
      "123874/123874 [==============================] - 240s 2ms/step - loss: 0.0339 - val_loss: 0.0320\n",
      "Epoch 5/80\n",
      "123874/123874 [==============================] - 241s 2ms/step - loss: 0.0337 - val_loss: 0.0318\n",
      "Epoch 6/80\n",
      "123874/123874 [==============================] - 241s 2ms/step - loss: 0.0335 - val_loss: 0.0318\n",
      "Epoch 7/80\n",
      "123874/123874 [==============================] - 240s 2ms/step - loss: 0.0333 - val_loss: 0.0317\n",
      "Epoch 8/80\n",
      "123874/123874 [==============================] - 240s 2ms/step - loss: 0.0332 - val_loss: 0.0316\n",
      "Epoch 9/80\n",
      "123874/123874 [==============================] - 241s 2ms/step - loss: 0.0331 - val_loss: 0.0316\n",
      "Epoch 10/80\n",
      "123874/123874 [==============================] - 241s 2ms/step - loss: 0.0330 - val_loss: 0.0315\n",
      "Epoch 11/80\n",
      "123874/123874 [==============================] - 241s 2ms/step - loss: 0.0327 - val_loss: 0.0314\n",
      "Epoch 12/80\n",
      "123874/123874 [==============================] - 241s 2ms/step - loss: 0.0326 - val_loss: 0.0314\n",
      "Epoch 13/80\n",
      "123874/123874 [==============================] - 240s 2ms/step - loss: 0.0326 - val_loss: 0.0314\n",
      "Epoch 14/80\n",
      "123874/123874 [==============================] - 240s 2ms/step - loss: 0.0325 - val_loss: 0.0313\n",
      "Epoch 15/80\n",
      "123874/123874 [==============================] - 241s 2ms/step - loss: 0.0325 - val_loss: 0.0313\n",
      "Epoch 16/80\n",
      "123874/123874 [==============================] - 240s 2ms/step - loss: 0.0325 - val_loss: 0.0313\n",
      "Epoch 17/80\n",
      "123874/123874 [==============================] - 240s 2ms/step - loss: 0.0324 - val_loss: 0.0313\n",
      "Epoch 18/80\n",
      "123874/123874 [==============================] - 240s 2ms/step - loss: 0.0325 - val_loss: 0.0313\n",
      "Epoch 19/80\n",
      "123874/123874 [==============================] - 241s 2ms/step - loss: 0.0324 - val_loss: 0.0313\n",
      "Epoch 20/80\n",
      "123874/123874 [==============================] - 240s 2ms/step - loss: 0.0324 - val_loss: 0.0313\n",
      "Epoch 21/80\n",
      "123874/123874 [==============================] - 241s 2ms/step - loss: 0.0324 - val_loss: 0.0312\n",
      "Epoch 22/80\n",
      "123874/123874 [==============================] - 241s 2ms/step - loss: 0.0324 - val_loss: 0.0312\n",
      "Epoch 23/80\n",
      "123874/123874 [==============================] - 241s 2ms/step - loss: 0.0324 - val_loss: 0.0312\n",
      "Epoch 24/80\n",
      "123874/123874 [==============================] - 241s 2ms/step - loss: 0.0323 - val_loss: 0.0312\n",
      "Epoch 25/80\n",
      "123874/123874 [==============================] - 240s 2ms/step - loss: 0.0323 - val_loss: 0.0312\n",
      "Epoch 26/80\n",
      "123874/123874 [==============================] - 236s 2ms/step - loss: 0.0323 - val_loss: 0.0312\n",
      "Epoch 27/80\n",
      "123874/123874 [==============================] - 236s 2ms/step - loss: 0.0323 - val_loss: 0.0312\n",
      "Epoch 28/80\n",
      "123874/123874 [==============================] - 236s 2ms/step - loss: 0.0323 - val_loss: 0.0312\n",
      "Epoch 29/80\n",
      "123874/123874 [==============================] - 237s 2ms/step - loss: 0.0323 - val_loss: 0.0312\n",
      "Epoch 30/80\n",
      "123874/123874 [==============================] - 236s 2ms/step - loss: 0.0323 - val_loss: 0.0312\n",
      "Epoch 31/80\n",
      "123874/123874 [==============================] - 236s 2ms/step - loss: 0.0323 - val_loss: 0.0312\n"
     ]
    }
   ],
   "source": [
    "history=model.fit(training_generator,\n",
    "          validation_data=validation_generator,\n",
    "          callbacks=[#tensorboard_callback,  # log metrics\n",
    "                     lr_callback,\n",
    "                 #    hp.KerasCallback(logdir, hparams),  # log hparams\n",
    "                     stopper_callback\n",
    "          ],\n",
    "                    #ckpt_callback],     \n",
    "          epochs=80\n",
    "          )"
   ]
  },
  {
   "cell_type": "markdown",
   "id": "3e0ca30b",
   "metadata": {},
   "source": [
    "#### evaluacija modela  "
   ]
  },
  {
   "cell_type": "raw",
   "id": "f0efbfa5",
   "metadata": {
    "colab": {
     "base_uri": "https://localhost:8080/"
    },
    "id": "KPtITjKDQgkS",
    "outputId": "a8820cbf-166c-4577-eea6-91bb17b1086a"
   },
   "source": [
    "model.evaluate(testing_generator)"
   ]
  },
  {
   "cell_type": "raw",
   "id": "06570ad2",
   "metadata": {
    "colab": {
     "base_uri": "https://localhost:8080/",
     "height": 927
    },
    "id": "vUkZMlBOvAuU",
    "outputId": "b64ca9bb-8736-4e2a-e49e-5e9cee5797b3"
   },
   "source": [
    "plt.style.use('default')\n",
    "# summarize history for accuracy\n",
    "plt.plot(history.history['accuracy'])\n",
    "plt.plot(history.history['val_accuracy'])\n",
    "plt.title('model accuracy')\n",
    "plt.ylabel('accuracy')\n",
    "plt.xlabel('epoch')\n",
    "plt.legend(['train', 'validation'], loc='upper left')\n",
    "plt.show()\n",
    "# summarize history for loss\n",
    "plt.plot(history.history['loss'])\n",
    "plt.plot(history.history['val_loss'])\n",
    "plt.title('model loss')\n",
    "plt.ylabel('loss')\n",
    "plt.xlabel('epoch')\n",
    "plt.legend(['train', 'validation'], loc='upper left')\n",
    "plt.show()"
   ]
  },
  {
   "cell_type": "markdown",
   "id": "02c104a8",
   "metadata": {},
   "source": [
    "## 🎣"
   ]
  },
  {
   "cell_type": "raw",
   "id": "175436e6",
   "metadata": {
    "id": "n8M0lLoScCoT"
   },
   "source": [
    "#user_model= tf.keras.models.load_model(PATH+'MODELS/userTower_v4.h5',compile=False)\n",
    "#article_model= tf.keras.models.load_model(PATH+'MODELS/itemTower_v4.h5',compile=False)\n",
    "#model= tf.keras.models.load_model(PATH+'MODELS/twoTower_vf.h5',compile=False)"
   ]
  },
  {
   "cell_type": "markdown",
   "id": "e0c823c4",
   "metadata": {
    "id": "Vx2_dDz4Y4yQ"
   },
   "source": [
    "### Confusion matrix, roc auc, f1\n"
   ]
  },
  {
   "cell_type": "raw",
   "id": "bd2a48aa",
   "metadata": {
    "id": "qxi7E-PWY_yJ"
   },
   "source": [
    "labels = []\n",
    "preds = []\n",
    "for step in range(len(testing_generator)):\n",
    "    data, label = testing_generator.__getitem__(step)\n",
    "    pred = model.predict(data)\n",
    "    preds.extend(pred)\n",
    "    labels.extend(label)\n",
    "\n",
    "preds=np.vstack(preds)\n",
    "labels=np.vstack(labels)\n",
    "y_pred=(preds>=0.5).squeeze()"
   ]
  },
  {
   "cell_type": "raw",
   "id": "1acc3d94",
   "metadata": {},
   "source": [
    "confusion_matrix(labels, y_pred)\n"
   ]
  },
  {
   "cell_type": "raw",
   "id": "578807d3",
   "metadata": {},
   "source": [
    "import seaborn as sns\n",
    "\n",
    "cf_matrix=confusion_matrix(labels, y_pred)\n",
    "\n",
    "\n",
    "\n",
    "\n",
    "group_names = ['True Neg','False Pos','False Neg','True Pos']\n",
    "group_counts = [\"{0:0.0f}\".format(value) for value in cf_matrix.flatten()]\n",
    "group_percentages = [\"{0:.2%}\".format(value) for value in cf_matrix.flatten()/np.sum(cf_matrix)]\n",
    "labels_ = [f\"{v1}\\n{v2}\\n{v3}\" for v1, v2, v3 in zip(group_names,group_counts,group_percentages)]\n",
    "labels_ = np.asarray(labels_).reshape(2,2)\n",
    "sns.heatmap(cf_matrix, annot=labels_, fmt='', cmap='Blues')"
   ]
  },
  {
   "cell_type": "raw",
   "id": "5c97fa20",
   "metadata": {},
   "source": [
    "from sklearn.metrics import accuracy_score\n",
    "accuracy_score(labels, y_pred)"
   ]
  },
  {
   "cell_type": "raw",
   "id": "21e81370",
   "metadata": {
    "colab": {
     "base_uri": "https://localhost:8080/"
    },
    "id": "32Dsbg9ztOR_",
    "outputId": "c3668537-1223-4324-f85d-bcc73d7f12f2"
   },
   "source": [
    "roc_auc_score(labels, y_pred)"
   ]
  },
  {
   "cell_type": "raw",
   "id": "6ffa65e9",
   "metadata": {
    "colab": {
     "base_uri": "https://localhost:8080/"
    },
    "id": "8AUh19ok47ZO",
    "outputId": "916445b0-a517-4f0e-a98c-f9e89a3ca55d"
   },
   "source": [
    "f1_score(labels, y_pred, average='macro')"
   ]
  },
  {
   "cell_type": "raw",
   "id": "1207d997",
   "metadata": {},
   "source": [
    "f1_score(labels, y_pred, average='micro')"
   ]
  },
  {
   "cell_type": "markdown",
   "id": "2ff01fdd",
   "metadata": {
    "id": "42qnHdS6po-y"
   },
   "source": [
    "## 3.  Testiranje da li su se pozitivni približili i negativni udaljili"
   ]
  },
  {
   "cell_type": "code",
   "execution_count": 39,
   "id": "b0abeaec",
   "metadata": {},
   "outputs": [],
   "source": [
    "user_tower=article_tower=shared_tower"
   ]
  },
  {
   "cell_type": "raw",
   "id": "8f693258",
   "metadata": {
    "scrolled": true
   },
   "source": [
    "#%run helper_notebooks/repulsion_test.ipynb"
   ]
  },
  {
   "cell_type": "code",
   "execution_count": 40,
   "id": "5655e415",
   "metadata": {},
   "outputs": [
    {
     "data": {
      "text/plain": [
       "'64_0.001@0624-190014'"
      ]
     },
     "execution_count": 40,
     "metadata": {},
     "output_type": "execute_result"
    }
   ],
   "source": [
    "MODEL_VERSION_NAME"
   ]
  },
  {
   "cell_type": "code",
   "execution_count": 41,
   "id": "c1069b73",
   "metadata": {
    "colab": {
     "base_uri": "https://localhost:8080/"
    },
    "id": "r7yGXdGxXTZ5",
    "outputId": "a2a2f059-a409-4eea-b4f0-62f634fc3156"
   },
   "outputs": [
    {
     "name": "stdout",
     "output_type": "stream",
     "text": [
      "WARNING:tensorflow:Compiled the loaded model, but the compiled metrics have yet to be built. `model.compile_metrics` will be empty until you train or evaluate the model.\n"
     ]
    }
   ],
   "source": [
    "user_tower.save(SAVE_PATH+'shared_tower_'+MODEL_VERSION_NAME+'.h5') \n",
    "#article_tower.save(SAVE_PATH+'itemTower_'+MODEL_VERSION_NAME+'.h5')\n",
    "model.save(SAVE_PATH+'model_'+MODEL_VERSION_NAME+'.h5')"
   ]
  },
  {
   "cell_type": "raw",
   "id": "ab685b2b",
   "metadata": {},
   "source": [
    "SAVE_PATH+'twoTower_'+MODEL_VERSION_NAME+'.h5'"
   ]
  },
  {
   "cell_type": "markdown",
   "id": "21eb5aad",
   "metadata": {},
   "source": [
    "## 4. Metrika twitter korisnika"
   ]
  },
  {
   "cell_type": "code",
   "execution_count": 42,
   "id": "92ea7a54",
   "metadata": {
    "scrolled": false
   },
   "outputs": [
    {
     "name": "stdout",
     "output_type": "stream",
     "text": [
      "model iz sesije\n",
      "avg user cossim median for positive example [MODEL]:  0.7630159\n",
      "avg user cossim median for positive example:  0.4734716\n",
      "avg user cossim median for negative example [MODEL]:  0.42115095\n",
      "avg user cossim median for negative example:  0.15610409\n"
     ]
    },
    {
     "data": {
      "image/png": "[encoded data removed]",
      "text/plain": [
       "<Figure size 1440x720 with 1 Axes>"
      ]
     },
     "metadata": {
      "needs_background": "light"
     },
     "output_type": "display_data"
    },
    {
     "data": {
      "image/png": "[encoded data removed]",
      "text/plain": [
       "<Figure size 1440x720 with 1 Axes>"
      ]
     },
     "metadata": {
      "needs_background": "light"
     },
     "output_type": "display_data"
    },
    {
     "data": {
      "image/png": "[encoded data removed]",
      "text/plain": [
       "<Figure size 432x288 with 2 Axes>"
      ]
     },
     "metadata": {},
     "output_type": "display_data"
    },
    {
     "name": "stdout",
     "output_type": "stream",
     "text": [
      "sveukupno imamo 4702 pozitivnih članaka i 413 korisnika\n",
      "prepoznato 97.76690769885155% pozitivnih članaka\n",
      "ACC: 0.7966510049987241\n",
      "roc-auc: 0.8860826397600806\n",
      "F1 - macro: 0.4934856961988077\n",
      "F1 - micro: 0.7966510049987241\n",
      "P@k; k=1\n",
      "model-mean for all users: 0.7341772151898734\n",
      "non-model-mean for all users: 0.7063291139240506\n",
      "P@k; k=3\n",
      "model-mean for all users: 0.6666666666666667\n",
      "non-model-mean for all users: 0.6426160337552742\n",
      "\n",
      "nDCG:\n",
      "model-mean for all users: 0.7990775713203333\n",
      "non-model-mean for all users: 0.7580852521325455\n",
      "395\n",
      ">>>>>>>>>>>> delta rank 1=  0.027848101265822822\n"
     ]
    },
    {
     "data": {
      "image/png": "[encoded data removed]",
      "text/plain": [
       "<Figure size 720x576 with 1 Axes>"
      ]
     },
     "metadata": {},
     "output_type": "display_data"
    }
   ],
   "source": [
    "%run helper_notebooks/twitter_ranking.ipynb"
   ]
  },
  {
   "cell_type": "code",
   "execution_count": 43,
   "id": "9c84bc9f",
   "metadata": {},
   "outputs": [
    {
     "data": {
      "application/javascript": [
       "$(document).ready(\n",
       "    function() {\n",
       "        function appendUniqueDiv(){\n",
       "            // append a div with our uuid so we can check that it's already\n",
       "            // been sent and avoid duplicates on page reload\n",
       "            var notifiedDiv = document.createElement(\"div\")\n",
       "            notifiedDiv.id = \"b4116db0-72a8-46df-acd2-587a0a73c828\"\n",
       "            element.append(notifiedDiv)\n",
       "        }\n",
       "\n",
       "        // only send notifications if the pageload is complete; this will\n",
       "        // help stop extra notifications when a saved notebook is loaded,\n",
       "        // which during testing gives us state \"interactive\", not \"complete\"\n",
       "        if (document.readyState === 'complete') {\n",
       "            // check for the div that signifies that the notification\n",
       "            // was already sent\n",
       "            if (document.getElementById(\"b4116db0-72a8-46df-acd2-587a0a73c828\") === null) {\n",
       "                var notificationPayload = {\"requireInteraction\": false, \"icon\": \"/static/base/images/favicon.ico\", \"body\": \"Cell execution has finished!\"};\n",
       "                if (Notification.permission !== 'denied') {\n",
       "                    if (Notification.permission !== 'granted') { \n",
       "                        Notification.requestPermission(function (permission) {\n",
       "                            if(!('permission' in Notification)) {\n",
       "                                Notification.permission = permission\n",
       "                            }\n",
       "                        })\n",
       "                    }\n",
       "                    if (Notification.permission === 'granted') {\n",
       "                    var notification = new Notification(\"Jupyter Notebook\", notificationPayload)\n",
       "                    appendUniqueDiv()\n",
       "                    notification.onclick = function () {\n",
       "                        window.focus();\n",
       "                        this.close();\n",
       "                        };\n",
       "                    } \n",
       "                }     \n",
       "            }\n",
       "        }\n",
       "    }\n",
       ")\n"
      ],
      "text/plain": [
       "<IPython.core.display.Javascript object>"
      ]
     },
     "metadata": {},
     "output_type": "display_data"
    }
   ],
   "source": [
    "%notify"
   ]
  },
  {
   "cell_type": "code",
   "execution_count": 44,
   "id": "92b38f1e",
   "metadata": {},
   "outputs": [
    {
     "data": {
      "image/png": "[encoded data removed]",
      "text/plain": [
       "<Figure size 576x360 with 1 Axes>"
      ]
     },
     "metadata": {},
     "output_type": "display_data"
    }
   ],
   "source": [
    "ranks = [r for sublist in user_ranks_m for r in sublist if r < 5] #svi korisnici \n",
    "\n",
    "plt.figure(figsize=(8,5)) \n",
    "plt.style.use('seaborn-whitegrid') \n",
    "plt.hist(ranks, bins=5, facecolor = '#2ab0ff', edgecolor='#169acf', linewidth=1)\n",
    "plt.title('Rangovi pozitivnih članaka - uz našu metodu',fontsize=20) \n",
    "plt.xlabel('rang',fontsize=16) \n",
    "plt.ylabel('#rangiranih',fontsize=16) \n",
    "plt.savefig(SAVE_PATH + 'top_5.png')\n",
    "plt.show()\n"
   ]
  },
  {
   "cell_type": "code",
   "execution_count": 45,
   "id": "5d83316b",
   "metadata": {},
   "outputs": [
    {
     "data": {
      "image/png": "[encoded data removed]",
      "text/plain": [
       "<Figure size 576x360 with 1 Axes>"
      ]
     },
     "metadata": {},
     "output_type": "display_data"
    }
   ],
   "source": [
    "ranks = [r for sublist in user_ranks_p for r in sublist if r < 5] #svi korisnici \n",
    "\n",
    "plt.figure(figsize=(8,5)) \n",
    "plt.style.use('seaborn-whitegrid') \n",
    "plt.hist(ranks, bins=5, facecolor = '#2ab0ff', edgecolor='#169acf', linewidth=1)\n",
    "plt.title('Rangovi pozitivnih članaka - bez naše metode',fontsize=20) \n",
    "plt.xlabel('rang',fontsize=16) \n",
    "plt.ylabel('#rangiranih',fontsize=16) \n",
    "plt.savefig(SAVE_PATH + 'top_5_bez_nase.png')\n",
    "\n",
    "plt.show()\n",
    "plt.close()"
   ]
  },
  {
   "cell_type": "code",
   "execution_count": 46,
   "id": "49f2c98b",
   "metadata": {},
   "outputs": [
    {
     "data": {
      "image/png": "[encoded data removed]",
      "text/plain": [
       "<Figure size 576x360 with 1 Axes>"
      ]
     },
     "metadata": {},
     "output_type": "display_data"
    }
   ],
   "source": [
    "ranks = [r for sublist in user_ranks_p for r in sublist if r < 30] #svi korisnici \n",
    "\n",
    "plt.figure(figsize=(8,5)) \n",
    "plt.style.use('seaborn-whitegrid') \n",
    "plt.hist(ranks, bins=31, facecolor = '#2ab0ff', edgecolor='#169acf', linewidth=1)\n",
    "plt.title('Rangovi pozitivnih članaka - bez naše metode',fontsize=20) \n",
    "plt.xlabel('rang',fontsize=16) \n",
    "plt.ylabel('#rangiranih',fontsize=16) \n",
    "plt.show()"
   ]
  },
  {
   "cell_type": "code",
   "execution_count": 47,
   "id": "b581fae7",
   "metadata": {},
   "outputs": [
    {
     "data": {
      "image/png": "[encoded data removed]",
      "text/plain": [
       "<Figure size 576x360 with 1 Axes>"
      ]
     },
     "metadata": {},
     "output_type": "display_data"
    }
   ],
   "source": [
    "ranks = [r for sublist in user_ranks_m for r in sublist if r < 30] #svi korisnici \n",
    "\n",
    "plt.figure(figsize=(8,5)) \n",
    "plt.style.use('seaborn-whitegrid') \n",
    "plt.hist(ranks, bins=31, facecolor = '#2ab0ff', edgecolor='#169acf', linewidth=1)\n",
    "plt.title('Rangovi pozitivnih članaka - uz našu metodu',fontsize=20) \n",
    "plt.xlabel('rang',fontsize=16) \n",
    "plt.ylabel('#rangiranih',fontsize=16) \n",
    "plt.show()"
   ]
  }
 ],
 "metadata": {
  "kernelspec": {
   "display_name": "Python3 (dorasworld)",
   "language": "python",
   "name": "dorasworld"
  },
  "language_info": {
   "codemirror_mode": {
    "name": "ipython",
    "version": 3
   },
   "file_extension": ".py",
   "mimetype": "text/x-python",
   "name": "python",
   "nbconvert_exporter": "python",
   "pygments_lexer": "ipython3",
   "version": "3.9.7"
  }
 },
 "nbformat": 4,
 "nbformat_minor": 5
}
