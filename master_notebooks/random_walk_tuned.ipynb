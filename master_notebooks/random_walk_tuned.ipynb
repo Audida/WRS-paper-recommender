{
 "cells": [
  {
   "cell_type": "code",
   "execution_count": 4,
   "metadata": {
    "id": "MMk82LI7Ekon"
   },
   "outputs": [],
   "source": [
    "from itertools import product\n",
    "import gc\n",
    "import random\n",
    "import json\n",
    "import seaborn as sn\n",
    "import pandas as pd\n",
    "import matplotlib.pyplot as plt\n",
    "import igraph as ig\n",
    "import numpy as np\n",
    "from igraph import *\n",
    "import tqdm as tq\n",
    "from tqdm import tqdm\n",
    "import multiprocessing as mp\n",
    "from datetime import datetime"
   ]
  },
  {
   "cell_type": "markdown",
   "metadata": {},
   "source": [
    "argumenti se dobivaju od master bilježnice"
   ]
  },
  {
   "cell_type": "raw",
   "metadata": {},
   "source": [
    "ID=5\n",
    "hop_alpha = 2\n",
    "\n",
    "MAX_HOPS_DIFF = 15 #udaljenost od pozitivnih\n",
    "MIN_HOPS_DIFF = 10\n",
    "NUM_HARD_NEG = 3\n",
    "NUM_EASY_NEG = 3\n",
    "\n",
    "\n",
    "MIN_CLANAKA = 6 \n",
    "MAX_CLANAKA = 10\n",
    "BROJ_JEZGRI=16\n",
    "BROJ_KORISNIKA=200_000\n",
    "\n",
    "MAX_DEGREE=100 #uklanjamo sve vrhove koji imaju stupanj veći od MAX_DEGREE \n",
    "BROJ_KORISNIKA_PO_JEZGRI=BROJ_KORISNIKA//BROJ_JEZGRI + 1\n",
    "\n"
   ]
  },
  {
   "cell_type": "code",
   "execution_count": 6,
   "metadata": {
    "id": "DGAMbJgGz9UW"
   },
   "outputs": [
    {
     "data": {
      "text/plain": [
       "'6-10-200000-100_ID@_5'"
      ]
     },
     "execution_count": 6,
     "metadata": {},
     "output_type": "execute_result"
    }
   ],
   "source": [
    "\n",
    "VERSION=str(MIN_CLANAKA)+'-'+str(MAX_CLANAKA)+'-'+str(BROJ_KORISNIKA)+'-'+str(MAX_DEGREE)+\"_ID@_\"+str(ID)\n",
    "VERSION\n"
   ]
  },
  {
   "cell_type": "raw",
   "metadata": {},
   "source": [
    "!echo $VERSION > /home/dora/Desktop/recommender/last_version"
   ]
  },
  {
   "cell_type": "code",
   "execution_count": 7,
   "metadata": {},
   "outputs": [
    {
     "name": "stdout",
     "output_type": "stream",
     "text": [
      "mkdir: cannot create directory ‘6-10-200000-100_ID@_5’: File exists\r\n"
     ]
    }
   ],
   "source": [
    "!cd /home/dora/Desktop/recommender/datasets/master_generated && mkdir $VERSION"
   ]
  },
  {
   "cell_type": "code",
   "execution_count": 8,
   "metadata": {
    "id": "DuCuf-Mmh2qD"
   },
   "outputs": [],
   "source": [
    "USERS_JSON_PATH = \"/home/dora/Desktop/recommender/datasets/master_generated/\"+VERSION+\"/random_walk_\"+VERSION+\".json\""
   ]
  },
  {
   "cell_type": "code",
   "execution_count": 9,
   "metadata": {},
   "outputs": [
    {
     "data": {
      "text/plain": [
       "'/home/dora/Desktop/recommender/datasets/master_generated/6-10-200000-100_ID@_5/random_walk_6-10-200000-100_ID@_5.json'"
      ]
     },
     "execution_count": 9,
     "metadata": {},
     "output_type": "execute_result"
    }
   ],
   "source": [
    "USERS_JSON_PATH"
   ]
  },
  {
   "cell_type": "code",
   "execution_count": 10,
   "metadata": {
    "id": "8NqLNVbC1Nt5"
   },
   "outputs": [
    {
     "name": "stdout",
     "output_type": "stream",
     "text": [
      "ucitavanje grafa..\n"
     ]
    }
   ],
   "source": [
    "try:\n",
    "    edges \n",
    "except NameError: #možemo više puta pokretati bez da se učitava ispočetka\n",
    "    print(\"ucitavanje grafa..\")\n",
    "    with open('/home/dora/Desktop/recommender/datasets/edges.json', 'r') as f:\n",
    "        edges=json.load(f)\n",
    "    with open('/home/dora/Desktop/recommender/datasets/vertices.json', 'r') as f:\n",
    "        vertices=json.load(f)\n",
    "    with open('/home/dora/Desktop/recommender/datasets/weights.json', 'r') as f:\n",
    "        weights=json.load(f)\n",
    "    \n",
    "    #init graf\n",
    "    G=Graph() \n",
    "    G.add_vertices(vertices)\n",
    "    G.add_edges(edges)\n",
    "    G.es[\"weight\"]=weights\n",
    "    #maxG=G.clusters().giant() #sa ovime se dalje radi"
   ]
  },
  {
   "cell_type": "code",
   "execution_count": 11,
   "metadata": {},
   "outputs": [
    {
     "data": {
      "text/plain": [
       "'IGRAPH UNW- 3851441 35708851 -- \\n+ attr: name (v), weight (e)'"
      ]
     },
     "execution_count": 11,
     "metadata": {},
     "output_type": "execute_result"
    }
   ],
   "source": [
    "G.summary()"
   ]
  },
  {
   "cell_type": "code",
   "execution_count": 12,
   "metadata": {},
   "outputs": [],
   "source": [
    "maxG=G"
   ]
  },
  {
   "cell_type": "code",
   "execution_count": 13,
   "metadata": {},
   "outputs": [
    {
     "data": {
      "text/plain": [
       "10.0"
      ]
     },
     "execution_count": 13,
     "metadata": {},
     "output_type": "execute_result"
    }
   ],
   "source": [
    "np.median(maxG.degree())"
   ]
  },
  {
   "cell_type": "markdown",
   "metadata": {},
   "source": [
    "\n",
    "___\n"
   ]
  },
  {
   "cell_type": "markdown",
   "metadata": {},
   "source": [
    "### micanje survey i članaka stupnja većeg od 100"
   ]
  },
  {
   "cell_type": "raw",
   "metadata": {},
   "source": [
    "try:\n",
    "    data\n",
    "except:\n",
    "    data=pd.read_parquet(\"/home/dora/Desktop/recommender/datasets/dblpv13.df.parquet\", engine='pyarrow')"
   ]
  },
  {
   "cell_type": "raw",
   "metadata": {},
   "source": [
    "BAD_WORDS_LIST=['survey','review','cross-exam','techniques','methods','approaches']\n"
   ]
  },
  {
   "cell_type": "raw",
   "metadata": {},
   "source": [
    "titles=list(data['title'])\n"
   ]
  },
  {
   "cell_type": "raw",
   "metadata": {},
   "source": [
    "i=0\n",
    "bids=[]\n",
    "for t in titles:\n",
    "    for b in BAD_WORDS_LIST:\n",
    "        try:\n",
    "            if b in str.lower(t):\n",
    "                bids.append(i)\n",
    "        except:\n",
    "            pass\n",
    "    i+=1"
   ]
  },
  {
   "cell_type": "raw",
   "metadata": {},
   "source": [
    "print(\"broj nađenih survey/review članaka je:\",len(bids)) #121657 aka 3%"
   ]
  },
  {
   "cell_type": "raw",
   "metadata": {},
   "source": [
    "len(bids)/len(data)"
   ]
  },
  {
   "cell_type": "raw",
   "metadata": {},
   "source": [
    "bad_ids=[data['id'][x] for x in bids] "
   ]
  },
  {
   "cell_type": "raw",
   "metadata": {},
   "source": [
    "import json\n",
    "with open('survey_ids.json', 'w', encoding='utf-8') as f:\n",
    "    json.dump(bad_ids, f, ensure_ascii=False, indent=4)"
   ]
  },
  {
   "cell_type": "code",
   "execution_count": 14,
   "metadata": {},
   "outputs": [],
   "source": [
    "import json\n",
    "with open('/home/dora/Desktop/recommender/helper_notebooks/survey_ids.json', 'r') as f:\n",
    "        bad_ids=json.load(f)"
   ]
  },
  {
   "cell_type": "code",
   "execution_count": 15,
   "metadata": {},
   "outputs": [],
   "source": [
    "to_delete_ids = []\n",
    "for b in bad_ids:\n",
    "    try:\n",
    "        to_delete_ids.append(maxG.vs.find(name=b).index)\n",
    "    except:\n",
    "        pass\n"
   ]
  },
  {
   "cell_type": "code",
   "execution_count": 16,
   "metadata": {},
   "outputs": [
    {
     "data": {
      "text/plain": [
       "'IGRAPH UNW- 3851441 35708851 -- \\n+ attr: name (v), weight (e)'"
      ]
     },
     "execution_count": 16,
     "metadata": {},
     "output_type": "execute_result"
    }
   ],
   "source": [
    "maxG.summary()"
   ]
  },
  {
   "cell_type": "code",
   "execution_count": 17,
   "metadata": {},
   "outputs": [],
   "source": [
    "maxG.delete_vertices(to_delete_ids)"
   ]
  },
  {
   "cell_type": "code",
   "execution_count": 18,
   "metadata": {},
   "outputs": [
    {
     "data": {
      "text/plain": [
       "'IGRAPH UNW- 3734632 32438191 -- \\n+ attr: name (v), weight (e)'"
      ]
     },
     "execution_count": 18,
     "metadata": {},
     "output_type": "execute_result"
    }
   ],
   "source": [
    "maxG.summary()"
   ]
  },
  {
   "cell_type": "markdown",
   "metadata": {},
   "source": [
    "**maknuti cemo i vrhove stupnja veceg od 100**"
   ]
  },
  {
   "cell_type": "code",
   "execution_count": 19,
   "metadata": {},
   "outputs": [],
   "source": [
    "vertices=maxG.vs\n",
    "\n",
    "bad_nodes_ids=[]\n",
    "for v in vertices:\n",
    "    if v.degree() > MAX_DEGREE:\n",
    "        bad_nodes_ids.append(v.index)\n",
    "\n",
    "maxG.delete_vertices(bad_nodes_ids)"
   ]
  },
  {
   "cell_type": "code",
   "execution_count": 20,
   "metadata": {
    "scrolled": true
   },
   "outputs": [
    {
     "data": {
      "text/plain": [
       "'IGRAPH UNW- 3678922 20212693 -- \\n+ attr: name (v), weight (e)'"
      ]
     },
     "execution_count": 20,
     "metadata": {},
     "output_type": "execute_result"
    }
   ],
   "source": [
    "maxG.summary() #bez micanja 3851441 35708851"
   ]
  },
  {
   "cell_type": "code",
   "execution_count": 21,
   "metadata": {},
   "outputs": [
    {
     "data": {
      "text/plain": [
       "3678922"
      ]
     },
     "execution_count": 21,
     "metadata": {},
     "output_type": "execute_result"
    }
   ],
   "source": [
    "maxG.vcount()"
   ]
  },
  {
   "cell_type": "markdown",
   "metadata": {},
   "source": [
    "___"
   ]
  },
  {
   "cell_type": "code",
   "execution_count": 22,
   "metadata": {},
   "outputs": [
    {
     "data": {
      "text/plain": [
       "'IGRAPH UNW- 3191507 20197198 -- \\n+ attr: name (v), weight (e)'"
      ]
     },
     "execution_count": 22,
     "metadata": {},
     "output_type": "execute_result"
    }
   ],
   "source": [
    "maxG=maxG.clusters().giant()\n",
    "maxG.summary()"
   ]
  },
  {
   "cell_type": "markdown",
   "metadata": {},
   "source": [
    "___"
   ]
  },
  {
   "cell_type": "raw",
   "metadata": {},
   "source": [
    "    \n",
    "def get_hard_negatives_v2(init_clanci, tmp_max):\n",
    "    init_clanci=list(init_clanci)\n",
    "    min_hops = tmp_max + MIN_HOPS_DIFF\n",
    "    max_hops = tmp_max + MAX_HOPS_DIFF\n",
    "    negatives_pool = set()\n",
    "\n",
    "    mama_node = init_clanci[np.argmax(maxG.degree(init_clanci))] \n",
    "\n",
    "    \n",
    "    hops=0\n",
    "    hard_negatives=set()\n",
    "    while hops < max_hops:\n",
    "        for x in maxG.bfsiter(mama_node,advanced=True):\n",
    "            if x[1] > min_hops and hops < max_hops:\n",
    "                negatives_pool.add(x[0].index)\n",
    "            hops=x[1]\n",
    "            if hops > max_hops:\n",
    "                break\n",
    "                \n",
    "                \n",
    "    \n",
    "    return random.choices(tuple(negatives_pool), k=NUM_HARD_NEG)\n",
    "\n",
    "    "
   ]
  },
  {
   "cell_type": "code",
   "execution_count": 43,
   "metadata": {},
   "outputs": [],
   "source": [
    "assert MIN_HOPS_DIFF < MAX_HOPS_DIFF, f\"Outer ring 'radius' must be greater than that of an inner ring!\"\n",
    "\n",
    "def get_articles_from_processes(res):\n",
    "    global clanci_svih_korisnika, anh, aph\n",
    "\n",
    "    clanci_svih_korisnika.extend(res[0])\n",
    "    anh.extend(res[1])\n",
    "    aph.extend(res[2])\n",
    "    \n",
    "    \n",
    "    \n",
    "\n",
    "def get_hard_neg(init_clanci, node_hops_origin, tmp_max):\n",
    "    min_hops = tmp_max + MIN_HOPS_DIFF\n",
    "    max_hops = tmp_max + MAX_HOPS_DIFF\n",
    "    negatives = set()\n",
    "    eps=0.00001\n",
    "    front=init_clanci.copy()\n",
    "    visited= init_clanci.copy()\n",
    "    br=0\n",
    "    all_hops=0\n",
    "    while len(negatives) <= NUM_HARD_NEG:\n",
    "            random_node = random.choice(list(front)) # rand node\n",
    "            visited.add(random_node)\n",
    "            last_hops=node_hops_origin[random_node] + 1\n",
    "            neighbors = set(maxG.neighbors(random_node))  # svi njegovi susjedi\n",
    "            unknown_neighbors = list(neighbors.difference(visited))  #dohvati one koje nismo posjetili\n",
    "            front.remove(random_node) \n",
    "\n",
    "\n",
    "            if len(unknown_neighbors) == 0: #ako su već svi u listi\n",
    "                continue                 #izaberi drugi random node\n",
    "\n",
    "           \n",
    "                  \n",
    "            #remove_nodes=set()\n",
    "               \n",
    "            # for node in front:\n",
    "            #     if node_hops_origin[node] < (last_hops - hop_alpha):\n",
    "            #         remove_nodes.add(node)\n",
    "            #        if len(remove_nodes) > len(front) * 1/3:\n",
    "            #            break\n",
    "                    \n",
    "            #front -= remove_nodes       #speed + distance\n",
    "            \n",
    "            weights = []\n",
    "            for n in unknown_neighbors:\n",
    "                if node not in node_hops_origin:\n",
    "                    node_hops_origin[node]=last_hops\n",
    "                eid = maxG.get_eid(random_node, n)\n",
    "                weights.append(maxG.es[eid]['weight'])\n",
    "                #weights.append(node_hops_origin[n])\n",
    "\n",
    "            max_fitness = max(weights)*1.0\n",
    "            \n",
    "            for f in range(0, len(weights)):\n",
    "                weights[f] = (max_fitness - weights[f] + eps) \n",
    "\n",
    "\n",
    "            max_value = sum(weights)\n",
    "\n",
    "            for f in range(0, len(weights)):\n",
    "                weights[f] = weights[f]  / max_value\n",
    "                if f > 0:\n",
    "                    weights[f] = weights[f] + weights[f - 1]\n",
    "\n",
    "            weights = np.around(weights, 5)\n",
    "            pick = random.uniform(0, 1)\n",
    "\n",
    "            position = np.searchsorted(weights, pick)\n",
    "\n",
    "            random_node2 = unknown_neighbors[position]\n",
    "            \n",
    "            front.update(unknown_neighbors) #dodajemo samo one koji nisu jos posjeceni\n",
    "            if last_hops >= min_hops and last_hops <= max_hops:\n",
    "                negatives.add(random_node2)\n",
    "                br+=1\n",
    "                all_hops+=last_hops\n",
    "                \n",
    "                        \n",
    "    \n",
    "    return  negatives, all_hops/br\n",
    "    "
   ]
  },
  {
   "cell_type": "code",
   "execution_count": 44,
   "metadata": {},
   "outputs": [],
   "source": [
    "def walk():\n",
    "    global pbar\n",
    "    all_nodes_ids=list(range(maxG.vcount()))\n",
    "    all_articles=[]\n",
    "    all_neg_avg_hops=[]\n",
    "    all_pos_avg_hops=[]\n",
    "    while len(all_articles) < BROJ_KORISNIKA_PO_JEZGRI:\n",
    "        clanci = set()\n",
    "        node_hops_origin=dict()\n",
    "        random_node = random.choice(all_nodes_ids) # random node\n",
    "        node_neighbors = list(maxG.neighbors(random_node))             # svi susjedi\n",
    "\n",
    "        while len(node_neighbors) == 0:   #izabrani cvor nema susjeda\n",
    "            random_node = random.choice(all_nodes_ids)\n",
    "            node_neighbors = list(maxG.neighbors(random_node))\n",
    "\n",
    "        clanci.add(random_node)\n",
    "        node_hops_origin[random_node]=0\n",
    "        num_positive = random.randint(MIN_CLANAKA, MAX_CLANAKA)\n",
    "        \n",
    "        clanci, node_hops_origin, tmp_max, avg_pos_hops = get_positives(clanci, num_positive, node_hops_origin)\n",
    "        hard_neg, avg_neg_hops = get_hard_neg(clanci, node_hops_origin, tmp_max)\n",
    "        easy_neg= random.choices(all_nodes_ids,k=NUM_EASY_NEG)\n",
    "        all_articles.append((clanci,hard_neg,easy_neg))\n",
    "        all_neg_avg_hops.append(avg_neg_hops)\n",
    "        all_pos_avg_hops.append(avg_pos_hops)\n",
    "            \n",
    "            \n",
    "        if len(all_articles)>=BROJ_KORISNIKA_PO_JEZGRI:\n",
    "            return all_articles, all_neg_avg_hops, all_pos_avg_hops\n",
    "\n",
    "\n",
    "\n",
    "            \n",
    "        "
   ]
  },
  {
   "cell_type": "code",
   "execution_count": 45,
   "metadata": {},
   "outputs": [],
   "source": [
    "def get_positives(init_clanci, NUM_ARTICLES,node_hops_origin):\n",
    "    p = 0\n",
    "\n",
    "    br=0\n",
    "    all_hops=0\n",
    "    while p < NUM_ARTICLES :\n",
    "            random_node = random.choice(list(init_clanci)) # rand node\n",
    "\n",
    "            last_hops=node_hops_origin[random_node] + 1\n",
    "            neighbors = set(maxG.neighbors(random_node))  # svi njegovi susjedi\n",
    "            unknown_neighbors = list(neighbors.difference(init_clanci))  #dohvati ako nisu u člancima postojecim\n",
    "        \n",
    "            if len(unknown_neighbors) == 0: #ako su već svi u listi\n",
    "                continue                 #izaberi drugi random node\n",
    "\n",
    "            \n",
    "            \n",
    "            weights = []\n",
    "            for n in unknown_neighbors:\n",
    "                eid = maxG.get_eid(random_node, n)\n",
    "                weights.append(maxG.es[eid]['weight'])\n",
    "\n",
    "            max_value = sum(weights)\n",
    "\n",
    "            for f in range(0, len(weights)):\n",
    "                weights[f] = weights[f] / max_value\n",
    "                if f > 0:\n",
    "                    weights[f] = weights[f] + weights[f - 1]\n",
    "\n",
    "            weights = list(np.around(np.array(weights), 5))\n",
    "            pick = random.uniform(0, 1)\n",
    "\n",
    "            position = np.searchsorted(weights, pick)\n",
    "\n",
    "            random_node2 = unknown_neighbors[position]\n",
    "            if random_node2 not in node_hops_origin:\n",
    "                node_hops_origin[random_node2]=last_hops\n",
    "\n",
    "            init_clanci.add(random_node2)\n",
    "            p += 1\n",
    "            br+=1\n",
    "            all_hops+=last_hops\n",
    "\n",
    "            if p >= NUM_ARTICLES:\n",
    "                tmp_max = np.max(list(node_hops_origin.values())) \n",
    "                \n",
    "\n",
    "           \n",
    "                        \n",
    "    \n",
    "    return init_clanci, node_hops_origin, tmp_max , all_hops/br\n",
    "    \n",
    "    "
   ]
  },
  {
   "cell_type": "code",
   "execution_count": 47,
   "metadata": {},
   "outputs": [
    {
     "name": "stdout",
     "output_type": "stream",
     "text": [
      "Duration: 0:01:01.732027\n"
     ]
    }
   ],
   "source": [
    "clanci_svih_korisnika = []\n",
    "aph,anh=[],[]\n",
    "\n",
    "start_time = datetime.now()\n",
    "pool = mp.Pool(BROJ_JEZGRI)\n",
    "for oo in list(range(BROJ_JEZGRI)):\n",
    "    pool.apply_async(walk, callback=get_articles_from_processes)\n",
    "\n",
    "pool.close()\n",
    "pool.join()\n",
    "\n",
    "end_time = datetime.now()\n",
    "print('Duration: {}'.format(end_time - start_time))"
   ]
  },
  {
   "cell_type": "raw",
   "metadata": {},
   "source": [
    "walk()"
   ]
  },
  {
   "cell_type": "code",
   "execution_count": 48,
   "metadata": {},
   "outputs": [
    {
     "name": "stdout",
     "output_type": "stream",
     "text": [
      "positive med and avg:  2.0 2.1183202962810594\n",
      "negative med and avg:  13.75 13.745715009465911\n"
     ]
    }
   ],
   "source": [
    "print(\"positive med and avg: \",np.median(aph),np.average(aph))\n",
    "\n",
    "print(\"negative med and avg: \",np.median(anh),np.average(anh))"
   ]
  },
  {
   "cell_type": "markdown",
   "metadata": {
    "id": "jPx-nwR8Llmx"
   },
   "source": [
    "Spremanje"
   ]
  },
  {
   "cell_type": "code",
   "execution_count": 122,
   "metadata": {
    "id": "zt8bG-SfLs4U"
   },
   "outputs": [],
   "source": [
    "def append_new_user(user_dict,userID,posIDList,h_negIDList,e_negIDList):\n",
    "    user_dict[\"users\"].append({\n",
    "                 \"userID\": userID,\n",
    "                 \"posIDs\": list(posIDList),\n",
    "                 \"hard_negIDs\": list(h_negIDList),\n",
    "                 \"easy_negIDs\": list(e_negIDList)\n",
    "                 })\n",
    "    userID +=1\n",
    "    return user_dict, userID"
   ]
  },
  {
   "cell_type": "code",
   "execution_count": 123,
   "metadata": {},
   "outputs": [
    {
     "name": "stdout",
     "output_type": "stream",
     "text": [
      "spremanje korisnika u /home/dora/Desktop/recommender/datasets/master_generated/6-8-200000-100_ID@_3/random_walk_6-8-200000-100_ID@_3.json....\n"
     ]
    }
   ],
   "source": [
    "print(\"spremanje korisnika u \"+USERS_JSON_PATH+\"....\")"
   ]
  },
  {
   "cell_type": "code",
   "execution_count": 124,
   "metadata": {
    "colab": {
     "base_uri": "https://localhost:8080/",
     "height": 49,
     "referenced_widgets": [
      "43db281405274496aa915a25b21ed7f7",
      "0172e5095cc248c78b519d0101b65d97",
      "1223222fee3744eb9487a5090b2e8a7b",
      "9ae67e81d7fd411996470fcc7cef5f10",
      "cc7f312a354f4484820ba3c61f01439e",
      "3e41808a964941fc873a93c9d5d2acaa",
      "c23aa10bba5d46cca26dd04b51c25166",
      "a4c42e7f52524e8d8c6c1dea462b639a",
      "f9874dd509524de4aad2dc641c2d3848",
      "0e898a4a76f94265830cbe4142af799e",
      "9413a472888e4d9c85ea9183cdd4d5ad"
     ]
    },
    "id": "zOVWnnUKMGm4",
    "outputId": "ce7b8c79-27f7-4196-9fba-977fb4121741"
   },
   "outputs": [
    {
     "name": "stderr",
     "output_type": "stream",
     "text": [
      "100%|███████████████████████████████| 200016/200016 [00:01<00:00, 122721.87it/s]\n"
     ]
    }
   ],
   "source": [
    "clanci_svih_korisnika2 = []\n",
    "pbar = tq.tqdm(total=len(clanci_svih_korisnika))\n",
    "for pos, h_neg, e_neg in clanci_svih_korisnika:\n",
    "    pos_set = set()\n",
    "    h_neg_set = set()\n",
    "    e_neg_set = set()\n",
    "    for p in pos:\n",
    "        id_art = maxG.vs[p]['name']\n",
    "        pos_set.add(id_art)\n",
    "    for n in h_neg:\n",
    "        id_art = maxG.vs[n]['name']\n",
    "        h_neg_set.add(id_art)\n",
    "    for n in e_neg:\n",
    "        id_art = maxG.vs[n]['name']\n",
    "        e_neg_set.add(id_art)        \n",
    "        \n",
    "        \n",
    "    clanci_svih_korisnika2.append((pos_set,h_neg_set,e_neg_set))\n",
    "    pbar.update(1)\n",
    "\n",
    "pbar.close()"
   ]
  },
  {
   "cell_type": "code",
   "execution_count": 125,
   "metadata": {
    "id": "PVlCNQnXMha-"
   },
   "outputs": [],
   "source": [
    "userID=0\n",
    "user_dict = {}\n",
    "user_dict[\"users\"] = []\n",
    "\n",
    "for i in range(len(clanci_svih_korisnika2)):\n",
    "    user_dict,userID = append_new_user(user_dict, userID, clanci_svih_korisnika2[i][0],clanci_svih_korisnika2[i][1],clanci_svih_korisnika2[i][2]) "
   ]
  },
  {
   "cell_type": "code",
   "execution_count": 126,
   "metadata": {
    "id": "a2mpHxYjOaNR"
   },
   "outputs": [],
   "source": [
    "with open(USERS_JSON_PATH, 'w') as outfile:\n",
    "    json.dump(user_dict[\"users\"],outfile,indent=3)"
   ]
  },
  {
   "cell_type": "code",
   "execution_count": 127,
   "metadata": {},
   "outputs": [
    {
     "data": {
      "text/plain": [
       "'6-8-200000-100_ID@_3'"
      ]
     },
     "execution_count": 127,
     "metadata": {},
     "output_type": "execute_result"
    }
   ],
   "source": [
    "VERSION"
   ]
  },
  {
   "cell_type": "code",
   "execution_count": 128,
   "metadata": {},
   "outputs": [
    {
     "data": {
      "text/plain": [
       "'/home/dora/Desktop/recommender/datasets/master_generated/6-8-200000-100_ID@_3/random_walk_6-8-200000-100_ID@_3.json'"
      ]
     },
     "execution_count": 128,
     "metadata": {},
     "output_type": "execute_result"
    }
   ],
   "source": [
    "USERS_JSON_PATH"
   ]
  },
  {
   "cell_type": "code",
   "execution_count": null,
   "metadata": {},
   "outputs": [],
   "source": []
  }
 ],
 "metadata": {
  "colab": {
   "collapsed_sections": [],
   "name": "iGraph_citation.ipynb",
   "provenance": []
  },
  "kernelspec": {
   "display_name": "Python3 (dorasworld)",
   "language": "python",
   "name": "dorasworld"
  },
  "language_info": {
   "codemirror_mode": {
    "name": "ipython",
    "version": 3
   },
   "file_extension": ".py",
   "mimetype": "text/x-python",
   "name": "python",
   "nbconvert_exporter": "python",
   "pygments_lexer": "ipython3",
   "version": "3.9.7"
  },
  "widgets": {
   "application/vnd.jupyter.widget-state+json": {
    "0172e5095cc248c78b519d0101b65d97": {
     "model_module": "@jupyter-widgets/base",
     "model_module_version": "1.2.0",
     "model_name": "LayoutModel",
     "state": {
      "_model_module": "@jupyter-widgets/base",
      "_model_module_version": "1.2.0",
      "_model_name": "LayoutModel",
      "_view_count": null,
      "_view_module": "@jupyter-widgets/base",
      "_view_module_version": "1.2.0",
      "_view_name": "LayoutView",
      "align_content": null,
      "align_items": null,
      "align_self": null,
      "border": null,
      "bottom": null,
      "display": null,
      "flex": null,
      "flex_flow": null,
      "grid_area": null,
      "grid_auto_columns": null,
      "grid_auto_flow": null,
      "grid_auto_rows": null,
      "grid_column": null,
      "grid_gap": null,
      "grid_row": null,
      "grid_template_areas": null,
      "grid_template_columns": null,
      "grid_template_rows": null,
      "height": null,
      "justify_content": null,
      "justify_items": null,
      "left": null,
      "margin": null,
      "max_height": null,
      "max_width": null,
      "min_height": null,
      "min_width": null,
      "object_fit": null,
      "object_position": null,
      "order": null,
      "overflow": null,
      "overflow_x": null,
      "overflow_y": null,
      "padding": null,
      "right": null,
      "top": null,
      "visibility": null,
      "width": null
     }
    },
    "0e898a4a76f94265830cbe4142af799e": {
     "model_module": "@jupyter-widgets/controls",
     "model_module_version": "1.5.0",
     "model_name": "DescriptionStyleModel",
     "state": {
      "_model_module": "@jupyter-widgets/controls",
      "_model_module_version": "1.5.0",
      "_model_name": "DescriptionStyleModel",
      "_view_count": null,
      "_view_module": "@jupyter-widgets/base",
      "_view_module_version": "1.2.0",
      "_view_name": "StyleView",
      "description_width": ""
     }
    },
    "1223222fee3744eb9487a5090b2e8a7b": {
     "model_module": "@jupyter-widgets/controls",
     "model_module_version": "1.5.0",
     "model_name": "HTMLModel",
     "state": {
      "_dom_classes": [],
      "_model_module": "@jupyter-widgets/controls",
      "_model_module_version": "1.5.0",
      "_model_name": "HTMLModel",
      "_view_count": null,
      "_view_module": "@jupyter-widgets/controls",
      "_view_module_version": "1.5.0",
      "_view_name": "HTMLView",
      "description": "",
      "description_tooltip": null,
      "layout": "IPY_MODEL_c23aa10bba5d46cca26dd04b51c25166",
      "placeholder": "​",
      "style": "IPY_MODEL_3e41808a964941fc873a93c9d5d2acaa",
      "value": "100%"
     }
    },
    "133099dae79344a0b692a6b17940f056": {
     "model_module": "@jupyter-widgets/controls",
     "model_module_version": "1.5.0",
     "model_name": "DescriptionStyleModel",
     "state": {
      "_model_module": "@jupyter-widgets/controls",
      "_model_module_version": "1.5.0",
      "_model_name": "DescriptionStyleModel",
      "_view_count": null,
      "_view_module": "@jupyter-widgets/base",
      "_view_module_version": "1.2.0",
      "_view_name": "StyleView",
      "description_width": ""
     }
    },
    "1aecca4eedae4478a1e9e7864ae09532": {
     "model_module": "@jupyter-widgets/controls",
     "model_module_version": "1.5.0",
     "model_name": "HBoxModel",
     "state": {
      "_dom_classes": [],
      "_model_module": "@jupyter-widgets/controls",
      "_model_module_version": "1.5.0",
      "_model_name": "HBoxModel",
      "_view_count": null,
      "_view_module": "@jupyter-widgets/controls",
      "_view_module_version": "1.5.0",
      "_view_name": "HBoxView",
      "box_style": "",
      "children": [
       "IPY_MODEL_712bc0af4db4480dbd88be331037e05b",
       "IPY_MODEL_32cf6d37564f412aa8e0d2ce7add22b2",
       "IPY_MODEL_5ae3cde89702445d9ef212941444c5b3"
      ],
      "layout": "IPY_MODEL_4ad60b4e6bef4898a83d40b3e7f92ba0"
     }
    },
    "32cf6d37564f412aa8e0d2ce7add22b2": {
     "model_module": "@jupyter-widgets/controls",
     "model_module_version": "1.5.0",
     "model_name": "FloatProgressModel",
     "state": {
      "_dom_classes": [],
      "_model_module": "@jupyter-widgets/controls",
      "_model_module_version": "1.5.0",
      "_model_name": "FloatProgressModel",
      "_view_count": null,
      "_view_module": "@jupyter-widgets/controls",
      "_view_module_version": "1.5.0",
      "_view_name": "ProgressView",
      "bar_style": "success",
      "description": "",
      "description_tooltip": null,
      "layout": "IPY_MODEL_8d4ab5b40cc740bebfb7cd3f9e3e1f2b",
      "max": 15000,
      "min": 0,
      "orientation": "horizontal",
      "style": "IPY_MODEL_b9e11c19ba22450b9d0e249f0df7f24b",
      "value": 15000
     }
    },
    "3e41808a964941fc873a93c9d5d2acaa": {
     "model_module": "@jupyter-widgets/controls",
     "model_module_version": "1.5.0",
     "model_name": "DescriptionStyleModel",
     "state": {
      "_model_module": "@jupyter-widgets/controls",
      "_model_module_version": "1.5.0",
      "_model_name": "DescriptionStyleModel",
      "_view_count": null,
      "_view_module": "@jupyter-widgets/base",
      "_view_module_version": "1.2.0",
      "_view_name": "StyleView",
      "description_width": ""
     }
    },
    "43db281405274496aa915a25b21ed7f7": {
     "model_module": "@jupyter-widgets/controls",
     "model_module_version": "1.5.0",
     "model_name": "HBoxModel",
     "state": {
      "_dom_classes": [],
      "_model_module": "@jupyter-widgets/controls",
      "_model_module_version": "1.5.0",
      "_model_name": "HBoxModel",
      "_view_count": null,
      "_view_module": "@jupyter-widgets/controls",
      "_view_module_version": "1.5.0",
      "_view_name": "HBoxView",
      "box_style": "",
      "children": [
       "IPY_MODEL_1223222fee3744eb9487a5090b2e8a7b",
       "IPY_MODEL_9ae67e81d7fd411996470fcc7cef5f10",
       "IPY_MODEL_cc7f312a354f4484820ba3c61f01439e"
      ],
      "layout": "IPY_MODEL_0172e5095cc248c78b519d0101b65d97"
     }
    },
    "4ad60b4e6bef4898a83d40b3e7f92ba0": {
     "model_module": "@jupyter-widgets/base",
     "model_module_version": "1.2.0",
     "model_name": "LayoutModel",
     "state": {
      "_model_module": "@jupyter-widgets/base",
      "_model_module_version": "1.2.0",
      "_model_name": "LayoutModel",
      "_view_count": null,
      "_view_module": "@jupyter-widgets/base",
      "_view_module_version": "1.2.0",
      "_view_name": "LayoutView",
      "align_content": null,
      "align_items": null,
      "align_self": null,
      "border": null,
      "bottom": null,
      "display": null,
      "flex": null,
      "flex_flow": null,
      "grid_area": null,
      "grid_auto_columns": null,
      "grid_auto_flow": null,
      "grid_auto_rows": null,
      "grid_column": null,
      "grid_gap": null,
      "grid_row": null,
      "grid_template_areas": null,
      "grid_template_columns": null,
      "grid_template_rows": null,
      "height": null,
      "justify_content": null,
      "justify_items": null,
      "left": null,
      "margin": null,
      "max_height": null,
      "max_width": null,
      "min_height": null,
      "min_width": null,
      "object_fit": null,
      "object_position": null,
      "order": null,
      "overflow": null,
      "overflow_x": null,
      "overflow_y": null,
      "padding": null,
      "right": null,
      "top": null,
      "visibility": null,
      "width": null
     }
    },
    "5ae3cde89702445d9ef212941444c5b3": {
     "model_module": "@jupyter-widgets/controls",
     "model_module_version": "1.5.0",
     "model_name": "HTMLModel",
     "state": {
      "_dom_classes": [],
      "_model_module": "@jupyter-widgets/controls",
      "_model_module_version": "1.5.0",
      "_model_name": "HTMLModel",
      "_view_count": null,
      "_view_module": "@jupyter-widgets/controls",
      "_view_module_version": "1.5.0",
      "_view_name": "HTMLView",
      "description": "",
      "description_tooltip": null,
      "layout": "IPY_MODEL_5c151cba009041c7a5c9f9e8566776c6",
      "placeholder": "​",
      "style": "IPY_MODEL_133099dae79344a0b692a6b17940f056",
      "value": " 15000/15000 [1:42:11&lt;00:00,  1.69it/s]"
     }
    },
    "5c151cba009041c7a5c9f9e8566776c6": {
     "model_module": "@jupyter-widgets/base",
     "model_module_version": "1.2.0",
     "model_name": "LayoutModel",
     "state": {
      "_model_module": "@jupyter-widgets/base",
      "_model_module_version": "1.2.0",
      "_model_name": "LayoutModel",
      "_view_count": null,
      "_view_module": "@jupyter-widgets/base",
      "_view_module_version": "1.2.0",
      "_view_name": "LayoutView",
      "align_content": null,
      "align_items": null,
      "align_self": null,
      "border": null,
      "bottom": null,
      "display": null,
      "flex": null,
      "flex_flow": null,
      "grid_area": null,
      "grid_auto_columns": null,
      "grid_auto_flow": null,
      "grid_auto_rows": null,
      "grid_column": null,
      "grid_gap": null,
      "grid_row": null,
      "grid_template_areas": null,
      "grid_template_columns": null,
      "grid_template_rows": null,
      "height": null,
      "justify_content": null,
      "justify_items": null,
      "left": null,
      "margin": null,
      "max_height": null,
      "max_width": null,
      "min_height": null,
      "min_width": null,
      "object_fit": null,
      "object_position": null,
      "order": null,
      "overflow": null,
      "overflow_x": null,
      "overflow_y": null,
      "padding": null,
      "right": null,
      "top": null,
      "visibility": null,
      "width": null
     }
    },
    "712bc0af4db4480dbd88be331037e05b": {
     "model_module": "@jupyter-widgets/controls",
     "model_module_version": "1.5.0",
     "model_name": "HTMLModel",
     "state": {
      "_dom_classes": [],
      "_model_module": "@jupyter-widgets/controls",
      "_model_module_version": "1.5.0",
      "_model_name": "HTMLModel",
      "_view_count": null,
      "_view_module": "@jupyter-widgets/controls",
      "_view_module_version": "1.5.0",
      "_view_name": "HTMLView",
      "description": "",
      "description_tooltip": null,
      "layout": "IPY_MODEL_761b51571ab54d578153ecfb5ceb0c33",
      "placeholder": "​",
      "style": "IPY_MODEL_eebb8c575012464c9365c804031c2280",
      "value": "100%"
     }
    },
    "761b51571ab54d578153ecfb5ceb0c33": {
     "model_module": "@jupyter-widgets/base",
     "model_module_version": "1.2.0",
     "model_name": "LayoutModel",
     "state": {
      "_model_module": "@jupyter-widgets/base",
      "_model_module_version": "1.2.0",
      "_model_name": "LayoutModel",
      "_view_count": null,
      "_view_module": "@jupyter-widgets/base",
      "_view_module_version": "1.2.0",
      "_view_name": "LayoutView",
      "align_content": null,
      "align_items": null,
      "align_self": null,
      "border": null,
      "bottom": null,
      "display": null,
      "flex": null,
      "flex_flow": null,
      "grid_area": null,
      "grid_auto_columns": null,
      "grid_auto_flow": null,
      "grid_auto_rows": null,
      "grid_column": null,
      "grid_gap": null,
      "grid_row": null,
      "grid_template_areas": null,
      "grid_template_columns": null,
      "grid_template_rows": null,
      "height": null,
      "justify_content": null,
      "justify_items": null,
      "left": null,
      "margin": null,
      "max_height": null,
      "max_width": null,
      "min_height": null,
      "min_width": null,
      "object_fit": null,
      "object_position": null,
      "order": null,
      "overflow": null,
      "overflow_x": null,
      "overflow_y": null,
      "padding": null,
      "right": null,
      "top": null,
      "visibility": null,
      "width": null
     }
    },
    "8d4ab5b40cc740bebfb7cd3f9e3e1f2b": {
     "model_module": "@jupyter-widgets/base",
     "model_module_version": "1.2.0",
     "model_name": "LayoutModel",
     "state": {
      "_model_module": "@jupyter-widgets/base",
      "_model_module_version": "1.2.0",
      "_model_name": "LayoutModel",
      "_view_count": null,
      "_view_module": "@jupyter-widgets/base",
      "_view_module_version": "1.2.0",
      "_view_name": "LayoutView",
      "align_content": null,
      "align_items": null,
      "align_self": null,
      "border": null,
      "bottom": null,
      "display": null,
      "flex": null,
      "flex_flow": null,
      "grid_area": null,
      "grid_auto_columns": null,
      "grid_auto_flow": null,
      "grid_auto_rows": null,
      "grid_column": null,
      "grid_gap": null,
      "grid_row": null,
      "grid_template_areas": null,
      "grid_template_columns": null,
      "grid_template_rows": null,
      "height": null,
      "justify_content": null,
      "justify_items": null,
      "left": null,
      "margin": null,
      "max_height": null,
      "max_width": null,
      "min_height": null,
      "min_width": null,
      "object_fit": null,
      "object_position": null,
      "order": null,
      "overflow": null,
      "overflow_x": null,
      "overflow_y": null,
      "padding": null,
      "right": null,
      "top": null,
      "visibility": null,
      "width": null
     }
    },
    "9413a472888e4d9c85ea9183cdd4d5ad": {
     "model_module": "@jupyter-widgets/base",
     "model_module_version": "1.2.0",
     "model_name": "LayoutModel",
     "state": {
      "_model_module": "@jupyter-widgets/base",
      "_model_module_version": "1.2.0",
      "_model_name": "LayoutModel",
      "_view_count": null,
      "_view_module": "@jupyter-widgets/base",
      "_view_module_version": "1.2.0",
      "_view_name": "LayoutView",
      "align_content": null,
      "align_items": null,
      "align_self": null,
      "border": null,
      "bottom": null,
      "display": null,
      "flex": null,
      "flex_flow": null,
      "grid_area": null,
      "grid_auto_columns": null,
      "grid_auto_flow": null,
      "grid_auto_rows": null,
      "grid_column": null,
      "grid_gap": null,
      "grid_row": null,
      "grid_template_areas": null,
      "grid_template_columns": null,
      "grid_template_rows": null,
      "height": null,
      "justify_content": null,
      "justify_items": null,
      "left": null,
      "margin": null,
      "max_height": null,
      "max_width": null,
      "min_height": null,
      "min_width": null,
      "object_fit": null,
      "object_position": null,
      "order": null,
      "overflow": null,
      "overflow_x": null,
      "overflow_y": null,
      "padding": null,
      "right": null,
      "top": null,
      "visibility": null,
      "width": null
     }
    },
    "9ae67e81d7fd411996470fcc7cef5f10": {
     "model_module": "@jupyter-widgets/controls",
     "model_module_version": "1.5.0",
     "model_name": "FloatProgressModel",
     "state": {
      "_dom_classes": [],
      "_model_module": "@jupyter-widgets/controls",
      "_model_module_version": "1.5.0",
      "_model_name": "FloatProgressModel",
      "_view_count": null,
      "_view_module": "@jupyter-widgets/controls",
      "_view_module_version": "1.5.0",
      "_view_name": "ProgressView",
      "bar_style": "success",
      "description": "",
      "description_tooltip": null,
      "layout": "IPY_MODEL_f9874dd509524de4aad2dc641c2d3848",
      "max": 15000,
      "min": 0,
      "orientation": "horizontal",
      "style": "IPY_MODEL_a4c42e7f52524e8d8c6c1dea462b639a",
      "value": 15000
     }
    },
    "a4c42e7f52524e8d8c6c1dea462b639a": {
     "model_module": "@jupyter-widgets/controls",
     "model_module_version": "1.5.0",
     "model_name": "ProgressStyleModel",
     "state": {
      "_model_module": "@jupyter-widgets/controls",
      "_model_module_version": "1.5.0",
      "_model_name": "ProgressStyleModel",
      "_view_count": null,
      "_view_module": "@jupyter-widgets/base",
      "_view_module_version": "1.2.0",
      "_view_name": "StyleView",
      "bar_color": null,
      "description_width": ""
     }
    },
    "b9e11c19ba22450b9d0e249f0df7f24b": {
     "model_module": "@jupyter-widgets/controls",
     "model_module_version": "1.5.0",
     "model_name": "ProgressStyleModel",
     "state": {
      "_model_module": "@jupyter-widgets/controls",
      "_model_module_version": "1.5.0",
      "_model_name": "ProgressStyleModel",
      "_view_count": null,
      "_view_module": "@jupyter-widgets/base",
      "_view_module_version": "1.2.0",
      "_view_name": "StyleView",
      "bar_color": null,
      "description_width": ""
     }
    },
    "c23aa10bba5d46cca26dd04b51c25166": {
     "model_module": "@jupyter-widgets/base",
     "model_module_version": "1.2.0",
     "model_name": "LayoutModel",
     "state": {
      "_model_module": "@jupyter-widgets/base",
      "_model_module_version": "1.2.0",
      "_model_name": "LayoutModel",
      "_view_count": null,
      "_view_module": "@jupyter-widgets/base",
      "_view_module_version": "1.2.0",
      "_view_name": "LayoutView",
      "align_content": null,
      "align_items": null,
      "align_self": null,
      "border": null,
      "bottom": null,
      "display": null,
      "flex": null,
      "flex_flow": null,
      "grid_area": null,
      "grid_auto_columns": null,
      "grid_auto_flow": null,
      "grid_auto_rows": null,
      "grid_column": null,
      "grid_gap": null,
      "grid_row": null,
      "grid_template_areas": null,
      "grid_template_columns": null,
      "grid_template_rows": null,
      "height": null,
      "justify_content": null,
      "justify_items": null,
      "left": null,
      "margin": null,
      "max_height": null,
      "max_width": null,
      "min_height": null,
      "min_width": null,
      "object_fit": null,
      "object_position": null,
      "order": null,
      "overflow": null,
      "overflow_x": null,
      "overflow_y": null,
      "padding": null,
      "right": null,
      "top": null,
      "visibility": null,
      "width": null
     }
    },
    "cc7f312a354f4484820ba3c61f01439e": {
     "model_module": "@jupyter-widgets/controls",
     "model_module_version": "1.5.0",
     "model_name": "HTMLModel",
     "state": {
      "_dom_classes": [],
      "_model_module": "@jupyter-widgets/controls",
      "_model_module_version": "1.5.0",
      "_model_name": "HTMLModel",
      "_view_count": null,
      "_view_module": "@jupyter-widgets/controls",
      "_view_module_version": "1.5.0",
      "_view_name": "HTMLView",
      "description": "",
      "description_tooltip": null,
      "layout": "IPY_MODEL_9413a472888e4d9c85ea9183cdd4d5ad",
      "placeholder": "​",
      "style": "IPY_MODEL_0e898a4a76f94265830cbe4142af799e",
      "value": " 15000/15000 [00:06&lt;00:00, 2536.05it/s]"
     }
    },
    "eebb8c575012464c9365c804031c2280": {
     "model_module": "@jupyter-widgets/controls",
     "model_module_version": "1.5.0",
     "model_name": "DescriptionStyleModel",
     "state": {
      "_model_module": "@jupyter-widgets/controls",
      "_model_module_version": "1.5.0",
      "_model_name": "DescriptionStyleModel",
      "_view_count": null,
      "_view_module": "@jupyter-widgets/base",
      "_view_module_version": "1.2.0",
      "_view_name": "StyleView",
      "description_width": ""
     }
    },
    "f9874dd509524de4aad2dc641c2d3848": {
     "model_module": "@jupyter-widgets/base",
     "model_module_version": "1.2.0",
     "model_name": "LayoutModel",
     "state": {
      "_model_module": "@jupyter-widgets/base",
      "_model_module_version": "1.2.0",
      "_model_name": "LayoutModel",
      "_view_count": null,
      "_view_module": "@jupyter-widgets/base",
      "_view_module_version": "1.2.0",
      "_view_name": "LayoutView",
      "align_content": null,
      "align_items": null,
      "align_self": null,
      "border": null,
      "bottom": null,
      "display": null,
      "flex": null,
      "flex_flow": null,
      "grid_area": null,
      "grid_auto_columns": null,
      "grid_auto_flow": null,
      "grid_auto_rows": null,
      "grid_column": null,
      "grid_gap": null,
      "grid_row": null,
      "grid_template_areas": null,
      "grid_template_columns": null,
      "grid_template_rows": null,
      "height": null,
      "justify_content": null,
      "justify_items": null,
      "left": null,
      "margin": null,
      "max_height": null,
      "max_width": null,
      "min_height": null,
      "min_width": null,
      "object_fit": null,
      "object_position": null,
      "order": null,
      "overflow": null,
      "overflow_x": null,
      "overflow_y": null,
      "padding": null,
      "right": null,
      "top": null,
      "visibility": null,
      "width": null
     }
    }
   }
  }
 },
 "nbformat": 4,
 "nbformat_minor": 1
}
