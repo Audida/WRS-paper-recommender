{
 "cells": [
  {
   "cell_type": "markdown",
   "id": "a348b755",
   "metadata": {},
   "source": [
    "# 2. TT model - cijeli notebook"
   ]
  },
  {
   "cell_type": "markdown",
   "id": "4644e5ce",
   "metadata": {},
   "source": [
    "notebook sa samo 10 epoha, ali rezultati su skoro pa podjednaki onima od 50 epoha"
   ]
  },
  {
   "cell_type": "markdown",
   "id": "2bc448d7",
   "metadata": {},
   "source": [
    "### ! importanje potrebnih modula"
   ]
  },
  {
   "cell_type": "code",
   "execution_count": 1,
   "id": "1640a750",
   "metadata": {},
   "outputs": [],
   "source": [
    "BATCH_SIZE=32\n",
    "LR=0.001\n",
    "DROPOUT=0.2"
   ]
  },
  {
   "cell_type": "code",
   "execution_count": 2,
   "id": "37341d55",
   "metadata": {},
   "outputs": [
    {
     "data": {
      "application/javascript": [
       "if (!(\"Notification\" in window)) {\n",
       "    alert(\"This browser does not support desktop notifications, so the %%notify magic will not work.\");\n",
       "} else if (Notification.permission !== 'granted' && Notification.permission !== 'denied') {\n",
       "    Notification.requestPermission(function (permission) {\n",
       "        if(!('permission' in Notification)) {\n",
       "            Notification.permission = permission;\n",
       "        }\n",
       "    })\n",
       "}\n"
      ],
      "text/plain": [
       "<IPython.core.display.Javascript object>"
      ]
     },
     "metadata": {},
     "output_type": "display_data"
    }
   ],
   "source": [
    "%load_ext jupyternotify"
   ]
  },
  {
   "cell_type": "code",
   "execution_count": 3,
   "id": "f3068bfa",
   "metadata": {},
   "outputs": [],
   "source": [
    "%run helper_notebooks/imports.ipynb #importa sve potrebne module"
   ]
  },
  {
   "cell_type": "code",
   "execution_count": 4,
   "id": "b5c5c306",
   "metadata": {
    "id": "Q6EpKmoG5tgX"
   },
   "outputs": [],
   "source": [
    "from data_generator import DataGenerator #generator podataka za trening,validaciju"
   ]
  },
  {
   "cell_type": "markdown",
   "id": "989ee4f7",
   "metadata": {},
   "source": [
    "_____________________________________________________________________________________________________________"
   ]
  },
  {
   "cell_type": "markdown",
   "id": "4125eddd",
   "metadata": {},
   "source": [
    "# !\n",
    "###  👽 ukoliko se mijenjala arhitektua TT ali ne i korisnici, izmjeniti naziv modela ovdje"
   ]
  },
  {
   "cell_type": "code",
   "execution_count": 5,
   "id": "64fbe3c6",
   "metadata": {},
   "outputs": [],
   "source": [
    "MODEL_VERSION_NAME=str(BATCH_SIZE)+\"_\"+str(LR) #IZMIJENI ME"
   ]
  },
  {
   "cell_type": "markdown",
   "id": "34ef146b",
   "metadata": {},
   "source": [
    "🍓 👽 pokreće se zadnja konfiguracija korisnika - može se izmijeniti i zatim -> run all below"
   ]
  },
  {
   "cell_type": "code",
   "execution_count": 6,
   "id": "ac4a9a85",
   "metadata": {},
   "outputs": [
    {
     "data": {
      "application/vnd.jupyter.widget-view+json": {
       "model_id": "9609fd0eecfa4b80a271f920c1c0c3b5",
       "version_major": 2,
       "version_minor": 0
      },
      "text/plain": [
       "interactive(children=(Dropdown(description='verzija korisnika:', options=('6-10-200000-100_ID@_4', '5-8-300000…"
      ]
     },
     "metadata": {},
     "output_type": "display_data"
    }
   ],
   "source": [
    "%run helper_notebooks/random_walk_version_dropdown.ipynb"
   ]
  },
  {
   "cell_type": "code",
   "execution_count": 7,
   "id": "bc1b8764",
   "metadata": {},
   "outputs": [
    {
     "data": {
      "text/plain": [
       "'6-10-200000-100_ID@_4'"
      ]
     },
     "execution_count": 7,
     "metadata": {},
     "output_type": "execute_result"
    }
   ],
   "source": [
    "VERSION"
   ]
  },
  {
   "cell_type": "markdown",
   "id": "31c40575",
   "metadata": {},
   "source": [
    "___________________________________________________________________________________________________________"
   ]
  },
  {
   "cell_type": "markdown",
   "id": "611c18d9",
   "metadata": {},
   "source": [
    "# BIRAJ TT- FASTTEXT ILI TRANSFORMER  (bert)"
   ]
  },
  {
   "cell_type": "code",
   "execution_count": 8,
   "id": "4905afa6",
   "metadata": {},
   "outputs": [],
   "source": [
    "TRANSFORMER = False # PROMIJENI AKO ŽELIŠ TRANSFORMERA"
   ]
  },
  {
   "cell_type": "markdown",
   "id": "9df2c855",
   "metadata": {},
   "source": [
    "____"
   ]
  },
  {
   "cell_type": "code",
   "execution_count": 9,
   "id": "5709b4e3",
   "metadata": {},
   "outputs": [],
   "source": [
    "MODEL_VERSION_NAME=MODEL_VERSION_NAME+'@'+datetime.datetime.now().strftime(\"%m%d-%H%M%S\") #extra precaution (:"
   ]
  },
  {
   "cell_type": "code",
   "execution_count": 10,
   "id": "2a44c5bb",
   "metadata": {
    "id": "W2ZkAqOj8NZB"
   },
   "outputs": [],
   "source": [
    "PATH=\"datasets/master_generated/\"+VERSION+\"/\"\n",
    "SAVE_PATH=PATH+'MODELS/'+MODEL_VERSION_NAME+'/'\n",
    "IDS_PATH=glob.glob(PATH+\"tt*Label*\")[0]\n",
    "USER_VECT_PATH = glob.glob(PATH+'*userVect*')[0]\n",
    "CKPT_PATH=SAVE_PATH+MODEL_VERSION_NAME+\"_CKPT\" #model checkpoint path"
   ]
  },
  {
   "cell_type": "code",
   "execution_count": 11,
   "id": "fb578e03",
   "metadata": {
    "id": "f7Yt2lfO5tgZ"
   },
   "outputs": [],
   "source": [
    "ids_labels_df =pd.read_parquet(IDS_PATH)"
   ]
  },
  {
   "cell_type": "code",
   "execution_count": 12,
   "id": "58b8143b",
   "metadata": {
    "colab": {
     "base_uri": "https://localhost:8080/",
     "height": 111
    },
    "id": "GZITB74f5tga",
    "outputId": "31888b94-f114-4b69-cbfb-8858c915f85c"
   },
   "outputs": [
    {
     "data": {
      "text/html": [
       "<div>\n",
       "<style scoped>\n",
       "    .dataframe tbody tr th:only-of-type {\n",
       "        vertical-align: middle;\n",
       "    }\n",
       "\n",
       "    .dataframe tbody tr th {\n",
       "        vertical-align: top;\n",
       "    }\n",
       "\n",
       "    .dataframe thead th {\n",
       "        text-align: right;\n",
       "    }\n",
       "</style>\n",
       "<table border=\"1\" class=\"dataframe\">\n",
       "  <thead>\n",
       "    <tr style=\"text-align: right;\">\n",
       "      <th></th>\n",
       "      <th>userID</th>\n",
       "      <th>articleID</th>\n",
       "      <th>label</th>\n",
       "    </tr>\n",
       "  </thead>\n",
       "  <tbody>\n",
       "    <tr>\n",
       "      <th>0</th>\n",
       "      <td>0</td>\n",
       "      <td>53e9a5b6b7602d9702ede2ff</td>\n",
       "      <td>1.0</td>\n",
       "    </tr>\n",
       "    <tr>\n",
       "      <th>1</th>\n",
       "      <td>0</td>\n",
       "      <td>53e9aa56b7602d97033c23a5</td>\n",
       "      <td>1.0</td>\n",
       "    </tr>\n",
       "  </tbody>\n",
       "</table>\n",
       "</div>"
      ],
      "text/plain": [
       "   userID                 articleID  label\n",
       "0       0  53e9a5b6b7602d9702ede2ff    1.0\n",
       "1       0  53e9aa56b7602d97033c23a5    1.0"
      ]
     },
     "execution_count": 12,
     "metadata": {},
     "output_type": "execute_result"
    }
   ],
   "source": [
    "ids_labels_df.head(2)"
   ]
  },
  {
   "cell_type": "code",
   "execution_count": 13,
   "id": "e8635872",
   "metadata": {},
   "outputs": [],
   "source": [
    "try:\n",
    "    article_vect_dict\n",
    "except:\n",
    "    if not TRANSFORMER: #FastText\n",
    "        article_vect_dict =pd.read_parquet('datasets/dblpv13_fasttext.parquet',  engine='pyarrow').set_index('id').T.to_dict('list') \n",
    "        article_vect_dict = {key: np.vstack(value) for key, value in article_vect_dict.items()} # \"unpack\" vectors\n",
    "    else: #SenBert transformer\n",
    "        article_vect_dict_tr_part1 =pd.read_parquet('datasets/mLM_part_1',  engine='pyarrow').set_index('id').T.to_dict('list') \n",
    "        article_vect_dict_tr_part1 = {key: np.vstack(value) for key, value in article_vect_dict_tr_part1.items()} # \"unpack\" vectors\n",
    "        article_vect_dict_tr_part2 =pd.read_parquet('datasets/mLM_part_2',  engine='pyarrow').set_index('id').T.to_dict('list') \n",
    "        article_vect_dict_tr_part2 = {key: np.vstack(value) for key, value in article_vect_dict_tr_part2.items()} # \"unpack\" vectors\n",
    "        article_vect_dict = {**article_vect_dict_tr_part1, **article_vect_dict_tr_part2}"
   ]
  },
  {
   "cell_type": "code",
   "execution_count": 14,
   "id": "9bb4da07",
   "metadata": {},
   "outputs": [
    {
     "data": {
      "text/plain": [
       "300"
      ]
     },
     "execution_count": 14,
     "metadata": {},
     "output_type": "execute_result"
    }
   ],
   "source": [
    "input_shape=article_vect_dict['558b49f984ae84d265c28c14'].shape[1]\n",
    "input_shape"
   ]
  },
  {
   "cell_type": "code",
   "execution_count": 15,
   "id": "34fbb84d",
   "metadata": {
    "id": "knIUomfO5tgg"
   },
   "outputs": [],
   "source": [
    "user_vect_dict=pd.read_json(USER_VECT_PATH).set_index('userID').T.to_dict('list') \n",
    "user_vect_dict = {key: np.vstack(value[int(TRANSFORMER)]) for key, value in user_vect_dict.items()}\n",
    "#user_vect_dict = {key: np.vstack(value) for key, value in user_vect_dict.items()}"
   ]
  },
  {
   "cell_type": "code",
   "execution_count": 16,
   "id": "646fee1d",
   "metadata": {
    "colab": {
     "base_uri": "https://localhost:8080/"
    },
    "id": "8fa1WV2f5tgi",
    "outputId": "63742f6c-8372-434d-a809-eaa7a4874485"
   },
   "outputs": [
    {
     "name": "stdout",
     "output_type": "stream",
     "text": [
      "Number of users: 200016 \n",
      "Number of  articles: 3851441 \n",
      "Number of user-article-label pairs:  2601174\n"
     ]
    }
   ],
   "source": [
    "\n",
    "print(\"Number of users:\",len(user_vect_dict),\"\\nNumber of  articles:\", len(article_vect_dict),\"\\nNumber of user-article-label pairs: \",len(ids_labels_df))"
   ]
  },
  {
   "cell_type": "code",
   "execution_count": 17,
   "id": "529b8cfa",
   "metadata": {},
   "outputs": [
    {
     "name": "stdout",
     "output_type": "stream",
     "text": [
      "Number of unique articles: 1591307\n"
     ]
    }
   ],
   "source": [
    "print(\"Number of unique articles:\",len(set(ids_labels_df['articleID'])))"
   ]
  },
  {
   "cell_type": "code",
   "execution_count": 18,
   "id": "4ee6121d",
   "metadata": {
    "id": "fi5vfTssYrGV",
    "scrolled": true
   },
   "outputs": [],
   "source": [
    "def split(X, test_size): #splitting dataset to train, test, validate set\n",
    "    gs = GroupShuffleSplit(n_splits=10, #num of re-shuffling\n",
    "                            test_size=test_size,\n",
    "                            random_state=42,\n",
    "                            )\n",
    "    train_ix, test_ix = next(gs.split( X, groups=X['userID'])) #one user in only one dataset (train or test or validate)\n",
    "    df_train = X.loc[train_ix]\n",
    "    df_test = X.loc[test_ix]\n",
    "    \n",
    "    \n",
    "    return df_train, df_test\n",
    "    \n"
   ]
  },
  {
   "cell_type": "code",
   "execution_count": 19,
   "id": "93877731",
   "metadata": {
    "id": "3x720c8w5tgm"
   },
   "outputs": [],
   "source": [
    "def shuffle(x): #shuffle dataset\n",
    "    idx = np.random.permutation(x.index)\n",
    "    x = x.reindex(idx)\n",
    "    x.reset_index(drop=True, inplace=True) #reset indexes     \n",
    "    return x   \n",
    "    "
   ]
  },
  {
   "cell_type": "code",
   "execution_count": 20,
   "id": "edbb5f60",
   "metadata": {
    "id": "yZEia8zv5tgm"
   },
   "outputs": [],
   "source": [
    "df_train, df_test = split(ids_labels_df, 0.2)\n",
    "df_test.reset_index(drop=True, inplace=True) #reset indexes     \n",
    "df_test, df_val  = split(df_test, 0.5)"
   ]
  },
  {
   "cell_type": "code",
   "execution_count": 21,
   "id": "17d0e6a4",
   "metadata": {
    "id": "IZkeVjku5tgo"
   },
   "outputs": [],
   "source": [
    "df_train=shuffle(df_train)\n",
    "df_test=shuffle(df_test)\n",
    "df_val=shuffle(df_val)"
   ]
  },
  {
   "cell_type": "code",
   "execution_count": 22,
   "id": "b9d8dee4",
   "metadata": {
    "colab": {
     "base_uri": "https://localhost:8080/"
    },
    "id": "hNwGnJE_RdEs",
    "outputId": "1f0529d6-7f3a-40a1-c346-d125f9ebbf09"
   },
   "outputs": [
    {
     "name": "stdout",
     "output_type": "stream",
     "text": [
      "size of training set: 2080404 \n",
      "size of validation set: 260342 \n",
      "size of test set: 260428\n"
     ]
    }
   ],
   "source": [
    "print(\"size of training set:\",len(df_train),\"\\nsize of validation set:\",len(df_val),\"\\nsize of test set:\",len(df_test))"
   ]
  },
  {
   "cell_type": "code",
   "execution_count": 23,
   "id": "bde5d073",
   "metadata": {
    "colab": {
     "base_uri": "https://localhost:8080/",
     "height": 204
    },
    "id": "cReEW6rET1qo",
    "outputId": "5da59ad7-2ef5-49da-b9f2-cdd50a5dc310"
   },
   "outputs": [
    {
     "data": {
      "text/html": [
       "<div>\n",
       "<style scoped>\n",
       "    .dataframe tbody tr th:only-of-type {\n",
       "        vertical-align: middle;\n",
       "    }\n",
       "\n",
       "    .dataframe tbody tr th {\n",
       "        vertical-align: top;\n",
       "    }\n",
       "\n",
       "    .dataframe thead th {\n",
       "        text-align: right;\n",
       "    }\n",
       "</style>\n",
       "<table border=\"1\" class=\"dataframe\">\n",
       "  <thead>\n",
       "    <tr style=\"text-align: right;\">\n",
       "      <th></th>\n",
       "      <th>userID</th>\n",
       "      <th>articleID</th>\n",
       "      <th>label</th>\n",
       "    </tr>\n",
       "  </thead>\n",
       "  <tbody>\n",
       "    <tr>\n",
       "      <th>0</th>\n",
       "      <td>103443</td>\n",
       "      <td>53e99867b7602d97020a4052</td>\n",
       "      <td>0.0</td>\n",
       "    </tr>\n",
       "    <tr>\n",
       "      <th>1</th>\n",
       "      <td>105800</td>\n",
       "      <td>5db2d1a847c8f7664615f477</td>\n",
       "      <td>0.0</td>\n",
       "    </tr>\n",
       "    <tr>\n",
       "      <th>2</th>\n",
       "      <td>162790</td>\n",
       "      <td>55503f0e45ce0a409eb2bf4d</td>\n",
       "      <td>1.0</td>\n",
       "    </tr>\n",
       "    <tr>\n",
       "      <th>3</th>\n",
       "      <td>22716</td>\n",
       "      <td>557efd1f6fee0fe990cadec2</td>\n",
       "      <td>0.0</td>\n",
       "    </tr>\n",
       "    <tr>\n",
       "      <th>4</th>\n",
       "      <td>63297</td>\n",
       "      <td>53e9acfdb7602d97036d952d</td>\n",
       "      <td>1.0</td>\n",
       "    </tr>\n",
       "  </tbody>\n",
       "</table>\n",
       "</div>"
      ],
      "text/plain": [
       "   userID                 articleID  label\n",
       "0  103443  53e99867b7602d97020a4052    0.0\n",
       "1  105800  5db2d1a847c8f7664615f477    0.0\n",
       "2  162790  55503f0e45ce0a409eb2bf4d    1.0\n",
       "3   22716  557efd1f6fee0fe990cadec2    0.0\n",
       "4   63297  53e9acfdb7602d97036d952d    1.0"
      ]
     },
     "execution_count": 23,
     "metadata": {},
     "output_type": "execute_result"
    }
   ],
   "source": [
    "df_train.head()"
   ]
  },
  {
   "cell_type": "markdown",
   "id": "73a6adfa",
   "metadata": {},
   "source": [
    "\n",
    "________________________________________________________________________________________________\n",
    "mariniranje skupa za trening je gotovo, bacamo se na definiranje fja za treniranje\n",
    "\n",
    "prve dvije čelije su za learning rate finder"
   ]
  },
  {
   "cell_type": "code",
   "execution_count": 27,
   "id": "a2b05f23",
   "metadata": {
    "id": "OVfs6orjME3o"
   },
   "outputs": [],
   "source": [
    "\n",
    "class MultiplicativeLearningRate(keras.callbacks.Callback):\n",
    "    \n",
    "    def __init__(self, factor):\n",
    "        self.factor = factor\n",
    "        self.losses = []\n",
    "        self.learning_rates = []\n",
    "        \n",
    "    def on_batch_end(self, batch, logs):\n",
    "        self.learning_rates.append(KB.get_value(self.model.optimizer.lr))\n",
    "        self.losses.append(logs[\"loss\"])\n",
    "        KB.set_value(self.model.optimizer.lr, self.model.optimizer.lr * self.factor)"
   ]
  },
  {
   "cell_type": "code",
   "execution_count": 28,
   "id": "2e1d9fbc",
   "metadata": {
    "id": "19YBlSp6LV2R"
   },
   "outputs": [],
   "source": [
    "\n",
    "def find_lr(model, input_gen, data_len, batch_size, min_lr = 10**-6, max_lr=10):\n",
    "    \n",
    "    # Compute learning rate multiplicative factor\n",
    "    num_iter = data_len // batch_size\n",
    "    lr_factor = np.exp(np.log(max_lr / min_lr) / num_iter)\n",
    "    \n",
    "    # Train for 1 epoch, starting with minimum learning rate and increase it\n",
    "    KB.set_value(model.optimizer.lr, min_lr)\n",
    "    lr_callback = MultiplicativeLearningRate(lr_factor)\n",
    "    model.fit(input_gen, epochs=1, batch_size=batch_size, callbacks=[lr_callback])\n",
    "    \n",
    "    # Plot loss vs log-scaled learning rate\n",
    "    sns.set(rc={'figure.figsize':(20,10)})\n",
    "    plot = sns.lineplot(lr_callback.learning_rates, lr_callback.losses)\n",
    "    plot.set(xscale=\"log\", \n",
    "             xlabel=\"Learning Rate (log-scale)\", \n",
    "             ylabel=\"Training Loss\")"
   ]
  },
  {
   "cell_type": "code",
   "execution_count": 29,
   "id": "36529bd0",
   "metadata": {
    "id": "0cMQCBjIfusD"
   },
   "outputs": [],
   "source": [
    "def cosine_embedding_loss(y_true, y_pred):\n",
    "    margin= -0.7\n",
    "    return tf.reduce_mean( y_true * (1. - y_pred) + (1 -y_true) * tf.maximum(0., y_pred - margin))\n"
   ]
  },
  {
   "cell_type": "code",
   "execution_count": 30,
   "id": "bc253ca1",
   "metadata": {
    "id": "a3M-Tr6w-k0j"
   },
   "outputs": [],
   "source": [
    "def accuracy(y_true, y_pred):\n",
    "    '''compute classification accuracy with a fixed threshold on distances\n",
    "    '''\n",
    "    return KB.mean(KB.equal(y_true, KB.cast(y_pred > 0.5, y_true.dtype)))  "
   ]
  },
  {
   "cell_type": "code",
   "execution_count": 31,
   "id": "9dce2a66",
   "metadata": {},
   "outputs": [],
   "source": [
    "# This function keeps the initial learning rate for the first n epochs\n",
    "# and decreases it exponentially after that.\n",
    "def lr_scheduler(epoch, lr):\n",
    "    if epoch < 10:\n",
    "        return lr\n",
    "    else:\n",
    "        return lr * tf.math.exp(-0.1)"
   ]
  },
  {
   "cell_type": "code",
   "execution_count": 32,
   "id": "6c7c111f",
   "metadata": {
    "id": "ADeA5GOz5tgu"
   },
   "outputs": [],
   "source": [
    "training_generator =DataGenerator(df_train, article_vect_dict, user_vect_dict,dim=input_shape, batch_size=BATCH_SIZE)\n",
    "validation_generator = DataGenerator(df_val, article_vect_dict, user_vect_dict, dim=input_shape, batch_size=BATCH_SIZE)\n",
    "testing_generator = DataGenerator(df_test, article_vect_dict, user_vect_dict,dim=input_shape, batch_size=BATCH_SIZE,shuffle=False)"
   ]
  },
  {
   "cell_type": "markdown",
   "id": "89bda35d",
   "metadata": {},
   "source": [
    " #### 🐟 tri čelije ispod se ne koriste ukoliko se koristi tensorboard hparam tuning "
   ]
  },
  {
   "cell_type": "code",
   "execution_count": 33,
   "id": "43f6335a",
   "metadata": {},
   "outputs": [],
   "source": [
    "def one_tower():    \n",
    "    input=layers.Input(input_shape)\n",
    "    x=layers.BatchNormalization()(input)\n",
    "    x=layers.Dropout(DROPOUT)(x)\n",
    "    x=layers.Dense(250)(x)\n",
    "    x=layers.Activation('relu')(x)\n",
    "\n",
    "    x=layers.BatchNormalization()(x)\n",
    "    x=layers.Dropout(DROPOUT)(x)\n",
    "    x=layers.Dense(200)(x)\n",
    "    x=layers.Activation('relu')(x)\n",
    "\n",
    "    x=layers.BatchNormalization()(x)\n",
    "    x=layers.Dropout(DROPOUT)(x)\n",
    "    x=layers.Dense(150)(x)\n",
    "    x=layers.Activation('relu')(x)\n",
    "\n",
    "    x=layers.BatchNormalization()(x)\n",
    "    x=layers.Dropout(DROPOUT)(x)\n",
    "    x=layers.Dense(100)(x)\n",
    "    x=layers.Activation('relu')(x)\n",
    "    \n",
    "    embedding_network = keras.Model(input, x)\n",
    "    return embedding_network\n"
   ]
  },
  {
   "cell_type": "code",
   "execution_count": 34,
   "id": "e93a1350",
   "metadata": {},
   "outputs": [],
   "source": [
    "#cosine\n",
    "user_input = Input(shape=input_shape)\n",
    "article_input = Input(shape=input_shape)\n",
    "\n",
    "shared_tower=one_tower()\n",
    "\n",
    "user_output=shared_tower(user_input)\n",
    "article_output=shared_tower(article_input)\n",
    "\n",
    "dot=tf.keras.layers.Dot(axes=(1, 1),normalize=True)([user_output, article_output])  \n",
    "\n",
    "prediction = tf.keras.layers.Dense(1, activation=\"sigmoid\")(dot)"
   ]
  },
  {
   "cell_type": "raw",
   "id": "507be11b",
   "metadata": {},
   "source": [
    "#concat\n",
    "user_input = Input(shape=input_shape)\n",
    "article_input = Input(shape=input_shape)\n",
    "\n",
    "\n",
    "shared_tower=one_tower()\n",
    "user_output=shared_tower(user_input)\n",
    "article_output=shared_tower(article_input)\n",
    "\n",
    "dif=  tf.keras.layers.subtract([user_output,article_output])\n",
    "abs_dif=tf.keras.layers.Lambda(lambda x: keras.backend.abs(x))(dif)\n",
    "\n",
    "concatenated=tf.keras.layers.concatenate([user_output, article_output, abs_dif],axis=1) \n",
    "\n",
    "prediction = tf.keras.layers.Dense(1, activation=\"sigmoid\")(concatenated)"
   ]
  },
  {
   "cell_type": "code",
   "execution_count": 35,
   "id": "baa8aeeb",
   "metadata": {},
   "outputs": [],
   "source": [
    "opt = keras.optimizers.Adam(learning_rate=LR)\n",
    "\n",
    "\n",
    "model = Model([user_input, article_input], prediction)\n",
    "\n",
    "\n",
    "#loss=tf.keras.losses.BinaryCrossentropy(from_logits=False),\n",
    "\n",
    "\n",
    "model.compile(optimizer=opt,\n",
    "              loss=cosine_embedding_loss,\n",
    "              metrics=accuracy,\n",
    "              run_eagerly=False)"
   ]
  },
  {
   "cell_type": "code",
   "execution_count": 36,
   "id": "f7929e80",
   "metadata": {},
   "outputs": [],
   "source": [
    "#model.summary()"
   ]
  },
  {
   "cell_type": "code",
   "execution_count": 37,
   "id": "77a2e461",
   "metadata": {},
   "outputs": [],
   "source": [
    "#tf.keras.utils.plot_model(model)"
   ]
  },
  {
   "cell_type": "code",
   "execution_count": 38,
   "id": "af108a78",
   "metadata": {
    "colab": {
     "base_uri": "https://localhost:8080/",
     "height": 1000
    },
    "id": "c5TpVqu5Lb5X",
    "outputId": "5cee053f-24ab-4e9f-b4d6-8a0d567b7407"
   },
   "outputs": [],
   "source": [
    "#optimal learning rate\n",
    "# ! trening modela \n",
    "\n",
    "#find_lr(model, training_generator, len(df_train), batch_size=BATCH_SIZE) "
   ]
  },
  {
   "cell_type": "code",
   "execution_count": 39,
   "id": "c9e5c474",
   "metadata": {},
   "outputs": [],
   "source": [
    "#STOP"
   ]
  },
  {
   "cell_type": "markdown",
   "id": "da732354",
   "metadata": {},
   "source": [
    "___"
   ]
  },
  {
   "cell_type": "markdown",
   "id": "6dd00ba4",
   "metadata": {},
   "source": [
    "🍓 brisanje logova - TensorBoard"
   ]
  },
  {
   "cell_type": "raw",
   "id": "90b97f63",
   "metadata": {
    "colab": {
     "base_uri": "https://localhost:8080/"
    },
    "id": "vht-jDx-zkQV",
    "outputId": "4144151e-6198-4c2d-bfb5-8d8fffa632bc"
   },
   "source": [
    "# Load the TensorBoard notebook extension\n",
    "%load_ext tensorboard\n",
    "# Clear any logs from previous runs\n",
    "!rm -rf ./logs/\n"
   ]
  },
  {
   "cell_type": "code",
   "execution_count": 40,
   "id": "0758f501",
   "metadata": {},
   "outputs": [],
   "source": [
    "#%reload_ext tensorboard"
   ]
  },
  {
   "cell_type": "markdown",
   "id": "d3bccf4c",
   "metadata": {},
   "source": [
    "____"
   ]
  },
  {
   "cell_type": "code",
   "execution_count": 41,
   "id": "03f7bed7",
   "metadata": {
    "id": "5QZ7imyoYpBB"
   },
   "outputs": [],
   "source": [
    "log_dir = \"logs/fit/\" + datetime.datetime.now().strftime(\"%Y%m%d-%H%M%S\")\n",
    "\n",
    "tensorboard_callback = tf.keras.callbacks.TensorBoard(log_dir=log_dir, #train i val acc&loss\n",
    "                                                      histogram_freq=4,\n",
    "                                                      profile_batch=0) # ovo uklanja ružnjikave ispise tokom fit metode\n",
    "\n",
    "\n",
    "\n",
    "stopper_callback = tf.keras.callbacks.EarlyStopping(  \n",
    "                       monitor='loss', \n",
    "                       patience=15,\n",
    "                       min_delta=0.005, \n",
    "                       restore_best_weights=True                   \n",
    "                       ) \n",
    "\n",
    "\n",
    "\n",
    "\n",
    "lr_callback = tf.keras.callbacks.LearningRateScheduler(lr_scheduler)\n",
    "\n",
    "\n",
    "\n",
    "\n",
    "\n",
    "\n",
    "\n",
    "#ckpt_callback = tf.keras.callbacks.ModelCheckpoint( # ¬lijepi ispisi\n",
    "#                                      CKPT_PATH,\n",
    "#                                      monitor='val_loss',\n",
    "#                                      mode='auto',\n",
    "#                                      save_weights_only=False,\n",
    "#                                      save_best_only=False,\n",
    "#                                      save_freq=30) \n"
   ]
  },
  {
   "cell_type": "code",
   "execution_count": 42,
   "id": "bacd48cc",
   "metadata": {},
   "outputs": [],
   "source": [
    "#%tensorboard --logdir logs/fit"
   ]
  },
  {
   "cell_type": "code",
   "execution_count": 43,
   "id": "bc9e10bb",
   "metadata": {
    "colab": {
     "base_uri": "https://localhost:8080/",
     "height": 1000
    },
    "id": "VUxlW8Fe5tgv",
    "outputId": "0200d183-c5f8-486d-d2ff-84452dfbfe9b",
    "scrolled": false
   },
   "outputs": [
    {
     "name": "stdout",
     "output_type": "stream",
     "text": [
      "Epoch 1/10\n",
      "65012/65012 [==============================] - 104s 2ms/step - loss: 0.4798 - accuracy: 0.8118 - val_loss: 0.4185 - val_accuracy: 0.8578\n",
      "Epoch 2/10\n",
      "65012/65012 [==============================] - 103s 2ms/step - loss: 0.4332 - accuracy: 0.8442 - val_loss: 0.4071 - val_accuracy: 0.8675\n",
      "Epoch 3/10\n",
      "65012/65012 [==============================] - 103s 2ms/step - loss: 0.4249 - accuracy: 0.8508 - val_loss: 0.4032 - val_accuracy: 0.8701\n",
      "Epoch 4/10\n",
      "65012/65012 [==============================] - 103s 2ms/step - loss: 0.4204 - accuracy: 0.8544 - val_loss: 0.4000 - val_accuracy: 0.8727\n",
      "Epoch 5/10\n",
      "65012/65012 [==============================] - 101s 2ms/step - loss: 0.4173 - accuracy: 0.8568 - val_loss: 0.3977 - val_accuracy: 0.8748\n",
      "Epoch 6/10\n",
      "65012/65012 [==============================] - 101s 2ms/step - loss: 0.4151 - accuracy: 0.8587 - val_loss: 0.3965 - val_accuracy: 0.8752\n",
      "Epoch 7/10\n",
      "65012/65012 [==============================] - 101s 2ms/step - loss: 0.4135 - accuracy: 0.8600 - val_loss: 0.3940 - val_accuracy: 0.8777\n",
      "Epoch 8/10\n",
      "65012/65012 [==============================] - 102s 2ms/step - loss: 0.4122 - accuracy: 0.8609 - val_loss: 0.3933 - val_accuracy: 0.8783\n",
      "Epoch 9/10\n",
      "65012/65012 [==============================] - 101s 2ms/step - loss: 0.4107 - accuracy: 0.8623 - val_loss: 0.3934 - val_accuracy: 0.8781\n",
      "Epoch 10/10\n",
      "65012/65012 [==============================] - 102s 2ms/step - loss: 0.4098 - accuracy: 0.8629 - val_loss: 0.3930 - val_accuracy: 0.8782\n"
     ]
    }
   ],
   "source": [
    "history=model.fit(training_generator,\n",
    "          validation_data=validation_generator,\n",
    "          callbacks=[tensorboard_callback,  # log metrics\n",
    "                     lr_callback,\n",
    "                 #    hp.KerasCallback(logdir, hparams),  # log hparams\n",
    "                     stopper_callback\n",
    "                    ],\n",
    "                    #ckpt_callback],     \n",
    "          epochs=10\n",
    "          )"
   ]
  },
  {
   "cell_type": "markdown",
   "id": "3e0ca30b",
   "metadata": {},
   "source": [
    "#### evaluacija modela  "
   ]
  },
  {
   "cell_type": "code",
   "execution_count": 44,
   "id": "b2ad0e72",
   "metadata": {
    "colab": {
     "base_uri": "https://localhost:8080/"
    },
    "id": "KPtITjKDQgkS",
    "outputId": "a8820cbf-166c-4577-eea6-91bb17b1086a"
   },
   "outputs": [
    {
     "name": "stdout",
     "output_type": "stream",
     "text": [
      "8138/8138 [==============================] - 6s 682us/step - loss: 0.3933 - accuracy: 0.8777\n"
     ]
    },
    {
     "data": {
      "text/plain": [
       "[0.3933088481426239, 0.8776879906654358]"
      ]
     },
     "execution_count": 44,
     "metadata": {},
     "output_type": "execute_result"
    }
   ],
   "source": [
    "model.evaluate(testing_generator)"
   ]
  },
  {
   "cell_type": "code",
   "execution_count": 45,
   "id": "8136e7b6",
   "metadata": {
    "colab": {
     "base_uri": "https://localhost:8080/",
     "height": 927
    },
    "id": "vUkZMlBOvAuU",
    "outputId": "b64ca9bb-8736-4e2a-e49e-5e9cee5797b3"
   },
   "outputs": [
    {
     "data": {
      "image/png": "[encoded data removed]",
      "text/plain": [
       "<Figure size 640x480 with 1 Axes>"
      ]
     },
     "metadata": {},
     "output_type": "display_data"
    },
    {
     "data": {
      "image/png": "[encoded data removed]",
      "text/plain": [
       "<Figure size 640x480 with 1 Axes>"
      ]
     },
     "metadata": {},
     "output_type": "display_data"
    }
   ],
   "source": [
    "plt.style.use('default')\n",
    "# summarize history for accuracy\n",
    "plt.plot(history.history['accuracy'])\n",
    "plt.plot(history.history['val_accuracy'])\n",
    "plt.title('model accuracy')\n",
    "plt.ylabel('accuracy')\n",
    "plt.xlabel('epoch')\n",
    "plt.legend(['train', 'validation'], loc='upper left')\n",
    "plt.show()\n",
    "# summarize history for loss\n",
    "plt.plot(history.history['loss'])\n",
    "plt.plot(history.history['val_loss'])\n",
    "plt.title('model loss')\n",
    "plt.ylabel('loss')\n",
    "plt.xlabel('epoch')\n",
    "plt.legend(['train', 'validation'], loc='upper left')\n",
    "plt.show()"
   ]
  },
  {
   "cell_type": "markdown",
   "id": "02c104a8",
   "metadata": {},
   "source": [
    "## 🎣"
   ]
  },
  {
   "cell_type": "code",
   "execution_count": 46,
   "id": "dfd200d9",
   "metadata": {
    "id": "n8M0lLoScCoT"
   },
   "outputs": [],
   "source": [
    "#user_model= tf.keras.models.load_model(PATH+'MODELS/userTower_v4.h5',compile=False)\n",
    "#article_model= tf.keras.models.load_model(PATH+'MODELS/itemTower_v4.h5',compile=False)\n",
    "#model= tf.keras.models.load_model(PATH+'MODELS/twoTower_vf.h5',compile=False)"
   ]
  },
  {
   "cell_type": "markdown",
   "id": "e0c823c4",
   "metadata": {
    "id": "Vx2_dDz4Y4yQ"
   },
   "source": [
    "### Confusion matrix, roc auc, f1\n"
   ]
  },
  {
   "cell_type": "code",
   "execution_count": 47,
   "id": "1556cbff",
   "metadata": {
    "id": "qxi7E-PWY_yJ"
   },
   "outputs": [],
   "source": [
    "labels = []\n",
    "preds = []\n",
    "for step in range(len(testing_generator)):\n",
    "    data, label = testing_generator.__getitem__(step)\n",
    "    pred = model.predict(data)\n",
    "    preds.extend(pred)\n",
    "    labels.extend(label)\n",
    "\n",
    "preds=np.vstack(preds)\n",
    "labels=np.vstack(labels)\n",
    "y_pred=(preds>=0.5).squeeze()"
   ]
  },
  {
   "cell_type": "code",
   "execution_count": 48,
   "id": "c5506e01",
   "metadata": {},
   "outputs": [
    {
     "data": {
      "text/plain": [
       "array([[118583,  21423],\n",
       "       [ 10429, 109981]])"
      ]
     },
     "execution_count": 48,
     "metadata": {},
     "output_type": "execute_result"
    }
   ],
   "source": [
    "confusion_matrix(labels, y_pred)\n"
   ]
  },
  {
   "cell_type": "code",
   "execution_count": 49,
   "id": "d6ca44e2",
   "metadata": {},
   "outputs": [
    {
     "data": {
      "text/plain": [
       "<AxesSubplot:>"
      ]
     },
     "execution_count": 49,
     "metadata": {},
     "output_type": "execute_result"
    },
    {
     "data": {
      "image/png": "[encoded data removed]",
      "text/plain": [
       "<Figure size 640x480 with 2 Axes>"
      ]
     },
     "metadata": {},
     "output_type": "display_data"
    }
   ],
   "source": [
    "import seaborn as sns\n",
    "\n",
    "cf_matrix=confusion_matrix(labels, y_pred)\n",
    "\n",
    "\n",
    "\n",
    "\n",
    "group_names = ['True Neg','False Pos','False Neg','True Pos']\n",
    "group_counts = [\"{0:0.0f}\".format(value) for value in cf_matrix.flatten()]\n",
    "group_percentages = [\"{0:.2%}\".format(value) for value in cf_matrix.flatten()/np.sum(cf_matrix)]\n",
    "labels_ = [f\"{v1}\\n{v2}\\n{v3}\" for v1, v2, v3 in zip(group_names,group_counts,group_percentages)]\n",
    "labels_ = np.asarray(labels_).reshape(2,2)\n",
    "sns.heatmap(cf_matrix, annot=labels_, fmt='', cmap='Blues')"
   ]
  },
  {
   "cell_type": "code",
   "execution_count": 50,
   "id": "3c58b73e",
   "metadata": {},
   "outputs": [
    {
     "data": {
      "text/plain": [
       "0.8776880068812977"
      ]
     },
     "execution_count": 50,
     "metadata": {},
     "output_type": "execute_result"
    }
   ],
   "source": [
    "from sklearn.metrics import accuracy_score\n",
    "accuracy_score(labels, y_pred)"
   ]
  },
  {
   "cell_type": "code",
   "execution_count": 51,
   "id": "7d64195b",
   "metadata": {
    "colab": {
     "base_uri": "https://localhost:8080/"
    },
    "id": "32Dsbg9ztOR_",
    "outputId": "c3668537-1223-4324-f85d-bcc73d7f12f2"
   },
   "outputs": [
    {
     "data": {
      "text/plain": [
       "0.8801863608007033"
      ]
     },
     "execution_count": 51,
     "metadata": {},
     "output_type": "execute_result"
    }
   ],
   "source": [
    "roc_auc_score(labels, y_pred)"
   ]
  },
  {
   "cell_type": "code",
   "execution_count": 52,
   "id": "4c456bc3",
   "metadata": {
    "colab": {
     "base_uri": "https://localhost:8080/"
    },
    "id": "8AUh19ok47ZO",
    "outputId": "916445b0-a517-4f0e-a98c-f9e89a3ca55d"
   },
   "outputs": [
    {
     "data": {
      "text/plain": [
       "0.8775544068043449"
      ]
     },
     "execution_count": 52,
     "metadata": {},
     "output_type": "execute_result"
    }
   ],
   "source": [
    "f1_score(labels, y_pred, average='macro')"
   ]
  },
  {
   "cell_type": "code",
   "execution_count": 53,
   "id": "365ac340",
   "metadata": {},
   "outputs": [
    {
     "data": {
      "text/plain": [
       "0.8776880068812977"
      ]
     },
     "execution_count": 53,
     "metadata": {},
     "output_type": "execute_result"
    }
   ],
   "source": [
    "f1_score(labels, y_pred, average='micro')"
   ]
  },
  {
   "cell_type": "markdown",
   "id": "2ff01fdd",
   "metadata": {
    "id": "42qnHdS6po-y"
   },
   "source": [
    "## 3.  Testiranje da li su se pozitivni približili i negativni udaljili"
   ]
  },
  {
   "cell_type": "code",
   "execution_count": 54,
   "id": "65222127",
   "metadata": {},
   "outputs": [],
   "source": [
    "user_tower=article_tower=shared_tower"
   ]
  },
  {
   "cell_type": "code",
   "execution_count": 55,
   "id": "336f1249",
   "metadata": {
    "scrolled": true
   },
   "outputs": [
    {
     "name": "stdout",
     "output_type": "stream",
     "text": [
      "sličnost vektora najbolje preporuke sa vektorom korisnika 0.99999994\n",
      "sličnost vektora najgore preporuke sa vektorom korisnika 0.00812069\n",
      "model je ispravan\n"
     ]
    }
   ],
   "source": [
    "%run helper_notebooks/repulsion_test.ipynb"
   ]
  },
  {
   "cell_type": "code",
   "execution_count": 56,
   "id": "70a5fcb7",
   "metadata": {},
   "outputs": [
    {
     "data": {
      "text/plain": [
       "'32_0.001@0620-215034'"
      ]
     },
     "execution_count": 56,
     "metadata": {},
     "output_type": "execute_result"
    }
   ],
   "source": [
    "MODEL_VERSION_NAME"
   ]
  },
  {
   "cell_type": "raw",
   "id": "e24a30de",
   "metadata": {
    "colab": {
     "base_uri": "https://localhost:8080/"
    },
    "id": "r7yGXdGxXTZ5",
    "outputId": "a2a2f059-a409-4eea-b4f0-62f634fc3156"
   },
   "source": [
    "if GOOD_MODEL:\n",
    "    user_tower.save(SAVE_PATH+'userTower_'+MODEL_VERSION_NAME+'.h5') \n",
    "    article_tower.save(SAVE_PATH+'itemTower_'+MODEL_VERSION_NAME+'.h5')\n",
    "    model.save(SAVE_PATH+'twoTower_'+MODEL_VERSION_NAME+'.h5')"
   ]
  },
  {
   "cell_type": "code",
   "execution_count": 57,
   "id": "aa8c17c8",
   "metadata": {},
   "outputs": [
    {
     "data": {
      "text/plain": [
       "'datasets/master_generated/6-10-200000-100_ID@_4/MODELS/32_0.001@0620-215034/twoTower_32_0.001@0620-215034.h5'"
      ]
     },
     "execution_count": 57,
     "metadata": {},
     "output_type": "execute_result"
    }
   ],
   "source": [
    "SAVE_PATH+'twoTower_'+MODEL_VERSION_NAME+'.h5'"
   ]
  },
  {
   "cell_type": "markdown",
   "id": "21eb5aad",
   "metadata": {},
   "source": [
    "## 4. Metrika twitter korisnika"
   ]
  },
  {
   "cell_type": "code",
   "execution_count": 58,
   "id": "92ea7a54",
   "metadata": {
    "scrolled": false
   },
   "outputs": [
    {
     "name": "stdout",
     "output_type": "stream",
     "text": [
      "model iz sesije\n",
      "avg user cossim median for positive example [MODEL]:  0.71195704\n",
      "avg user cossim median for positive example:  0.8464518\n",
      "avg user cossim median for negative example [MODEL]:  0.18118425\n",
      "avg user cossim median for negative example:  0.72791606\n"
     ]
    },
    {
     "data": {
      "image/png": "[encoded data removed]",
      "text/plain": [
       "<Figure size 1440x720 with 1 Axes>"
      ]
     },
     "metadata": {
      "needs_background": "light"
     },
     "output_type": "display_data"
    },
    {
     "data": {
      "image/png": "[encoded data removed]",
      "text/plain": [
       "<Figure size 1440x720 with 1 Axes>"
      ]
     },
     "metadata": {
      "needs_background": "light"
     },
     "output_type": "display_data"
    },
    {
     "data": {
      "image/png": "[encoded data removed]",
      "text/plain": [
       "<Figure size 432x288 with 2 Axes>"
      ]
     },
     "metadata": {},
     "output_type": "display_data"
    },
    {
     "name": "stdout",
     "output_type": "stream",
     "text": [
      "sveukupno imamo 4702 pozitivnih članaka i 413 korisnika\n",
      "prepoznato 83.70905997447895% pozitivnih članaka\n",
      "ACC: 0.9467678420423216\n",
      "roc-auc: 0.8925820087331542\n",
      "F1 - macro: 0.6212187014723745\n",
      "F1 - micro: 0.9467678420423216\n",
      "P@k; k=1\n",
      "model-mean for all users: 0.6177215189873417\n",
      "non-model-mean for all users: 0.6379746835443038\n",
      "P@k; k=3\n",
      "model-mean for all users: 0.5379746835443038\n",
      "non-model-mean for all users: 0.5451476793248945\n",
      "\n",
      "nDCG:\n",
      "model-mean for all users: 0.712788223362424\n",
      "non-model-mean for all users: 0.6848975678394907\n",
      "395\n",
      ">>>>>>>>>>>> delta rank 1=  -0.020253164556962022\n"
     ]
    },
    {
     "data": {
      "image/png": "[encoded data removed]",
      "text/plain": [
       "<Figure size 720x576 with 1 Axes>"
      ]
     },
     "metadata": {},
     "output_type": "display_data"
    }
   ],
   "source": [
    "%run helper_notebooks/twitter_ranking.ipynb"
   ]
  },
  {
   "cell_type": "code",
   "execution_count": 59,
   "id": "9c84bc9f",
   "metadata": {},
   "outputs": [
    {
     "data": {
      "application/javascript": [
       "$(document).ready(\n",
       "    function() {\n",
       "        function appendUniqueDiv(){\n",
       "            // append a div with our uuid so we can check that it's already\n",
       "            // been sent and avoid duplicates on page reload\n",
       "            var notifiedDiv = document.createElement(\"div\")\n",
       "            notifiedDiv.id = \"6c34b091-45c2-4adb-9f59-fd4c68b876cc\"\n",
       "            element.append(notifiedDiv)\n",
       "        }\n",
       "\n",
       "        // only send notifications if the pageload is complete; this will\n",
       "        // help stop extra notifications when a saved notebook is loaded,\n",
       "        // which during testing gives us state \"interactive\", not \"complete\"\n",
       "        if (document.readyState === 'complete') {\n",
       "            // check for the div that signifies that the notification\n",
       "            // was already sent\n",
       "            if (document.getElementById(\"6c34b091-45c2-4adb-9f59-fd4c68b876cc\") === null) {\n",
       "                var notificationPayload = {\"requireInteraction\": false, \"icon\": \"/static/base/images/favicon.ico\", \"body\": \"Cell execution has finished!\"};\n",
       "                if (Notification.permission !== 'denied') {\n",
       "                    if (Notification.permission !== 'granted') { \n",
       "                        Notification.requestPermission(function (permission) {\n",
       "                            if(!('permission' in Notification)) {\n",
       "                                Notification.permission = permission\n",
       "                            }\n",
       "                        })\n",
       "                    }\n",
       "                    if (Notification.permission === 'granted') {\n",
       "                    var notification = new Notification(\"Jupyter Notebook\", notificationPayload)\n",
       "                    appendUniqueDiv()\n",
       "                    notification.onclick = function () {\n",
       "                        window.focus();\n",
       "                        this.close();\n",
       "                        };\n",
       "                    } \n",
       "                }     \n",
       "            }\n",
       "        }\n",
       "    }\n",
       ")\n"
      ],
      "text/plain": [
       "<IPython.core.display.Javascript object>"
      ]
     },
     "metadata": {},
     "output_type": "display_data"
    }
   ],
   "source": [
    "%notify"
   ]
  },
  {
   "cell_type": "code",
   "execution_count": 60,
   "id": "92b38f1e",
   "metadata": {},
   "outputs": [
    {
     "data": {
      "image/png": "[encoded data removed]",
      "text/plain": [
       "<Figure size 576x360 with 1 Axes>"
      ]
     },
     "metadata": {},
     "output_type": "display_data"
    }
   ],
   "source": [
    "ranks = [r for sublist in user_ranks_m for r in sublist if r < 5] #svi korisnici \n",
    "\n",
    "plt.figure(figsize=(8,5)) \n",
    "plt.style.use('seaborn-whitegrid') \n",
    "plt.hist(ranks, bins=5, facecolor = '#2ab0ff', edgecolor='#169acf', linewidth=1)\n",
    "plt.title('Rangovi pozitivnih članaka - uz našu metodu',fontsize=20) \n",
    "plt.xlabel('rang',fontsize=16) \n",
    "plt.ylabel('#rangiranih',fontsize=16) \n",
    "plt.show()"
   ]
  },
  {
   "cell_type": "code",
   "execution_count": 61,
   "id": "5d83316b",
   "metadata": {},
   "outputs": [
    {
     "data": {
      "image/png": "[encoded data removed]",
      "text/plain": [
       "<Figure size 576x360 with 1 Axes>"
      ]
     },
     "metadata": {},
     "output_type": "display_data"
    }
   ],
   "source": [
    "ranks = [r for sublist in user_ranks_p for r in sublist if r < 5] #svi korisnici \n",
    "\n",
    "plt.figure(figsize=(8,5)) \n",
    "plt.style.use('seaborn-whitegrid') \n",
    "plt.hist(ranks, bins=5, facecolor = '#2ab0ff', edgecolor='#169acf', linewidth=1)\n",
    "plt.title('Rangovi pozitivnih članaka - bez naše metode',fontsize=20) \n",
    "plt.xlabel('rang',fontsize=16) \n",
    "plt.ylabel('#rangiranih',fontsize=16) \n",
    "plt.show()"
   ]
  },
  {
   "cell_type": "markdown",
   "id": "d5bde6ad",
   "metadata": {},
   "source": [
    "## Metrika Andrejevog dataseta - ACC"
   ]
  },
  {
   "cell_type": "code",
   "execution_count": 62,
   "id": "49f2c98b",
   "metadata": {},
   "outputs": [
    {
     "data": {
      "image/png": "[encoded data removed]",
      "text/plain": [
       "<Figure size 576x360 with 1 Axes>"
      ]
     },
     "metadata": {},
     "output_type": "display_data"
    }
   ],
   "source": [
    "ranks = [r for sublist in user_ranks_p for r in sublist if r < 30] #svi korisnici \n",
    "\n",
    "plt.figure(figsize=(8,5)) \n",
    "plt.style.use('seaborn-whitegrid') \n",
    "plt.hist(ranks, bins=31, facecolor = '#2ab0ff', edgecolor='#169acf', linewidth=1)\n",
    "plt.title('Rangovi pozitivnih članaka - bez naše metode',fontsize=20) \n",
    "plt.xlabel('rang',fontsize=16) \n",
    "plt.ylabel('#rangiranih',fontsize=16) \n",
    "plt.show()"
   ]
  },
  {
   "cell_type": "code",
   "execution_count": 63,
   "id": "b581fae7",
   "metadata": {},
   "outputs": [
    {
     "data": {
      "image/png": "[encoded data removed]",
      "text/plain": [
       "<Figure size 576x360 with 1 Axes>"
      ]
     },
     "metadata": {},
     "output_type": "display_data"
    }
   ],
   "source": [
    "ranks = [r for sublist in user_ranks_m for r in sublist if r < 30] #svi korisnici \n",
    "\n",
    "plt.figure(figsize=(8,5)) \n",
    "plt.style.use('seaborn-whitegrid') \n",
    "plt.hist(ranks, bins=31, facecolor = '#2ab0ff', edgecolor='#169acf', linewidth=1)\n",
    "plt.title('Rangovi pozitivnih članaka - uz našu metodu',fontsize=20) \n",
    "plt.xlabel('rang',fontsize=16) \n",
    "plt.ylabel('#rangiranih',fontsize=16) \n",
    "plt.show()"
   ]
  },
  {
   "cell_type": "markdown",
   "id": "7189e167",
   "metadata": {},
   "source": [
    "____________"
   ]
  }
 ],
 "metadata": {
  "kernelspec": {
   "display_name": "Python3 (dorasworld)",
   "language": "python",
   "name": "dorasworld"
  },
  "language_info": {
   "codemirror_mode": {
    "name": "ipython",
    "version": 3
   },
   "file_extension": ".py",
   "mimetype": "text/x-python",
   "name": "python",
   "nbconvert_exporter": "python",
   "pygments_lexer": "ipython3",
   "version": "3.9.7"
  }
 },
 "nbformat": 4,
 "nbformat_minor": 5
}
